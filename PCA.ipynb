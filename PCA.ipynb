{
 "cells": [
  {
   "cell_type": "code",
   "execution_count": 1,
   "id": "02330865-997b-479d-bdad-5e95ace441ae",
   "metadata": {},
   "outputs": [],
   "source": [
    "#PCA is well understood. SVD. \n",
    "#Reduce dimension. Linear transformation. \n",
    "#TSNE is non-linear and the same as PCA. "
   ]
  },
  {
   "cell_type": "code",
   "execution_count": 57,
   "id": "c8e5d9cd-0f45-4add-b557-530ba9935292",
   "metadata": {},
   "outputs": [],
   "source": [
    "import numpy as np \n",
    "import pandas as pd\n",
    "import plotly.express as px\n",
    "from sklearn.decomposition import PCA\n",
    "import plotly.express as px\n",
    "from sklearn.cluster import KMeans #uses mean to find centers. only clusters in spherical.\n",
    "from sklearn.cluster import DBSCAN\n",
    "from sklearn.cluster import AffinityPropagation\n",
    "from sklearn.cluster import SpectralClustering\n",
    "from sklearn import datasets\n",
    "from sklearn.cluster import KMeans\n",
    "from yellowbrick.cluster import KElbowVisualizer\n",
    "from sklearn.cluster import KMeans\n",
    "import matplotlib.pyplot as plt\n",
    "from yellowbrick.cluster import SilhouetteVisualizer\n",
    "from sklearn.cluster import KMeans\n",
    "from sklearn.datasets import make_blobs\n",
    "from sklearn.metrics import silhouette_samples, silhouette_score\n",
    "import matplotlib.cm as cm"
   ]
  },
  {
   "cell_type": "code",
   "execution_count": 59,
   "id": "88babc8c-6eca-4e70-b602-08855586094c",
   "metadata": {},
   "outputs": [],
   "source": [
    "df = pd.read_csv('iris.csv')"
   ]
  },
  {
   "cell_type": "code",
   "execution_count": 61,
   "id": "cdcf72d0-38fd-49c6-b694-97abd3f71254",
   "metadata": {},
   "outputs": [
    {
     "data": {
      "text/html": [
       "<div>\n",
       "<style scoped>\n",
       "    .dataframe tbody tr th:only-of-type {\n",
       "        vertical-align: middle;\n",
       "    }\n",
       "\n",
       "    .dataframe tbody tr th {\n",
       "        vertical-align: top;\n",
       "    }\n",
       "\n",
       "    .dataframe thead th {\n",
       "        text-align: right;\n",
       "    }\n",
       "</style>\n",
       "<table border=\"1\" class=\"dataframe\">\n",
       "  <thead>\n",
       "    <tr style=\"text-align: right;\">\n",
       "      <th></th>\n",
       "      <th>sepal_length</th>\n",
       "      <th>sepal_width</th>\n",
       "      <th>petal_length</th>\n",
       "      <th>petal_width</th>\n",
       "      <th>species</th>\n",
       "    </tr>\n",
       "  </thead>\n",
       "  <tbody>\n",
       "    <tr>\n",
       "      <th>0</th>\n",
       "      <td>5.1</td>\n",
       "      <td>3.5</td>\n",
       "      <td>1.4</td>\n",
       "      <td>0.2</td>\n",
       "      <td>setosa</td>\n",
       "    </tr>\n",
       "    <tr>\n",
       "      <th>1</th>\n",
       "      <td>4.9</td>\n",
       "      <td>3.0</td>\n",
       "      <td>1.4</td>\n",
       "      <td>0.2</td>\n",
       "      <td>setosa</td>\n",
       "    </tr>\n",
       "    <tr>\n",
       "      <th>2</th>\n",
       "      <td>4.7</td>\n",
       "      <td>3.2</td>\n",
       "      <td>1.3</td>\n",
       "      <td>0.2</td>\n",
       "      <td>setosa</td>\n",
       "    </tr>\n",
       "    <tr>\n",
       "      <th>3</th>\n",
       "      <td>4.6</td>\n",
       "      <td>3.1</td>\n",
       "      <td>1.5</td>\n",
       "      <td>0.2</td>\n",
       "      <td>setosa</td>\n",
       "    </tr>\n",
       "    <tr>\n",
       "      <th>4</th>\n",
       "      <td>5.0</td>\n",
       "      <td>3.6</td>\n",
       "      <td>1.4</td>\n",
       "      <td>0.2</td>\n",
       "      <td>setosa</td>\n",
       "    </tr>\n",
       "  </tbody>\n",
       "</table>\n",
       "</div>"
      ],
      "text/plain": [
       "   sepal_length  sepal_width  petal_length  petal_width species\n",
       "0           5.1          3.5           1.4          0.2  setosa\n",
       "1           4.9          3.0           1.4          0.2  setosa\n",
       "2           4.7          3.2           1.3          0.2  setosa\n",
       "3           4.6          3.1           1.5          0.2  setosa\n",
       "4           5.0          3.6           1.4          0.2  setosa"
      ]
     },
     "execution_count": 61,
     "metadata": {},
     "output_type": "execute_result"
    }
   ],
   "source": [
    "df.head()"
   ]
  },
  {
   "cell_type": "code",
   "execution_count": 63,
   "id": "9209dd49-95b6-47cd-8ff0-bd196046f736",
   "metadata": {},
   "outputs": [],
   "source": [
    "X = df.loc[:,['sepal_length','sepal_width','petal_length','petal_width']]"
   ]
  },
  {
   "cell_type": "code",
   "execution_count": 65,
   "id": "78786bfa-c112-48af-8d71-7f7a86aba34e",
   "metadata": {},
   "outputs": [],
   "source": [
    "pca = PCA(n_components=3)"
   ]
  },
  {
   "cell_type": "code",
   "execution_count": 67,
   "id": "263b4c86-5617-4638-b999-437d34ce71de",
   "metadata": {},
   "outputs": [
    {
     "data": {
      "text/html": [
       "<style>#sk-container-id-3 {\n",
       "  /* Definition of color scheme common for light and dark mode */\n",
       "  --sklearn-color-text: black;\n",
       "  --sklearn-color-line: gray;\n",
       "  /* Definition of color scheme for unfitted estimators */\n",
       "  --sklearn-color-unfitted-level-0: #fff5e6;\n",
       "  --sklearn-color-unfitted-level-1: #f6e4d2;\n",
       "  --sklearn-color-unfitted-level-2: #ffe0b3;\n",
       "  --sklearn-color-unfitted-level-3: chocolate;\n",
       "  /* Definition of color scheme for fitted estimators */\n",
       "  --sklearn-color-fitted-level-0: #f0f8ff;\n",
       "  --sklearn-color-fitted-level-1: #d4ebff;\n",
       "  --sklearn-color-fitted-level-2: #b3dbfd;\n",
       "  --sklearn-color-fitted-level-3: cornflowerblue;\n",
       "\n",
       "  /* Specific color for light theme */\n",
       "  --sklearn-color-text-on-default-background: var(--sg-text-color, var(--theme-code-foreground, var(--jp-content-font-color1, black)));\n",
       "  --sklearn-color-background: var(--sg-background-color, var(--theme-background, var(--jp-layout-color0, white)));\n",
       "  --sklearn-color-border-box: var(--sg-text-color, var(--theme-code-foreground, var(--jp-content-font-color1, black)));\n",
       "  --sklearn-color-icon: #696969;\n",
       "\n",
       "  @media (prefers-color-scheme: dark) {\n",
       "    /* Redefinition of color scheme for dark theme */\n",
       "    --sklearn-color-text-on-default-background: var(--sg-text-color, var(--theme-code-foreground, var(--jp-content-font-color1, white)));\n",
       "    --sklearn-color-background: var(--sg-background-color, var(--theme-background, var(--jp-layout-color0, #111)));\n",
       "    --sklearn-color-border-box: var(--sg-text-color, var(--theme-code-foreground, var(--jp-content-font-color1, white)));\n",
       "    --sklearn-color-icon: #878787;\n",
       "  }\n",
       "}\n",
       "\n",
       "#sk-container-id-3 {\n",
       "  color: var(--sklearn-color-text);\n",
       "}\n",
       "\n",
       "#sk-container-id-3 pre {\n",
       "  padding: 0;\n",
       "}\n",
       "\n",
       "#sk-container-id-3 input.sk-hidden--visually {\n",
       "  border: 0;\n",
       "  clip: rect(1px 1px 1px 1px);\n",
       "  clip: rect(1px, 1px, 1px, 1px);\n",
       "  height: 1px;\n",
       "  margin: -1px;\n",
       "  overflow: hidden;\n",
       "  padding: 0;\n",
       "  position: absolute;\n",
       "  width: 1px;\n",
       "}\n",
       "\n",
       "#sk-container-id-3 div.sk-dashed-wrapped {\n",
       "  border: 1px dashed var(--sklearn-color-line);\n",
       "  margin: 0 0.4em 0.5em 0.4em;\n",
       "  box-sizing: border-box;\n",
       "  padding-bottom: 0.4em;\n",
       "  background-color: var(--sklearn-color-background);\n",
       "}\n",
       "\n",
       "#sk-container-id-3 div.sk-container {\n",
       "  /* jupyter's `normalize.less` sets `[hidden] { display: none; }`\n",
       "     but bootstrap.min.css set `[hidden] { display: none !important; }`\n",
       "     so we also need the `!important` here to be able to override the\n",
       "     default hidden behavior on the sphinx rendered scikit-learn.org.\n",
       "     See: https://github.com/scikit-learn/scikit-learn/issues/21755 */\n",
       "  display: inline-block !important;\n",
       "  position: relative;\n",
       "}\n",
       "\n",
       "#sk-container-id-3 div.sk-text-repr-fallback {\n",
       "  display: none;\n",
       "}\n",
       "\n",
       "div.sk-parallel-item,\n",
       "div.sk-serial,\n",
       "div.sk-item {\n",
       "  /* draw centered vertical line to link estimators */\n",
       "  background-image: linear-gradient(var(--sklearn-color-text-on-default-background), var(--sklearn-color-text-on-default-background));\n",
       "  background-size: 2px 100%;\n",
       "  background-repeat: no-repeat;\n",
       "  background-position: center center;\n",
       "}\n",
       "\n",
       "/* Parallel-specific style estimator block */\n",
       "\n",
       "#sk-container-id-3 div.sk-parallel-item::after {\n",
       "  content: \"\";\n",
       "  width: 100%;\n",
       "  border-bottom: 2px solid var(--sklearn-color-text-on-default-background);\n",
       "  flex-grow: 1;\n",
       "}\n",
       "\n",
       "#sk-container-id-3 div.sk-parallel {\n",
       "  display: flex;\n",
       "  align-items: stretch;\n",
       "  justify-content: center;\n",
       "  background-color: var(--sklearn-color-background);\n",
       "  position: relative;\n",
       "}\n",
       "\n",
       "#sk-container-id-3 div.sk-parallel-item {\n",
       "  display: flex;\n",
       "  flex-direction: column;\n",
       "}\n",
       "\n",
       "#sk-container-id-3 div.sk-parallel-item:first-child::after {\n",
       "  align-self: flex-end;\n",
       "  width: 50%;\n",
       "}\n",
       "\n",
       "#sk-container-id-3 div.sk-parallel-item:last-child::after {\n",
       "  align-self: flex-start;\n",
       "  width: 50%;\n",
       "}\n",
       "\n",
       "#sk-container-id-3 div.sk-parallel-item:only-child::after {\n",
       "  width: 0;\n",
       "}\n",
       "\n",
       "/* Serial-specific style estimator block */\n",
       "\n",
       "#sk-container-id-3 div.sk-serial {\n",
       "  display: flex;\n",
       "  flex-direction: column;\n",
       "  align-items: center;\n",
       "  background-color: var(--sklearn-color-background);\n",
       "  padding-right: 1em;\n",
       "  padding-left: 1em;\n",
       "}\n",
       "\n",
       "\n",
       "/* Toggleable style: style used for estimator/Pipeline/ColumnTransformer box that is\n",
       "clickable and can be expanded/collapsed.\n",
       "- Pipeline and ColumnTransformer use this feature and define the default style\n",
       "- Estimators will overwrite some part of the style using the `sk-estimator` class\n",
       "*/\n",
       "\n",
       "/* Pipeline and ColumnTransformer style (default) */\n",
       "\n",
       "#sk-container-id-3 div.sk-toggleable {\n",
       "  /* Default theme specific background. It is overwritten whether we have a\n",
       "  specific estimator or a Pipeline/ColumnTransformer */\n",
       "  background-color: var(--sklearn-color-background);\n",
       "}\n",
       "\n",
       "/* Toggleable label */\n",
       "#sk-container-id-3 label.sk-toggleable__label {\n",
       "  cursor: pointer;\n",
       "  display: block;\n",
       "  width: 100%;\n",
       "  margin-bottom: 0;\n",
       "  padding: 0.5em;\n",
       "  box-sizing: border-box;\n",
       "  text-align: center;\n",
       "}\n",
       "\n",
       "#sk-container-id-3 label.sk-toggleable__label-arrow:before {\n",
       "  /* Arrow on the left of the label */\n",
       "  content: \"▸\";\n",
       "  float: left;\n",
       "  margin-right: 0.25em;\n",
       "  color: var(--sklearn-color-icon);\n",
       "}\n",
       "\n",
       "#sk-container-id-3 label.sk-toggleable__label-arrow:hover:before {\n",
       "  color: var(--sklearn-color-text);\n",
       "}\n",
       "\n",
       "/* Toggleable content - dropdown */\n",
       "\n",
       "#sk-container-id-3 div.sk-toggleable__content {\n",
       "  max-height: 0;\n",
       "  max-width: 0;\n",
       "  overflow: hidden;\n",
       "  text-align: left;\n",
       "  /* unfitted */\n",
       "  background-color: var(--sklearn-color-unfitted-level-0);\n",
       "}\n",
       "\n",
       "#sk-container-id-3 div.sk-toggleable__content.fitted {\n",
       "  /* fitted */\n",
       "  background-color: var(--sklearn-color-fitted-level-0);\n",
       "}\n",
       "\n",
       "#sk-container-id-3 div.sk-toggleable__content pre {\n",
       "  margin: 0.2em;\n",
       "  border-radius: 0.25em;\n",
       "  color: var(--sklearn-color-text);\n",
       "  /* unfitted */\n",
       "  background-color: var(--sklearn-color-unfitted-level-0);\n",
       "}\n",
       "\n",
       "#sk-container-id-3 div.sk-toggleable__content.fitted pre {\n",
       "  /* unfitted */\n",
       "  background-color: var(--sklearn-color-fitted-level-0);\n",
       "}\n",
       "\n",
       "#sk-container-id-3 input.sk-toggleable__control:checked~div.sk-toggleable__content {\n",
       "  /* Expand drop-down */\n",
       "  max-height: 200px;\n",
       "  max-width: 100%;\n",
       "  overflow: auto;\n",
       "}\n",
       "\n",
       "#sk-container-id-3 input.sk-toggleable__control:checked~label.sk-toggleable__label-arrow:before {\n",
       "  content: \"▾\";\n",
       "}\n",
       "\n",
       "/* Pipeline/ColumnTransformer-specific style */\n",
       "\n",
       "#sk-container-id-3 div.sk-label input.sk-toggleable__control:checked~label.sk-toggleable__label {\n",
       "  color: var(--sklearn-color-text);\n",
       "  background-color: var(--sklearn-color-unfitted-level-2);\n",
       "}\n",
       "\n",
       "#sk-container-id-3 div.sk-label.fitted input.sk-toggleable__control:checked~label.sk-toggleable__label {\n",
       "  background-color: var(--sklearn-color-fitted-level-2);\n",
       "}\n",
       "\n",
       "/* Estimator-specific style */\n",
       "\n",
       "/* Colorize estimator box */\n",
       "#sk-container-id-3 div.sk-estimator input.sk-toggleable__control:checked~label.sk-toggleable__label {\n",
       "  /* unfitted */\n",
       "  background-color: var(--sklearn-color-unfitted-level-2);\n",
       "}\n",
       "\n",
       "#sk-container-id-3 div.sk-estimator.fitted input.sk-toggleable__control:checked~label.sk-toggleable__label {\n",
       "  /* fitted */\n",
       "  background-color: var(--sklearn-color-fitted-level-2);\n",
       "}\n",
       "\n",
       "#sk-container-id-3 div.sk-label label.sk-toggleable__label,\n",
       "#sk-container-id-3 div.sk-label label {\n",
       "  /* The background is the default theme color */\n",
       "  color: var(--sklearn-color-text-on-default-background);\n",
       "}\n",
       "\n",
       "/* On hover, darken the color of the background */\n",
       "#sk-container-id-3 div.sk-label:hover label.sk-toggleable__label {\n",
       "  color: var(--sklearn-color-text);\n",
       "  background-color: var(--sklearn-color-unfitted-level-2);\n",
       "}\n",
       "\n",
       "/* Label box, darken color on hover, fitted */\n",
       "#sk-container-id-3 div.sk-label.fitted:hover label.sk-toggleable__label.fitted {\n",
       "  color: var(--sklearn-color-text);\n",
       "  background-color: var(--sklearn-color-fitted-level-2);\n",
       "}\n",
       "\n",
       "/* Estimator label */\n",
       "\n",
       "#sk-container-id-3 div.sk-label label {\n",
       "  font-family: monospace;\n",
       "  font-weight: bold;\n",
       "  display: inline-block;\n",
       "  line-height: 1.2em;\n",
       "}\n",
       "\n",
       "#sk-container-id-3 div.sk-label-container {\n",
       "  text-align: center;\n",
       "}\n",
       "\n",
       "/* Estimator-specific */\n",
       "#sk-container-id-3 div.sk-estimator {\n",
       "  font-family: monospace;\n",
       "  border: 1px dotted var(--sklearn-color-border-box);\n",
       "  border-radius: 0.25em;\n",
       "  box-sizing: border-box;\n",
       "  margin-bottom: 0.5em;\n",
       "  /* unfitted */\n",
       "  background-color: var(--sklearn-color-unfitted-level-0);\n",
       "}\n",
       "\n",
       "#sk-container-id-3 div.sk-estimator.fitted {\n",
       "  /* fitted */\n",
       "  background-color: var(--sklearn-color-fitted-level-0);\n",
       "}\n",
       "\n",
       "/* on hover */\n",
       "#sk-container-id-3 div.sk-estimator:hover {\n",
       "  /* unfitted */\n",
       "  background-color: var(--sklearn-color-unfitted-level-2);\n",
       "}\n",
       "\n",
       "#sk-container-id-3 div.sk-estimator.fitted:hover {\n",
       "  /* fitted */\n",
       "  background-color: var(--sklearn-color-fitted-level-2);\n",
       "}\n",
       "\n",
       "/* Specification for estimator info (e.g. \"i\" and \"?\") */\n",
       "\n",
       "/* Common style for \"i\" and \"?\" */\n",
       "\n",
       ".sk-estimator-doc-link,\n",
       "a:link.sk-estimator-doc-link,\n",
       "a:visited.sk-estimator-doc-link {\n",
       "  float: right;\n",
       "  font-size: smaller;\n",
       "  line-height: 1em;\n",
       "  font-family: monospace;\n",
       "  background-color: var(--sklearn-color-background);\n",
       "  border-radius: 1em;\n",
       "  height: 1em;\n",
       "  width: 1em;\n",
       "  text-decoration: none !important;\n",
       "  margin-left: 1ex;\n",
       "  /* unfitted */\n",
       "  border: var(--sklearn-color-unfitted-level-1) 1pt solid;\n",
       "  color: var(--sklearn-color-unfitted-level-1);\n",
       "}\n",
       "\n",
       ".sk-estimator-doc-link.fitted,\n",
       "a:link.sk-estimator-doc-link.fitted,\n",
       "a:visited.sk-estimator-doc-link.fitted {\n",
       "  /* fitted */\n",
       "  border: var(--sklearn-color-fitted-level-1) 1pt solid;\n",
       "  color: var(--sklearn-color-fitted-level-1);\n",
       "}\n",
       "\n",
       "/* On hover */\n",
       "div.sk-estimator:hover .sk-estimator-doc-link:hover,\n",
       ".sk-estimator-doc-link:hover,\n",
       "div.sk-label-container:hover .sk-estimator-doc-link:hover,\n",
       ".sk-estimator-doc-link:hover {\n",
       "  /* unfitted */\n",
       "  background-color: var(--sklearn-color-unfitted-level-3);\n",
       "  color: var(--sklearn-color-background);\n",
       "  text-decoration: none;\n",
       "}\n",
       "\n",
       "div.sk-estimator.fitted:hover .sk-estimator-doc-link.fitted:hover,\n",
       ".sk-estimator-doc-link.fitted:hover,\n",
       "div.sk-label-container:hover .sk-estimator-doc-link.fitted:hover,\n",
       ".sk-estimator-doc-link.fitted:hover {\n",
       "  /* fitted */\n",
       "  background-color: var(--sklearn-color-fitted-level-3);\n",
       "  color: var(--sklearn-color-background);\n",
       "  text-decoration: none;\n",
       "}\n",
       "\n",
       "/* Span, style for the box shown on hovering the info icon */\n",
       ".sk-estimator-doc-link span {\n",
       "  display: none;\n",
       "  z-index: 9999;\n",
       "  position: relative;\n",
       "  font-weight: normal;\n",
       "  right: .2ex;\n",
       "  padding: .5ex;\n",
       "  margin: .5ex;\n",
       "  width: min-content;\n",
       "  min-width: 20ex;\n",
       "  max-width: 50ex;\n",
       "  color: var(--sklearn-color-text);\n",
       "  box-shadow: 2pt 2pt 4pt #999;\n",
       "  /* unfitted */\n",
       "  background: var(--sklearn-color-unfitted-level-0);\n",
       "  border: .5pt solid var(--sklearn-color-unfitted-level-3);\n",
       "}\n",
       "\n",
       ".sk-estimator-doc-link.fitted span {\n",
       "  /* fitted */\n",
       "  background: var(--sklearn-color-fitted-level-0);\n",
       "  border: var(--sklearn-color-fitted-level-3);\n",
       "}\n",
       "\n",
       ".sk-estimator-doc-link:hover span {\n",
       "  display: block;\n",
       "}\n",
       "\n",
       "/* \"?\"-specific style due to the `<a>` HTML tag */\n",
       "\n",
       "#sk-container-id-3 a.estimator_doc_link {\n",
       "  float: right;\n",
       "  font-size: 1rem;\n",
       "  line-height: 1em;\n",
       "  font-family: monospace;\n",
       "  background-color: var(--sklearn-color-background);\n",
       "  border-radius: 1rem;\n",
       "  height: 1rem;\n",
       "  width: 1rem;\n",
       "  text-decoration: none;\n",
       "  /* unfitted */\n",
       "  color: var(--sklearn-color-unfitted-level-1);\n",
       "  border: var(--sklearn-color-unfitted-level-1) 1pt solid;\n",
       "}\n",
       "\n",
       "#sk-container-id-3 a.estimator_doc_link.fitted {\n",
       "  /* fitted */\n",
       "  border: var(--sklearn-color-fitted-level-1) 1pt solid;\n",
       "  color: var(--sklearn-color-fitted-level-1);\n",
       "}\n",
       "\n",
       "/* On hover */\n",
       "#sk-container-id-3 a.estimator_doc_link:hover {\n",
       "  /* unfitted */\n",
       "  background-color: var(--sklearn-color-unfitted-level-3);\n",
       "  color: var(--sklearn-color-background);\n",
       "  text-decoration: none;\n",
       "}\n",
       "\n",
       "#sk-container-id-3 a.estimator_doc_link.fitted:hover {\n",
       "  /* fitted */\n",
       "  background-color: var(--sklearn-color-fitted-level-3);\n",
       "}\n",
       "</style><div id=\"sk-container-id-3\" class=\"sk-top-container\"><div class=\"sk-text-repr-fallback\"><pre>PCA(n_components=3)</pre><b>In a Jupyter environment, please rerun this cell to show the HTML representation or trust the notebook. <br />On GitHub, the HTML representation is unable to render, please try loading this page with nbviewer.org.</b></div><div class=\"sk-container\" hidden><div class=\"sk-item\"><div class=\"sk-estimator fitted sk-toggleable\"><input class=\"sk-toggleable__control sk-hidden--visually\" id=\"sk-estimator-id-3\" type=\"checkbox\" checked><label for=\"sk-estimator-id-3\" class=\"sk-toggleable__label fitted sk-toggleable__label-arrow fitted\">&nbsp;&nbsp;PCA<a class=\"sk-estimator-doc-link fitted\" rel=\"noreferrer\" target=\"_blank\" href=\"https://scikit-learn.org/1.4/modules/generated/sklearn.decomposition.PCA.html\">?<span>Documentation for PCA</span></a><span class=\"sk-estimator-doc-link fitted\">i<span>Fitted</span></span></label><div class=\"sk-toggleable__content fitted\"><pre>PCA(n_components=3)</pre></div> </div></div></div></div>"
      ],
      "text/plain": [
       "PCA(n_components=3)"
      ]
     },
     "execution_count": 67,
     "metadata": {},
     "output_type": "execute_result"
    }
   ],
   "source": [
    "pca.fit(X)"
   ]
  },
  {
   "cell_type": "code",
   "execution_count": 69,
   "id": "21438994-cac7-4ab2-94bb-df47ec5376f2",
   "metadata": {},
   "outputs": [
    {
     "data": {
      "text/plain": [
       "array([[-2.68412563,  0.31939725, -0.02791483],\n",
       "       [-2.71414169, -0.17700123, -0.21046427],\n",
       "       [-2.88899057, -0.14494943,  0.01790026],\n",
       "       [-2.74534286, -0.31829898,  0.03155937],\n",
       "       [-2.72871654,  0.32675451,  0.09007924],\n",
       "       [-2.28085963,  0.74133045,  0.16867766],\n",
       "       [-2.82053775, -0.08946138,  0.25789216],\n",
       "       [-2.62614497,  0.16338496, -0.02187932],\n",
       "       [-2.88638273, -0.57831175,  0.02075957],\n",
       "       [-2.6727558 , -0.11377425, -0.19763272],\n",
       "       [-2.50694709,  0.6450689 , -0.07531801],\n",
       "       [-2.61275523,  0.01472994,  0.10215026],\n",
       "       [-2.78610927, -0.235112  , -0.20684443],\n",
       "       [-3.22380374, -0.51139459,  0.06129967],\n",
       "       [-2.64475039,  1.17876464, -0.15162752],\n",
       "       [-2.38603903,  1.33806233,  0.2777769 ],\n",
       "       [-2.62352788,  0.81067951,  0.13818323],\n",
       "       [-2.64829671,  0.31184914,  0.02666832],\n",
       "       [-2.19982032,  0.87283904, -0.12030552],\n",
       "       [-2.5879864 ,  0.51356031,  0.21366517],\n",
       "       [-2.31025622,  0.39134594, -0.23944404],\n",
       "       [-2.54370523,  0.43299606,  0.20845723],\n",
       "       [-3.21593942,  0.13346807,  0.29239675],\n",
       "       [-2.30273318,  0.09870885,  0.03912326],\n",
       "       [-2.35575405, -0.03728186,  0.12502108],\n",
       "       [-2.50666891, -0.14601688, -0.25342004],\n",
       "       [-2.46882007,  0.13095149,  0.09491058],\n",
       "       [-2.56231991,  0.36771886, -0.07849421],\n",
       "       [-2.63953472,  0.31203998, -0.1459089 ],\n",
       "       [-2.63198939, -0.19696122,  0.04077108],\n",
       "       [-2.58739848, -0.20431849, -0.07722299],\n",
       "       [-2.4099325 ,  0.41092426, -0.14552497],\n",
       "       [-2.64886233,  0.81336382,  0.22566915],\n",
       "       [-2.59873675,  1.09314576,  0.15781081],\n",
       "       [-2.63692688, -0.12132235, -0.14304958],\n",
       "       [-2.86624165,  0.06936447, -0.16433231],\n",
       "       [-2.62523805,  0.59937002, -0.26835038],\n",
       "       [-2.80068412,  0.26864374,  0.09369908],\n",
       "       [-2.98050204, -0.48795834,  0.07292705],\n",
       "       [-2.59000631,  0.22904384, -0.0800823 ],\n",
       "       [-2.77010243,  0.26352753,  0.07724769],\n",
       "       [-2.84936871, -0.94096057, -0.34923038],\n",
       "       [-2.99740655, -0.34192606,  0.19250921],\n",
       "       [-2.40561449,  0.18887143,  0.26386795],\n",
       "       [-2.20948924,  0.43666314,  0.29874275],\n",
       "       [-2.71445143, -0.2502082 , -0.09767814],\n",
       "       [-2.53814826,  0.50377114,  0.16670564],\n",
       "       [-2.83946217, -0.22794557,  0.08372685],\n",
       "       [-2.54308575,  0.57941002, -0.01711502],\n",
       "       [-2.70335978,  0.10770608, -0.08929401],\n",
       "       [ 1.28482569,  0.68516047, -0.40656803],\n",
       "       [ 0.93248853,  0.31833364, -0.01801419],\n",
       "       [ 1.46430232,  0.50426282, -0.33832576],\n",
       "       [ 0.18331772, -0.82795901, -0.17959139],\n",
       "       [ 1.08810326,  0.07459068, -0.3077579 ],\n",
       "       [ 0.64166908, -0.41824687,  0.04107609],\n",
       "       [ 1.09506066,  0.28346827,  0.16981024],\n",
       "       [-0.74912267, -1.00489096,  0.01230292],\n",
       "       [ 1.04413183,  0.2283619 , -0.41533608],\n",
       "       [-0.0087454 , -0.72308191,  0.28114143],\n",
       "       [-0.50784088, -1.26597119, -0.26981718],\n",
       "       [ 0.51169856, -0.10398124,  0.13054775],\n",
       "       [ 0.26497651, -0.55003646, -0.69414683],\n",
       "       [ 0.98493451, -0.12481785, -0.06211441],\n",
       "       [-0.17392537, -0.25485421,  0.09045769],\n",
       "       [ 0.92786078,  0.46717949, -0.31462098],\n",
       "       [ 0.66028376, -0.35296967,  0.32802753],\n",
       "       [ 0.23610499, -0.33361077, -0.27116184],\n",
       "       [ 0.94473373, -0.54314555, -0.49951905],\n",
       "       [ 0.04522698, -0.58383438, -0.2350021 ],\n",
       "       [ 1.11628318, -0.08461685,  0.45962099],\n",
       "       [ 0.35788842, -0.06892503, -0.22985389],\n",
       "       [ 1.29818388, -0.32778731, -0.34785435],\n",
       "       [ 0.92172892, -0.18273779, -0.23107178],\n",
       "       [ 0.71485333,  0.14905594, -0.32180094],\n",
       "       [ 0.90017437,  0.32850447, -0.31620907],\n",
       "       [ 1.33202444,  0.24444088, -0.52170278],\n",
       "       [ 1.55780216,  0.26749545, -0.16492098],\n",
       "       [ 0.81329065, -0.1633503 ,  0.0354245 ],\n",
       "       [-0.30558378, -0.36826219, -0.31849158],\n",
       "       [-0.06812649, -0.70517213, -0.24421381],\n",
       "       [-0.18962247, -0.68028676, -0.30642056],\n",
       "       [ 0.13642871, -0.31403244, -0.17724277],\n",
       "       [ 1.38002644, -0.42095429,  0.01616713],\n",
       "       [ 0.58800644, -0.48428742,  0.4444335 ],\n",
       "       [ 0.80685831,  0.19418231,  0.38896306],\n",
       "       [ 1.22069088,  0.40761959, -0.23716701],\n",
       "       [ 0.81509524, -0.37203706, -0.61472084],\n",
       "       [ 0.24595768, -0.2685244 ,  0.18836681],\n",
       "       [ 0.16641322, -0.68192672, -0.06000923],\n",
       "       [ 0.46480029, -0.67071154, -0.02430686],\n",
       "       [ 0.8908152 , -0.03446444, -0.00994693],\n",
       "       [ 0.23054802, -0.40438585, -0.22941024],\n",
       "       [-0.70453176, -1.01224823, -0.10569115],\n",
       "       [ 0.35698149, -0.50491009,  0.01661717],\n",
       "       [ 0.33193448, -0.21265468,  0.08320429],\n",
       "       [ 0.37621565, -0.29321893,  0.07799635],\n",
       "       [ 0.64257601,  0.01773819, -0.20539497],\n",
       "       [-0.90646986, -0.75609337, -0.01259965],\n",
       "       [ 0.29900084, -0.34889781,  0.01058166],\n",
       "       [ 2.53119273, -0.00984911,  0.76016543],\n",
       "       [ 1.41523588, -0.57491635,  0.29632253],\n",
       "       [ 2.61667602,  0.34390315, -0.11078788],\n",
       "       [ 1.97153105, -0.1797279 ,  0.10842466],\n",
       "       [ 2.35000592, -0.04026095,  0.28538956],\n",
       "       [ 3.39703874,  0.55083667, -0.34843756],\n",
       "       [ 0.52123224, -1.19275873,  0.5456593 ],\n",
       "       [ 2.93258707,  0.3555    , -0.42023994],\n",
       "       [ 2.32122882, -0.2438315 , -0.34830439],\n",
       "       [ 2.91675097,  0.78279195,  0.42333542],\n",
       "       [ 1.66177415,  0.24222841,  0.24244019],\n",
       "       [ 1.80340195, -0.21563762, -0.03764817],\n",
       "       [ 2.1655918 ,  0.21627559,  0.03332664],\n",
       "       [ 1.34616358, -0.77681835,  0.28190288],\n",
       "       [ 1.58592822, -0.53964071,  0.62902933],\n",
       "       [ 1.90445637,  0.11925069,  0.47963982],\n",
       "       [ 1.94968906,  0.04194326,  0.04418617],\n",
       "       [ 3.48705536,  1.17573933,  0.13389487],\n",
       "       [ 3.79564542,  0.25732297, -0.51376776],\n",
       "       [ 1.30079171, -0.76114964, -0.34499504],\n",
       "       [ 2.42781791,  0.37819601,  0.21911932],\n",
       "       [ 1.19900111, -0.60609153,  0.51185551],\n",
       "       [ 3.49992004,  0.4606741 , -0.57318224],\n",
       "       [ 1.38876613, -0.20439933, -0.06452276],\n",
       "       [ 2.2754305 ,  0.33499061,  0.28615009],\n",
       "       [ 2.61409047,  0.56090136, -0.20553452],\n",
       "       [ 1.25850816, -0.17970479,  0.0458477 ],\n",
       "       [ 1.29113206, -0.11666865,  0.23125646],\n",
       "       [ 2.12360872, -0.20972948,  0.15418002],\n",
       "       [ 2.38800302,  0.4646398 , -0.44953019],\n",
       "       [ 2.84167278,  0.37526917, -0.49889808],\n",
       "       [ 3.23067366,  1.37416509, -0.11454821],\n",
       "       [ 2.15943764, -0.21727758,  0.20876317],\n",
       "       [ 1.44416124, -0.14341341, -0.15323389],\n",
       "       [ 1.78129481, -0.49990168, -0.17287519],\n",
       "       [ 3.07649993,  0.68808568, -0.33559229],\n",
       "       [ 2.14424331,  0.1400642 ,  0.73487894],\n",
       "       [ 1.90509815,  0.04930053,  0.16218024],\n",
       "       [ 1.16932634, -0.16499026,  0.28183584],\n",
       "       [ 2.10761114,  0.37228787,  0.02729113],\n",
       "       [ 2.31415471,  0.18365128,  0.32269375],\n",
       "       [ 1.9222678 ,  0.40920347,  0.1135866 ],\n",
       "       [ 1.41523588, -0.57491635,  0.29632253],\n",
       "       [ 2.56301338,  0.2778626 ,  0.29256952],\n",
       "       [ 2.41874618,  0.3047982 ,  0.50448266],\n",
       "       [ 1.94410979,  0.1875323 ,  0.17782509],\n",
       "       [ 1.52716661, -0.37531698, -0.12189817],\n",
       "       [ 1.76434572,  0.07885885,  0.13048163],\n",
       "       [ 1.90094161,  0.11662796,  0.72325156],\n",
       "       [ 1.39018886, -0.28266094,  0.36290965]])"
      ]
     },
     "execution_count": 69,
     "metadata": {},
     "output_type": "execute_result"
    }
   ],
   "source": [
    "pca.transform(X)"
   ]
  },
  {
   "cell_type": "code",
   "execution_count": 71,
   "id": "b6012a8a-5e02-4fab-832f-6820e4f34863",
   "metadata": {},
   "outputs": [],
   "source": [
    "pca_result = pd.DataFrame(pca.transform(X), columns=['X1','X2','X3'])"
   ]
  },
  {
   "cell_type": "code",
   "execution_count": 73,
   "id": "92dcba19-e27f-45ab-a7e2-7607ecfb8643",
   "metadata": {},
   "outputs": [
    {
     "data": {
      "text/html": [
       "<div>\n",
       "<style scoped>\n",
       "    .dataframe tbody tr th:only-of-type {\n",
       "        vertical-align: middle;\n",
       "    }\n",
       "\n",
       "    .dataframe tbody tr th {\n",
       "        vertical-align: top;\n",
       "    }\n",
       "\n",
       "    .dataframe thead th {\n",
       "        text-align: right;\n",
       "    }\n",
       "</style>\n",
       "<table border=\"1\" class=\"dataframe\">\n",
       "  <thead>\n",
       "    <tr style=\"text-align: right;\">\n",
       "      <th></th>\n",
       "      <th>X1</th>\n",
       "      <th>X2</th>\n",
       "      <th>X3</th>\n",
       "    </tr>\n",
       "  </thead>\n",
       "  <tbody>\n",
       "    <tr>\n",
       "      <th>X1</th>\n",
       "      <td>1.000000e+00</td>\n",
       "      <td>5.112345e-16</td>\n",
       "      <td>-6.673006e-16</td>\n",
       "    </tr>\n",
       "    <tr>\n",
       "      <th>X2</th>\n",
       "      <td>5.112345e-16</td>\n",
       "      <td>1.000000e+00</td>\n",
       "      <td>1.494128e-16</td>\n",
       "    </tr>\n",
       "    <tr>\n",
       "      <th>X3</th>\n",
       "      <td>-6.673006e-16</td>\n",
       "      <td>1.494128e-16</td>\n",
       "      <td>1.000000e+00</td>\n",
       "    </tr>\n",
       "  </tbody>\n",
       "</table>\n",
       "</div>"
      ],
      "text/plain": [
       "              X1            X2            X3\n",
       "X1  1.000000e+00  5.112345e-16 -6.673006e-16\n",
       "X2  5.112345e-16  1.000000e+00  1.494128e-16\n",
       "X3 -6.673006e-16  1.494128e-16  1.000000e+00"
      ]
     },
     "execution_count": 73,
     "metadata": {},
     "output_type": "execute_result"
    }
   ],
   "source": [
    "pca_result.corr()"
   ]
  },
  {
   "cell_type": "code",
   "execution_count": 75,
   "id": "03cae0f8-c46b-45d3-85b1-4308da9d027d",
   "metadata": {},
   "outputs": [],
   "source": [
    "pca_result['species'] = df.species"
   ]
  },
  {
   "cell_type": "code",
   "execution_count": 77,
   "id": "3b8b6450-7831-435c-8935-bd2602b0e9dc",
   "metadata": {},
   "outputs": [
    {
     "data": {
      "application/vnd.plotly.v1+json": {
       "config": {
        "plotlyServerURL": "https://plot.ly"
       },
       "data": [
        {
         "hovertemplate": "species=setosa<br>X1=%{x}<br>X2=%{y}<extra></extra>",
         "legendgroup": "setosa",
         "marker": {
          "color": "#636efa",
          "symbol": "circle"
         },
         "mode": "markers",
         "name": "setosa",
         "orientation": "v",
         "showlegend": true,
         "type": "scatter",
         "x": [
          -2.6841256259695347,
          -2.714141687294324,
          -2.8889905690592945,
          -2.745342855641408,
          -2.7287165365545283,
          -2.280859632844491,
          -2.8205377507406073,
          -2.626144973146631,
          -2.8863827317805515,
          -2.6727557978209524,
          -2.5069470906518543,
          -2.612755230908721,
          -2.7861092661880162,
          -3.2238037438656506,
          -2.644750389942028,
          -2.386039033531132,
          -2.6235278752244247,
          -2.64829670625438,
          -2.199820323617579,
          -2.587986399878767,
          -2.3102562152425166,
          -2.543705228757155,
          -3.21593941564861,
          -2.3027331822262056,
          -2.355754049123771,
          -2.50666890692582,
          -2.4688200731213374,
          -2.5623199061960142,
          -2.6395347153845408,
          -2.631989387274344,
          -2.5873984766893505,
          -2.4099324970021736,
          -2.6488623343499103,
          -2.5987367491005853,
          -2.6369268781057973,
          -2.866241652118668,
          -2.6252380498503705,
          -2.8006841154482203,
          -2.9805020437819914,
          -2.5900063139680944,
          -2.7701024260279,
          -2.849368705043102,
          -2.997406546594905,
          -2.4056144850974843,
          -2.2094892377836777,
          -2.7144514267577065,
          -2.538148258998938,
          -2.8394621676428486,
          -2.543085749830391,
          -2.703359782335158
         ],
         "xaxis": "x",
         "y": [
          0.3193972465851013,
          -0.17700122506478014,
          -0.14494942608555753,
          -0.31829897925191625,
          0.32675451293492,
          0.7413304490629152,
          -0.089461384528569,
          0.16338495969832884,
          -0.5783117541867039,
          -0.11377424587411673,
          0.6450688986485742,
          0.014729939161374536,
          -0.23511200020171835,
          -0.5113945870063824,
          1.1787646364375757,
          1.338062330400653,
          0.8106795141812579,
          0.3118491445933549,
          0.8728390389622114,
          0.513560308749277,
          0.3913459356538947,
          0.4329960632790283,
          0.13346806953852564,
          0.09870885481409965,
          -0.037281859677382526,
          -0.14601688049526754,
          0.13095148943525037,
          0.3677188574342002,
          0.3120399802352831,
          -0.1969612249243146,
          -0.2043184912741334,
          0.41092426422957323,
          0.8133638202969623,
          1.0931457594493572,
          -0.1213223478658631,
          0.0693644715800808,
          0.599370021379424,
          0.26864373779798234,
          -0.48795834442861546,
          0.22904383682701285,
          0.2635275337442565,
          -0.9409605736411968,
          -0.34192605747161,
          0.18887142893026035,
          0.43666314163918796,
          -0.2502082041852111,
          0.5037711444614378,
          -0.22794556949382774,
          0.5794100215198896,
          0.10770608249941183
         ],
         "yaxis": "y"
        },
        {
         "hovertemplate": "species=versicolor<br>X1=%{x}<br>X2=%{y}<extra></extra>",
         "legendgroup": "versicolor",
         "marker": {
          "color": "#EF553B",
          "symbol": "circle"
         },
         "mode": "markers",
         "name": "versicolor",
         "orientation": "v",
         "showlegend": true,
         "type": "scatter",
         "x": [
          1.2848256888583534,
          0.9324885323123203,
          1.4643023219913958,
          0.18331771995837243,
          1.0881032577116676,
          0.6416690842580794,
          1.0950606626324486,
          -0.7491226698296555,
          1.0441318260534374,
          -0.008745404082894087,
          -0.5078408838353242,
          0.5116985574475993,
          0.2649765081120483,
          0.9849345104708921,
          -0.17392537168176603,
          0.9278607809442493,
          0.6602837616969389,
          0.2361049933176734,
          0.9447337280198151,
          0.04522697629870167,
          1.1162831773500517,
          0.35788841799730914,
          1.2981838753589157,
          0.9217289224470389,
          0.7148533259114135,
          0.9001743731721691,
          1.3320244367220904,
          1.5578021550660721,
          0.8132906498175433,
          -0.30558377802430725,
          -0.06812649206836179,
          -0.18962247237850013,
          0.13642871155801675,
          1.380026435915513,
          0.5880064433398655,
          0.8068583125004142,
          1.2206908824443548,
          0.8150952357666015,
          0.24595767988669434,
          0.1664132171454587,
          0.4648002884037811,
          0.8908151984694513,
          0.23054802355945722,
          -0.7045317592446619,
          0.3569814947010489,
          0.33193447994506026,
          0.37621565106667226,
          0.6425760075543396,
          -0.9064698649488342,
          0.29900084187814513
         ],
         "xaxis": "x",
         "y": [
          0.6851604704673094,
          0.31833363826262934,
          0.5042628153092048,
          -0.827959011820632,
          0.07459067519771671,
          -0.41824687156867857,
          0.2834682700615294,
          -1.0048909611818955,
          0.22836189978839622,
          -0.7230819050048342,
          -1.2659711905263933,
          -0.10398123549904022,
          -0.5500364636804741,
          -0.12481785412635706,
          -0.2548542087025892,
          0.4671794944415111,
          -0.35296966572385036,
          -0.333610766824915,
          -0.5431455507797659,
          -0.583834377471864,
          -0.084616852194788,
          -0.06892503165601353,
          -0.3277873083339169,
          -0.18273779362136705,
          0.1490559443697853,
          0.32850447383432385,
          0.24444087601634423,
          0.2674954473102551,
          -0.16335030068761602,
          -0.36826218975458763,
          -0.7051721317994651,
          -0.6802867635281331,
          -0.3140324382492364,
          -0.4209542873138816,
          -0.4842874199812184,
          0.19418231471315095,
          0.40761959361100764,
          -0.37203705990950114,
          -0.2685243966220148,
          -0.6819267248636265,
          -0.6707115445117202,
          -0.03446444436826852,
          -0.40438584800732486,
          -1.0122482275317142,
          -0.5049100933371085,
          -0.21265468378116964,
          -0.2932189292514188,
          0.017738190112416726,
          -0.7560933665990139,
          -0.3488978064503357
         ],
         "yaxis": "y"
        },
        {
         "hovertemplate": "species=virginica<br>X1=%{x}<br>X2=%{y}<extra></extra>",
         "legendgroup": "virginica",
         "marker": {
          "color": "#00cc96",
          "symbol": "circle"
         },
         "mode": "markers",
         "name": "virginica",
         "orientation": "v",
         "showlegend": true,
         "type": "scatter",
         "x": [
          2.53119272780363,
          1.4152358767039044,
          2.616676015995692,
          1.9715310530434373,
          2.3500059200446417,
          3.3970387360532603,
          0.5212322439097756,
          2.9325870689936906,
          2.3212288165733796,
          2.9167509667860747,
          1.6617741536365331,
          1.8034019529650929,
          2.1655917960801467,
          1.3461635794584532,
          1.5859282238732229,
          1.9044563747934289,
          1.949689059399071,
          3.4870553642902817,
          3.795645422072886,
          1.300791712637659,
          2.4278179130660478,
          1.1990011054655623,
          3.49992003892454,
          1.388766131691467,
          2.2754305038722067,
          2.6140904738108333,
          1.2585081605114896,
          1.2911320591150228,
          2.1236087227738967,
          2.3880030160034695,
          2.841672778103873,
          3.230673661432095,
          2.159437642489052,
          1.4441612423295116,
          1.781294810045114,
          3.0764999316871897,
          2.144243314302084,
          1.9050981488140775,
          1.169326339341502,
          2.1076111432572437,
          2.3141547052356017,
          1.9222678009026029,
          1.4152358767039044,
          2.5630133750774777,
          2.418746182732827,
          1.9441097945469699,
          1.527166614814519,
          1.764345717044431,
          1.9009416142184254,
          1.3901888619479157
         ],
         "xaxis": "x",
         "y": [
          -0.009849109498801967,
          -0.5749163475464893,
          0.3439031513417349,
          -0.17972790435224514,
          -0.04026094714253083,
          0.5508366730280563,
          -1.1927587270006454,
          0.3555000029774972,
          -0.24383150231069012,
          0.7827919488152788,
          0.24222840775506732,
          -0.21563761733355502,
          0.2162755850740251,
          -0.7768183473443395,
          -0.5396407140267188,
          0.11925069209197282,
          0.04194325966321173,
          1.17573932971343,
          0.2573229734204803,
          -0.761149636435063,
          0.3781960126170511,
          -0.6060915277579306,
          0.46067409891189603,
          -0.20439932735215055,
          0.3349906058216776,
          0.5609013551230785,
          -0.17970479472274636,
          -0.11666865117401123,
          -0.20972947667730246,
          0.4646398047087371,
          0.3752691671951041,
          1.3741650867930482,
          -0.21727757866904884,
          -0.1434134104575803,
          -0.4999016810781361,
          0.6880856775711766,
          0.14006420108978998,
          0.049300526013030546,
          -0.16499026202310946,
          0.37228787196079804,
          0.18365127916901913,
          0.40920346681606257,
          -0.5749163475464893,
          0.2778626029291951,
          0.30479819785469214,
          0.18753230280060545,
          -0.375316982580488,
          0.07885885451847603,
          0.11662795851202361,
          -0.28266093799055053
         ],
         "yaxis": "y"
        }
       ],
       "layout": {
        "autosize": true,
        "legend": {
         "title": {
          "text": "species"
         },
         "tracegroupgap": 0
        },
        "template": {
         "data": {
          "bar": [
           {
            "error_x": {
             "color": "#2a3f5f"
            },
            "error_y": {
             "color": "#2a3f5f"
            },
            "marker": {
             "line": {
              "color": "#E5ECF6",
              "width": 0.5
             },
             "pattern": {
              "fillmode": "overlay",
              "size": 10,
              "solidity": 0.2
             }
            },
            "type": "bar"
           }
          ],
          "barpolar": [
           {
            "marker": {
             "line": {
              "color": "#E5ECF6",
              "width": 0.5
             },
             "pattern": {
              "fillmode": "overlay",
              "size": 10,
              "solidity": 0.2
             }
            },
            "type": "barpolar"
           }
          ],
          "carpet": [
           {
            "aaxis": {
             "endlinecolor": "#2a3f5f",
             "gridcolor": "white",
             "linecolor": "white",
             "minorgridcolor": "white",
             "startlinecolor": "#2a3f5f"
            },
            "baxis": {
             "endlinecolor": "#2a3f5f",
             "gridcolor": "white",
             "linecolor": "white",
             "minorgridcolor": "white",
             "startlinecolor": "#2a3f5f"
            },
            "type": "carpet"
           }
          ],
          "choropleth": [
           {
            "colorbar": {
             "outlinewidth": 0,
             "ticks": ""
            },
            "type": "choropleth"
           }
          ],
          "contour": [
           {
            "colorbar": {
             "outlinewidth": 0,
             "ticks": ""
            },
            "colorscale": [
             [
              0,
              "#0d0887"
             ],
             [
              0.1111111111111111,
              "#46039f"
             ],
             [
              0.2222222222222222,
              "#7201a8"
             ],
             [
              0.3333333333333333,
              "#9c179e"
             ],
             [
              0.4444444444444444,
              "#bd3786"
             ],
             [
              0.5555555555555556,
              "#d8576b"
             ],
             [
              0.6666666666666666,
              "#ed7953"
             ],
             [
              0.7777777777777778,
              "#fb9f3a"
             ],
             [
              0.8888888888888888,
              "#fdca26"
             ],
             [
              1,
              "#f0f921"
             ]
            ],
            "type": "contour"
           }
          ],
          "contourcarpet": [
           {
            "colorbar": {
             "outlinewidth": 0,
             "ticks": ""
            },
            "type": "contourcarpet"
           }
          ],
          "heatmap": [
           {
            "colorbar": {
             "outlinewidth": 0,
             "ticks": ""
            },
            "colorscale": [
             [
              0,
              "#0d0887"
             ],
             [
              0.1111111111111111,
              "#46039f"
             ],
             [
              0.2222222222222222,
              "#7201a8"
             ],
             [
              0.3333333333333333,
              "#9c179e"
             ],
             [
              0.4444444444444444,
              "#bd3786"
             ],
             [
              0.5555555555555556,
              "#d8576b"
             ],
             [
              0.6666666666666666,
              "#ed7953"
             ],
             [
              0.7777777777777778,
              "#fb9f3a"
             ],
             [
              0.8888888888888888,
              "#fdca26"
             ],
             [
              1,
              "#f0f921"
             ]
            ],
            "type": "heatmap"
           }
          ],
          "heatmapgl": [
           {
            "colorbar": {
             "outlinewidth": 0,
             "ticks": ""
            },
            "colorscale": [
             [
              0,
              "#0d0887"
             ],
             [
              0.1111111111111111,
              "#46039f"
             ],
             [
              0.2222222222222222,
              "#7201a8"
             ],
             [
              0.3333333333333333,
              "#9c179e"
             ],
             [
              0.4444444444444444,
              "#bd3786"
             ],
             [
              0.5555555555555556,
              "#d8576b"
             ],
             [
              0.6666666666666666,
              "#ed7953"
             ],
             [
              0.7777777777777778,
              "#fb9f3a"
             ],
             [
              0.8888888888888888,
              "#fdca26"
             ],
             [
              1,
              "#f0f921"
             ]
            ],
            "type": "heatmapgl"
           }
          ],
          "histogram": [
           {
            "marker": {
             "pattern": {
              "fillmode": "overlay",
              "size": 10,
              "solidity": 0.2
             }
            },
            "type": "histogram"
           }
          ],
          "histogram2d": [
           {
            "colorbar": {
             "outlinewidth": 0,
             "ticks": ""
            },
            "colorscale": [
             [
              0,
              "#0d0887"
             ],
             [
              0.1111111111111111,
              "#46039f"
             ],
             [
              0.2222222222222222,
              "#7201a8"
             ],
             [
              0.3333333333333333,
              "#9c179e"
             ],
             [
              0.4444444444444444,
              "#bd3786"
             ],
             [
              0.5555555555555556,
              "#d8576b"
             ],
             [
              0.6666666666666666,
              "#ed7953"
             ],
             [
              0.7777777777777778,
              "#fb9f3a"
             ],
             [
              0.8888888888888888,
              "#fdca26"
             ],
             [
              1,
              "#f0f921"
             ]
            ],
            "type": "histogram2d"
           }
          ],
          "histogram2dcontour": [
           {
            "colorbar": {
             "outlinewidth": 0,
             "ticks": ""
            },
            "colorscale": [
             [
              0,
              "#0d0887"
             ],
             [
              0.1111111111111111,
              "#46039f"
             ],
             [
              0.2222222222222222,
              "#7201a8"
             ],
             [
              0.3333333333333333,
              "#9c179e"
             ],
             [
              0.4444444444444444,
              "#bd3786"
             ],
             [
              0.5555555555555556,
              "#d8576b"
             ],
             [
              0.6666666666666666,
              "#ed7953"
             ],
             [
              0.7777777777777778,
              "#fb9f3a"
             ],
             [
              0.8888888888888888,
              "#fdca26"
             ],
             [
              1,
              "#f0f921"
             ]
            ],
            "type": "histogram2dcontour"
           }
          ],
          "mesh3d": [
           {
            "colorbar": {
             "outlinewidth": 0,
             "ticks": ""
            },
            "type": "mesh3d"
           }
          ],
          "parcoords": [
           {
            "line": {
             "colorbar": {
              "outlinewidth": 0,
              "ticks": ""
             }
            },
            "type": "parcoords"
           }
          ],
          "pie": [
           {
            "automargin": true,
            "type": "pie"
           }
          ],
          "scatter": [
           {
            "fillpattern": {
             "fillmode": "overlay",
             "size": 10,
             "solidity": 0.2
            },
            "type": "scatter"
           }
          ],
          "scatter3d": [
           {
            "line": {
             "colorbar": {
              "outlinewidth": 0,
              "ticks": ""
             }
            },
            "marker": {
             "colorbar": {
              "outlinewidth": 0,
              "ticks": ""
             }
            },
            "type": "scatter3d"
           }
          ],
          "scattercarpet": [
           {
            "marker": {
             "colorbar": {
              "outlinewidth": 0,
              "ticks": ""
             }
            },
            "type": "scattercarpet"
           }
          ],
          "scattergeo": [
           {
            "marker": {
             "colorbar": {
              "outlinewidth": 0,
              "ticks": ""
             }
            },
            "type": "scattergeo"
           }
          ],
          "scattergl": [
           {
            "marker": {
             "colorbar": {
              "outlinewidth": 0,
              "ticks": ""
             }
            },
            "type": "scattergl"
           }
          ],
          "scattermapbox": [
           {
            "marker": {
             "colorbar": {
              "outlinewidth": 0,
              "ticks": ""
             }
            },
            "type": "scattermapbox"
           }
          ],
          "scatterpolar": [
           {
            "marker": {
             "colorbar": {
              "outlinewidth": 0,
              "ticks": ""
             }
            },
            "type": "scatterpolar"
           }
          ],
          "scatterpolargl": [
           {
            "marker": {
             "colorbar": {
              "outlinewidth": 0,
              "ticks": ""
             }
            },
            "type": "scatterpolargl"
           }
          ],
          "scatterternary": [
           {
            "marker": {
             "colorbar": {
              "outlinewidth": 0,
              "ticks": ""
             }
            },
            "type": "scatterternary"
           }
          ],
          "surface": [
           {
            "colorbar": {
             "outlinewidth": 0,
             "ticks": ""
            },
            "colorscale": [
             [
              0,
              "#0d0887"
             ],
             [
              0.1111111111111111,
              "#46039f"
             ],
             [
              0.2222222222222222,
              "#7201a8"
             ],
             [
              0.3333333333333333,
              "#9c179e"
             ],
             [
              0.4444444444444444,
              "#bd3786"
             ],
             [
              0.5555555555555556,
              "#d8576b"
             ],
             [
              0.6666666666666666,
              "#ed7953"
             ],
             [
              0.7777777777777778,
              "#fb9f3a"
             ],
             [
              0.8888888888888888,
              "#fdca26"
             ],
             [
              1,
              "#f0f921"
             ]
            ],
            "type": "surface"
           }
          ],
          "table": [
           {
            "cells": {
             "fill": {
              "color": "#EBF0F8"
             },
             "line": {
              "color": "white"
             }
            },
            "header": {
             "fill": {
              "color": "#C8D4E3"
             },
             "line": {
              "color": "white"
             }
            },
            "type": "table"
           }
          ]
         },
         "layout": {
          "annotationdefaults": {
           "arrowcolor": "#2a3f5f",
           "arrowhead": 0,
           "arrowwidth": 1
          },
          "autotypenumbers": "strict",
          "coloraxis": {
           "colorbar": {
            "outlinewidth": 0,
            "ticks": ""
           }
          },
          "colorscale": {
           "diverging": [
            [
             0,
             "#8e0152"
            ],
            [
             0.1,
             "#c51b7d"
            ],
            [
             0.2,
             "#de77ae"
            ],
            [
             0.3,
             "#f1b6da"
            ],
            [
             0.4,
             "#fde0ef"
            ],
            [
             0.5,
             "#f7f7f7"
            ],
            [
             0.6,
             "#e6f5d0"
            ],
            [
             0.7,
             "#b8e186"
            ],
            [
             0.8,
             "#7fbc41"
            ],
            [
             0.9,
             "#4d9221"
            ],
            [
             1,
             "#276419"
            ]
           ],
           "sequential": [
            [
             0,
             "#0d0887"
            ],
            [
             0.1111111111111111,
             "#46039f"
            ],
            [
             0.2222222222222222,
             "#7201a8"
            ],
            [
             0.3333333333333333,
             "#9c179e"
            ],
            [
             0.4444444444444444,
             "#bd3786"
            ],
            [
             0.5555555555555556,
             "#d8576b"
            ],
            [
             0.6666666666666666,
             "#ed7953"
            ],
            [
             0.7777777777777778,
             "#fb9f3a"
            ],
            [
             0.8888888888888888,
             "#fdca26"
            ],
            [
             1,
             "#f0f921"
            ]
           ],
           "sequentialminus": [
            [
             0,
             "#0d0887"
            ],
            [
             0.1111111111111111,
             "#46039f"
            ],
            [
             0.2222222222222222,
             "#7201a8"
            ],
            [
             0.3333333333333333,
             "#9c179e"
            ],
            [
             0.4444444444444444,
             "#bd3786"
            ],
            [
             0.5555555555555556,
             "#d8576b"
            ],
            [
             0.6666666666666666,
             "#ed7953"
            ],
            [
             0.7777777777777778,
             "#fb9f3a"
            ],
            [
             0.8888888888888888,
             "#fdca26"
            ],
            [
             1,
             "#f0f921"
            ]
           ]
          },
          "colorway": [
           "#636efa",
           "#EF553B",
           "#00cc96",
           "#ab63fa",
           "#FFA15A",
           "#19d3f3",
           "#FF6692",
           "#B6E880",
           "#FF97FF",
           "#FECB52"
          ],
          "font": {
           "color": "#2a3f5f"
          },
          "geo": {
           "bgcolor": "white",
           "lakecolor": "white",
           "landcolor": "#E5ECF6",
           "showlakes": true,
           "showland": true,
           "subunitcolor": "white"
          },
          "hoverlabel": {
           "align": "left"
          },
          "hovermode": "closest",
          "mapbox": {
           "style": "light"
          },
          "paper_bgcolor": "white",
          "plot_bgcolor": "#E5ECF6",
          "polar": {
           "angularaxis": {
            "gridcolor": "white",
            "linecolor": "white",
            "ticks": ""
           },
           "bgcolor": "#E5ECF6",
           "radialaxis": {
            "gridcolor": "white",
            "linecolor": "white",
            "ticks": ""
           }
          },
          "scene": {
           "xaxis": {
            "backgroundcolor": "#E5ECF6",
            "gridcolor": "white",
            "gridwidth": 2,
            "linecolor": "white",
            "showbackground": true,
            "ticks": "",
            "zerolinecolor": "white"
           },
           "yaxis": {
            "backgroundcolor": "#E5ECF6",
            "gridcolor": "white",
            "gridwidth": 2,
            "linecolor": "white",
            "showbackground": true,
            "ticks": "",
            "zerolinecolor": "white"
           },
           "zaxis": {
            "backgroundcolor": "#E5ECF6",
            "gridcolor": "white",
            "gridwidth": 2,
            "linecolor": "white",
            "showbackground": true,
            "ticks": "",
            "zerolinecolor": "white"
           }
          },
          "shapedefaults": {
           "line": {
            "color": "#2a3f5f"
           }
          },
          "ternary": {
           "aaxis": {
            "gridcolor": "white",
            "linecolor": "white",
            "ticks": ""
           },
           "baxis": {
            "gridcolor": "white",
            "linecolor": "white",
            "ticks": ""
           },
           "bgcolor": "#E5ECF6",
           "caxis": {
            "gridcolor": "white",
            "linecolor": "white",
            "ticks": ""
           }
          },
          "title": {
           "x": 0.05
          },
          "xaxis": {
           "automargin": true,
           "gridcolor": "white",
           "linecolor": "white",
           "ticks": "",
           "title": {
            "standoff": 15
           },
           "zerolinecolor": "white",
           "zerolinewidth": 2
          },
          "yaxis": {
           "automargin": true,
           "gridcolor": "white",
           "linecolor": "white",
           "ticks": "",
           "title": {
            "standoff": 15
           },
           "zerolinecolor": "white",
           "zerolinewidth": 2
          }
         }
        },
        "title": {
         "text": "PCA"
        },
        "xaxis": {
         "anchor": "y",
         "autorange": true,
         "domain": [
          0,
          1
         ],
         "range": [
          -3.6552945855538086,
          4.227136263761044
         ],
         "title": {
          "text": "X1"
         },
         "type": "linear"
        },
        "yaxis": {
         "anchor": "x",
         "autorange": true,
         "domain": [
          0,
          1
         ],
         "range": [
          -1.483846514382852,
          1.592040410649507
         ],
         "title": {
          "text": "X2"
         },
         "type": "linear"
        }
       }
      },
      "image/png": "[encoded data removed]",
      "text/html": [
       "<div>                            <div id=\"503f4661-bc7c-4d92-8687-f24414f19c51\" class=\"plotly-graph-div\" style=\"height:525px; width:100%;\"></div>            <script type=\"text/javascript\">                require([\"plotly\"], function(Plotly) {                    window.PLOTLYENV=window.PLOTLYENV || {};                                    if (document.getElementById(\"503f4661-bc7c-4d92-8687-f24414f19c51\")) {                    Plotly.newPlot(                        \"503f4661-bc7c-4d92-8687-f24414f19c51\",                        [{\"hovertemplate\":\"species=setosa\\u003cbr\\u003eX1=%{x}\\u003cbr\\u003eX2=%{y}\\u003cextra\\u003e\\u003c\\u002fextra\\u003e\",\"legendgroup\":\"setosa\",\"marker\":{\"color\":\"#636efa\",\"symbol\":\"circle\"},\"mode\":\"markers\",\"name\":\"setosa\",\"orientation\":\"v\",\"showlegend\":true,\"x\":[-2.6841256259695347,-2.714141687294324,-2.8889905690592945,-2.745342855641408,-2.7287165365545283,-2.280859632844491,-2.8205377507406073,-2.626144973146631,-2.8863827317805515,-2.6727557978209524,-2.5069470906518543,-2.612755230908721,-2.7861092661880162,-3.2238037438656506,-2.644750389942028,-2.386039033531132,-2.6235278752244247,-2.64829670625438,-2.199820323617579,-2.587986399878767,-2.3102562152425166,-2.543705228757155,-3.21593941564861,-2.3027331822262056,-2.355754049123771,-2.50666890692582,-2.4688200731213374,-2.5623199061960142,-2.6395347153845408,-2.631989387274344,-2.5873984766893505,-2.4099324970021736,-2.6488623343499103,-2.5987367491005853,-2.6369268781057973,-2.866241652118668,-2.6252380498503705,-2.8006841154482203,-2.9805020437819914,-2.5900063139680944,-2.7701024260279,-2.849368705043102,-2.997406546594905,-2.4056144850974843,-2.2094892377836777,-2.7144514267577065,-2.538148258998938,-2.8394621676428486,-2.543085749830391,-2.703359782335158],\"xaxis\":\"x\",\"y\":[0.3193972465851013,-0.17700122506478014,-0.14494942608555753,-0.31829897925191625,0.32675451293492,0.7413304490629152,-0.089461384528569,0.16338495969832884,-0.5783117541867039,-0.11377424587411673,0.6450688986485742,0.014729939161374536,-0.23511200020171835,-0.5113945870063824,1.1787646364375757,1.338062330400653,0.8106795141812579,0.3118491445933549,0.8728390389622114,0.513560308749277,0.3913459356538947,0.4329960632790283,0.13346806953852564,0.09870885481409965,-0.037281859677382526,-0.14601688049526754,0.13095148943525037,0.3677188574342002,0.3120399802352831,-0.1969612249243146,-0.2043184912741334,0.41092426422957323,0.8133638202969623,1.0931457594493572,-0.1213223478658631,0.0693644715800808,0.599370021379424,0.26864373779798234,-0.48795834442861546,0.22904383682701285,0.2635275337442565,-0.9409605736411968,-0.34192605747161,0.18887142893026035,0.43666314163918796,-0.2502082041852111,0.5037711444614378,-0.22794556949382774,0.5794100215198896,0.10770608249941183],\"yaxis\":\"y\",\"type\":\"scatter\"},{\"hovertemplate\":\"species=versicolor\\u003cbr\\u003eX1=%{x}\\u003cbr\\u003eX2=%{y}\\u003cextra\\u003e\\u003c\\u002fextra\\u003e\",\"legendgroup\":\"versicolor\",\"marker\":{\"color\":\"#EF553B\",\"symbol\":\"circle\"},\"mode\":\"markers\",\"name\":\"versicolor\",\"orientation\":\"v\",\"showlegend\":true,\"x\":[1.2848256888583534,0.9324885323123203,1.4643023219913958,0.18331771995837243,1.0881032577116676,0.6416690842580794,1.0950606626324486,-0.7491226698296555,1.0441318260534374,-0.008745404082894087,-0.5078408838353242,0.5116985574475993,0.2649765081120483,0.9849345104708921,-0.17392537168176603,0.9278607809442493,0.6602837616969389,0.2361049933176734,0.9447337280198151,0.04522697629870167,1.1162831773500517,0.35788841799730914,1.2981838753589157,0.9217289224470389,0.7148533259114135,0.9001743731721691,1.3320244367220904,1.5578021550660721,0.8132906498175433,-0.30558377802430725,-0.06812649206836179,-0.18962247237850013,0.13642871155801675,1.380026435915513,0.5880064433398655,0.8068583125004142,1.2206908824443548,0.8150952357666015,0.24595767988669434,0.1664132171454587,0.4648002884037811,0.8908151984694513,0.23054802355945722,-0.7045317592446619,0.3569814947010489,0.33193447994506026,0.37621565106667226,0.6425760075543396,-0.9064698649488342,0.29900084187814513],\"xaxis\":\"x\",\"y\":[0.6851604704673094,0.31833363826262934,0.5042628153092048,-0.827959011820632,0.07459067519771671,-0.41824687156867857,0.2834682700615294,-1.0048909611818955,0.22836189978839622,-0.7230819050048342,-1.2659711905263933,-0.10398123549904022,-0.5500364636804741,-0.12481785412635706,-0.2548542087025892,0.4671794944415111,-0.35296966572385036,-0.333610766824915,-0.5431455507797659,-0.583834377471864,-0.084616852194788,-0.06892503165601353,-0.3277873083339169,-0.18273779362136705,0.1490559443697853,0.32850447383432385,0.24444087601634423,0.2674954473102551,-0.16335030068761602,-0.36826218975458763,-0.7051721317994651,-0.6802867635281331,-0.3140324382492364,-0.4209542873138816,-0.4842874199812184,0.19418231471315095,0.40761959361100764,-0.37203705990950114,-0.2685243966220148,-0.6819267248636265,-0.6707115445117202,-0.03446444436826852,-0.40438584800732486,-1.0122482275317142,-0.5049100933371085,-0.21265468378116964,-0.2932189292514188,0.017738190112416726,-0.7560933665990139,-0.3488978064503357],\"yaxis\":\"y\",\"type\":\"scatter\"},{\"hovertemplate\":\"species=virginica\\u003cbr\\u003eX1=%{x}\\u003cbr\\u003eX2=%{y}\\u003cextra\\u003e\\u003c\\u002fextra\\u003e\",\"legendgroup\":\"virginica\",\"marker\":{\"color\":\"#00cc96\",\"symbol\":\"circle\"},\"mode\":\"markers\",\"name\":\"virginica\",\"orientation\":\"v\",\"showlegend\":true,\"x\":[2.53119272780363,1.4152358767039044,2.616676015995692,1.9715310530434373,2.3500059200446417,3.3970387360532603,0.5212322439097756,2.9325870689936906,2.3212288165733796,2.9167509667860747,1.6617741536365331,1.8034019529650929,2.1655917960801467,1.3461635794584532,1.5859282238732229,1.9044563747934289,1.949689059399071,3.4870553642902817,3.795645422072886,1.300791712637659,2.4278179130660478,1.1990011054655623,3.49992003892454,1.388766131691467,2.2754305038722067,2.6140904738108333,1.2585081605114896,1.2911320591150228,2.1236087227738967,2.3880030160034695,2.841672778103873,3.230673661432095,2.159437642489052,1.4441612423295116,1.781294810045114,3.0764999316871897,2.144243314302084,1.9050981488140775,1.169326339341502,2.1076111432572437,2.3141547052356017,1.9222678009026029,1.4152358767039044,2.5630133750774777,2.418746182732827,1.9441097945469699,1.527166614814519,1.764345717044431,1.9009416142184254,1.3901888619479157],\"xaxis\":\"x\",\"y\":[-0.009849109498801967,-0.5749163475464893,0.3439031513417349,-0.17972790435224514,-0.04026094714253083,0.5508366730280563,-1.1927587270006454,0.3555000029774972,-0.24383150231069012,0.7827919488152788,0.24222840775506732,-0.21563761733355502,0.2162755850740251,-0.7768183473443395,-0.5396407140267188,0.11925069209197282,0.04194325966321173,1.17573932971343,0.2573229734204803,-0.761149636435063,0.3781960126170511,-0.6060915277579306,0.46067409891189603,-0.20439932735215055,0.3349906058216776,0.5609013551230785,-0.17970479472274636,-0.11666865117401123,-0.20972947667730246,0.4646398047087371,0.3752691671951041,1.3741650867930482,-0.21727757866904884,-0.1434134104575803,-0.4999016810781361,0.6880856775711766,0.14006420108978998,0.049300526013030546,-0.16499026202310946,0.37228787196079804,0.18365127916901913,0.40920346681606257,-0.5749163475464893,0.2778626029291951,0.30479819785469214,0.18753230280060545,-0.375316982580488,0.07885885451847603,0.11662795851202361,-0.28266093799055053],\"yaxis\":\"y\",\"type\":\"scatter\"}],                        {\"template\":{\"data\":{\"histogram2dcontour\":[{\"type\":\"histogram2dcontour\",\"colorbar\":{\"outlinewidth\":0,\"ticks\":\"\"},\"colorscale\":[[0.0,\"#0d0887\"],[0.1111111111111111,\"#46039f\"],[0.2222222222222222,\"#7201a8\"],[0.3333333333333333,\"#9c179e\"],[0.4444444444444444,\"#bd3786\"],[0.5555555555555556,\"#d8576b\"],[0.6666666666666666,\"#ed7953\"],[0.7777777777777778,\"#fb9f3a\"],[0.8888888888888888,\"#fdca26\"],[1.0,\"#f0f921\"]]}],\"choropleth\":[{\"type\":\"choropleth\",\"colorbar\":{\"outlinewidth\":0,\"ticks\":\"\"}}],\"histogram2d\":[{\"type\":\"histogram2d\",\"colorbar\":{\"outlinewidth\":0,\"ticks\":\"\"},\"colorscale\":[[0.0,\"#0d0887\"],[0.1111111111111111,\"#46039f\"],[0.2222222222222222,\"#7201a8\"],[0.3333333333333333,\"#9c179e\"],[0.4444444444444444,\"#bd3786\"],[0.5555555555555556,\"#d8576b\"],[0.6666666666666666,\"#ed7953\"],[0.7777777777777778,\"#fb9f3a\"],[0.8888888888888888,\"#fdca26\"],[1.0,\"#f0f921\"]]}],\"heatmap\":[{\"type\":\"heatmap\",\"colorbar\":{\"outlinewidth\":0,\"ticks\":\"\"},\"colorscale\":[[0.0,\"#0d0887\"],[0.1111111111111111,\"#46039f\"],[0.2222222222222222,\"#7201a8\"],[0.3333333333333333,\"#9c179e\"],[0.4444444444444444,\"#bd3786\"],[0.5555555555555556,\"#d8576b\"],[0.6666666666666666,\"#ed7953\"],[0.7777777777777778,\"#fb9f3a\"],[0.8888888888888888,\"#fdca26\"],[1.0,\"#f0f921\"]]}],\"heatmapgl\":[{\"type\":\"heatmapgl\",\"colorbar\":{\"outlinewidth\":0,\"ticks\":\"\"},\"colorscale\":[[0.0,\"#0d0887\"],[0.1111111111111111,\"#46039f\"],[0.2222222222222222,\"#7201a8\"],[0.3333333333333333,\"#9c179e\"],[0.4444444444444444,\"#bd3786\"],[0.5555555555555556,\"#d8576b\"],[0.6666666666666666,\"#ed7953\"],[0.7777777777777778,\"#fb9f3a\"],[0.8888888888888888,\"#fdca26\"],[1.0,\"#f0f921\"]]}],\"contourcarpet\":[{\"type\":\"contourcarpet\",\"colorbar\":{\"outlinewidth\":0,\"ticks\":\"\"}}],\"contour\":[{\"type\":\"contour\",\"colorbar\":{\"outlinewidth\":0,\"ticks\":\"\"},\"colorscale\":[[0.0,\"#0d0887\"],[0.1111111111111111,\"#46039f\"],[0.2222222222222222,\"#7201a8\"],[0.3333333333333333,\"#9c179e\"],[0.4444444444444444,\"#bd3786\"],[0.5555555555555556,\"#d8576b\"],[0.6666666666666666,\"#ed7953\"],[0.7777777777777778,\"#fb9f3a\"],[0.8888888888888888,\"#fdca26\"],[1.0,\"#f0f921\"]]}],\"surface\":[{\"type\":\"surface\",\"colorbar\":{\"outlinewidth\":0,\"ticks\":\"\"},\"colorscale\":[[0.0,\"#0d0887\"],[0.1111111111111111,\"#46039f\"],[0.2222222222222222,\"#7201a8\"],[0.3333333333333333,\"#9c179e\"],[0.4444444444444444,\"#bd3786\"],[0.5555555555555556,\"#d8576b\"],[0.6666666666666666,\"#ed7953\"],[0.7777777777777778,\"#fb9f3a\"],[0.8888888888888888,\"#fdca26\"],[1.0,\"#f0f921\"]]}],\"mesh3d\":[{\"type\":\"mesh3d\",\"colorbar\":{\"outlinewidth\":0,\"ticks\":\"\"}}],\"scatter\":[{\"fillpattern\":{\"fillmode\":\"overlay\",\"size\":10,\"solidity\":0.2},\"type\":\"scatter\"}],\"parcoords\":[{\"type\":\"parcoords\",\"line\":{\"colorbar\":{\"outlinewidth\":0,\"ticks\":\"\"}}}],\"scatterpolargl\":[{\"type\":\"scatterpolargl\",\"marker\":{\"colorbar\":{\"outlinewidth\":0,\"ticks\":\"\"}}}],\"bar\":[{\"error_x\":{\"color\":\"#2a3f5f\"},\"error_y\":{\"color\":\"#2a3f5f\"},\"marker\":{\"line\":{\"color\":\"#E5ECF6\",\"width\":0.5},\"pattern\":{\"fillmode\":\"overlay\",\"size\":10,\"solidity\":0.2}},\"type\":\"bar\"}],\"scattergeo\":[{\"type\":\"scattergeo\",\"marker\":{\"colorbar\":{\"outlinewidth\":0,\"ticks\":\"\"}}}],\"scatterpolar\":[{\"type\":\"scatterpolar\",\"marker\":{\"colorbar\":{\"outlinewidth\":0,\"ticks\":\"\"}}}],\"histogram\":[{\"marker\":{\"pattern\":{\"fillmode\":\"overlay\",\"size\":10,\"solidity\":0.2}},\"type\":\"histogram\"}],\"scattergl\":[{\"type\":\"scattergl\",\"marker\":{\"colorbar\":{\"outlinewidth\":0,\"ticks\":\"\"}}}],\"scatter3d\":[{\"type\":\"scatter3d\",\"line\":{\"colorbar\":{\"outlinewidth\":0,\"ticks\":\"\"}},\"marker\":{\"colorbar\":{\"outlinewidth\":0,\"ticks\":\"\"}}}],\"scattermapbox\":[{\"type\":\"scattermapbox\",\"marker\":{\"colorbar\":{\"outlinewidth\":0,\"ticks\":\"\"}}}],\"scatterternary\":[{\"type\":\"scatterternary\",\"marker\":{\"colorbar\":{\"outlinewidth\":0,\"ticks\":\"\"}}}],\"scattercarpet\":[{\"type\":\"scattercarpet\",\"marker\":{\"colorbar\":{\"outlinewidth\":0,\"ticks\":\"\"}}}],\"carpet\":[{\"aaxis\":{\"endlinecolor\":\"#2a3f5f\",\"gridcolor\":\"white\",\"linecolor\":\"white\",\"minorgridcolor\":\"white\",\"startlinecolor\":\"#2a3f5f\"},\"baxis\":{\"endlinecolor\":\"#2a3f5f\",\"gridcolor\":\"white\",\"linecolor\":\"white\",\"minorgridcolor\":\"white\",\"startlinecolor\":\"#2a3f5f\"},\"type\":\"carpet\"}],\"table\":[{\"cells\":{\"fill\":{\"color\":\"#EBF0F8\"},\"line\":{\"color\":\"white\"}},\"header\":{\"fill\":{\"color\":\"#C8D4E3\"},\"line\":{\"color\":\"white\"}},\"type\":\"table\"}],\"barpolar\":[{\"marker\":{\"line\":{\"color\":\"#E5ECF6\",\"width\":0.5},\"pattern\":{\"fillmode\":\"overlay\",\"size\":10,\"solidity\":0.2}},\"type\":\"barpolar\"}],\"pie\":[{\"automargin\":true,\"type\":\"pie\"}]},\"layout\":{\"autotypenumbers\":\"strict\",\"colorway\":[\"#636efa\",\"#EF553B\",\"#00cc96\",\"#ab63fa\",\"#FFA15A\",\"#19d3f3\",\"#FF6692\",\"#B6E880\",\"#FF97FF\",\"#FECB52\"],\"font\":{\"color\":\"#2a3f5f\"},\"hovermode\":\"closest\",\"hoverlabel\":{\"align\":\"left\"},\"paper_bgcolor\":\"white\",\"plot_bgcolor\":\"#E5ECF6\",\"polar\":{\"bgcolor\":\"#E5ECF6\",\"angularaxis\":{\"gridcolor\":\"white\",\"linecolor\":\"white\",\"ticks\":\"\"},\"radialaxis\":{\"gridcolor\":\"white\",\"linecolor\":\"white\",\"ticks\":\"\"}},\"ternary\":{\"bgcolor\":\"#E5ECF6\",\"aaxis\":{\"gridcolor\":\"white\",\"linecolor\":\"white\",\"ticks\":\"\"},\"baxis\":{\"gridcolor\":\"white\",\"linecolor\":\"white\",\"ticks\":\"\"},\"caxis\":{\"gridcolor\":\"white\",\"linecolor\":\"white\",\"ticks\":\"\"}},\"coloraxis\":{\"colorbar\":{\"outlinewidth\":0,\"ticks\":\"\"}},\"colorscale\":{\"sequential\":[[0.0,\"#0d0887\"],[0.1111111111111111,\"#46039f\"],[0.2222222222222222,\"#7201a8\"],[0.3333333333333333,\"#9c179e\"],[0.4444444444444444,\"#bd3786\"],[0.5555555555555556,\"#d8576b\"],[0.6666666666666666,\"#ed7953\"],[0.7777777777777778,\"#fb9f3a\"],[0.8888888888888888,\"#fdca26\"],[1.0,\"#f0f921\"]],\"sequentialminus\":[[0.0,\"#0d0887\"],[0.1111111111111111,\"#46039f\"],[0.2222222222222222,\"#7201a8\"],[0.3333333333333333,\"#9c179e\"],[0.4444444444444444,\"#bd3786\"],[0.5555555555555556,\"#d8576b\"],[0.6666666666666666,\"#ed7953\"],[0.7777777777777778,\"#fb9f3a\"],[0.8888888888888888,\"#fdca26\"],[1.0,\"#f0f921\"]],\"diverging\":[[0,\"#8e0152\"],[0.1,\"#c51b7d\"],[0.2,\"#de77ae\"],[0.3,\"#f1b6da\"],[0.4,\"#fde0ef\"],[0.5,\"#f7f7f7\"],[0.6,\"#e6f5d0\"],[0.7,\"#b8e186\"],[0.8,\"#7fbc41\"],[0.9,\"#4d9221\"],[1,\"#276419\"]]},\"xaxis\":{\"gridcolor\":\"white\",\"linecolor\":\"white\",\"ticks\":\"\",\"title\":{\"standoff\":15},\"zerolinecolor\":\"white\",\"automargin\":true,\"zerolinewidth\":2},\"yaxis\":{\"gridcolor\":\"white\",\"linecolor\":\"white\",\"ticks\":\"\",\"title\":{\"standoff\":15},\"zerolinecolor\":\"white\",\"automargin\":true,\"zerolinewidth\":2},\"scene\":{\"xaxis\":{\"backgroundcolor\":\"#E5ECF6\",\"gridcolor\":\"white\",\"linecolor\":\"white\",\"showbackground\":true,\"ticks\":\"\",\"zerolinecolor\":\"white\",\"gridwidth\":2},\"yaxis\":{\"backgroundcolor\":\"#E5ECF6\",\"gridcolor\":\"white\",\"linecolor\":\"white\",\"showbackground\":true,\"ticks\":\"\",\"zerolinecolor\":\"white\",\"gridwidth\":2},\"zaxis\":{\"backgroundcolor\":\"#E5ECF6\",\"gridcolor\":\"white\",\"linecolor\":\"white\",\"showbackground\":true,\"ticks\":\"\",\"zerolinecolor\":\"white\",\"gridwidth\":2}},\"shapedefaults\":{\"line\":{\"color\":\"#2a3f5f\"}},\"annotationdefaults\":{\"arrowcolor\":\"#2a3f5f\",\"arrowhead\":0,\"arrowwidth\":1},\"geo\":{\"bgcolor\":\"white\",\"landcolor\":\"#E5ECF6\",\"subunitcolor\":\"white\",\"showland\":true,\"showlakes\":true,\"lakecolor\":\"white\"},\"title\":{\"x\":0.05},\"mapbox\":{\"style\":\"light\"}}},\"xaxis\":{\"anchor\":\"y\",\"domain\":[0.0,1.0],\"title\":{\"text\":\"X1\"}},\"yaxis\":{\"anchor\":\"x\",\"domain\":[0.0,1.0],\"title\":{\"text\":\"X2\"}},\"legend\":{\"title\":{\"text\":\"species\"},\"tracegroupgap\":0},\"title\":{\"text\":\"PCA\"}},                        {\"responsive\": true}                    ).then(function(){\n",
       "                            \n",
       "var gd = document.getElementById('503f4661-bc7c-4d92-8687-f24414f19c51');\n",
       "var x = new MutationObserver(function (mutations, observer) {{\n",
       "        var display = window.getComputedStyle(gd).display;\n",
       "        if (!display || display === 'none') {{\n",
       "            console.log([gd, 'removed!']);\n",
       "            Plotly.purge(gd);\n",
       "            observer.disconnect();\n",
       "        }}\n",
       "}});\n",
       "\n",
       "// Listen for the removal of the full notebook cells\n",
       "var notebookContainer = gd.closest('#notebook-container');\n",
       "if (notebookContainer) {{\n",
       "    x.observe(notebookContainer, {childList: true});\n",
       "}}\n",
       "\n",
       "// Listen for the clearing of the current output cell\n",
       "var outputEl = gd.closest('.output');\n",
       "if (outputEl) {{\n",
       "    x.observe(outputEl, {childList: true});\n",
       "}}\n",
       "\n",
       "                        })                };                });            </script>        </div>"
      ]
     },
     "metadata": {},
     "output_type": "display_data"
    }
   ],
   "source": [
    "plot = px.scatter(data_frame = pca_result,\n",
    "                 x = 'X1',\n",
    "                 y = 'X2',\n",
    "                color = 'species',\n",
    "                 title = 'PCA')\n",
    "plot.show()"
   ]
  },
  {
   "cell_type": "code",
   "execution_count": null,
   "id": "be1987d5-27e3-41c8-bcfe-fdc462164af1",
   "metadata": {},
   "outputs": [],
   "source": []
  },
  {
   "cell_type": "code",
   "execution_count": 80,
   "id": "83d13aa6-6cc0-42bc-8e49-0cb75e328c8a",
   "metadata": {},
   "outputs": [],
   "source": [
    "#explain variance shows how much information was retained"
   ]
  },
  {
   "cell_type": "code",
   "execution_count": 82,
   "id": "261e2ca1-ab17-4360-b942-6029ab78f316",
   "metadata": {},
   "outputs": [
    {
     "data": {
      "text/plain": [
       "array([0.92461872, 0.05306648, 0.01710261])"
      ]
     },
     "execution_count": 82,
     "metadata": {},
     "output_type": "execute_result"
    }
   ],
   "source": [
    "pca.explained_variance_ratio_"
   ]
  },
  {
   "cell_type": "code",
   "execution_count": 84,
   "id": "8f0c30be-b021-48c4-ae8b-daf0af0abe71",
   "metadata": {},
   "outputs": [],
   "source": [
    "dftwo = pd.read_csv('BostonHousing.csv')"
   ]
  },
  {
   "cell_type": "code",
   "execution_count": 86,
   "id": "6546dd54-3243-4858-8e91-3067d7930928",
   "metadata": {},
   "outputs": [
    {
     "data": {
      "text/html": [
       "<div>\n",
       "<style scoped>\n",
       "    .dataframe tbody tr th:only-of-type {\n",
       "        vertical-align: middle;\n",
       "    }\n",
       "\n",
       "    .dataframe tbody tr th {\n",
       "        vertical-align: top;\n",
       "    }\n",
       "\n",
       "    .dataframe thead th {\n",
       "        text-align: right;\n",
       "    }\n",
       "</style>\n",
       "<table border=\"1\" class=\"dataframe\">\n",
       "  <thead>\n",
       "    <tr style=\"text-align: right;\">\n",
       "      <th></th>\n",
       "      <th>crim</th>\n",
       "      <th>zn</th>\n",
       "      <th>indus</th>\n",
       "      <th>chas</th>\n",
       "      <th>nox</th>\n",
       "      <th>rm</th>\n",
       "      <th>age</th>\n",
       "      <th>dis</th>\n",
       "      <th>rad</th>\n",
       "      <th>tax</th>\n",
       "      <th>ptratio</th>\n",
       "      <th>b</th>\n",
       "      <th>lstat</th>\n",
       "      <th>medv</th>\n",
       "    </tr>\n",
       "  </thead>\n",
       "  <tbody>\n",
       "    <tr>\n",
       "      <th>0</th>\n",
       "      <td>0.00632</td>\n",
       "      <td>18.0</td>\n",
       "      <td>2.31</td>\n",
       "      <td>0</td>\n",
       "      <td>0.538</td>\n",
       "      <td>6.575</td>\n",
       "      <td>65.2</td>\n",
       "      <td>4.0900</td>\n",
       "      <td>1</td>\n",
       "      <td>296</td>\n",
       "      <td>15.3</td>\n",
       "      <td>396.90</td>\n",
       "      <td>4.98</td>\n",
       "      <td>24.0</td>\n",
       "    </tr>\n",
       "    <tr>\n",
       "      <th>1</th>\n",
       "      <td>0.02731</td>\n",
       "      <td>0.0</td>\n",
       "      <td>7.07</td>\n",
       "      <td>0</td>\n",
       "      <td>0.469</td>\n",
       "      <td>6.421</td>\n",
       "      <td>78.9</td>\n",
       "      <td>4.9671</td>\n",
       "      <td>2</td>\n",
       "      <td>242</td>\n",
       "      <td>17.8</td>\n",
       "      <td>396.90</td>\n",
       "      <td>9.14</td>\n",
       "      <td>21.6</td>\n",
       "    </tr>\n",
       "    <tr>\n",
       "      <th>2</th>\n",
       "      <td>0.02729</td>\n",
       "      <td>0.0</td>\n",
       "      <td>7.07</td>\n",
       "      <td>0</td>\n",
       "      <td>0.469</td>\n",
       "      <td>7.185</td>\n",
       "      <td>61.1</td>\n",
       "      <td>4.9671</td>\n",
       "      <td>2</td>\n",
       "      <td>242</td>\n",
       "      <td>17.8</td>\n",
       "      <td>392.83</td>\n",
       "      <td>4.03</td>\n",
       "      <td>34.7</td>\n",
       "    </tr>\n",
       "    <tr>\n",
       "      <th>3</th>\n",
       "      <td>0.03237</td>\n",
       "      <td>0.0</td>\n",
       "      <td>2.18</td>\n",
       "      <td>0</td>\n",
       "      <td>0.458</td>\n",
       "      <td>6.998</td>\n",
       "      <td>45.8</td>\n",
       "      <td>6.0622</td>\n",
       "      <td>3</td>\n",
       "      <td>222</td>\n",
       "      <td>18.7</td>\n",
       "      <td>394.63</td>\n",
       "      <td>2.94</td>\n",
       "      <td>33.4</td>\n",
       "    </tr>\n",
       "    <tr>\n",
       "      <th>4</th>\n",
       "      <td>0.06905</td>\n",
       "      <td>0.0</td>\n",
       "      <td>2.18</td>\n",
       "      <td>0</td>\n",
       "      <td>0.458</td>\n",
       "      <td>7.147</td>\n",
       "      <td>54.2</td>\n",
       "      <td>6.0622</td>\n",
       "      <td>3</td>\n",
       "      <td>222</td>\n",
       "      <td>18.7</td>\n",
       "      <td>396.90</td>\n",
       "      <td>5.33</td>\n",
       "      <td>36.2</td>\n",
       "    </tr>\n",
       "  </tbody>\n",
       "</table>\n",
       "</div>"
      ],
      "text/plain": [
       "      crim    zn  indus  chas    nox     rm   age     dis  rad  tax  ptratio  \\\n",
       "0  0.00632  18.0   2.31     0  0.538  6.575  65.2  4.0900    1  296     15.3   \n",
       "1  0.02731   0.0   7.07     0  0.469  6.421  78.9  4.9671    2  242     17.8   \n",
       "2  0.02729   0.0   7.07     0  0.469  7.185  61.1  4.9671    2  242     17.8   \n",
       "3  0.03237   0.0   2.18     0  0.458  6.998  45.8  6.0622    3  222     18.7   \n",
       "4  0.06905   0.0   2.18     0  0.458  7.147  54.2  6.0622    3  222     18.7   \n",
       "\n",
       "        b  lstat  medv  \n",
       "0  396.90   4.98  24.0  \n",
       "1  396.90   9.14  21.6  \n",
       "2  392.83   4.03  34.7  \n",
       "3  394.63   2.94  33.4  \n",
       "4  396.90   5.33  36.2  "
      ]
     },
     "execution_count": 86,
     "metadata": {},
     "output_type": "execute_result"
    }
   ],
   "source": [
    "dftwo.head()"
   ]
  },
  {
   "cell_type": "code",
   "execution_count": 88,
   "id": "1aa7d4e3-9f76-4131-abb0-f9c671cce2b4",
   "metadata": {},
   "outputs": [
    {
     "name": "stdout",
     "output_type": "stream",
     "text": [
      "<class 'pandas.core.frame.DataFrame'>\n",
      "RangeIndex: 506 entries, 0 to 505\n",
      "Data columns (total 14 columns):\n",
      " #   Column   Non-Null Count  Dtype  \n",
      "---  ------   --------------  -----  \n",
      " 0   crim     506 non-null    float64\n",
      " 1   zn       506 non-null    float64\n",
      " 2   indus    506 non-null    float64\n",
      " 3   chas     506 non-null    int64  \n",
      " 4   nox      506 non-null    float64\n",
      " 5   rm       506 non-null    float64\n",
      " 6   age      506 non-null    float64\n",
      " 7   dis      506 non-null    float64\n",
      " 8   rad      506 non-null    int64  \n",
      " 9   tax      506 non-null    int64  \n",
      " 10  ptratio  506 non-null    float64\n",
      " 11  b        506 non-null    float64\n",
      " 12  lstat    506 non-null    float64\n",
      " 13  medv     506 non-null    float64\n",
      "dtypes: float64(11), int64(3)\n",
      "memory usage: 55.5 KB\n"
     ]
    }
   ],
   "source": [
    "dftwo.info()"
   ]
  },
  {
   "cell_type": "code",
   "execution_count": 90,
   "id": "11ad98e1-4982-41a6-a87e-c139aacc805a",
   "metadata": {},
   "outputs": [],
   "source": [
    "pcatwo = PCA(n_components = 3)"
   ]
  },
  {
   "cell_type": "code",
   "execution_count": 92,
   "id": "5ddbbb73-96f3-4949-82cb-02095aac18f3",
   "metadata": {},
   "outputs": [],
   "source": [
    "Y = dftwo.loc[:,['crim','zn','indus','chas','nox','rm','age','dis','rad','tax','ptratio','b','lstat']]"
   ]
  },
  {
   "cell_type": "code",
   "execution_count": 94,
   "id": "a3e1124f-85c8-409c-b7df-ce84028cea28",
   "metadata": {},
   "outputs": [
    {
     "data": {
      "text/html": [
       "<style>#sk-container-id-4 {\n",
       "  /* Definition of color scheme common for light and dark mode */\n",
       "  --sklearn-color-text: black;\n",
       "  --sklearn-color-line: gray;\n",
       "  /* Definition of color scheme for unfitted estimators */\n",
       "  --sklearn-color-unfitted-level-0: #fff5e6;\n",
       "  --sklearn-color-unfitted-level-1: #f6e4d2;\n",
       "  --sklearn-color-unfitted-level-2: #ffe0b3;\n",
       "  --sklearn-color-unfitted-level-3: chocolate;\n",
       "  /* Definition of color scheme for fitted estimators */\n",
       "  --sklearn-color-fitted-level-0: #f0f8ff;\n",
       "  --sklearn-color-fitted-level-1: #d4ebff;\n",
       "  --sklearn-color-fitted-level-2: #b3dbfd;\n",
       "  --sklearn-color-fitted-level-3: cornflowerblue;\n",
       "\n",
       "  /* Specific color for light theme */\n",
       "  --sklearn-color-text-on-default-background: var(--sg-text-color, var(--theme-code-foreground, var(--jp-content-font-color1, black)));\n",
       "  --sklearn-color-background: var(--sg-background-color, var(--theme-background, var(--jp-layout-color0, white)));\n",
       "  --sklearn-color-border-box: var(--sg-text-color, var(--theme-code-foreground, var(--jp-content-font-color1, black)));\n",
       "  --sklearn-color-icon: #696969;\n",
       "\n",
       "  @media (prefers-color-scheme: dark) {\n",
       "    /* Redefinition of color scheme for dark theme */\n",
       "    --sklearn-color-text-on-default-background: var(--sg-text-color, var(--theme-code-foreground, var(--jp-content-font-color1, white)));\n",
       "    --sklearn-color-background: var(--sg-background-color, var(--theme-background, var(--jp-layout-color0, #111)));\n",
       "    --sklearn-color-border-box: var(--sg-text-color, var(--theme-code-foreground, var(--jp-content-font-color1, white)));\n",
       "    --sklearn-color-icon: #878787;\n",
       "  }\n",
       "}\n",
       "\n",
       "#sk-container-id-4 {\n",
       "  color: var(--sklearn-color-text);\n",
       "}\n",
       "\n",
       "#sk-container-id-4 pre {\n",
       "  padding: 0;\n",
       "}\n",
       "\n",
       "#sk-container-id-4 input.sk-hidden--visually {\n",
       "  border: 0;\n",
       "  clip: rect(1px 1px 1px 1px);\n",
       "  clip: rect(1px, 1px, 1px, 1px);\n",
       "  height: 1px;\n",
       "  margin: -1px;\n",
       "  overflow: hidden;\n",
       "  padding: 0;\n",
       "  position: absolute;\n",
       "  width: 1px;\n",
       "}\n",
       "\n",
       "#sk-container-id-4 div.sk-dashed-wrapped {\n",
       "  border: 1px dashed var(--sklearn-color-line);\n",
       "  margin: 0 0.4em 0.5em 0.4em;\n",
       "  box-sizing: border-box;\n",
       "  padding-bottom: 0.4em;\n",
       "  background-color: var(--sklearn-color-background);\n",
       "}\n",
       "\n",
       "#sk-container-id-4 div.sk-container {\n",
       "  /* jupyter's `normalize.less` sets `[hidden] { display: none; }`\n",
       "     but bootstrap.min.css set `[hidden] { display: none !important; }`\n",
       "     so we also need the `!important` here to be able to override the\n",
       "     default hidden behavior on the sphinx rendered scikit-learn.org.\n",
       "     See: https://github.com/scikit-learn/scikit-learn/issues/21755 */\n",
       "  display: inline-block !important;\n",
       "  position: relative;\n",
       "}\n",
       "\n",
       "#sk-container-id-4 div.sk-text-repr-fallback {\n",
       "  display: none;\n",
       "}\n",
       "\n",
       "div.sk-parallel-item,\n",
       "div.sk-serial,\n",
       "div.sk-item {\n",
       "  /* draw centered vertical line to link estimators */\n",
       "  background-image: linear-gradient(var(--sklearn-color-text-on-default-background), var(--sklearn-color-text-on-default-background));\n",
       "  background-size: 2px 100%;\n",
       "  background-repeat: no-repeat;\n",
       "  background-position: center center;\n",
       "}\n",
       "\n",
       "/* Parallel-specific style estimator block */\n",
       "\n",
       "#sk-container-id-4 div.sk-parallel-item::after {\n",
       "  content: \"\";\n",
       "  width: 100%;\n",
       "  border-bottom: 2px solid var(--sklearn-color-text-on-default-background);\n",
       "  flex-grow: 1;\n",
       "}\n",
       "\n",
       "#sk-container-id-4 div.sk-parallel {\n",
       "  display: flex;\n",
       "  align-items: stretch;\n",
       "  justify-content: center;\n",
       "  background-color: var(--sklearn-color-background);\n",
       "  position: relative;\n",
       "}\n",
       "\n",
       "#sk-container-id-4 div.sk-parallel-item {\n",
       "  display: flex;\n",
       "  flex-direction: column;\n",
       "}\n",
       "\n",
       "#sk-container-id-4 div.sk-parallel-item:first-child::after {\n",
       "  align-self: flex-end;\n",
       "  width: 50%;\n",
       "}\n",
       "\n",
       "#sk-container-id-4 div.sk-parallel-item:last-child::after {\n",
       "  align-self: flex-start;\n",
       "  width: 50%;\n",
       "}\n",
       "\n",
       "#sk-container-id-4 div.sk-parallel-item:only-child::after {\n",
       "  width: 0;\n",
       "}\n",
       "\n",
       "/* Serial-specific style estimator block */\n",
       "\n",
       "#sk-container-id-4 div.sk-serial {\n",
       "  display: flex;\n",
       "  flex-direction: column;\n",
       "  align-items: center;\n",
       "  background-color: var(--sklearn-color-background);\n",
       "  padding-right: 1em;\n",
       "  padding-left: 1em;\n",
       "}\n",
       "\n",
       "\n",
       "/* Toggleable style: style used for estimator/Pipeline/ColumnTransformer box that is\n",
       "clickable and can be expanded/collapsed.\n",
       "- Pipeline and ColumnTransformer use this feature and define the default style\n",
       "- Estimators will overwrite some part of the style using the `sk-estimator` class\n",
       "*/\n",
       "\n",
       "/* Pipeline and ColumnTransformer style (default) */\n",
       "\n",
       "#sk-container-id-4 div.sk-toggleable {\n",
       "  /* Default theme specific background. It is overwritten whether we have a\n",
       "  specific estimator or a Pipeline/ColumnTransformer */\n",
       "  background-color: var(--sklearn-color-background);\n",
       "}\n",
       "\n",
       "/* Toggleable label */\n",
       "#sk-container-id-4 label.sk-toggleable__label {\n",
       "  cursor: pointer;\n",
       "  display: block;\n",
       "  width: 100%;\n",
       "  margin-bottom: 0;\n",
       "  padding: 0.5em;\n",
       "  box-sizing: border-box;\n",
       "  text-align: center;\n",
       "}\n",
       "\n",
       "#sk-container-id-4 label.sk-toggleable__label-arrow:before {\n",
       "  /* Arrow on the left of the label */\n",
       "  content: \"▸\";\n",
       "  float: left;\n",
       "  margin-right: 0.25em;\n",
       "  color: var(--sklearn-color-icon);\n",
       "}\n",
       "\n",
       "#sk-container-id-4 label.sk-toggleable__label-arrow:hover:before {\n",
       "  color: var(--sklearn-color-text);\n",
       "}\n",
       "\n",
       "/* Toggleable content - dropdown */\n",
       "\n",
       "#sk-container-id-4 div.sk-toggleable__content {\n",
       "  max-height: 0;\n",
       "  max-width: 0;\n",
       "  overflow: hidden;\n",
       "  text-align: left;\n",
       "  /* unfitted */\n",
       "  background-color: var(--sklearn-color-unfitted-level-0);\n",
       "}\n",
       "\n",
       "#sk-container-id-4 div.sk-toggleable__content.fitted {\n",
       "  /* fitted */\n",
       "  background-color: var(--sklearn-color-fitted-level-0);\n",
       "}\n",
       "\n",
       "#sk-container-id-4 div.sk-toggleable__content pre {\n",
       "  margin: 0.2em;\n",
       "  border-radius: 0.25em;\n",
       "  color: var(--sklearn-color-text);\n",
       "  /* unfitted */\n",
       "  background-color: var(--sklearn-color-unfitted-level-0);\n",
       "}\n",
       "\n",
       "#sk-container-id-4 div.sk-toggleable__content.fitted pre {\n",
       "  /* unfitted */\n",
       "  background-color: var(--sklearn-color-fitted-level-0);\n",
       "}\n",
       "\n",
       "#sk-container-id-4 input.sk-toggleable__control:checked~div.sk-toggleable__content {\n",
       "  /* Expand drop-down */\n",
       "  max-height: 200px;\n",
       "  max-width: 100%;\n",
       "  overflow: auto;\n",
       "}\n",
       "\n",
       "#sk-container-id-4 input.sk-toggleable__control:checked~label.sk-toggleable__label-arrow:before {\n",
       "  content: \"▾\";\n",
       "}\n",
       "\n",
       "/* Pipeline/ColumnTransformer-specific style */\n",
       "\n",
       "#sk-container-id-4 div.sk-label input.sk-toggleable__control:checked~label.sk-toggleable__label {\n",
       "  color: var(--sklearn-color-text);\n",
       "  background-color: var(--sklearn-color-unfitted-level-2);\n",
       "}\n",
       "\n",
       "#sk-container-id-4 div.sk-label.fitted input.sk-toggleable__control:checked~label.sk-toggleable__label {\n",
       "  background-color: var(--sklearn-color-fitted-level-2);\n",
       "}\n",
       "\n",
       "/* Estimator-specific style */\n",
       "\n",
       "/* Colorize estimator box */\n",
       "#sk-container-id-4 div.sk-estimator input.sk-toggleable__control:checked~label.sk-toggleable__label {\n",
       "  /* unfitted */\n",
       "  background-color: var(--sklearn-color-unfitted-level-2);\n",
       "}\n",
       "\n",
       "#sk-container-id-4 div.sk-estimator.fitted input.sk-toggleable__control:checked~label.sk-toggleable__label {\n",
       "  /* fitted */\n",
       "  background-color: var(--sklearn-color-fitted-level-2);\n",
       "}\n",
       "\n",
       "#sk-container-id-4 div.sk-label label.sk-toggleable__label,\n",
       "#sk-container-id-4 div.sk-label label {\n",
       "  /* The background is the default theme color */\n",
       "  color: var(--sklearn-color-text-on-default-background);\n",
       "}\n",
       "\n",
       "/* On hover, darken the color of the background */\n",
       "#sk-container-id-4 div.sk-label:hover label.sk-toggleable__label {\n",
       "  color: var(--sklearn-color-text);\n",
       "  background-color: var(--sklearn-color-unfitted-level-2);\n",
       "}\n",
       "\n",
       "/* Label box, darken color on hover, fitted */\n",
       "#sk-container-id-4 div.sk-label.fitted:hover label.sk-toggleable__label.fitted {\n",
       "  color: var(--sklearn-color-text);\n",
       "  background-color: var(--sklearn-color-fitted-level-2);\n",
       "}\n",
       "\n",
       "/* Estimator label */\n",
       "\n",
       "#sk-container-id-4 div.sk-label label {\n",
       "  font-family: monospace;\n",
       "  font-weight: bold;\n",
       "  display: inline-block;\n",
       "  line-height: 1.2em;\n",
       "}\n",
       "\n",
       "#sk-container-id-4 div.sk-label-container {\n",
       "  text-align: center;\n",
       "}\n",
       "\n",
       "/* Estimator-specific */\n",
       "#sk-container-id-4 div.sk-estimator {\n",
       "  font-family: monospace;\n",
       "  border: 1px dotted var(--sklearn-color-border-box);\n",
       "  border-radius: 0.25em;\n",
       "  box-sizing: border-box;\n",
       "  margin-bottom: 0.5em;\n",
       "  /* unfitted */\n",
       "  background-color: var(--sklearn-color-unfitted-level-0);\n",
       "}\n",
       "\n",
       "#sk-container-id-4 div.sk-estimator.fitted {\n",
       "  /* fitted */\n",
       "  background-color: var(--sklearn-color-fitted-level-0);\n",
       "}\n",
       "\n",
       "/* on hover */\n",
       "#sk-container-id-4 div.sk-estimator:hover {\n",
       "  /* unfitted */\n",
       "  background-color: var(--sklearn-color-unfitted-level-2);\n",
       "}\n",
       "\n",
       "#sk-container-id-4 div.sk-estimator.fitted:hover {\n",
       "  /* fitted */\n",
       "  background-color: var(--sklearn-color-fitted-level-2);\n",
       "}\n",
       "\n",
       "/* Specification for estimator info (e.g. \"i\" and \"?\") */\n",
       "\n",
       "/* Common style for \"i\" and \"?\" */\n",
       "\n",
       ".sk-estimator-doc-link,\n",
       "a:link.sk-estimator-doc-link,\n",
       "a:visited.sk-estimator-doc-link {\n",
       "  float: right;\n",
       "  font-size: smaller;\n",
       "  line-height: 1em;\n",
       "  font-family: monospace;\n",
       "  background-color: var(--sklearn-color-background);\n",
       "  border-radius: 1em;\n",
       "  height: 1em;\n",
       "  width: 1em;\n",
       "  text-decoration: none !important;\n",
       "  margin-left: 1ex;\n",
       "  /* unfitted */\n",
       "  border: var(--sklearn-color-unfitted-level-1) 1pt solid;\n",
       "  color: var(--sklearn-color-unfitted-level-1);\n",
       "}\n",
       "\n",
       ".sk-estimator-doc-link.fitted,\n",
       "a:link.sk-estimator-doc-link.fitted,\n",
       "a:visited.sk-estimator-doc-link.fitted {\n",
       "  /* fitted */\n",
       "  border: var(--sklearn-color-fitted-level-1) 1pt solid;\n",
       "  color: var(--sklearn-color-fitted-level-1);\n",
       "}\n",
       "\n",
       "/* On hover */\n",
       "div.sk-estimator:hover .sk-estimator-doc-link:hover,\n",
       ".sk-estimator-doc-link:hover,\n",
       "div.sk-label-container:hover .sk-estimator-doc-link:hover,\n",
       ".sk-estimator-doc-link:hover {\n",
       "  /* unfitted */\n",
       "  background-color: var(--sklearn-color-unfitted-level-3);\n",
       "  color: var(--sklearn-color-background);\n",
       "  text-decoration: none;\n",
       "}\n",
       "\n",
       "div.sk-estimator.fitted:hover .sk-estimator-doc-link.fitted:hover,\n",
       ".sk-estimator-doc-link.fitted:hover,\n",
       "div.sk-label-container:hover .sk-estimator-doc-link.fitted:hover,\n",
       ".sk-estimator-doc-link.fitted:hover {\n",
       "  /* fitted */\n",
       "  background-color: var(--sklearn-color-fitted-level-3);\n",
       "  color: var(--sklearn-color-background);\n",
       "  text-decoration: none;\n",
       "}\n",
       "\n",
       "/* Span, style for the box shown on hovering the info icon */\n",
       ".sk-estimator-doc-link span {\n",
       "  display: none;\n",
       "  z-index: 9999;\n",
       "  position: relative;\n",
       "  font-weight: normal;\n",
       "  right: .2ex;\n",
       "  padding: .5ex;\n",
       "  margin: .5ex;\n",
       "  width: min-content;\n",
       "  min-width: 20ex;\n",
       "  max-width: 50ex;\n",
       "  color: var(--sklearn-color-text);\n",
       "  box-shadow: 2pt 2pt 4pt #999;\n",
       "  /* unfitted */\n",
       "  background: var(--sklearn-color-unfitted-level-0);\n",
       "  border: .5pt solid var(--sklearn-color-unfitted-level-3);\n",
       "}\n",
       "\n",
       ".sk-estimator-doc-link.fitted span {\n",
       "  /* fitted */\n",
       "  background: var(--sklearn-color-fitted-level-0);\n",
       "  border: var(--sklearn-color-fitted-level-3);\n",
       "}\n",
       "\n",
       ".sk-estimator-doc-link:hover span {\n",
       "  display: block;\n",
       "}\n",
       "\n",
       "/* \"?\"-specific style due to the `<a>` HTML tag */\n",
       "\n",
       "#sk-container-id-4 a.estimator_doc_link {\n",
       "  float: right;\n",
       "  font-size: 1rem;\n",
       "  line-height: 1em;\n",
       "  font-family: monospace;\n",
       "  background-color: var(--sklearn-color-background);\n",
       "  border-radius: 1rem;\n",
       "  height: 1rem;\n",
       "  width: 1rem;\n",
       "  text-decoration: none;\n",
       "  /* unfitted */\n",
       "  color: var(--sklearn-color-unfitted-level-1);\n",
       "  border: var(--sklearn-color-unfitted-level-1) 1pt solid;\n",
       "}\n",
       "\n",
       "#sk-container-id-4 a.estimator_doc_link.fitted {\n",
       "  /* fitted */\n",
       "  border: var(--sklearn-color-fitted-level-1) 1pt solid;\n",
       "  color: var(--sklearn-color-fitted-level-1);\n",
       "}\n",
       "\n",
       "/* On hover */\n",
       "#sk-container-id-4 a.estimator_doc_link:hover {\n",
       "  /* unfitted */\n",
       "  background-color: var(--sklearn-color-unfitted-level-3);\n",
       "  color: var(--sklearn-color-background);\n",
       "  text-decoration: none;\n",
       "}\n",
       "\n",
       "#sk-container-id-4 a.estimator_doc_link.fitted:hover {\n",
       "  /* fitted */\n",
       "  background-color: var(--sklearn-color-fitted-level-3);\n",
       "}\n",
       "</style><div id=\"sk-container-id-4\" class=\"sk-top-container\"><div class=\"sk-text-repr-fallback\"><pre>PCA(n_components=3)</pre><b>In a Jupyter environment, please rerun this cell to show the HTML representation or trust the notebook. <br />On GitHub, the HTML representation is unable to render, please try loading this page with nbviewer.org.</b></div><div class=\"sk-container\" hidden><div class=\"sk-item\"><div class=\"sk-estimator fitted sk-toggleable\"><input class=\"sk-toggleable__control sk-hidden--visually\" id=\"sk-estimator-id-4\" type=\"checkbox\" checked><label for=\"sk-estimator-id-4\" class=\"sk-toggleable__label fitted sk-toggleable__label-arrow fitted\">&nbsp;&nbsp;PCA<a class=\"sk-estimator-doc-link fitted\" rel=\"noreferrer\" target=\"_blank\" href=\"https://scikit-learn.org/1.4/modules/generated/sklearn.decomposition.PCA.html\">?<span>Documentation for PCA</span></a><span class=\"sk-estimator-doc-link fitted\">i<span>Fitted</span></span></label><div class=\"sk-toggleable__content fitted\"><pre>PCA(n_components=3)</pre></div> </div></div></div></div>"
      ],
      "text/plain": [
       "PCA(n_components=3)"
      ]
     },
     "execution_count": 94,
     "metadata": {},
     "output_type": "execute_result"
    }
   ],
   "source": [
    "pcatwo.fit(dftwo)"
   ]
  },
  {
   "cell_type": "code",
   "execution_count": 96,
   "id": "5ba22581-880d-4d4c-986a-e0aca1aeaefc",
   "metadata": {},
   "outputs": [],
   "source": [
    "explained_list = []"
   ]
  },
  {
   "cell_type": "code",
   "execution_count": 98,
   "id": "1c3874d3-43eb-4cc8-ba04-f16da24ba50f",
   "metadata": {},
   "outputs": [],
   "source": [
    "for n in [2,3,4,5,6,7]:\n",
    "    pcatwo = PCA(n_components=n)\n",
    "    pcatwo.fit(Y)\n",
    "    explained_sum = pcatwo.explained_variance_ratio_.sum()\n",
    "    explained_list.append(explained_sum)"
   ]
  },
  {
   "cell_type": "code",
   "execution_count": 100,
   "id": "6b107ca6-7c96-45a7-af55-bfa530d4ead3",
   "metadata": {},
   "outputs": [
    {
     "data": {
      "text/plain": [
       "[0.9688751429772741,\n",
       " 0.9902237521669696,\n",
       " 0.9971807427797739,\n",
       " 0.9984806947092334,\n",
       " 0.9992079148676796,\n",
       " 0.9996269594064087]"
      ]
     },
     "execution_count": 100,
     "metadata": {},
     "output_type": "execute_result"
    }
   ],
   "source": [
    "explained_list"
   ]
  },
  {
   "cell_type": "code",
   "execution_count": 102,
   "id": "a3796e53-01f8-403d-8738-5c96fb7e7d0d",
   "metadata": {},
   "outputs": [
    {
     "data": {
      "application/vnd.plotly.v1+json": {
       "config": {
        "plotlyServerURL": "https://plot.ly"
       },
       "data": [
        {
         "alignmentgroup": "True",
         "hovertemplate": "x=%{x}<br>y=%{y}<extra></extra>",
         "legendgroup": "",
         "marker": {
          "color": "#636efa",
          "pattern": {
           "shape": ""
          }
         },
         "name": "",
         "offsetgroup": "",
         "orientation": "v",
         "showlegend": false,
         "textposition": "auto",
         "type": "bar",
         "x": [
          2,
          3,
          4,
          5,
          6,
          7
         ],
         "xaxis": "x",
         "y": [
          0.9688751429772741,
          0.9902237521669696,
          0.9971807427797739,
          0.9984806947092334,
          0.9992079148676796,
          0.9996269594064087
         ],
         "yaxis": "y"
        }
       ],
       "layout": {
        "autosize": true,
        "barmode": "relative",
        "legend": {
         "tracegroupgap": 0
        },
        "margin": {
         "t": 60
        },
        "template": {
         "data": {
          "bar": [
           {
            "error_x": {
             "color": "#2a3f5f"
            },
            "error_y": {
             "color": "#2a3f5f"
            },
            "marker": {
             "line": {
              "color": "#E5ECF6",
              "width": 0.5
             },
             "pattern": {
              "fillmode": "overlay",
              "size": 10,
              "solidity": 0.2
             }
            },
            "type": "bar"
           }
          ],
          "barpolar": [
           {
            "marker": {
             "line": {
              "color": "#E5ECF6",
              "width": 0.5
             },
             "pattern": {
              "fillmode": "overlay",
              "size": 10,
              "solidity": 0.2
             }
            },
            "type": "barpolar"
           }
          ],
          "carpet": [
           {
            "aaxis": {
             "endlinecolor": "#2a3f5f",
             "gridcolor": "white",
             "linecolor": "white",
             "minorgridcolor": "white",
             "startlinecolor": "#2a3f5f"
            },
            "baxis": {
             "endlinecolor": "#2a3f5f",
             "gridcolor": "white",
             "linecolor": "white",
             "minorgridcolor": "white",
             "startlinecolor": "#2a3f5f"
            },
            "type": "carpet"
           }
          ],
          "choropleth": [
           {
            "colorbar": {
             "outlinewidth": 0,
             "ticks": ""
            },
            "type": "choropleth"
           }
          ],
          "contour": [
           {
            "colorbar": {
             "outlinewidth": 0,
             "ticks": ""
            },
            "colorscale": [
             [
              0,
              "#0d0887"
             ],
             [
              0.1111111111111111,
              "#46039f"
             ],
             [
              0.2222222222222222,
              "#7201a8"
             ],
             [
              0.3333333333333333,
              "#9c179e"
             ],
             [
              0.4444444444444444,
              "#bd3786"
             ],
             [
              0.5555555555555556,
              "#d8576b"
             ],
             [
              0.6666666666666666,
              "#ed7953"
             ],
             [
              0.7777777777777778,
              "#fb9f3a"
             ],
             [
              0.8888888888888888,
              "#fdca26"
             ],
             [
              1,
              "#f0f921"
             ]
            ],
            "type": "contour"
           }
          ],
          "contourcarpet": [
           {
            "colorbar": {
             "outlinewidth": 0,
             "ticks": ""
            },
            "type": "contourcarpet"
           }
          ],
          "heatmap": [
           {
            "colorbar": {
             "outlinewidth": 0,
             "ticks": ""
            },
            "colorscale": [
             [
              0,
              "#0d0887"
             ],
             [
              0.1111111111111111,
              "#46039f"
             ],
             [
              0.2222222222222222,
              "#7201a8"
             ],
             [
              0.3333333333333333,
              "#9c179e"
             ],
             [
              0.4444444444444444,
              "#bd3786"
             ],
             [
              0.5555555555555556,
              "#d8576b"
             ],
             [
              0.6666666666666666,
              "#ed7953"
             ],
             [
              0.7777777777777778,
              "#fb9f3a"
             ],
             [
              0.8888888888888888,
              "#fdca26"
             ],
             [
              1,
              "#f0f921"
             ]
            ],
            "type": "heatmap"
           }
          ],
          "heatmapgl": [
           {
            "colorbar": {
             "outlinewidth": 0,
             "ticks": ""
            },
            "colorscale": [
             [
              0,
              "#0d0887"
             ],
             [
              0.1111111111111111,
              "#46039f"
             ],
             [
              0.2222222222222222,
              "#7201a8"
             ],
             [
              0.3333333333333333,
              "#9c179e"
             ],
             [
              0.4444444444444444,
              "#bd3786"
             ],
             [
              0.5555555555555556,
              "#d8576b"
             ],
             [
              0.6666666666666666,
              "#ed7953"
             ],
             [
              0.7777777777777778,
              "#fb9f3a"
             ],
             [
              0.8888888888888888,
              "#fdca26"
             ],
             [
              1,
              "#f0f921"
             ]
            ],
            "type": "heatmapgl"
           }
          ],
          "histogram": [
           {
            "marker": {
             "pattern": {
              "fillmode": "overlay",
              "size": 10,
              "solidity": 0.2
             }
            },
            "type": "histogram"
           }
          ],
          "histogram2d": [
           {
            "colorbar": {
             "outlinewidth": 0,
             "ticks": ""
            },
            "colorscale": [
             [
              0,
              "#0d0887"
             ],
             [
              0.1111111111111111,
              "#46039f"
             ],
             [
              0.2222222222222222,
              "#7201a8"
             ],
             [
              0.3333333333333333,
              "#9c179e"
             ],
             [
              0.4444444444444444,
              "#bd3786"
             ],
             [
              0.5555555555555556,
              "#d8576b"
             ],
             [
              0.6666666666666666,
              "#ed7953"
             ],
             [
              0.7777777777777778,
              "#fb9f3a"
             ],
             [
              0.8888888888888888,
              "#fdca26"
             ],
             [
              1,
              "#f0f921"
             ]
            ],
            "type": "histogram2d"
           }
          ],
          "histogram2dcontour": [
           {
            "colorbar": {
             "outlinewidth": 0,
             "ticks": ""
            },
            "colorscale": [
             [
              0,
              "#0d0887"
             ],
             [
              0.1111111111111111,
              "#46039f"
             ],
             [
              0.2222222222222222,
              "#7201a8"
             ],
             [
              0.3333333333333333,
              "#9c179e"
             ],
             [
              0.4444444444444444,
              "#bd3786"
             ],
             [
              0.5555555555555556,
              "#d8576b"
             ],
             [
              0.6666666666666666,
              "#ed7953"
             ],
             [
              0.7777777777777778,
              "#fb9f3a"
             ],
             [
              0.8888888888888888,
              "#fdca26"
             ],
             [
              1,
              "#f0f921"
             ]
            ],
            "type": "histogram2dcontour"
           }
          ],
          "mesh3d": [
           {
            "colorbar": {
             "outlinewidth": 0,
             "ticks": ""
            },
            "type": "mesh3d"
           }
          ],
          "parcoords": [
           {
            "line": {
             "colorbar": {
              "outlinewidth": 0,
              "ticks": ""
             }
            },
            "type": "parcoords"
           }
          ],
          "pie": [
           {
            "automargin": true,
            "type": "pie"
           }
          ],
          "scatter": [
           {
            "fillpattern": {
             "fillmode": "overlay",
             "size": 10,
             "solidity": 0.2
            },
            "type": "scatter"
           }
          ],
          "scatter3d": [
           {
            "line": {
             "colorbar": {
              "outlinewidth": 0,
              "ticks": ""
             }
            },
            "marker": {
             "colorbar": {
              "outlinewidth": 0,
              "ticks": ""
             }
            },
            "type": "scatter3d"
           }
          ],
          "scattercarpet": [
           {
            "marker": {
             "colorbar": {
              "outlinewidth": 0,
              "ticks": ""
             }
            },
            "type": "scattercarpet"
           }
          ],
          "scattergeo": [
           {
            "marker": {
             "colorbar": {
              "outlinewidth": 0,
              "ticks": ""
             }
            },
            "type": "scattergeo"
           }
          ],
          "scattergl": [
           {
            "marker": {
             "colorbar": {
              "outlinewidth": 0,
              "ticks": ""
             }
            },
            "type": "scattergl"
           }
          ],
          "scattermapbox": [
           {
            "marker": {
             "colorbar": {
              "outlinewidth": 0,
              "ticks": ""
             }
            },
            "type": "scattermapbox"
           }
          ],
          "scatterpolar": [
           {
            "marker": {
             "colorbar": {
              "outlinewidth": 0,
              "ticks": ""
             }
            },
            "type": "scatterpolar"
           }
          ],
          "scatterpolargl": [
           {
            "marker": {
             "colorbar": {
              "outlinewidth": 0,
              "ticks": ""
             }
            },
            "type": "scatterpolargl"
           }
          ],
          "scatterternary": [
           {
            "marker": {
             "colorbar": {
              "outlinewidth": 0,
              "ticks": ""
             }
            },
            "type": "scatterternary"
           }
          ],
          "surface": [
           {
            "colorbar": {
             "outlinewidth": 0,
             "ticks": ""
            },
            "colorscale": [
             [
              0,
              "#0d0887"
             ],
             [
              0.1111111111111111,
              "#46039f"
             ],
             [
              0.2222222222222222,
              "#7201a8"
             ],
             [
              0.3333333333333333,
              "#9c179e"
             ],
             [
              0.4444444444444444,
              "#bd3786"
             ],
             [
              0.5555555555555556,
              "#d8576b"
             ],
             [
              0.6666666666666666,
              "#ed7953"
             ],
             [
              0.7777777777777778,
              "#fb9f3a"
             ],
             [
              0.8888888888888888,
              "#fdca26"
             ],
             [
              1,
              "#f0f921"
             ]
            ],
            "type": "surface"
           }
          ],
          "table": [
           {
            "cells": {
             "fill": {
              "color": "#EBF0F8"
             },
             "line": {
              "color": "white"
             }
            },
            "header": {
             "fill": {
              "color": "#C8D4E3"
             },
             "line": {
              "color": "white"
             }
            },
            "type": "table"
           }
          ]
         },
         "layout": {
          "annotationdefaults": {
           "arrowcolor": "#2a3f5f",
           "arrowhead": 0,
           "arrowwidth": 1
          },
          "autotypenumbers": "strict",
          "coloraxis": {
           "colorbar": {
            "outlinewidth": 0,
            "ticks": ""
           }
          },
          "colorscale": {
           "diverging": [
            [
             0,
             "#8e0152"
            ],
            [
             0.1,
             "#c51b7d"
            ],
            [
             0.2,
             "#de77ae"
            ],
            [
             0.3,
             "#f1b6da"
            ],
            [
             0.4,
             "#fde0ef"
            ],
            [
             0.5,
             "#f7f7f7"
            ],
            [
             0.6,
             "#e6f5d0"
            ],
            [
             0.7,
             "#b8e186"
            ],
            [
             0.8,
             "#7fbc41"
            ],
            [
             0.9,
             "#4d9221"
            ],
            [
             1,
             "#276419"
            ]
           ],
           "sequential": [
            [
             0,
             "#0d0887"
            ],
            [
             0.1111111111111111,
             "#46039f"
            ],
            [
             0.2222222222222222,
             "#7201a8"
            ],
            [
             0.3333333333333333,
             "#9c179e"
            ],
            [
             0.4444444444444444,
             "#bd3786"
            ],
            [
             0.5555555555555556,
             "#d8576b"
            ],
            [
             0.6666666666666666,
             "#ed7953"
            ],
            [
             0.7777777777777778,
             "#fb9f3a"
            ],
            [
             0.8888888888888888,
             "#fdca26"
            ],
            [
             1,
             "#f0f921"
            ]
           ],
           "sequentialminus": [
            [
             0,
             "#0d0887"
            ],
            [
             0.1111111111111111,
             "#46039f"
            ],
            [
             0.2222222222222222,
             "#7201a8"
            ],
            [
             0.3333333333333333,
             "#9c179e"
            ],
            [
             0.4444444444444444,
             "#bd3786"
            ],
            [
             0.5555555555555556,
             "#d8576b"
            ],
            [
             0.6666666666666666,
             "#ed7953"
            ],
            [
             0.7777777777777778,
             "#fb9f3a"
            ],
            [
             0.8888888888888888,
             "#fdca26"
            ],
            [
             1,
             "#f0f921"
            ]
           ]
          },
          "colorway": [
           "#636efa",
           "#EF553B",
           "#00cc96",
           "#ab63fa",
           "#FFA15A",
           "#19d3f3",
           "#FF6692",
           "#B6E880",
           "#FF97FF",
           "#FECB52"
          ],
          "font": {
           "color": "#2a3f5f"
          },
          "geo": {
           "bgcolor": "white",
           "lakecolor": "white",
           "landcolor": "#E5ECF6",
           "showlakes": true,
           "showland": true,
           "subunitcolor": "white"
          },
          "hoverlabel": {
           "align": "left"
          },
          "hovermode": "closest",
          "mapbox": {
           "style": "light"
          },
          "paper_bgcolor": "white",
          "plot_bgcolor": "#E5ECF6",
          "polar": {
           "angularaxis": {
            "gridcolor": "white",
            "linecolor": "white",
            "ticks": ""
           },
           "bgcolor": "#E5ECF6",
           "radialaxis": {
            "gridcolor": "white",
            "linecolor": "white",
            "ticks": ""
           }
          },
          "scene": {
           "xaxis": {
            "backgroundcolor": "#E5ECF6",
            "gridcolor": "white",
            "gridwidth": 2,
            "linecolor": "white",
            "showbackground": true,
            "ticks": "",
            "zerolinecolor": "white"
           },
           "yaxis": {
            "backgroundcolor": "#E5ECF6",
            "gridcolor": "white",
            "gridwidth": 2,
            "linecolor": "white",
            "showbackground": true,
            "ticks": "",
            "zerolinecolor": "white"
           },
           "zaxis": {
            "backgroundcolor": "#E5ECF6",
            "gridcolor": "white",
            "gridwidth": 2,
            "linecolor": "white",
            "showbackground": true,
            "ticks": "",
            "zerolinecolor": "white"
           }
          },
          "shapedefaults": {
           "line": {
            "color": "#2a3f5f"
           }
          },
          "ternary": {
           "aaxis": {
            "gridcolor": "white",
            "linecolor": "white",
            "ticks": ""
           },
           "baxis": {
            "gridcolor": "white",
            "linecolor": "white",
            "ticks": ""
           },
           "bgcolor": "#E5ECF6",
           "caxis": {
            "gridcolor": "white",
            "linecolor": "white",
            "ticks": ""
           }
          },
          "title": {
           "x": 0.05
          },
          "xaxis": {
           "automargin": true,
           "gridcolor": "white",
           "linecolor": "white",
           "ticks": "",
           "title": {
            "standoff": 15
           },
           "zerolinecolor": "white",
           "zerolinewidth": 2
          },
          "yaxis": {
           "automargin": true,
           "gridcolor": "white",
           "linecolor": "white",
           "ticks": "",
           "title": {
            "standoff": 15
           },
           "zerolinecolor": "white",
           "zerolinewidth": 2
          }
         }
        },
        "xaxis": {
         "anchor": "y",
         "autorange": true,
         "domain": [
          0,
          1
         ],
         "range": [
          1.5,
          7.5
         ],
         "title": {
          "text": "x"
         },
         "type": "linear"
        },
        "yaxis": {
         "anchor": "x",
         "autorange": true,
         "domain": [
          0,
          1
         ],
         "range": [
          -0.01448608303162242,
          0.0005918573207228132
         ],
         "title": {
          "text": "y"
         },
         "type": "log"
        }
       }
      },
      "image/png": "[encoded data removed]",
      "text/html": [
       "<div>                            <div id=\"da473430-734c-4d69-8e11-399b8bac857d\" class=\"plotly-graph-div\" style=\"height:525px; width:100%;\"></div>            <script type=\"text/javascript\">                require([\"plotly\"], function(Plotly) {                    window.PLOTLYENV=window.PLOTLYENV || {};                                    if (document.getElementById(\"da473430-734c-4d69-8e11-399b8bac857d\")) {                    Plotly.newPlot(                        \"da473430-734c-4d69-8e11-399b8bac857d\",                        [{\"alignmentgroup\":\"True\",\"hovertemplate\":\"x=%{x}\\u003cbr\\u003ey=%{y}\\u003cextra\\u003e\\u003c\\u002fextra\\u003e\",\"legendgroup\":\"\",\"marker\":{\"color\":\"#636efa\",\"pattern\":{\"shape\":\"\"}},\"name\":\"\",\"offsetgroup\":\"\",\"orientation\":\"v\",\"showlegend\":false,\"textposition\":\"auto\",\"x\":[2,3,4,5,6,7],\"xaxis\":\"x\",\"y\":[0.9688751429772741,0.9902237521669696,0.9971807427797739,0.9984806947092334,0.9992079148676796,0.9996269594064087],\"yaxis\":\"y\",\"type\":\"bar\"}],                        {\"template\":{\"data\":{\"histogram2dcontour\":[{\"type\":\"histogram2dcontour\",\"colorbar\":{\"outlinewidth\":0,\"ticks\":\"\"},\"colorscale\":[[0.0,\"#0d0887\"],[0.1111111111111111,\"#46039f\"],[0.2222222222222222,\"#7201a8\"],[0.3333333333333333,\"#9c179e\"],[0.4444444444444444,\"#bd3786\"],[0.5555555555555556,\"#d8576b\"],[0.6666666666666666,\"#ed7953\"],[0.7777777777777778,\"#fb9f3a\"],[0.8888888888888888,\"#fdca26\"],[1.0,\"#f0f921\"]]}],\"choropleth\":[{\"type\":\"choropleth\",\"colorbar\":{\"outlinewidth\":0,\"ticks\":\"\"}}],\"histogram2d\":[{\"type\":\"histogram2d\",\"colorbar\":{\"outlinewidth\":0,\"ticks\":\"\"},\"colorscale\":[[0.0,\"#0d0887\"],[0.1111111111111111,\"#46039f\"],[0.2222222222222222,\"#7201a8\"],[0.3333333333333333,\"#9c179e\"],[0.4444444444444444,\"#bd3786\"],[0.5555555555555556,\"#d8576b\"],[0.6666666666666666,\"#ed7953\"],[0.7777777777777778,\"#fb9f3a\"],[0.8888888888888888,\"#fdca26\"],[1.0,\"#f0f921\"]]}],\"heatmap\":[{\"type\":\"heatmap\",\"colorbar\":{\"outlinewidth\":0,\"ticks\":\"\"},\"colorscale\":[[0.0,\"#0d0887\"],[0.1111111111111111,\"#46039f\"],[0.2222222222222222,\"#7201a8\"],[0.3333333333333333,\"#9c179e\"],[0.4444444444444444,\"#bd3786\"],[0.5555555555555556,\"#d8576b\"],[0.6666666666666666,\"#ed7953\"],[0.7777777777777778,\"#fb9f3a\"],[0.8888888888888888,\"#fdca26\"],[1.0,\"#f0f921\"]]}],\"heatmapgl\":[{\"type\":\"heatmapgl\",\"colorbar\":{\"outlinewidth\":0,\"ticks\":\"\"},\"colorscale\":[[0.0,\"#0d0887\"],[0.1111111111111111,\"#46039f\"],[0.2222222222222222,\"#7201a8\"],[0.3333333333333333,\"#9c179e\"],[0.4444444444444444,\"#bd3786\"],[0.5555555555555556,\"#d8576b\"],[0.6666666666666666,\"#ed7953\"],[0.7777777777777778,\"#fb9f3a\"],[0.8888888888888888,\"#fdca26\"],[1.0,\"#f0f921\"]]}],\"contourcarpet\":[{\"type\":\"contourcarpet\",\"colorbar\":{\"outlinewidth\":0,\"ticks\":\"\"}}],\"contour\":[{\"type\":\"contour\",\"colorbar\":{\"outlinewidth\":0,\"ticks\":\"\"},\"colorscale\":[[0.0,\"#0d0887\"],[0.1111111111111111,\"#46039f\"],[0.2222222222222222,\"#7201a8\"],[0.3333333333333333,\"#9c179e\"],[0.4444444444444444,\"#bd3786\"],[0.5555555555555556,\"#d8576b\"],[0.6666666666666666,\"#ed7953\"],[0.7777777777777778,\"#fb9f3a\"],[0.8888888888888888,\"#fdca26\"],[1.0,\"#f0f921\"]]}],\"surface\":[{\"type\":\"surface\",\"colorbar\":{\"outlinewidth\":0,\"ticks\":\"\"},\"colorscale\":[[0.0,\"#0d0887\"],[0.1111111111111111,\"#46039f\"],[0.2222222222222222,\"#7201a8\"],[0.3333333333333333,\"#9c179e\"],[0.4444444444444444,\"#bd3786\"],[0.5555555555555556,\"#d8576b\"],[0.6666666666666666,\"#ed7953\"],[0.7777777777777778,\"#fb9f3a\"],[0.8888888888888888,\"#fdca26\"],[1.0,\"#f0f921\"]]}],\"mesh3d\":[{\"type\":\"mesh3d\",\"colorbar\":{\"outlinewidth\":0,\"ticks\":\"\"}}],\"scatter\":[{\"fillpattern\":{\"fillmode\":\"overlay\",\"size\":10,\"solidity\":0.2},\"type\":\"scatter\"}],\"parcoords\":[{\"type\":\"parcoords\",\"line\":{\"colorbar\":{\"outlinewidth\":0,\"ticks\":\"\"}}}],\"scatterpolargl\":[{\"type\":\"scatterpolargl\",\"marker\":{\"colorbar\":{\"outlinewidth\":0,\"ticks\":\"\"}}}],\"bar\":[{\"error_x\":{\"color\":\"#2a3f5f\"},\"error_y\":{\"color\":\"#2a3f5f\"},\"marker\":{\"line\":{\"color\":\"#E5ECF6\",\"width\":0.5},\"pattern\":{\"fillmode\":\"overlay\",\"size\":10,\"solidity\":0.2}},\"type\":\"bar\"}],\"scattergeo\":[{\"type\":\"scattergeo\",\"marker\":{\"colorbar\":{\"outlinewidth\":0,\"ticks\":\"\"}}}],\"scatterpolar\":[{\"type\":\"scatterpolar\",\"marker\":{\"colorbar\":{\"outlinewidth\":0,\"ticks\":\"\"}}}],\"histogram\":[{\"marker\":{\"pattern\":{\"fillmode\":\"overlay\",\"size\":10,\"solidity\":0.2}},\"type\":\"histogram\"}],\"scattergl\":[{\"type\":\"scattergl\",\"marker\":{\"colorbar\":{\"outlinewidth\":0,\"ticks\":\"\"}}}],\"scatter3d\":[{\"type\":\"scatter3d\",\"line\":{\"colorbar\":{\"outlinewidth\":0,\"ticks\":\"\"}},\"marker\":{\"colorbar\":{\"outlinewidth\":0,\"ticks\":\"\"}}}],\"scattermapbox\":[{\"type\":\"scattermapbox\",\"marker\":{\"colorbar\":{\"outlinewidth\":0,\"ticks\":\"\"}}}],\"scatterternary\":[{\"type\":\"scatterternary\",\"marker\":{\"colorbar\":{\"outlinewidth\":0,\"ticks\":\"\"}}}],\"scattercarpet\":[{\"type\":\"scattercarpet\",\"marker\":{\"colorbar\":{\"outlinewidth\":0,\"ticks\":\"\"}}}],\"carpet\":[{\"aaxis\":{\"endlinecolor\":\"#2a3f5f\",\"gridcolor\":\"white\",\"linecolor\":\"white\",\"minorgridcolor\":\"white\",\"startlinecolor\":\"#2a3f5f\"},\"baxis\":{\"endlinecolor\":\"#2a3f5f\",\"gridcolor\":\"white\",\"linecolor\":\"white\",\"minorgridcolor\":\"white\",\"startlinecolor\":\"#2a3f5f\"},\"type\":\"carpet\"}],\"table\":[{\"cells\":{\"fill\":{\"color\":\"#EBF0F8\"},\"line\":{\"color\":\"white\"}},\"header\":{\"fill\":{\"color\":\"#C8D4E3\"},\"line\":{\"color\":\"white\"}},\"type\":\"table\"}],\"barpolar\":[{\"marker\":{\"line\":{\"color\":\"#E5ECF6\",\"width\":0.5},\"pattern\":{\"fillmode\":\"overlay\",\"size\":10,\"solidity\":0.2}},\"type\":\"barpolar\"}],\"pie\":[{\"automargin\":true,\"type\":\"pie\"}]},\"layout\":{\"autotypenumbers\":\"strict\",\"colorway\":[\"#636efa\",\"#EF553B\",\"#00cc96\",\"#ab63fa\",\"#FFA15A\",\"#19d3f3\",\"#FF6692\",\"#B6E880\",\"#FF97FF\",\"#FECB52\"],\"font\":{\"color\":\"#2a3f5f\"},\"hovermode\":\"closest\",\"hoverlabel\":{\"align\":\"left\"},\"paper_bgcolor\":\"white\",\"plot_bgcolor\":\"#E5ECF6\",\"polar\":{\"bgcolor\":\"#E5ECF6\",\"angularaxis\":{\"gridcolor\":\"white\",\"linecolor\":\"white\",\"ticks\":\"\"},\"radialaxis\":{\"gridcolor\":\"white\",\"linecolor\":\"white\",\"ticks\":\"\"}},\"ternary\":{\"bgcolor\":\"#E5ECF6\",\"aaxis\":{\"gridcolor\":\"white\",\"linecolor\":\"white\",\"ticks\":\"\"},\"baxis\":{\"gridcolor\":\"white\",\"linecolor\":\"white\",\"ticks\":\"\"},\"caxis\":{\"gridcolor\":\"white\",\"linecolor\":\"white\",\"ticks\":\"\"}},\"coloraxis\":{\"colorbar\":{\"outlinewidth\":0,\"ticks\":\"\"}},\"colorscale\":{\"sequential\":[[0.0,\"#0d0887\"],[0.1111111111111111,\"#46039f\"],[0.2222222222222222,\"#7201a8\"],[0.3333333333333333,\"#9c179e\"],[0.4444444444444444,\"#bd3786\"],[0.5555555555555556,\"#d8576b\"],[0.6666666666666666,\"#ed7953\"],[0.7777777777777778,\"#fb9f3a\"],[0.8888888888888888,\"#fdca26\"],[1.0,\"#f0f921\"]],\"sequentialminus\":[[0.0,\"#0d0887\"],[0.1111111111111111,\"#46039f\"],[0.2222222222222222,\"#7201a8\"],[0.3333333333333333,\"#9c179e\"],[0.4444444444444444,\"#bd3786\"],[0.5555555555555556,\"#d8576b\"],[0.6666666666666666,\"#ed7953\"],[0.7777777777777778,\"#fb9f3a\"],[0.8888888888888888,\"#fdca26\"],[1.0,\"#f0f921\"]],\"diverging\":[[0,\"#8e0152\"],[0.1,\"#c51b7d\"],[0.2,\"#de77ae\"],[0.3,\"#f1b6da\"],[0.4,\"#fde0ef\"],[0.5,\"#f7f7f7\"],[0.6,\"#e6f5d0\"],[0.7,\"#b8e186\"],[0.8,\"#7fbc41\"],[0.9,\"#4d9221\"],[1,\"#276419\"]]},\"xaxis\":{\"gridcolor\":\"white\",\"linecolor\":\"white\",\"ticks\":\"\",\"title\":{\"standoff\":15},\"zerolinecolor\":\"white\",\"automargin\":true,\"zerolinewidth\":2},\"yaxis\":{\"gridcolor\":\"white\",\"linecolor\":\"white\",\"ticks\":\"\",\"title\":{\"standoff\":15},\"zerolinecolor\":\"white\",\"automargin\":true,\"zerolinewidth\":2},\"scene\":{\"xaxis\":{\"backgroundcolor\":\"#E5ECF6\",\"gridcolor\":\"white\",\"linecolor\":\"white\",\"showbackground\":true,\"ticks\":\"\",\"zerolinecolor\":\"white\",\"gridwidth\":2},\"yaxis\":{\"backgroundcolor\":\"#E5ECF6\",\"gridcolor\":\"white\",\"linecolor\":\"white\",\"showbackground\":true,\"ticks\":\"\",\"zerolinecolor\":\"white\",\"gridwidth\":2},\"zaxis\":{\"backgroundcolor\":\"#E5ECF6\",\"gridcolor\":\"white\",\"linecolor\":\"white\",\"showbackground\":true,\"ticks\":\"\",\"zerolinecolor\":\"white\",\"gridwidth\":2}},\"shapedefaults\":{\"line\":{\"color\":\"#2a3f5f\"}},\"annotationdefaults\":{\"arrowcolor\":\"#2a3f5f\",\"arrowhead\":0,\"arrowwidth\":1},\"geo\":{\"bgcolor\":\"white\",\"landcolor\":\"#E5ECF6\",\"subunitcolor\":\"white\",\"showland\":true,\"showlakes\":true,\"lakecolor\":\"white\"},\"title\":{\"x\":0.05},\"mapbox\":{\"style\":\"light\"}}},\"xaxis\":{\"anchor\":\"y\",\"domain\":[0.0,1.0],\"title\":{\"text\":\"x\"}},\"yaxis\":{\"anchor\":\"x\",\"domain\":[0.0,1.0],\"title\":{\"text\":\"y\"},\"type\":\"log\"},\"legend\":{\"tracegroupgap\":0},\"margin\":{\"t\":60},\"barmode\":\"relative\"},                        {\"responsive\": true}                    ).then(function(){\n",
       "                            \n",
       "var gd = document.getElementById('da473430-734c-4d69-8e11-399b8bac857d');\n",
       "var x = new MutationObserver(function (mutations, observer) {{\n",
       "        var display = window.getComputedStyle(gd).display;\n",
       "        if (!display || display === 'none') {{\n",
       "            console.log([gd, 'removed!']);\n",
       "            Plotly.purge(gd);\n",
       "            observer.disconnect();\n",
       "        }}\n",
       "}});\n",
       "\n",
       "// Listen for the removal of the full notebook cells\n",
       "var notebookContainer = gd.closest('#notebook-container');\n",
       "if (notebookContainer) {{\n",
       "    x.observe(notebookContainer, {childList: true});\n",
       "}}\n",
       "\n",
       "// Listen for the clearing of the current output cell\n",
       "var outputEl = gd.closest('.output');\n",
       "if (outputEl) {{\n",
       "    x.observe(outputEl, {childList: true});\n",
       "}}\n",
       "\n",
       "                        })                };                });            </script>        </div>"
      ]
     },
     "metadata": {},
     "output_type": "display_data"
    }
   ],
   "source": [
    "plottwo = px.bar(x = [2,3,4,5,6,7],\n",
    "                 y = explained_list,\n",
    "                log_y=True)\n",
    "plottwo.show()"
   ]
  },
  {
   "cell_type": "code",
   "execution_count": 104,
   "id": "ae2c2c2a-efa8-4314-9016-e98d7315aea4",
   "metadata": {},
   "outputs": [],
   "source": [
    "#Homework"
   ]
  },
  {
   "cell_type": "code",
   "execution_count": 106,
   "id": "4e81b939-3d6e-461a-8a1a-842b3779e2a4",
   "metadata": {},
   "outputs": [
    {
     "name": "stdout",
     "output_type": "stream",
     "text": [
      "<class 'pandas.core.frame.DataFrame'>\n",
      "RangeIndex: 506 entries, 0 to 505\n",
      "Data columns (total 13 columns):\n",
      " #   Column   Non-Null Count  Dtype  \n",
      "---  ------   --------------  -----  \n",
      " 0   crim     506 non-null    float64\n",
      " 1   zn       506 non-null    float64\n",
      " 2   indus    506 non-null    float64\n",
      " 3   chas     506 non-null    int64  \n",
      " 4   nox      506 non-null    float64\n",
      " 5   rm       506 non-null    float64\n",
      " 6   age      506 non-null    float64\n",
      " 7   dis      506 non-null    float64\n",
      " 8   rad      506 non-null    int64  \n",
      " 9   tax      506 non-null    int64  \n",
      " 10  ptratio  506 non-null    float64\n",
      " 11  b        506 non-null    float64\n",
      " 12  lstat    506 non-null    float64\n",
      "dtypes: float64(10), int64(3)\n",
      "memory usage: 51.5 KB\n"
     ]
    }
   ],
   "source": [
    "Y.info()"
   ]
  },
  {
   "cell_type": "code",
   "execution_count": 123,
   "id": "2b917f8f-6eca-45fe-a30c-2dce2064236a",
   "metadata": {},
   "outputs": [],
   "source": [
    "kmeans = KMeans(n_clusters = 6).fit(Y)"
   ]
  },
  {
   "cell_type": "code",
   "execution_count": 125,
   "id": "8baf09bf-1a32-40c2-8382-596abd6714a7",
   "metadata": {},
   "outputs": [
    {
     "data": {
      "text/plain": [
       "array([0, 5, 5, 5, 5, 5, 0, 0, 0, 0, 0, 0, 0, 0, 0, 0, 0, 0, 0, 0, 0, 0,\n",
       "       0, 0, 0, 0, 0, 0, 0, 0, 0, 0, 4, 0, 4, 0, 0, 0, 0, 5, 5, 5, 5, 5,\n",
       "       5, 5, 5, 5, 5, 5, 5, 5, 5, 5, 2, 5, 0, 5, 0, 0, 0, 0, 0, 0, 5, 0,\n",
       "       0, 0, 0, 0, 0, 0, 0, 0, 2, 2, 2, 2, 2, 2, 0, 0, 0, 0, 5, 5, 5, 5,\n",
       "       0, 0, 0, 0, 0, 0, 0, 0, 0, 0, 0, 0, 2, 2, 4, 2, 2, 2, 2, 2, 2, 2,\n",
       "       2, 2, 2, 2, 2, 2, 2, 2, 2, 2, 5, 5, 5, 5, 5, 5, 5, 2, 2, 2, 2, 2,\n",
       "       2, 2, 4, 2, 2, 2, 2, 2, 2, 2, 2, 2, 2, 4, 4, 2, 2, 2, 2, 2, 2, 4,\n",
       "       2, 4, 4, 2, 2, 2, 2, 2, 2, 2, 2, 4, 2, 4, 2, 2, 2, 2, 0, 0, 0, 0,\n",
       "       0, 0, 0, 5, 5, 5, 5, 5, 5, 5, 5, 2, 2, 2, 2, 2, 2, 5, 5, 5, 0, 0,\n",
       "       0, 2, 2, 0, 0, 5, 5, 0, 0, 0, 0, 0, 0, 0, 0, 0, 0, 0, 0, 0, 0, 0,\n",
       "       0, 0, 0, 0, 0, 0, 0, 0, 0, 0, 0, 0, 0, 0, 0, 0, 0, 0, 0, 0, 0, 0,\n",
       "       0, 0, 0, 0, 0, 0, 0, 0, 0, 0, 0, 0, 0, 0, 5, 0, 0, 0, 0, 0, 0, 0,\n",
       "       0, 0, 0, 0, 0, 5, 5, 5, 5, 5, 5, 5, 5, 5, 5, 5, 5, 5, 5, 5, 0, 0,\n",
       "       5, 0, 0, 0, 5, 5, 5, 0, 0, 0, 0, 0, 0, 0, 0, 0, 0, 0, 5, 5, 5, 5,\n",
       "       0, 0, 0, 0, 0, 0, 0, 0, 0, 0, 0, 0, 0, 0, 0, 0, 0, 0, 0, 0, 2, 2,\n",
       "       2, 0, 0, 5, 5, 5, 5, 5, 5, 5, 5, 0, 2, 2, 2, 0, 0, 0, 0, 0, 0, 2,\n",
       "       2, 5, 0, 0, 1, 1, 1, 1, 1, 1, 1, 1, 1, 1, 1, 3, 1, 1, 1, 1, 1, 1,\n",
       "       1, 1, 1, 1, 1, 1, 1, 1, 1, 1, 1, 1, 1, 1, 1, 1, 1, 1, 1, 1, 1, 1,\n",
       "       1, 1, 1, 1, 1, 1, 1, 1, 1, 1, 1, 1, 1, 3, 3, 3, 3, 1, 3, 3, 3, 3,\n",
       "       3, 3, 1, 1, 1, 3, 3, 3, 3, 3, 3, 3, 3, 3, 3, 3, 3, 3, 3, 3, 3, 1,\n",
       "       1, 1, 1, 1, 1, 3, 1, 1, 1, 1, 3, 1, 1, 1, 3, 3, 3, 3, 1, 1, 1, 1,\n",
       "       1, 1, 1, 1, 3, 1, 1, 1, 1, 1, 1, 1, 1, 1, 1, 1, 1, 1, 1, 1, 1, 1,\n",
       "       1, 1, 1, 1, 1, 1, 1, 1, 1, 2, 2, 2, 2, 2, 2, 2, 2, 0, 0, 0, 0, 0],\n",
       "      dtype=int32)"
      ]
     },
     "execution_count": 125,
     "metadata": {},
     "output_type": "execute_result"
    }
   ],
   "source": [
    "kmeans.labels_"
   ]
  },
  {
   "cell_type": "code",
   "execution_count": 127,
   "id": "0b7c097b-0ece-4a51-87ee-179ad2180456",
   "metadata": {},
   "outputs": [
    {
     "data": {
      "text/html": [
       "<div>\n",
       "<style scoped>\n",
       "    .dataframe tbody tr th:only-of-type {\n",
       "        vertical-align: middle;\n",
       "    }\n",
       "\n",
       "    .dataframe tbody tr th {\n",
       "        vertical-align: top;\n",
       "    }\n",
       "\n",
       "    .dataframe thead th {\n",
       "        text-align: right;\n",
       "    }\n",
       "</style>\n",
       "<table border=\"1\" class=\"dataframe\">\n",
       "  <thead>\n",
       "    <tr style=\"text-align: right;\">\n",
       "      <th></th>\n",
       "      <th>crim</th>\n",
       "      <th>zn</th>\n",
       "      <th>indus</th>\n",
       "      <th>chas</th>\n",
       "      <th>nox</th>\n",
       "      <th>rm</th>\n",
       "      <th>age</th>\n",
       "      <th>dis</th>\n",
       "      <th>rad</th>\n",
       "      <th>tax</th>\n",
       "      <th>ptratio</th>\n",
       "      <th>b</th>\n",
       "      <th>lstat</th>\n",
       "      <th>cluster_1_labels</th>\n",
       "    </tr>\n",
       "  </thead>\n",
       "  <tbody>\n",
       "    <tr>\n",
       "      <th>crim</th>\n",
       "      <td>1.000000</td>\n",
       "      <td>-0.200469</td>\n",
       "      <td>0.406583</td>\n",
       "      <td>-0.055892</td>\n",
       "      <td>0.420972</td>\n",
       "      <td>-0.219247</td>\n",
       "      <td>0.352734</td>\n",
       "      <td>-0.379670</td>\n",
       "      <td>0.625505</td>\n",
       "      <td>0.582764</td>\n",
       "      <td>0.289946</td>\n",
       "      <td>-0.385064</td>\n",
       "      <td>0.455621</td>\n",
       "      <td>0.615888</td>\n",
       "    </tr>\n",
       "    <tr>\n",
       "      <th>zn</th>\n",
       "      <td>-0.200469</td>\n",
       "      <td>1.000000</td>\n",
       "      <td>-0.533828</td>\n",
       "      <td>-0.042697</td>\n",
       "      <td>-0.516604</td>\n",
       "      <td>0.311991</td>\n",
       "      <td>-0.569537</td>\n",
       "      <td>0.664408</td>\n",
       "      <td>-0.311948</td>\n",
       "      <td>-0.314563</td>\n",
       "      <td>-0.391679</td>\n",
       "      <td>0.175520</td>\n",
       "      <td>-0.412995</td>\n",
       "      <td>-0.297180</td>\n",
       "    </tr>\n",
       "    <tr>\n",
       "      <th>indus</th>\n",
       "      <td>0.406583</td>\n",
       "      <td>-0.533828</td>\n",
       "      <td>1.000000</td>\n",
       "      <td>0.062938</td>\n",
       "      <td>0.763651</td>\n",
       "      <td>-0.391676</td>\n",
       "      <td>0.644779</td>\n",
       "      <td>-0.708027</td>\n",
       "      <td>0.595129</td>\n",
       "      <td>0.720760</td>\n",
       "      <td>0.383248</td>\n",
       "      <td>-0.356977</td>\n",
       "      <td>0.603800</td>\n",
       "      <td>0.650350</td>\n",
       "    </tr>\n",
       "    <tr>\n",
       "      <th>chas</th>\n",
       "      <td>-0.055892</td>\n",
       "      <td>-0.042697</td>\n",
       "      <td>0.062938</td>\n",
       "      <td>1.000000</td>\n",
       "      <td>0.091203</td>\n",
       "      <td>0.091251</td>\n",
       "      <td>0.086518</td>\n",
       "      <td>-0.099176</td>\n",
       "      <td>-0.007368</td>\n",
       "      <td>-0.035587</td>\n",
       "      <td>-0.121515</td>\n",
       "      <td>0.048788</td>\n",
       "      <td>-0.053929</td>\n",
       "      <td>-0.025876</td>\n",
       "    </tr>\n",
       "    <tr>\n",
       "      <th>nox</th>\n",
       "      <td>0.420972</td>\n",
       "      <td>-0.516604</td>\n",
       "      <td>0.763651</td>\n",
       "      <td>0.091203</td>\n",
       "      <td>1.000000</td>\n",
       "      <td>-0.302188</td>\n",
       "      <td>0.731470</td>\n",
       "      <td>-0.769230</td>\n",
       "      <td>0.611441</td>\n",
       "      <td>0.668023</td>\n",
       "      <td>0.188933</td>\n",
       "      <td>-0.380051</td>\n",
       "      <td>0.590879</td>\n",
       "      <td>0.607449</td>\n",
       "    </tr>\n",
       "    <tr>\n",
       "      <th>rm</th>\n",
       "      <td>-0.219247</td>\n",
       "      <td>0.311991</td>\n",
       "      <td>-0.391676</td>\n",
       "      <td>0.091251</td>\n",
       "      <td>-0.302188</td>\n",
       "      <td>1.000000</td>\n",
       "      <td>-0.240265</td>\n",
       "      <td>0.205246</td>\n",
       "      <td>-0.209847</td>\n",
       "      <td>-0.292048</td>\n",
       "      <td>-0.355501</td>\n",
       "      <td>0.128069</td>\n",
       "      <td>-0.613808</td>\n",
       "      <td>-0.241692</td>\n",
       "    </tr>\n",
       "    <tr>\n",
       "      <th>age</th>\n",
       "      <td>0.352734</td>\n",
       "      <td>-0.569537</td>\n",
       "      <td>0.644779</td>\n",
       "      <td>0.086518</td>\n",
       "      <td>0.731470</td>\n",
       "      <td>-0.240265</td>\n",
       "      <td>1.000000</td>\n",
       "      <td>-0.747881</td>\n",
       "      <td>0.456022</td>\n",
       "      <td>0.506456</td>\n",
       "      <td>0.261515</td>\n",
       "      <td>-0.273534</td>\n",
       "      <td>0.602339</td>\n",
       "      <td>0.463540</td>\n",
       "    </tr>\n",
       "    <tr>\n",
       "      <th>dis</th>\n",
       "      <td>-0.379670</td>\n",
       "      <td>0.664408</td>\n",
       "      <td>-0.708027</td>\n",
       "      <td>-0.099176</td>\n",
       "      <td>-0.769230</td>\n",
       "      <td>0.205246</td>\n",
       "      <td>-0.747881</td>\n",
       "      <td>1.000000</td>\n",
       "      <td>-0.494588</td>\n",
       "      <td>-0.534432</td>\n",
       "      <td>-0.232471</td>\n",
       "      <td>0.291512</td>\n",
       "      <td>-0.496996</td>\n",
       "      <td>-0.504162</td>\n",
       "    </tr>\n",
       "    <tr>\n",
       "      <th>rad</th>\n",
       "      <td>0.625505</td>\n",
       "      <td>-0.311948</td>\n",
       "      <td>0.595129</td>\n",
       "      <td>-0.007368</td>\n",
       "      <td>0.611441</td>\n",
       "      <td>-0.209847</td>\n",
       "      <td>0.456022</td>\n",
       "      <td>-0.494588</td>\n",
       "      <td>1.000000</td>\n",
       "      <td>0.910228</td>\n",
       "      <td>0.464741</td>\n",
       "      <td>-0.444413</td>\n",
       "      <td>0.488676</td>\n",
       "      <td>0.961104</td>\n",
       "    </tr>\n",
       "    <tr>\n",
       "      <th>tax</th>\n",
       "      <td>0.582764</td>\n",
       "      <td>-0.314563</td>\n",
       "      <td>0.720760</td>\n",
       "      <td>-0.035587</td>\n",
       "      <td>0.668023</td>\n",
       "      <td>-0.292048</td>\n",
       "      <td>0.506456</td>\n",
       "      <td>-0.534432</td>\n",
       "      <td>0.910228</td>\n",
       "      <td>1.000000</td>\n",
       "      <td>0.460853</td>\n",
       "      <td>-0.441808</td>\n",
       "      <td>0.543993</td>\n",
       "      <td>0.938771</td>\n",
       "    </tr>\n",
       "    <tr>\n",
       "      <th>ptratio</th>\n",
       "      <td>0.289946</td>\n",
       "      <td>-0.391679</td>\n",
       "      <td>0.383248</td>\n",
       "      <td>-0.121515</td>\n",
       "      <td>0.188933</td>\n",
       "      <td>-0.355501</td>\n",
       "      <td>0.261515</td>\n",
       "      <td>-0.232471</td>\n",
       "      <td>0.464741</td>\n",
       "      <td>0.460853</td>\n",
       "      <td>1.000000</td>\n",
       "      <td>-0.177383</td>\n",
       "      <td>0.374044</td>\n",
       "      <td>0.490436</td>\n",
       "    </tr>\n",
       "    <tr>\n",
       "      <th>b</th>\n",
       "      <td>-0.385064</td>\n",
       "      <td>0.175520</td>\n",
       "      <td>-0.356977</td>\n",
       "      <td>0.048788</td>\n",
       "      <td>-0.380051</td>\n",
       "      <td>0.128069</td>\n",
       "      <td>-0.273534</td>\n",
       "      <td>0.291512</td>\n",
       "      <td>-0.444413</td>\n",
       "      <td>-0.441808</td>\n",
       "      <td>-0.177383</td>\n",
       "      <td>1.000000</td>\n",
       "      <td>-0.366087</td>\n",
       "      <td>-0.438496</td>\n",
       "    </tr>\n",
       "    <tr>\n",
       "      <th>lstat</th>\n",
       "      <td>0.455621</td>\n",
       "      <td>-0.412995</td>\n",
       "      <td>0.603800</td>\n",
       "      <td>-0.053929</td>\n",
       "      <td>0.590879</td>\n",
       "      <td>-0.613808</td>\n",
       "      <td>0.602339</td>\n",
       "      <td>-0.496996</td>\n",
       "      <td>0.488676</td>\n",
       "      <td>0.543993</td>\n",
       "      <td>0.374044</td>\n",
       "      <td>-0.366087</td>\n",
       "      <td>1.000000</td>\n",
       "      <td>0.514299</td>\n",
       "    </tr>\n",
       "    <tr>\n",
       "      <th>cluster_1_labels</th>\n",
       "      <td>0.615888</td>\n",
       "      <td>-0.297180</td>\n",
       "      <td>0.650350</td>\n",
       "      <td>-0.025876</td>\n",
       "      <td>0.607449</td>\n",
       "      <td>-0.241692</td>\n",
       "      <td>0.463540</td>\n",
       "      <td>-0.504162</td>\n",
       "      <td>0.961104</td>\n",
       "      <td>0.938771</td>\n",
       "      <td>0.490436</td>\n",
       "      <td>-0.438496</td>\n",
       "      <td>0.514299</td>\n",
       "      <td>1.000000</td>\n",
       "    </tr>\n",
       "  </tbody>\n",
       "</table>\n",
       "</div>"
      ],
      "text/plain": [
       "                      crim        zn     indus      chas       nox        rm  \\\n",
       "crim              1.000000 -0.200469  0.406583 -0.055892  0.420972 -0.219247   \n",
       "zn               -0.200469  1.000000 -0.533828 -0.042697 -0.516604  0.311991   \n",
       "indus             0.406583 -0.533828  1.000000  0.062938  0.763651 -0.391676   \n",
       "chas             -0.055892 -0.042697  0.062938  1.000000  0.091203  0.091251   \n",
       "nox               0.420972 -0.516604  0.763651  0.091203  1.000000 -0.302188   \n",
       "rm               -0.219247  0.311991 -0.391676  0.091251 -0.302188  1.000000   \n",
       "age               0.352734 -0.569537  0.644779  0.086518  0.731470 -0.240265   \n",
       "dis              -0.379670  0.664408 -0.708027 -0.099176 -0.769230  0.205246   \n",
       "rad               0.625505 -0.311948  0.595129 -0.007368  0.611441 -0.209847   \n",
       "tax               0.582764 -0.314563  0.720760 -0.035587  0.668023 -0.292048   \n",
       "ptratio           0.289946 -0.391679  0.383248 -0.121515  0.188933 -0.355501   \n",
       "b                -0.385064  0.175520 -0.356977  0.048788 -0.380051  0.128069   \n",
       "lstat             0.455621 -0.412995  0.603800 -0.053929  0.590879 -0.613808   \n",
       "cluster_1_labels  0.615888 -0.297180  0.650350 -0.025876  0.607449 -0.241692   \n",
       "\n",
       "                       age       dis       rad       tax   ptratio         b  \\\n",
       "crim              0.352734 -0.379670  0.625505  0.582764  0.289946 -0.385064   \n",
       "zn               -0.569537  0.664408 -0.311948 -0.314563 -0.391679  0.175520   \n",
       "indus             0.644779 -0.708027  0.595129  0.720760  0.383248 -0.356977   \n",
       "chas              0.086518 -0.099176 -0.007368 -0.035587 -0.121515  0.048788   \n",
       "nox               0.731470 -0.769230  0.611441  0.668023  0.188933 -0.380051   \n",
       "rm               -0.240265  0.205246 -0.209847 -0.292048 -0.355501  0.128069   \n",
       "age               1.000000 -0.747881  0.456022  0.506456  0.261515 -0.273534   \n",
       "dis              -0.747881  1.000000 -0.494588 -0.534432 -0.232471  0.291512   \n",
       "rad               0.456022 -0.494588  1.000000  0.910228  0.464741 -0.444413   \n",
       "tax               0.506456 -0.534432  0.910228  1.000000  0.460853 -0.441808   \n",
       "ptratio           0.261515 -0.232471  0.464741  0.460853  1.000000 -0.177383   \n",
       "b                -0.273534  0.291512 -0.444413 -0.441808 -0.177383  1.000000   \n",
       "lstat             0.602339 -0.496996  0.488676  0.543993  0.374044 -0.366087   \n",
       "cluster_1_labels  0.463540 -0.504162  0.961104  0.938771  0.490436 -0.438496   \n",
       "\n",
       "                     lstat  cluster_1_labels  \n",
       "crim              0.455621          0.615888  \n",
       "zn               -0.412995         -0.297180  \n",
       "indus             0.603800          0.650350  \n",
       "chas             -0.053929         -0.025876  \n",
       "nox               0.590879          0.607449  \n",
       "rm               -0.613808         -0.241692  \n",
       "age               0.602339          0.463540  \n",
       "dis              -0.496996         -0.504162  \n",
       "rad               0.488676          0.961104  \n",
       "tax               0.543993          0.938771  \n",
       "ptratio           0.374044          0.490436  \n",
       "b                -0.366087         -0.438496  \n",
       "lstat             1.000000          0.514299  \n",
       "cluster_1_labels  0.514299          1.000000  "
      ]
     },
     "execution_count": 127,
     "metadata": {},
     "output_type": "execute_result"
    }
   ],
   "source": [
    "Y.corr()"
   ]
  },
  {
   "cell_type": "raw",
   "id": "2e1ad90f-e7f4-4bb5-9733-065db2ee610b",
   "metadata": {},
   "source": [
    "Y['cluster_1_labels'] = kmeans.labels_"
   ]
  },
  {
   "cell_type": "code",
   "execution_count": 131,
   "id": "c75343a3-c925-48ff-b693-bcf250fbece7",
   "metadata": {},
   "outputs": [
    {
     "data": {
      "application/vnd.plotly.v1+json": {
       "config": {
        "plotlyServerURL": "https://plot.ly"
       },
       "data": [
        {
         "hovertemplate": "tax=%{x}<br>crim=%{y}<br>cluster_1_labels=%{marker.color}<extra></extra>",
         "legendgroup": "",
         "marker": {
          "color": [
           0,
           0,
           0,
           0,
           0,
           0,
           0,
           0,
           0,
           0,
           0,
           0,
           0,
           0,
           0,
           0,
           0,
           0,
           0,
           0,
           0,
           0,
           0,
           0,
           0,
           0,
           0,
           0,
           0,
           0,
           0,
           0,
           0,
           0,
           0,
           0,
           0,
           0,
           0,
           0,
           0,
           0,
           0,
           0,
           0,
           0,
           0,
           0,
           0,
           0,
           0,
           0,
           0,
           0,
           0,
           0,
           0,
           0,
           0,
           0,
           0,
           0,
           0,
           0,
           0,
           0,
           0,
           0,
           0,
           0,
           0,
           0,
           0,
           0,
           0,
           0,
           0,
           0,
           0,
           0,
           0,
           0,
           0,
           0,
           0,
           0,
           0,
           0,
           0,
           0,
           0,
           0,
           0,
           0,
           0,
           0,
           0,
           0,
           0,
           0,
           0,
           0,
           0,
           0,
           0,
           0,
           0,
           0,
           0,
           0,
           0,
           0,
           0,
           0,
           0,
           0,
           0,
           0,
           0,
           0,
           0,
           0,
           0,
           0,
           0,
           0,
           0,
           0,
           0,
           0,
           0,
           0,
           0,
           0,
           0,
           0,
           0,
           0,
           0,
           0,
           0,
           0,
           0,
           0,
           0,
           0,
           0,
           0,
           0,
           0,
           0,
           0,
           0,
           0,
           0,
           0,
           0,
           0,
           0,
           0,
           0,
           0,
           0,
           0,
           0,
           0,
           0,
           0,
           0,
           0,
           0,
           0,
           0,
           0,
           0,
           0,
           0,
           0,
           0,
           0,
           0,
           0,
           0,
           0,
           0,
           0,
           0,
           0,
           0,
           0,
           0,
           0,
           0,
           0,
           0,
           0,
           0,
           0,
           0,
           0,
           0,
           0,
           0,
           0,
           0,
           0,
           0,
           0,
           0,
           0,
           0,
           0,
           0,
           0,
           0,
           0,
           0,
           0,
           0,
           0,
           0,
           0,
           0,
           0,
           0,
           0,
           0,
           0,
           0,
           0,
           0,
           0,
           0,
           0,
           0,
           0,
           0,
           0,
           0,
           0,
           0,
           0,
           0,
           0,
           0,
           0,
           0,
           0,
           0,
           0,
           0,
           0,
           0,
           0,
           0,
           0,
           0,
           0,
           0,
           0,
           0,
           0,
           0,
           0,
           0,
           0,
           0,
           0,
           0,
           0,
           0,
           0,
           0,
           0,
           0,
           0,
           0,
           0,
           0,
           0,
           0,
           0,
           0,
           0,
           0,
           0,
           0,
           0,
           0,
           0,
           0,
           0,
           0,
           0,
           0,
           0,
           0,
           0,
           0,
           0,
           0,
           0,
           0,
           0,
           0,
           0,
           0,
           0,
           0,
           0,
           0,
           0,
           0,
           0,
           0,
           0,
           0,
           0,
           0,
           0,
           0,
           0,
           0,
           0,
           0,
           0,
           0,
           0,
           0,
           0,
           0,
           0,
           0,
           0,
           0,
           0,
           0,
           0,
           0,
           0,
           0,
           0,
           0,
           0,
           0,
           0,
           0,
           0,
           0,
           0,
           0,
           0,
           0,
           0,
           0,
           0,
           1,
           1,
           1,
           1,
           1,
           1,
           1,
           1,
           1,
           1,
           1,
           1,
           1,
           1,
           1,
           1,
           1,
           1,
           1,
           1,
           1,
           1,
           1,
           1,
           1,
           1,
           1,
           1,
           1,
           1,
           1,
           1,
           1,
           1,
           1,
           1,
           1,
           1,
           1,
           1,
           1,
           1,
           1,
           1,
           1,
           1,
           1,
           1,
           1,
           1,
           1,
           1,
           1,
           1,
           1,
           1,
           1,
           1,
           1,
           1,
           1,
           1,
           1,
           1,
           1,
           1,
           1,
           1,
           1,
           1,
           1,
           1,
           1,
           1,
           1,
           1,
           1,
           1,
           1,
           1,
           1,
           1,
           1,
           1,
           1,
           1,
           1,
           1,
           1,
           1,
           1,
           1,
           1,
           1,
           1,
           1,
           1,
           1,
           1,
           1,
           1,
           1,
           1,
           1,
           1,
           1,
           1,
           1,
           1,
           1,
           1,
           1,
           1,
           1,
           1,
           1,
           1,
           1,
           1,
           1,
           1,
           1,
           1,
           1,
           1,
           1,
           1,
           1,
           1,
           1,
           1,
           1,
           1,
           1,
           1,
           1,
           1,
           0,
           0,
           0,
           0,
           0,
           0,
           0,
           0,
           0,
           0,
           0,
           0,
           0
          ],
          "coloraxis": "coloraxis",
          "symbol": "circle"
         },
         "mode": "markers",
         "name": "",
         "orientation": "v",
         "showlegend": false,
         "type": "scatter",
         "x": [
          296,
          242,
          242,
          222,
          222,
          222,
          311,
          311,
          311,
          311,
          311,
          311,
          311,
          307,
          307,
          307,
          307,
          307,
          307,
          307,
          307,
          307,
          307,
          307,
          307,
          307,
          307,
          307,
          307,
          307,
          307,
          307,
          307,
          307,
          307,
          279,
          279,
          279,
          279,
          252,
          252,
          233,
          233,
          233,
          233,
          233,
          233,
          233,
          233,
          233,
          243,
          243,
          243,
          243,
          469,
          226,
          313,
          256,
          284,
          284,
          284,
          284,
          284,
          284,
          216,
          337,
          337,
          345,
          345,
          345,
          305,
          305,
          305,
          305,
          398,
          398,
          398,
          398,
          398,
          398,
          281,
          281,
          281,
          281,
          247,
          247,
          247,
          247,
          270,
          270,
          270,
          270,
          270,
          270,
          270,
          276,
          276,
          276,
          276,
          276,
          384,
          384,
          384,
          384,
          384,
          384,
          384,
          384,
          384,
          384,
          384,
          432,
          432,
          432,
          432,
          432,
          432,
          432,
          432,
          432,
          188,
          188,
          188,
          188,
          188,
          188,
          188,
          437,
          437,
          437,
          437,
          437,
          437,
          437,
          437,
          437,
          437,
          437,
          437,
          437,
          437,
          437,
          403,
          403,
          403,
          403,
          403,
          403,
          403,
          403,
          403,
          403,
          403,
          403,
          403,
          403,
          403,
          403,
          403,
          403,
          403,
          403,
          403,
          403,
          403,
          403,
          403,
          403,
          403,
          403,
          403,
          403,
          296,
          296,
          296,
          296,
          296,
          296,
          296,
          193,
          193,
          193,
          193,
          193,
          193,
          193,
          193,
          398,
          398,
          398,
          398,
          398,
          398,
          265,
          265,
          255,
          329,
          329,
          329,
          402,
          402,
          348,
          348,
          224,
          224,
          277,
          277,
          277,
          277,
          277,
          277,
          277,
          277,
          277,
          277,
          277,
          276,
          276,
          276,
          276,
          307,
          307,
          307,
          307,
          307,
          307,
          307,
          307,
          307,
          307,
          307,
          307,
          307,
          307,
          307,
          307,
          307,
          307,
          300,
          300,
          300,
          300,
          300,
          300,
          330,
          330,
          330,
          330,
          330,
          330,
          330,
          330,
          330,
          330,
          315,
          315,
          244,
          264,
          264,
          264,
          264,
          264,
          264,
          264,
          264,
          264,
          264,
          264,
          264,
          223,
          223,
          223,
          223,
          223,
          254,
          254,
          254,
          254,
          254,
          216,
          216,
          216,
          216,
          198,
          285,
          300,
          241,
          293,
          293,
          293,
          245,
          245,
          245,
          289,
          289,
          289,
          289,
          289,
          358,
          358,
          358,
          329,
          329,
          329,
          222,
          222,
          222,
          222,
          304,
          304,
          304,
          304,
          304,
          304,
          304,
          304,
          304,
          304,
          304,
          304,
          287,
          287,
          287,
          287,
          287,
          287,
          287,
          287,
          430,
          430,
          430,
          304,
          304,
          224,
          224,
          224,
          224,
          224,
          224,
          224,
          224,
          284,
          422,
          370,
          370,
          352,
          352,
          351,
          280,
          335,
          335,
          411,
          411,
          187,
          334,
          334,
          666,
          666,
          666,
          666,
          666,
          666,
          666,
          666,
          666,
          666,
          666,
          666,
          666,
          666,
          666,
          666,
          666,
          666,
          666,
          666,
          666,
          666,
          666,
          666,
          666,
          666,
          666,
          666,
          666,
          666,
          666,
          666,
          666,
          666,
          666,
          666,
          666,
          666,
          666,
          666,
          666,
          666,
          666,
          666,
          666,
          666,
          666,
          666,
          666,
          666,
          666,
          666,
          666,
          666,
          666,
          666,
          666,
          666,
          666,
          666,
          666,
          666,
          666,
          666,
          666,
          666,
          666,
          666,
          666,
          666,
          666,
          666,
          666,
          666,
          666,
          666,
          666,
          666,
          666,
          666,
          666,
          666,
          666,
          666,
          666,
          666,
          666,
          666,
          666,
          666,
          666,
          666,
          666,
          666,
          666,
          666,
          666,
          666,
          666,
          666,
          666,
          666,
          666,
          666,
          666,
          666,
          666,
          666,
          666,
          666,
          666,
          666,
          666,
          666,
          666,
          666,
          666,
          666,
          666,
          666,
          666,
          666,
          666,
          666,
          666,
          666,
          666,
          666,
          666,
          666,
          666,
          666,
          711,
          711,
          711,
          711,
          711,
          391,
          391,
          391,
          391,
          391,
          391,
          391,
          391,
          273,
          273,
          273,
          273,
          273
         ],
         "xaxis": "x",
         "y": [
          0.00632,
          0.02731,
          0.02729,
          0.03237,
          0.06905,
          0.02985,
          0.08829,
          0.14455,
          0.21124,
          0.17004,
          0.22489,
          0.11747,
          0.09378,
          0.62976,
          0.63796,
          0.62739,
          1.05393,
          0.7842,
          0.80271,
          0.7258,
          1.25179,
          0.85204,
          1.23247,
          0.98843,
          0.75026,
          0.84054,
          0.67191,
          0.95577,
          0.77299,
          1.00245,
          1.13081,
          1.35472,
          1.38799,
          1.15172,
          1.61282,
          0.06417,
          0.09744,
          0.08014,
          0.17505,
          0.02763,
          0.03359,
          0.12744,
          0.1415,
          0.15936,
          0.12269,
          0.17142,
          0.18836,
          0.22927,
          0.25387,
          0.21977,
          0.08873,
          0.04337,
          0.0536,
          0.04981,
          0.0136,
          0.01311,
          0.02055,
          0.01432,
          0.15445,
          0.10328,
          0.14932,
          0.17171,
          0.11027,
          0.1265,
          0.01951,
          0.03584,
          0.04379,
          0.05789,
          0.13554,
          0.12816,
          0.08826,
          0.15876,
          0.09164,
          0.19539,
          0.07896,
          0.09512,
          0.10153,
          0.08707,
          0.05646,
          0.08387,
          0.04113,
          0.04462,
          0.03659,
          0.03551,
          0.05059,
          0.05735,
          0.05188,
          0.07151,
          0.0566,
          0.05302,
          0.04684,
          0.03932,
          0.04203,
          0.02875,
          0.04294,
          0.12204,
          0.11504,
          0.12083,
          0.08187,
          0.0686,
          0.14866,
          0.11432,
          0.22876,
          0.21161,
          0.1396,
          0.13262,
          0.1712,
          0.13117,
          0.12802,
          0.26363,
          0.10793,
          0.10084,
          0.12329,
          0.22212,
          0.14231,
          0.17134,
          0.13158,
          0.15098,
          0.13058,
          0.14476,
          0.06899,
          0.07165,
          0.09299,
          0.15038,
          0.09849,
          0.16902,
          0.38735,
          0.25915,
          0.32543,
          0.88125,
          0.34006,
          1.19294,
          0.59005,
          0.32982,
          0.97617,
          0.55778,
          0.32264,
          0.35233,
          0.2498,
          0.54452,
          0.2909,
          1.62864,
          3.32105,
          4.0974,
          2.77974,
          2.37934,
          2.15505,
          2.36862,
          2.33099,
          2.73397,
          1.6566,
          1.49632,
          1.12658,
          2.14918,
          1.41385,
          3.53501,
          2.44668,
          1.22358,
          1.34284,
          1.42502,
          1.27346,
          1.46336,
          1.83377,
          1.51902,
          2.24236,
          2.924,
          2.01019,
          1.80028,
          2.3004,
          2.44953,
          1.20742,
          2.3139,
          0.13914,
          0.09178,
          0.08447,
          0.06664,
          0.07022,
          0.05425,
          0.06642,
          0.0578,
          0.06588,
          0.06888,
          0.09103,
          0.10008,
          0.08308,
          0.06047,
          0.05602,
          0.07875,
          0.12579,
          0.0837,
          0.09068,
          0.06911,
          0.08664,
          0.02187,
          0.01439,
          0.01381,
          0.04011,
          0.04666,
          0.03768,
          0.0315,
          0.01778,
          0.03445,
          0.02177,
          0.0351,
          0.02009,
          0.13642,
          0.22969,
          0.25199,
          0.13587,
          0.43571,
          0.17446,
          0.37578,
          0.21719,
          0.14052,
          0.28955,
          0.19802,
          0.0456,
          0.07013,
          0.11069,
          0.11425,
          0.35809,
          0.40771,
          0.62356,
          0.6147,
          0.31533,
          0.52693,
          0.38214,
          0.41238,
          0.29819,
          0.44178,
          0.537,
          0.46296,
          0.57529,
          0.33147,
          0.44791,
          0.33045,
          0.52058,
          0.51183,
          0.08244,
          0.09252,
          0.11329,
          0.10612,
          0.1029,
          0.12757,
          0.20608,
          0.19133,
          0.33983,
          0.19657,
          0.16439,
          0.19073,
          0.1403,
          0.21409,
          0.08221,
          0.36894,
          0.04819,
          0.03548,
          0.01538,
          0.61154,
          0.66351,
          0.65665,
          0.54011,
          0.53412,
          0.52014,
          0.82526,
          0.55007,
          0.76162,
          0.7857,
          0.57834,
          0.5405,
          0.09065,
          0.29916,
          0.16211,
          0.1146,
          0.22188,
          0.05644,
          0.09604,
          0.10469,
          0.06127,
          0.07978,
          0.21038,
          0.03578,
          0.03705,
          0.06129,
          0.01501,
          0.00906,
          0.01096,
          0.01965,
          0.03871,
          0.0459,
          0.04297,
          0.03502,
          0.07886,
          0.03615,
          0.08265,
          0.08199,
          0.12932,
          0.05372,
          0.14103,
          0.06466,
          0.05561,
          0.04417,
          0.03537,
          0.09266,
          0.1,
          0.05515,
          0.05479,
          0.07503,
          0.04932,
          0.49298,
          0.3494,
          2.63548,
          0.79041,
          0.26169,
          0.26938,
          0.3692,
          0.25356,
          0.31827,
          0.24522,
          0.40202,
          0.47547,
          0.1676,
          0.18159,
          0.35114,
          0.28392,
          0.34109,
          0.19186,
          0.30347,
          0.24103,
          0.06617,
          0.06724,
          0.04544,
          0.05023,
          0.03466,
          0.05083,
          0.03738,
          0.03961,
          0.03427,
          0.03041,
          0.03306,
          0.05497,
          0.06151,
          0.01301,
          0.02498,
          0.02543,
          0.03049,
          0.03113,
          0.06162,
          0.0187,
          0.01501,
          0.02899,
          0.06211,
          0.0795,
          0.07244,
          0.01709,
          0.04301,
          0.10659,
          8.98296,
          3.8497,
          5.20177,
          4.26131,
          4.54192,
          3.83684,
          3.67822,
          4.22239,
          3.47428,
          4.55587,
          3.69695,
          13.5222,
          4.89822,
          5.66998,
          6.53876,
          9.2323,
          8.26725,
          11.1081,
          18.4982,
          19.6091,
          15.288,
          9.82349,
          23.6482,
          17.8667,
          88.9762,
          15.8744,
          9.18702,
          7.99248,
          20.0849,
          16.8118,
          24.3938,
          22.5971,
          14.3337,
          8.15174,
          6.96215,
          5.29305,
          11.5779,
          8.64476,
          13.3598,
          8.71675,
          5.87205,
          7.67202,
          38.3518,
          9.91655,
          25.0461,
          14.2362,
          9.59571,
          24.8017,
          41.5292,
          67.9208,
          20.7162,
          11.9511,
          7.40389,
          14.4383,
          51.1358,
          14.0507,
          18.811,
          28.6558,
          45.7461,
          18.0846,
          10.8342,
          25.9406,
          73.5341,
          11.8123,
          11.0874,
          7.02259,
          12.0482,
          7.05042,
          8.79212,
          15.8603,
          12.2472,
          37.6619,
          7.36711,
          9.33889,
          8.49213,
          10.0623,
          6.44405,
          5.58107,
          13.9134,
          11.1604,
          14.4208,
          15.1772,
          13.6781,
          9.39063,
          22.0511,
          9.72418,
          5.66637,
          9.96654,
          12.8023,
          10.6718,
          6.28807,
          9.92485,
          9.32909,
          7.52601,
          6.71772,
          5.44114,
          5.09017,
          8.24809,
          9.51363,
          4.75237,
          4.66883,
          8.20058,
          7.75223,
          6.80117,
          4.81213,
          3.69311,
          6.65492,
          5.82115,
          7.83932,
          3.1636,
          3.77498,
          4.42228,
          15.5757,
          13.0751,
          4.34879,
          4.03841,
          3.56868,
          4.64689,
          8.05579,
          6.39312,
          4.87141,
          15.0234,
          10.233,
          14.3337,
          5.82401,
          5.70818,
          5.73116,
          2.81838,
          2.37857,
          3.67367,
          5.69175,
          4.83567,
          0.15086,
          0.18337,
          0.20746,
          0.10574,
          0.11132,
          0.17331,
          0.27957,
          0.17899,
          0.2896,
          0.26838,
          0.23912,
          0.17783,
          0.22438,
          0.06263,
          0.04527,
          0.06076,
          0.10959,
          0.04741
         ],
         "yaxis": "y"
        }
       ],
       "layout": {
        "autosize": true,
        "coloraxis": {
         "colorbar": {
          "title": {
           "text": "cluster_1_labels"
          }
         },
         "colorscale": [
          [
           0,
           "#0d0887"
          ],
          [
           0.1111111111111111,
           "#46039f"
          ],
          [
           0.2222222222222222,
           "#7201a8"
          ],
          [
           0.3333333333333333,
           "#9c179e"
          ],
          [
           0.4444444444444444,
           "#bd3786"
          ],
          [
           0.5555555555555556,
           "#d8576b"
          ],
          [
           0.6666666666666666,
           "#ed7953"
          ],
          [
           0.7777777777777778,
           "#fb9f3a"
          ],
          [
           0.8888888888888888,
           "#fdca26"
          ],
          [
           1,
           "#f0f921"
          ]
         ]
        },
        "legend": {
         "tracegroupgap": 0
        },
        "template": {
         "data": {
          "bar": [
           {
            "error_x": {
             "color": "#2a3f5f"
            },
            "error_y": {
             "color": "#2a3f5f"
            },
            "marker": {
             "line": {
              "color": "#E5ECF6",
              "width": 0.5
             },
             "pattern": {
              "fillmode": "overlay",
              "size": 10,
              "solidity": 0.2
             }
            },
            "type": "bar"
           }
          ],
          "barpolar": [
           {
            "marker": {
             "line": {
              "color": "#E5ECF6",
              "width": 0.5
             },
             "pattern": {
              "fillmode": "overlay",
              "size": 10,
              "solidity": 0.2
             }
            },
            "type": "barpolar"
           }
          ],
          "carpet": [
           {
            "aaxis": {
             "endlinecolor": "#2a3f5f",
             "gridcolor": "white",
             "linecolor": "white",
             "minorgridcolor": "white",
             "startlinecolor": "#2a3f5f"
            },
            "baxis": {
             "endlinecolor": "#2a3f5f",
             "gridcolor": "white",
             "linecolor": "white",
             "minorgridcolor": "white",
             "startlinecolor": "#2a3f5f"
            },
            "type": "carpet"
           }
          ],
          "choropleth": [
           {
            "colorbar": {
             "outlinewidth": 0,
             "ticks": ""
            },
            "type": "choropleth"
           }
          ],
          "contour": [
           {
            "colorbar": {
             "outlinewidth": 0,
             "ticks": ""
            },
            "colorscale": [
             [
              0,
              "#0d0887"
             ],
             [
              0.1111111111111111,
              "#46039f"
             ],
             [
              0.2222222222222222,
              "#7201a8"
             ],
             [
              0.3333333333333333,
              "#9c179e"
             ],
             [
              0.4444444444444444,
              "#bd3786"
             ],
             [
              0.5555555555555556,
              "#d8576b"
             ],
             [
              0.6666666666666666,
              "#ed7953"
             ],
             [
              0.7777777777777778,
              "#fb9f3a"
             ],
             [
              0.8888888888888888,
              "#fdca26"
             ],
             [
              1,
              "#f0f921"
             ]
            ],
            "type": "contour"
           }
          ],
          "contourcarpet": [
           {
            "colorbar": {
             "outlinewidth": 0,
             "ticks": ""
            },
            "type": "contourcarpet"
           }
          ],
          "heatmap": [
           {
            "colorbar": {
             "outlinewidth": 0,
             "ticks": ""
            },
            "colorscale": [
             [
              0,
              "#0d0887"
             ],
             [
              0.1111111111111111,
              "#46039f"
             ],
             [
              0.2222222222222222,
              "#7201a8"
             ],
             [
              0.3333333333333333,
              "#9c179e"
             ],
             [
              0.4444444444444444,
              "#bd3786"
             ],
             [
              0.5555555555555556,
              "#d8576b"
             ],
             [
              0.6666666666666666,
              "#ed7953"
             ],
             [
              0.7777777777777778,
              "#fb9f3a"
             ],
             [
              0.8888888888888888,
              "#fdca26"
             ],
             [
              1,
              "#f0f921"
             ]
            ],
            "type": "heatmap"
           }
          ],
          "heatmapgl": [
           {
            "colorbar": {
             "outlinewidth": 0,
             "ticks": ""
            },
            "colorscale": [
             [
              0,
              "#0d0887"
             ],
             [
              0.1111111111111111,
              "#46039f"
             ],
             [
              0.2222222222222222,
              "#7201a8"
             ],
             [
              0.3333333333333333,
              "#9c179e"
             ],
             [
              0.4444444444444444,
              "#bd3786"
             ],
             [
              0.5555555555555556,
              "#d8576b"
             ],
             [
              0.6666666666666666,
              "#ed7953"
             ],
             [
              0.7777777777777778,
              "#fb9f3a"
             ],
             [
              0.8888888888888888,
              "#fdca26"
             ],
             [
              1,
              "#f0f921"
             ]
            ],
            "type": "heatmapgl"
           }
          ],
          "histogram": [
           {
            "marker": {
             "pattern": {
              "fillmode": "overlay",
              "size": 10,
              "solidity": 0.2
             }
            },
            "type": "histogram"
           }
          ],
          "histogram2d": [
           {
            "colorbar": {
             "outlinewidth": 0,
             "ticks": ""
            },
            "colorscale": [
             [
              0,
              "#0d0887"
             ],
             [
              0.1111111111111111,
              "#46039f"
             ],
             [
              0.2222222222222222,
              "#7201a8"
             ],
             [
              0.3333333333333333,
              "#9c179e"
             ],
             [
              0.4444444444444444,
              "#bd3786"
             ],
             [
              0.5555555555555556,
              "#d8576b"
             ],
             [
              0.6666666666666666,
              "#ed7953"
             ],
             [
              0.7777777777777778,
              "#fb9f3a"
             ],
             [
              0.8888888888888888,
              "#fdca26"
             ],
             [
              1,
              "#f0f921"
             ]
            ],
            "type": "histogram2d"
           }
          ],
          "histogram2dcontour": [
           {
            "colorbar": {
             "outlinewidth": 0,
             "ticks": ""
            },
            "colorscale": [
             [
              0,
              "#0d0887"
             ],
             [
              0.1111111111111111,
              "#46039f"
             ],
             [
              0.2222222222222222,
              "#7201a8"
             ],
             [
              0.3333333333333333,
              "#9c179e"
             ],
             [
              0.4444444444444444,
              "#bd3786"
             ],
             [
              0.5555555555555556,
              "#d8576b"
             ],
             [
              0.6666666666666666,
              "#ed7953"
             ],
             [
              0.7777777777777778,
              "#fb9f3a"
             ],
             [
              0.8888888888888888,
              "#fdca26"
             ],
             [
              1,
              "#f0f921"
             ]
            ],
            "type": "histogram2dcontour"
           }
          ],
          "mesh3d": [
           {
            "colorbar": {
             "outlinewidth": 0,
             "ticks": ""
            },
            "type": "mesh3d"
           }
          ],
          "parcoords": [
           {
            "line": {
             "colorbar": {
              "outlinewidth": 0,
              "ticks": ""
             }
            },
            "type": "parcoords"
           }
          ],
          "pie": [
           {
            "automargin": true,
            "type": "pie"
           }
          ],
          "scatter": [
           {
            "fillpattern": {
             "fillmode": "overlay",
             "size": 10,
             "solidity": 0.2
            },
            "type": "scatter"
           }
          ],
          "scatter3d": [
           {
            "line": {
             "colorbar": {
              "outlinewidth": 0,
              "ticks": ""
             }
            },
            "marker": {
             "colorbar": {
              "outlinewidth": 0,
              "ticks": ""
             }
            },
            "type": "scatter3d"
           }
          ],
          "scattercarpet": [
           {
            "marker": {
             "colorbar": {
              "outlinewidth": 0,
              "ticks": ""
             }
            },
            "type": "scattercarpet"
           }
          ],
          "scattergeo": [
           {
            "marker": {
             "colorbar": {
              "outlinewidth": 0,
              "ticks": ""
             }
            },
            "type": "scattergeo"
           }
          ],
          "scattergl": [
           {
            "marker": {
             "colorbar": {
              "outlinewidth": 0,
              "ticks": ""
             }
            },
            "type": "scattergl"
           }
          ],
          "scattermapbox": [
           {
            "marker": {
             "colorbar": {
              "outlinewidth": 0,
              "ticks": ""
             }
            },
            "type": "scattermapbox"
           }
          ],
          "scatterpolar": [
           {
            "marker": {
             "colorbar": {
              "outlinewidth": 0,
              "ticks": ""
             }
            },
            "type": "scatterpolar"
           }
          ],
          "scatterpolargl": [
           {
            "marker": {
             "colorbar": {
              "outlinewidth": 0,
              "ticks": ""
             }
            },
            "type": "scatterpolargl"
           }
          ],
          "scatterternary": [
           {
            "marker": {
             "colorbar": {
              "outlinewidth": 0,
              "ticks": ""
             }
            },
            "type": "scatterternary"
           }
          ],
          "surface": [
           {
            "colorbar": {
             "outlinewidth": 0,
             "ticks": ""
            },
            "colorscale": [
             [
              0,
              "#0d0887"
             ],
             [
              0.1111111111111111,
              "#46039f"
             ],
             [
              0.2222222222222222,
              "#7201a8"
             ],
             [
              0.3333333333333333,
              "#9c179e"
             ],
             [
              0.4444444444444444,
              "#bd3786"
             ],
             [
              0.5555555555555556,
              "#d8576b"
             ],
             [
              0.6666666666666666,
              "#ed7953"
             ],
             [
              0.7777777777777778,
              "#fb9f3a"
             ],
             [
              0.8888888888888888,
              "#fdca26"
             ],
             [
              1,
              "#f0f921"
             ]
            ],
            "type": "surface"
           }
          ],
          "table": [
           {
            "cells": {
             "fill": {
              "color": "#EBF0F8"
             },
             "line": {
              "color": "white"
             }
            },
            "header": {
             "fill": {
              "color": "#C8D4E3"
             },
             "line": {
              "color": "white"
             }
            },
            "type": "table"
           }
          ]
         },
         "layout": {
          "annotationdefaults": {
           "arrowcolor": "#2a3f5f",
           "arrowhead": 0,
           "arrowwidth": 1
          },
          "autotypenumbers": "strict",
          "coloraxis": {
           "colorbar": {
            "outlinewidth": 0,
            "ticks": ""
           }
          },
          "colorscale": {
           "diverging": [
            [
             0,
             "#8e0152"
            ],
            [
             0.1,
             "#c51b7d"
            ],
            [
             0.2,
             "#de77ae"
            ],
            [
             0.3,
             "#f1b6da"
            ],
            [
             0.4,
             "#fde0ef"
            ],
            [
             0.5,
             "#f7f7f7"
            ],
            [
             0.6,
             "#e6f5d0"
            ],
            [
             0.7,
             "#b8e186"
            ],
            [
             0.8,
             "#7fbc41"
            ],
            [
             0.9,
             "#4d9221"
            ],
            [
             1,
             "#276419"
            ]
           ],
           "sequential": [
            [
             0,
             "#0d0887"
            ],
            [
             0.1111111111111111,
             "#46039f"
            ],
            [
             0.2222222222222222,
             "#7201a8"
            ],
            [
             0.3333333333333333,
             "#9c179e"
            ],
            [
             0.4444444444444444,
             "#bd3786"
            ],
            [
             0.5555555555555556,
             "#d8576b"
            ],
            [
             0.6666666666666666,
             "#ed7953"
            ],
            [
             0.7777777777777778,
             "#fb9f3a"
            ],
            [
             0.8888888888888888,
             "#fdca26"
            ],
            [
             1,
             "#f0f921"
            ]
           ],
           "sequentialminus": [
            [
             0,
             "#0d0887"
            ],
            [
             0.1111111111111111,
             "#46039f"
            ],
            [
             0.2222222222222222,
             "#7201a8"
            ],
            [
             0.3333333333333333,
             "#9c179e"
            ],
            [
             0.4444444444444444,
             "#bd3786"
            ],
            [
             0.5555555555555556,
             "#d8576b"
            ],
            [
             0.6666666666666666,
             "#ed7953"
            ],
            [
             0.7777777777777778,
             "#fb9f3a"
            ],
            [
             0.8888888888888888,
             "#fdca26"
            ],
            [
             1,
             "#f0f921"
            ]
           ]
          },
          "colorway": [
           "#636efa",
           "#EF553B",
           "#00cc96",
           "#ab63fa",
           "#FFA15A",
           "#19d3f3",
           "#FF6692",
           "#B6E880",
           "#FF97FF",
           "#FECB52"
          ],
          "font": {
           "color": "#2a3f5f"
          },
          "geo": {
           "bgcolor": "white",
           "lakecolor": "white",
           "landcolor": "#E5ECF6",
           "showlakes": true,
           "showland": true,
           "subunitcolor": "white"
          },
          "hoverlabel": {
           "align": "left"
          },
          "hovermode": "closest",
          "mapbox": {
           "style": "light"
          },
          "paper_bgcolor": "white",
          "plot_bgcolor": "#E5ECF6",
          "polar": {
           "angularaxis": {
            "gridcolor": "white",
            "linecolor": "white",
            "ticks": ""
           },
           "bgcolor": "#E5ECF6",
           "radialaxis": {
            "gridcolor": "white",
            "linecolor": "white",
            "ticks": ""
           }
          },
          "scene": {
           "xaxis": {
            "backgroundcolor": "#E5ECF6",
            "gridcolor": "white",
            "gridwidth": 2,
            "linecolor": "white",
            "showbackground": true,
            "ticks": "",
            "zerolinecolor": "white"
           },
           "yaxis": {
            "backgroundcolor": "#E5ECF6",
            "gridcolor": "white",
            "gridwidth": 2,
            "linecolor": "white",
            "showbackground": true,
            "ticks": "",
            "zerolinecolor": "white"
           },
           "zaxis": {
            "backgroundcolor": "#E5ECF6",
            "gridcolor": "white",
            "gridwidth": 2,
            "linecolor": "white",
            "showbackground": true,
            "ticks": "",
            "zerolinecolor": "white"
           }
          },
          "shapedefaults": {
           "line": {
            "color": "#2a3f5f"
           }
          },
          "ternary": {
           "aaxis": {
            "gridcolor": "white",
            "linecolor": "white",
            "ticks": ""
           },
           "baxis": {
            "gridcolor": "white",
            "linecolor": "white",
            "ticks": ""
           },
           "bgcolor": "#E5ECF6",
           "caxis": {
            "gridcolor": "white",
            "linecolor": "white",
            "ticks": ""
           }
          },
          "title": {
           "x": 0.05
          },
          "xaxis": {
           "automargin": true,
           "gridcolor": "white",
           "linecolor": "white",
           "ticks": "",
           "title": {
            "standoff": 15
           },
           "zerolinecolor": "white",
           "zerolinewidth": 2
          },
          "yaxis": {
           "automargin": true,
           "gridcolor": "white",
           "linecolor": "white",
           "ticks": "",
           "title": {
            "standoff": 15
           },
           "zerolinecolor": "white",
           "zerolinewidth": 2
          }
         }
        },
        "title": {
         "text": "Cluster"
        },
        "xaxis": {
         "anchor": "y",
         "autorange": true,
         "domain": [
          0,
          1
         ],
         "range": [
          154.6657809270741,
          743.3342190729259
         ],
         "title": {
          "text": "tax"
         },
         "type": "linear"
        },
        "yaxis": {
         "anchor": "x",
         "autorange": true,
         "domain": [
          0,
          1
         ],
         "range": [
          -7.335854563106797,
          96.3183745631068
         ],
         "title": {
          "text": "crim"
         },
         "type": "linear"
        }
       }
      },
      "image/png": "[encoded data removed]",
      "text/html": [
       "<div>                            <div id=\"9754f20f-1151-4d48-a135-51ed732ae2db\" class=\"plotly-graph-div\" style=\"height:525px; width:100%;\"></div>            <script type=\"text/javascript\">                require([\"plotly\"], function(Plotly) {                    window.PLOTLYENV=window.PLOTLYENV || {};                                    if (document.getElementById(\"9754f20f-1151-4d48-a135-51ed732ae2db\")) {                    Plotly.newPlot(                        \"9754f20f-1151-4d48-a135-51ed732ae2db\",                        [{\"hovertemplate\":\"tax=%{x}\\u003cbr\\u003ecrim=%{y}\\u003cbr\\u003ecluster_1_labels=%{marker.color}\\u003cextra\\u003e\\u003c\\u002fextra\\u003e\",\"legendgroup\":\"\",\"marker\":{\"color\":[0,0,0,0,0,0,0,0,0,0,0,0,0,0,0,0,0,0,0,0,0,0,0,0,0,0,0,0,0,0,0,0,0,0,0,0,0,0,0,0,0,0,0,0,0,0,0,0,0,0,0,0,0,0,0,0,0,0,0,0,0,0,0,0,0,0,0,0,0,0,0,0,0,0,0,0,0,0,0,0,0,0,0,0,0,0,0,0,0,0,0,0,0,0,0,0,0,0,0,0,0,0,0,0,0,0,0,0,0,0,0,0,0,0,0,0,0,0,0,0,0,0,0,0,0,0,0,0,0,0,0,0,0,0,0,0,0,0,0,0,0,0,0,0,0,0,0,0,0,0,0,0,0,0,0,0,0,0,0,0,0,0,0,0,0,0,0,0,0,0,0,0,0,0,0,0,0,0,0,0,0,0,0,0,0,0,0,0,0,0,0,0,0,0,0,0,0,0,0,0,0,0,0,0,0,0,0,0,0,0,0,0,0,0,0,0,0,0,0,0,0,0,0,0,0,0,0,0,0,0,0,0,0,0,0,0,0,0,0,0,0,0,0,0,0,0,0,0,0,0,0,0,0,0,0,0,0,0,0,0,0,0,0,0,0,0,0,0,0,0,0,0,0,0,0,0,0,0,0,0,0,0,0,0,0,0,0,0,0,0,0,0,0,0,0,0,0,0,0,0,0,0,0,0,0,0,0,0,0,0,0,0,0,0,0,0,0,0,0,0,0,0,0,0,0,0,0,0,0,0,0,0,0,0,0,0,0,0,0,0,0,0,0,0,0,0,0,0,0,0,0,0,0,0,0,0,1,1,1,1,1,1,1,1,1,1,1,1,1,1,1,1,1,1,1,1,1,1,1,1,1,1,1,1,1,1,1,1,1,1,1,1,1,1,1,1,1,1,1,1,1,1,1,1,1,1,1,1,1,1,1,1,1,1,1,1,1,1,1,1,1,1,1,1,1,1,1,1,1,1,1,1,1,1,1,1,1,1,1,1,1,1,1,1,1,1,1,1,1,1,1,1,1,1,1,1,1,1,1,1,1,1,1,1,1,1,1,1,1,1,1,1,1,1,1,1,1,1,1,1,1,1,1,1,1,1,1,1,1,1,1,1,1,0,0,0,0,0,0,0,0,0,0,0,0,0],\"coloraxis\":\"coloraxis\",\"symbol\":\"circle\"},\"mode\":\"markers\",\"name\":\"\",\"orientation\":\"v\",\"showlegend\":false,\"x\":[296,242,242,222,222,222,311,311,311,311,311,311,311,307,307,307,307,307,307,307,307,307,307,307,307,307,307,307,307,307,307,307,307,307,307,279,279,279,279,252,252,233,233,233,233,233,233,233,233,233,243,243,243,243,469,226,313,256,284,284,284,284,284,284,216,337,337,345,345,345,305,305,305,305,398,398,398,398,398,398,281,281,281,281,247,247,247,247,270,270,270,270,270,270,270,276,276,276,276,276,384,384,384,384,384,384,384,384,384,384,384,432,432,432,432,432,432,432,432,432,188,188,188,188,188,188,188,437,437,437,437,437,437,437,437,437,437,437,437,437,437,437,403,403,403,403,403,403,403,403,403,403,403,403,403,403,403,403,403,403,403,403,403,403,403,403,403,403,403,403,403,403,296,296,296,296,296,296,296,193,193,193,193,193,193,193,193,398,398,398,398,398,398,265,265,255,329,329,329,402,402,348,348,224,224,277,277,277,277,277,277,277,277,277,277,277,276,276,276,276,307,307,307,307,307,307,307,307,307,307,307,307,307,307,307,307,307,307,300,300,300,300,300,300,330,330,330,330,330,330,330,330,330,330,315,315,244,264,264,264,264,264,264,264,264,264,264,264,264,223,223,223,223,223,254,254,254,254,254,216,216,216,216,198,285,300,241,293,293,293,245,245,245,289,289,289,289,289,358,358,358,329,329,329,222,222,222,222,304,304,304,304,304,304,304,304,304,304,304,304,287,287,287,287,287,287,287,287,430,430,430,304,304,224,224,224,224,224,224,224,224,284,422,370,370,352,352,351,280,335,335,411,411,187,334,334,666,666,666,666,666,666,666,666,666,666,666,666,666,666,666,666,666,666,666,666,666,666,666,666,666,666,666,666,666,666,666,666,666,666,666,666,666,666,666,666,666,666,666,666,666,666,666,666,666,666,666,666,666,666,666,666,666,666,666,666,666,666,666,666,666,666,666,666,666,666,666,666,666,666,666,666,666,666,666,666,666,666,666,666,666,666,666,666,666,666,666,666,666,666,666,666,666,666,666,666,666,666,666,666,666,666,666,666,666,666,666,666,666,666,666,666,666,666,666,666,666,666,666,666,666,666,666,666,666,666,666,666,711,711,711,711,711,391,391,391,391,391,391,391,391,273,273,273,273,273],\"xaxis\":\"x\",\"y\":[0.00632,0.02731,0.02729,0.03237,0.06905,0.02985,0.08829,0.14455,0.21124,0.17004,0.22489,0.11747,0.09378,0.62976,0.63796,0.62739,1.05393,0.7842,0.80271,0.7258,1.25179,0.85204,1.23247,0.98843,0.75026,0.84054,0.67191,0.95577,0.77299,1.00245,1.13081,1.35472,1.38799,1.15172,1.61282,0.06417,0.09744,0.08014,0.17505,0.02763,0.03359,0.12744,0.1415,0.15936,0.12269,0.17142,0.18836,0.22927,0.25387,0.21977,0.08873,0.04337,0.0536,0.04981,0.0136,0.01311,0.02055,0.01432,0.15445,0.10328,0.14932,0.17171,0.11027,0.1265,0.01951,0.03584,0.04379,0.05789,0.13554,0.12816,0.08826,0.15876,0.09164,0.19539,0.07896,0.09512,0.10153,0.08707,0.05646,0.08387,0.04113,0.04462,0.03659,0.03551,0.05059,0.05735,0.05188,0.07151,0.0566,0.05302,0.04684,0.03932,0.04203,0.02875,0.04294,0.12204,0.11504,0.12083,0.08187,0.0686,0.14866,0.11432,0.22876,0.21161,0.1396,0.13262,0.1712,0.13117,0.12802,0.26363,0.10793,0.10084,0.12329,0.22212,0.14231,0.17134,0.13158,0.15098,0.13058,0.14476,0.06899,0.07165,0.09299,0.15038,0.09849,0.16902,0.38735,0.25915,0.32543,0.88125,0.34006,1.19294,0.59005,0.32982,0.97617,0.55778,0.32264,0.35233,0.2498,0.54452,0.2909,1.62864,3.32105,4.0974,2.77974,2.37934,2.15505,2.36862,2.33099,2.73397,1.6566,1.49632,1.12658,2.14918,1.41385,3.53501,2.44668,1.22358,1.34284,1.42502,1.27346,1.46336,1.83377,1.51902,2.24236,2.924,2.01019,1.80028,2.3004,2.44953,1.20742,2.3139,0.13914,0.09178,0.08447,0.06664,0.07022,0.05425,0.06642,0.0578,0.06588,0.06888,0.09103,0.10008,0.08308,0.06047,0.05602,0.07875,0.12579,0.0837,0.09068,0.06911,0.08664,0.02187,0.01439,0.01381,0.04011,0.04666,0.03768,0.0315,0.01778,0.03445,0.02177,0.0351,0.02009,0.13642,0.22969,0.25199,0.13587,0.43571,0.17446,0.37578,0.21719,0.14052,0.28955,0.19802,0.0456,0.07013,0.11069,0.11425,0.35809,0.40771,0.62356,0.6147,0.31533,0.52693,0.38214,0.41238,0.29819,0.44178,0.537,0.46296,0.57529,0.33147,0.44791,0.33045,0.52058,0.51183,0.08244,0.09252,0.11329,0.10612,0.1029,0.12757,0.20608,0.19133,0.33983,0.19657,0.16439,0.19073,0.1403,0.21409,0.08221,0.36894,0.04819,0.03548,0.01538,0.61154,0.66351,0.65665,0.54011,0.53412,0.52014,0.82526,0.55007,0.76162,0.7857,0.57834,0.5405,0.09065,0.29916,0.16211,0.1146,0.22188,0.05644,0.09604,0.10469,0.06127,0.07978,0.21038,0.03578,0.03705,0.06129,0.01501,0.00906,0.01096,0.01965,0.03871,0.0459,0.04297,0.03502,0.07886,0.03615,0.08265,0.08199,0.12932,0.05372,0.14103,0.06466,0.05561,0.04417,0.03537,0.09266,0.1,0.05515,0.05479,0.07503,0.04932,0.49298,0.3494,2.63548,0.79041,0.26169,0.26938,0.3692,0.25356,0.31827,0.24522,0.40202,0.47547,0.1676,0.18159,0.35114,0.28392,0.34109,0.19186,0.30347,0.24103,0.06617,0.06724,0.04544,0.05023,0.03466,0.05083,0.03738,0.03961,0.03427,0.03041,0.03306,0.05497,0.06151,0.01301,0.02498,0.02543,0.03049,0.03113,0.06162,0.0187,0.01501,0.02899,0.06211,0.0795,0.07244,0.01709,0.04301,0.10659,8.98296,3.8497,5.20177,4.26131,4.54192,3.83684,3.67822,4.22239,3.47428,4.55587,3.69695,13.5222,4.89822,5.66998,6.53876,9.2323,8.26725,11.1081,18.4982,19.6091,15.288,9.82349,23.6482,17.8667,88.9762,15.8744,9.18702,7.99248,20.0849,16.8118,24.3938,22.5971,14.3337,8.15174,6.96215,5.29305,11.5779,8.64476,13.3598,8.71675,5.87205,7.67202,38.3518,9.91655,25.0461,14.2362,9.59571,24.8017,41.5292,67.9208,20.7162,11.9511,7.40389,14.4383,51.1358,14.0507,18.811,28.6558,45.7461,18.0846,10.8342,25.9406,73.5341,11.8123,11.0874,7.02259,12.0482,7.05042,8.79212,15.8603,12.2472,37.6619,7.36711,9.33889,8.49213,10.0623,6.44405,5.58107,13.9134,11.1604,14.4208,15.1772,13.6781,9.39063,22.0511,9.72418,5.66637,9.96654,12.8023,10.6718,6.28807,9.92485,9.32909,7.52601,6.71772,5.44114,5.09017,8.24809,9.51363,4.75237,4.66883,8.20058,7.75223,6.80117,4.81213,3.69311,6.65492,5.82115,7.83932,3.1636,3.77498,4.42228,15.5757,13.0751,4.34879,4.03841,3.56868,4.64689,8.05579,6.39312,4.87141,15.0234,10.233,14.3337,5.82401,5.70818,5.73116,2.81838,2.37857,3.67367,5.69175,4.83567,0.15086,0.18337,0.20746,0.10574,0.11132,0.17331,0.27957,0.17899,0.2896,0.26838,0.23912,0.17783,0.22438,0.06263,0.04527,0.06076,0.10959,0.04741],\"yaxis\":\"y\",\"type\":\"scatter\"}],                        {\"template\":{\"data\":{\"histogram2dcontour\":[{\"type\":\"histogram2dcontour\",\"colorbar\":{\"outlinewidth\":0,\"ticks\":\"\"},\"colorscale\":[[0.0,\"#0d0887\"],[0.1111111111111111,\"#46039f\"],[0.2222222222222222,\"#7201a8\"],[0.3333333333333333,\"#9c179e\"],[0.4444444444444444,\"#bd3786\"],[0.5555555555555556,\"#d8576b\"],[0.6666666666666666,\"#ed7953\"],[0.7777777777777778,\"#fb9f3a\"],[0.8888888888888888,\"#fdca26\"],[1.0,\"#f0f921\"]]}],\"choropleth\":[{\"type\":\"choropleth\",\"colorbar\":{\"outlinewidth\":0,\"ticks\":\"\"}}],\"histogram2d\":[{\"type\":\"histogram2d\",\"colorbar\":{\"outlinewidth\":0,\"ticks\":\"\"},\"colorscale\":[[0.0,\"#0d0887\"],[0.1111111111111111,\"#46039f\"],[0.2222222222222222,\"#7201a8\"],[0.3333333333333333,\"#9c179e\"],[0.4444444444444444,\"#bd3786\"],[0.5555555555555556,\"#d8576b\"],[0.6666666666666666,\"#ed7953\"],[0.7777777777777778,\"#fb9f3a\"],[0.8888888888888888,\"#fdca26\"],[1.0,\"#f0f921\"]]}],\"heatmap\":[{\"type\":\"heatmap\",\"colorbar\":{\"outlinewidth\":0,\"ticks\":\"\"},\"colorscale\":[[0.0,\"#0d0887\"],[0.1111111111111111,\"#46039f\"],[0.2222222222222222,\"#7201a8\"],[0.3333333333333333,\"#9c179e\"],[0.4444444444444444,\"#bd3786\"],[0.5555555555555556,\"#d8576b\"],[0.6666666666666666,\"#ed7953\"],[0.7777777777777778,\"#fb9f3a\"],[0.8888888888888888,\"#fdca26\"],[1.0,\"#f0f921\"]]}],\"heatmapgl\":[{\"type\":\"heatmapgl\",\"colorbar\":{\"outlinewidth\":0,\"ticks\":\"\"},\"colorscale\":[[0.0,\"#0d0887\"],[0.1111111111111111,\"#46039f\"],[0.2222222222222222,\"#7201a8\"],[0.3333333333333333,\"#9c179e\"],[0.4444444444444444,\"#bd3786\"],[0.5555555555555556,\"#d8576b\"],[0.6666666666666666,\"#ed7953\"],[0.7777777777777778,\"#fb9f3a\"],[0.8888888888888888,\"#fdca26\"],[1.0,\"#f0f921\"]]}],\"contourcarpet\":[{\"type\":\"contourcarpet\",\"colorbar\":{\"outlinewidth\":0,\"ticks\":\"\"}}],\"contour\":[{\"type\":\"contour\",\"colorbar\":{\"outlinewidth\":0,\"ticks\":\"\"},\"colorscale\":[[0.0,\"#0d0887\"],[0.1111111111111111,\"#46039f\"],[0.2222222222222222,\"#7201a8\"],[0.3333333333333333,\"#9c179e\"],[0.4444444444444444,\"#bd3786\"],[0.5555555555555556,\"#d8576b\"],[0.6666666666666666,\"#ed7953\"],[0.7777777777777778,\"#fb9f3a\"],[0.8888888888888888,\"#fdca26\"],[1.0,\"#f0f921\"]]}],\"surface\":[{\"type\":\"surface\",\"colorbar\":{\"outlinewidth\":0,\"ticks\":\"\"},\"colorscale\":[[0.0,\"#0d0887\"],[0.1111111111111111,\"#46039f\"],[0.2222222222222222,\"#7201a8\"],[0.3333333333333333,\"#9c179e\"],[0.4444444444444444,\"#bd3786\"],[0.5555555555555556,\"#d8576b\"],[0.6666666666666666,\"#ed7953\"],[0.7777777777777778,\"#fb9f3a\"],[0.8888888888888888,\"#fdca26\"],[1.0,\"#f0f921\"]]}],\"mesh3d\":[{\"type\":\"mesh3d\",\"colorbar\":{\"outlinewidth\":0,\"ticks\":\"\"}}],\"scatter\":[{\"fillpattern\":{\"fillmode\":\"overlay\",\"size\":10,\"solidity\":0.2},\"type\":\"scatter\"}],\"parcoords\":[{\"type\":\"parcoords\",\"line\":{\"colorbar\":{\"outlinewidth\":0,\"ticks\":\"\"}}}],\"scatterpolargl\":[{\"type\":\"scatterpolargl\",\"marker\":{\"colorbar\":{\"outlinewidth\":0,\"ticks\":\"\"}}}],\"bar\":[{\"error_x\":{\"color\":\"#2a3f5f\"},\"error_y\":{\"color\":\"#2a3f5f\"},\"marker\":{\"line\":{\"color\":\"#E5ECF6\",\"width\":0.5},\"pattern\":{\"fillmode\":\"overlay\",\"size\":10,\"solidity\":0.2}},\"type\":\"bar\"}],\"scattergeo\":[{\"type\":\"scattergeo\",\"marker\":{\"colorbar\":{\"outlinewidth\":0,\"ticks\":\"\"}}}],\"scatterpolar\":[{\"type\":\"scatterpolar\",\"marker\":{\"colorbar\":{\"outlinewidth\":0,\"ticks\":\"\"}}}],\"histogram\":[{\"marker\":{\"pattern\":{\"fillmode\":\"overlay\",\"size\":10,\"solidity\":0.2}},\"type\":\"histogram\"}],\"scattergl\":[{\"type\":\"scattergl\",\"marker\":{\"colorbar\":{\"outlinewidth\":0,\"ticks\":\"\"}}}],\"scatter3d\":[{\"type\":\"scatter3d\",\"line\":{\"colorbar\":{\"outlinewidth\":0,\"ticks\":\"\"}},\"marker\":{\"colorbar\":{\"outlinewidth\":0,\"ticks\":\"\"}}}],\"scattermapbox\":[{\"type\":\"scattermapbox\",\"marker\":{\"colorbar\":{\"outlinewidth\":0,\"ticks\":\"\"}}}],\"scatterternary\":[{\"type\":\"scatterternary\",\"marker\":{\"colorbar\":{\"outlinewidth\":0,\"ticks\":\"\"}}}],\"scattercarpet\":[{\"type\":\"scattercarpet\",\"marker\":{\"colorbar\":{\"outlinewidth\":0,\"ticks\":\"\"}}}],\"carpet\":[{\"aaxis\":{\"endlinecolor\":\"#2a3f5f\",\"gridcolor\":\"white\",\"linecolor\":\"white\",\"minorgridcolor\":\"white\",\"startlinecolor\":\"#2a3f5f\"},\"baxis\":{\"endlinecolor\":\"#2a3f5f\",\"gridcolor\":\"white\",\"linecolor\":\"white\",\"minorgridcolor\":\"white\",\"startlinecolor\":\"#2a3f5f\"},\"type\":\"carpet\"}],\"table\":[{\"cells\":{\"fill\":{\"color\":\"#EBF0F8\"},\"line\":{\"color\":\"white\"}},\"header\":{\"fill\":{\"color\":\"#C8D4E3\"},\"line\":{\"color\":\"white\"}},\"type\":\"table\"}],\"barpolar\":[{\"marker\":{\"line\":{\"color\":\"#E5ECF6\",\"width\":0.5},\"pattern\":{\"fillmode\":\"overlay\",\"size\":10,\"solidity\":0.2}},\"type\":\"barpolar\"}],\"pie\":[{\"automargin\":true,\"type\":\"pie\"}]},\"layout\":{\"autotypenumbers\":\"strict\",\"colorway\":[\"#636efa\",\"#EF553B\",\"#00cc96\",\"#ab63fa\",\"#FFA15A\",\"#19d3f3\",\"#FF6692\",\"#B6E880\",\"#FF97FF\",\"#FECB52\"],\"font\":{\"color\":\"#2a3f5f\"},\"hovermode\":\"closest\",\"hoverlabel\":{\"align\":\"left\"},\"paper_bgcolor\":\"white\",\"plot_bgcolor\":\"#E5ECF6\",\"polar\":{\"bgcolor\":\"#E5ECF6\",\"angularaxis\":{\"gridcolor\":\"white\",\"linecolor\":\"white\",\"ticks\":\"\"},\"radialaxis\":{\"gridcolor\":\"white\",\"linecolor\":\"white\",\"ticks\":\"\"}},\"ternary\":{\"bgcolor\":\"#E5ECF6\",\"aaxis\":{\"gridcolor\":\"white\",\"linecolor\":\"white\",\"ticks\":\"\"},\"baxis\":{\"gridcolor\":\"white\",\"linecolor\":\"white\",\"ticks\":\"\"},\"caxis\":{\"gridcolor\":\"white\",\"linecolor\":\"white\",\"ticks\":\"\"}},\"coloraxis\":{\"colorbar\":{\"outlinewidth\":0,\"ticks\":\"\"}},\"colorscale\":{\"sequential\":[[0.0,\"#0d0887\"],[0.1111111111111111,\"#46039f\"],[0.2222222222222222,\"#7201a8\"],[0.3333333333333333,\"#9c179e\"],[0.4444444444444444,\"#bd3786\"],[0.5555555555555556,\"#d8576b\"],[0.6666666666666666,\"#ed7953\"],[0.7777777777777778,\"#fb9f3a\"],[0.8888888888888888,\"#fdca26\"],[1.0,\"#f0f921\"]],\"sequentialminus\":[[0.0,\"#0d0887\"],[0.1111111111111111,\"#46039f\"],[0.2222222222222222,\"#7201a8\"],[0.3333333333333333,\"#9c179e\"],[0.4444444444444444,\"#bd3786\"],[0.5555555555555556,\"#d8576b\"],[0.6666666666666666,\"#ed7953\"],[0.7777777777777778,\"#fb9f3a\"],[0.8888888888888888,\"#fdca26\"],[1.0,\"#f0f921\"]],\"diverging\":[[0,\"#8e0152\"],[0.1,\"#c51b7d\"],[0.2,\"#de77ae\"],[0.3,\"#f1b6da\"],[0.4,\"#fde0ef\"],[0.5,\"#f7f7f7\"],[0.6,\"#e6f5d0\"],[0.7,\"#b8e186\"],[0.8,\"#7fbc41\"],[0.9,\"#4d9221\"],[1,\"#276419\"]]},\"xaxis\":{\"gridcolor\":\"white\",\"linecolor\":\"white\",\"ticks\":\"\",\"title\":{\"standoff\":15},\"zerolinecolor\":\"white\",\"automargin\":true,\"zerolinewidth\":2},\"yaxis\":{\"gridcolor\":\"white\",\"linecolor\":\"white\",\"ticks\":\"\",\"title\":{\"standoff\":15},\"zerolinecolor\":\"white\",\"automargin\":true,\"zerolinewidth\":2},\"scene\":{\"xaxis\":{\"backgroundcolor\":\"#E5ECF6\",\"gridcolor\":\"white\",\"linecolor\":\"white\",\"showbackground\":true,\"ticks\":\"\",\"zerolinecolor\":\"white\",\"gridwidth\":2},\"yaxis\":{\"backgroundcolor\":\"#E5ECF6\",\"gridcolor\":\"white\",\"linecolor\":\"white\",\"showbackground\":true,\"ticks\":\"\",\"zerolinecolor\":\"white\",\"gridwidth\":2},\"zaxis\":{\"backgroundcolor\":\"#E5ECF6\",\"gridcolor\":\"white\",\"linecolor\":\"white\",\"showbackground\":true,\"ticks\":\"\",\"zerolinecolor\":\"white\",\"gridwidth\":2}},\"shapedefaults\":{\"line\":{\"color\":\"#2a3f5f\"}},\"annotationdefaults\":{\"arrowcolor\":\"#2a3f5f\",\"arrowhead\":0,\"arrowwidth\":1},\"geo\":{\"bgcolor\":\"white\",\"landcolor\":\"#E5ECF6\",\"subunitcolor\":\"white\",\"showland\":true,\"showlakes\":true,\"lakecolor\":\"white\"},\"title\":{\"x\":0.05},\"mapbox\":{\"style\":\"light\"}}},\"xaxis\":{\"anchor\":\"y\",\"domain\":[0.0,1.0],\"title\":{\"text\":\"tax\"}},\"yaxis\":{\"anchor\":\"x\",\"domain\":[0.0,1.0],\"title\":{\"text\":\"crim\"}},\"coloraxis\":{\"colorbar\":{\"title\":{\"text\":\"cluster_1_labels\"}},\"colorscale\":[[0.0,\"#0d0887\"],[0.1111111111111111,\"#46039f\"],[0.2222222222222222,\"#7201a8\"],[0.3333333333333333,\"#9c179e\"],[0.4444444444444444,\"#bd3786\"],[0.5555555555555556,\"#d8576b\"],[0.6666666666666666,\"#ed7953\"],[0.7777777777777778,\"#fb9f3a\"],[0.8888888888888888,\"#fdca26\"],[1.0,\"#f0f921\"]]},\"legend\":{\"tracegroupgap\":0},\"title\":{\"text\":\"Cluster\"}},                        {\"responsive\": true}                    ).then(function(){\n",
       "                            \n",
       "var gd = document.getElementById('9754f20f-1151-4d48-a135-51ed732ae2db');\n",
       "var x = new MutationObserver(function (mutations, observer) {{\n",
       "        var display = window.getComputedStyle(gd).display;\n",
       "        if (!display || display === 'none') {{\n",
       "            console.log([gd, 'removed!']);\n",
       "            Plotly.purge(gd);\n",
       "            observer.disconnect();\n",
       "        }}\n",
       "}});\n",
       "\n",
       "// Listen for the removal of the full notebook cells\n",
       "var notebookContainer = gd.closest('#notebook-container');\n",
       "if (notebookContainer) {{\n",
       "    x.observe(notebookContainer, {childList: true});\n",
       "}}\n",
       "\n",
       "// Listen for the clearing of the current output cell\n",
       "var outputEl = gd.closest('.output');\n",
       "if (outputEl) {{\n",
       "    x.observe(outputEl, {childList: true});\n",
       "}}\n",
       "\n",
       "                        })                };                });            </script>        </div>"
      ]
     },
     "metadata": {},
     "output_type": "display_data"
    }
   ],
   "source": [
    "plot = px.scatter(data_frame=Y,\n",
    "                 x = 'tax',\n",
    "                 y = 'crim',\n",
    "                color = 'cluster_1_labels',\n",
    "                 title = 'Cluster')\n",
    "plot.show()"
   ]
  },
  {
   "cell_type": "code",
   "execution_count": 133,
   "id": "0d6c5fec-95f0-4e53-8022-fac9db41e9be",
   "metadata": {},
   "outputs": [
    {
     "data": {
      "application/vnd.plotly.v1+json": {
       "config": {
        "plotlyServerURL": "https://plot.ly"
       },
       "data": [
        {
         "hovertemplate": "tax=%{x}<br>rad=%{y}<br>cluster_1_labels=%{marker.color}<extra></extra>",
         "legendgroup": "",
         "marker": {
          "color": [
           0,
           0,
           0,
           0,
           0,
           0,
           0,
           0,
           0,
           0,
           0,
           0,
           0,
           0,
           0,
           0,
           0,
           0,
           0,
           0,
           0,
           0,
           0,
           0,
           0,
           0,
           0,
           0,
           0,
           0,
           0,
           0,
           0,
           0,
           0,
           0,
           0,
           0,
           0,
           0,
           0,
           0,
           0,
           0,
           0,
           0,
           0,
           0,
           0,
           0,
           0,
           0,
           0,
           0,
           0,
           0,
           0,
           0,
           0,
           0,
           0,
           0,
           0,
           0,
           0,
           0,
           0,
           0,
           0,
           0,
           0,
           0,
           0,
           0,
           0,
           0,
           0,
           0,
           0,
           0,
           0,
           0,
           0,
           0,
           0,
           0,
           0,
           0,
           0,
           0,
           0,
           0,
           0,
           0,
           0,
           0,
           0,
           0,
           0,
           0,
           0,
           0,
           0,
           0,
           0,
           0,
           0,
           0,
           0,
           0,
           0,
           0,
           0,
           0,
           0,
           0,
           0,
           0,
           0,
           0,
           0,
           0,
           0,
           0,
           0,
           0,
           0,
           0,
           0,
           0,
           0,
           0,
           0,
           0,
           0,
           0,
           0,
           0,
           0,
           0,
           0,
           0,
           0,
           0,
           0,
           0,
           0,
           0,
           0,
           0,
           0,
           0,
           0,
           0,
           0,
           0,
           0,
           0,
           0,
           0,
           0,
           0,
           0,
           0,
           0,
           0,
           0,
           0,
           0,
           0,
           0,
           0,
           0,
           0,
           0,
           0,
           0,
           0,
           0,
           0,
           0,
           0,
           0,
           0,
           0,
           0,
           0,
           0,
           0,
           0,
           0,
           0,
           0,
           0,
           0,
           0,
           0,
           0,
           0,
           0,
           0,
           0,
           0,
           0,
           0,
           0,
           0,
           0,
           0,
           0,
           0,
           0,
           0,
           0,
           0,
           0,
           0,
           0,
           0,
           0,
           0,
           0,
           0,
           0,
           0,
           0,
           0,
           0,
           0,
           0,
           0,
           0,
           0,
           0,
           0,
           0,
           0,
           0,
           0,
           0,
           0,
           0,
           0,
           0,
           0,
           0,
           0,
           0,
           0,
           0,
           0,
           0,
           0,
           0,
           0,
           0,
           0,
           0,
           0,
           0,
           0,
           0,
           0,
           0,
           0,
           0,
           0,
           0,
           0,
           0,
           0,
           0,
           0,
           0,
           0,
           0,
           0,
           0,
           0,
           0,
           0,
           0,
           0,
           0,
           0,
           0,
           0,
           0,
           0,
           0,
           0,
           0,
           0,
           0,
           0,
           0,
           0,
           0,
           0,
           0,
           0,
           0,
           0,
           0,
           0,
           0,
           0,
           0,
           0,
           0,
           0,
           0,
           0,
           0,
           0,
           0,
           0,
           0,
           0,
           0,
           0,
           0,
           0,
           0,
           0,
           0,
           0,
           0,
           0,
           0,
           0,
           0,
           0,
           0,
           0,
           0,
           0,
           0,
           0,
           0,
           0,
           0,
           0,
           0,
           0,
           0,
           0,
           0,
           0,
           0,
           0,
           0,
           0,
           0,
           0,
           0,
           1,
           1,
           1,
           1,
           1,
           1,
           1,
           1,
           1,
           1,
           1,
           1,
           1,
           1,
           1,
           1,
           1,
           1,
           1,
           1,
           1,
           1,
           1,
           1,
           1,
           1,
           1,
           1,
           1,
           1,
           1,
           1,
           1,
           1,
           1,
           1,
           1,
           1,
           1,
           1,
           1,
           1,
           1,
           1,
           1,
           1,
           1,
           1,
           1,
           1,
           1,
           1,
           1,
           1,
           1,
           1,
           1,
           1,
           1,
           1,
           1,
           1,
           1,
           1,
           1,
           1,
           1,
           1,
           1,
           1,
           1,
           1,
           1,
           1,
           1,
           1,
           1,
           1,
           1,
           1,
           1,
           1,
           1,
           1,
           1,
           1,
           1,
           1,
           1,
           1,
           1,
           1,
           1,
           1,
           1,
           1,
           1,
           1,
           1,
           1,
           1,
           1,
           1,
           1,
           1,
           1,
           1,
           1,
           1,
           1,
           1,
           1,
           1,
           1,
           1,
           1,
           1,
           1,
           1,
           1,
           1,
           1,
           1,
           1,
           1,
           1,
           1,
           1,
           1,
           1,
           1,
           1,
           1,
           1,
           1,
           1,
           1,
           0,
           0,
           0,
           0,
           0,
           0,
           0,
           0,
           0,
           0,
           0,
           0,
           0
          ],
          "coloraxis": "coloraxis",
          "symbol": "circle"
         },
         "mode": "markers",
         "name": "",
         "orientation": "v",
         "showlegend": false,
         "type": "scatter",
         "x": [
          296,
          242,
          242,
          222,
          222,
          222,
          311,
          311,
          311,
          311,
          311,
          311,
          311,
          307,
          307,
          307,
          307,
          307,
          307,
          307,
          307,
          307,
          307,
          307,
          307,
          307,
          307,
          307,
          307,
          307,
          307,
          307,
          307,
          307,
          307,
          279,
          279,
          279,
          279,
          252,
          252,
          233,
          233,
          233,
          233,
          233,
          233,
          233,
          233,
          233,
          243,
          243,
          243,
          243,
          469,
          226,
          313,
          256,
          284,
          284,
          284,
          284,
          284,
          284,
          216,
          337,
          337,
          345,
          345,
          345,
          305,
          305,
          305,
          305,
          398,
          398,
          398,
          398,
          398,
          398,
          281,
          281,
          281,
          281,
          247,
          247,
          247,
          247,
          270,
          270,
          270,
          270,
          270,
          270,
          270,
          276,
          276,
          276,
          276,
          276,
          384,
          384,
          384,
          384,
          384,
          384,
          384,
          384,
          384,
          384,
          384,
          432,
          432,
          432,
          432,
          432,
          432,
          432,
          432,
          432,
          188,
          188,
          188,
          188,
          188,
          188,
          188,
          437,
          437,
          437,
          437,
          437,
          437,
          437,
          437,
          437,
          437,
          437,
          437,
          437,
          437,
          437,
          403,
          403,
          403,
          403,
          403,
          403,
          403,
          403,
          403,
          403,
          403,
          403,
          403,
          403,
          403,
          403,
          403,
          403,
          403,
          403,
          403,
          403,
          403,
          403,
          403,
          403,
          403,
          403,
          403,
          403,
          296,
          296,
          296,
          296,
          296,
          296,
          296,
          193,
          193,
          193,
          193,
          193,
          193,
          193,
          193,
          398,
          398,
          398,
          398,
          398,
          398,
          265,
          265,
          255,
          329,
          329,
          329,
          402,
          402,
          348,
          348,
          224,
          224,
          277,
          277,
          277,
          277,
          277,
          277,
          277,
          277,
          277,
          277,
          277,
          276,
          276,
          276,
          276,
          307,
          307,
          307,
          307,
          307,
          307,
          307,
          307,
          307,
          307,
          307,
          307,
          307,
          307,
          307,
          307,
          307,
          307,
          300,
          300,
          300,
          300,
          300,
          300,
          330,
          330,
          330,
          330,
          330,
          330,
          330,
          330,
          330,
          330,
          315,
          315,
          244,
          264,
          264,
          264,
          264,
          264,
          264,
          264,
          264,
          264,
          264,
          264,
          264,
          223,
          223,
          223,
          223,
          223,
          254,
          254,
          254,
          254,
          254,
          216,
          216,
          216,
          216,
          198,
          285,
          300,
          241,
          293,
          293,
          293,
          245,
          245,
          245,
          289,
          289,
          289,
          289,
          289,
          358,
          358,
          358,
          329,
          329,
          329,
          222,
          222,
          222,
          222,
          304,
          304,
          304,
          304,
          304,
          304,
          304,
          304,
          304,
          304,
          304,
          304,
          287,
          287,
          287,
          287,
          287,
          287,
          287,
          287,
          430,
          430,
          430,
          304,
          304,
          224,
          224,
          224,
          224,
          224,
          224,
          224,
          224,
          284,
          422,
          370,
          370,
          352,
          352,
          351,
          280,
          335,
          335,
          411,
          411,
          187,
          334,
          334,
          666,
          666,
          666,
          666,
          666,
          666,
          666,
          666,
          666,
          666,
          666,
          666,
          666,
          666,
          666,
          666,
          666,
          666,
          666,
          666,
          666,
          666,
          666,
          666,
          666,
          666,
          666,
          666,
          666,
          666,
          666,
          666,
          666,
          666,
          666,
          666,
          666,
          666,
          666,
          666,
          666,
          666,
          666,
          666,
          666,
          666,
          666,
          666,
          666,
          666,
          666,
          666,
          666,
          666,
          666,
          666,
          666,
          666,
          666,
          666,
          666,
          666,
          666,
          666,
          666,
          666,
          666,
          666,
          666,
          666,
          666,
          666,
          666,
          666,
          666,
          666,
          666,
          666,
          666,
          666,
          666,
          666,
          666,
          666,
          666,
          666,
          666,
          666,
          666,
          666,
          666,
          666,
          666,
          666,
          666,
          666,
          666,
          666,
          666,
          666,
          666,
          666,
          666,
          666,
          666,
          666,
          666,
          666,
          666,
          666,
          666,
          666,
          666,
          666,
          666,
          666,
          666,
          666,
          666,
          666,
          666,
          666,
          666,
          666,
          666,
          666,
          666,
          666,
          666,
          666,
          666,
          666,
          711,
          711,
          711,
          711,
          711,
          391,
          391,
          391,
          391,
          391,
          391,
          391,
          391,
          273,
          273,
          273,
          273,
          273
         ],
         "xaxis": "x",
         "y": [
          1,
          2,
          2,
          3,
          3,
          3,
          5,
          5,
          5,
          5,
          5,
          5,
          5,
          4,
          4,
          4,
          4,
          4,
          4,
          4,
          4,
          4,
          4,
          4,
          4,
          4,
          4,
          4,
          4,
          4,
          4,
          4,
          4,
          4,
          4,
          5,
          5,
          5,
          5,
          3,
          3,
          3,
          3,
          3,
          3,
          3,
          3,
          3,
          3,
          3,
          4,
          4,
          4,
          4,
          3,
          5,
          2,
          5,
          8,
          8,
          8,
          8,
          8,
          8,
          3,
          4,
          4,
          4,
          4,
          4,
          4,
          4,
          4,
          4,
          5,
          5,
          5,
          5,
          5,
          5,
          4,
          4,
          4,
          4,
          3,
          3,
          3,
          3,
          2,
          2,
          2,
          2,
          4,
          4,
          4,
          2,
          2,
          2,
          2,
          2,
          5,
          5,
          5,
          5,
          5,
          5,
          5,
          5,
          5,
          5,
          5,
          6,
          6,
          6,
          6,
          6,
          6,
          6,
          6,
          6,
          2,
          2,
          2,
          2,
          2,
          2,
          2,
          4,
          4,
          4,
          4,
          4,
          4,
          4,
          4,
          4,
          4,
          4,
          4,
          4,
          4,
          4,
          5,
          5,
          5,
          5,
          5,
          5,
          5,
          5,
          5,
          5,
          5,
          5,
          5,
          5,
          5,
          5,
          5,
          5,
          5,
          5,
          5,
          5,
          5,
          5,
          5,
          5,
          5,
          5,
          5,
          5,
          5,
          5,
          5,
          5,
          5,
          5,
          5,
          3,
          3,
          3,
          3,
          3,
          3,
          3,
          3,
          5,
          5,
          5,
          5,
          5,
          5,
          1,
          1,
          4,
          2,
          2,
          2,
          3,
          3,
          2,
          2,
          4,
          4,
          4,
          4,
          4,
          4,
          4,
          4,
          4,
          4,
          4,
          4,
          4,
          5,
          5,
          5,
          5,
          8,
          8,
          8,
          8,
          8,
          8,
          8,
          8,
          8,
          8,
          8,
          8,
          8,
          8,
          8,
          8,
          8,
          8,
          6,
          6,
          6,
          6,
          6,
          6,
          7,
          7,
          7,
          7,
          7,
          7,
          7,
          7,
          7,
          7,
          1,
          1,
          3,
          5,
          5,
          5,
          5,
          5,
          5,
          5,
          5,
          5,
          5,
          5,
          5,
          3,
          3,
          3,
          3,
          3,
          4,
          4,
          4,
          4,
          4,
          5,
          5,
          5,
          5,
          1,
          1,
          1,
          1,
          6,
          6,
          6,
          4,
          4,
          4,
          4,
          4,
          4,
          4,
          4,
          5,
          5,
          5,
          7,
          7,
          7,
          7,
          7,
          7,
          7,
          4,
          4,
          4,
          4,
          4,
          4,
          4,
          4,
          4,
          4,
          4,
          4,
          5,
          5,
          5,
          5,
          5,
          5,
          5,
          5,
          4,
          4,
          4,
          1,
          1,
          5,
          5,
          5,
          5,
          5,
          5,
          5,
          5,
          1,
          1,
          5,
          5,
          3,
          3,
          4,
          4,
          1,
          1,
          4,
          4,
          5,
          4,
          4,
          24,
          24,
          24,
          24,
          24,
          24,
          24,
          24,
          24,
          24,
          24,
          24,
          24,
          24,
          24,
          24,
          24,
          24,
          24,
          24,
          24,
          24,
          24,
          24,
          24,
          24,
          24,
          24,
          24,
          24,
          24,
          24,
          24,
          24,
          24,
          24,
          24,
          24,
          24,
          24,
          24,
          24,
          24,
          24,
          24,
          24,
          24,
          24,
          24,
          24,
          24,
          24,
          24,
          24,
          24,
          24,
          24,
          24,
          24,
          24,
          24,
          24,
          24,
          24,
          24,
          24,
          24,
          24,
          24,
          24,
          24,
          24,
          24,
          24,
          24,
          24,
          24,
          24,
          24,
          24,
          24,
          24,
          24,
          24,
          24,
          24,
          24,
          24,
          24,
          24,
          24,
          24,
          24,
          24,
          24,
          24,
          24,
          24,
          24,
          24,
          24,
          24,
          24,
          24,
          24,
          24,
          24,
          24,
          24,
          24,
          24,
          24,
          24,
          24,
          24,
          24,
          24,
          24,
          24,
          24,
          24,
          24,
          24,
          24,
          24,
          24,
          24,
          24,
          24,
          24,
          24,
          24,
          4,
          4,
          4,
          4,
          4,
          6,
          6,
          6,
          6,
          6,
          6,
          6,
          6,
          1,
          1,
          1,
          1,
          1
         ],
         "yaxis": "y"
        }
       ],
       "layout": {
        "autosize": true,
        "coloraxis": {
         "colorbar": {
          "title": {
           "text": "cluster_1_labels"
          }
         },
         "colorscale": [
          [
           0,
           "#0d0887"
          ],
          [
           0.1111111111111111,
           "#46039f"
          ],
          [
           0.2222222222222222,
           "#7201a8"
          ],
          [
           0.3333333333333333,
           "#9c179e"
          ],
          [
           0.4444444444444444,
           "#bd3786"
          ],
          [
           0.5555555555555556,
           "#d8576b"
          ],
          [
           0.6666666666666666,
           "#ed7953"
          ],
          [
           0.7777777777777778,
           "#fb9f3a"
          ],
          [
           0.8888888888888888,
           "#fdca26"
          ],
          [
           1,
           "#f0f921"
          ]
         ]
        },
        "legend": {
         "tracegroupgap": 0
        },
        "template": {
         "data": {
          "bar": [
           {
            "error_x": {
             "color": "#2a3f5f"
            },
            "error_y": {
             "color": "#2a3f5f"
            },
            "marker": {
             "line": {
              "color": "#E5ECF6",
              "width": 0.5
             },
             "pattern": {
              "fillmode": "overlay",
              "size": 10,
              "solidity": 0.2
             }
            },
            "type": "bar"
           }
          ],
          "barpolar": [
           {
            "marker": {
             "line": {
              "color": "#E5ECF6",
              "width": 0.5
             },
             "pattern": {
              "fillmode": "overlay",
              "size": 10,
              "solidity": 0.2
             }
            },
            "type": "barpolar"
           }
          ],
          "carpet": [
           {
            "aaxis": {
             "endlinecolor": "#2a3f5f",
             "gridcolor": "white",
             "linecolor": "white",
             "minorgridcolor": "white",
             "startlinecolor": "#2a3f5f"
            },
            "baxis": {
             "endlinecolor": "#2a3f5f",
             "gridcolor": "white",
             "linecolor": "white",
             "minorgridcolor": "white",
             "startlinecolor": "#2a3f5f"
            },
            "type": "carpet"
           }
          ],
          "choropleth": [
           {
            "colorbar": {
             "outlinewidth": 0,
             "ticks": ""
            },
            "type": "choropleth"
           }
          ],
          "contour": [
           {
            "colorbar": {
             "outlinewidth": 0,
             "ticks": ""
            },
            "colorscale": [
             [
              0,
              "#0d0887"
             ],
             [
              0.1111111111111111,
              "#46039f"
             ],
             [
              0.2222222222222222,
              "#7201a8"
             ],
             [
              0.3333333333333333,
              "#9c179e"
             ],
             [
              0.4444444444444444,
              "#bd3786"
             ],
             [
              0.5555555555555556,
              "#d8576b"
             ],
             [
              0.6666666666666666,
              "#ed7953"
             ],
             [
              0.7777777777777778,
              "#fb9f3a"
             ],
             [
              0.8888888888888888,
              "#fdca26"
             ],
             [
              1,
              "#f0f921"
             ]
            ],
            "type": "contour"
           }
          ],
          "contourcarpet": [
           {
            "colorbar": {
             "outlinewidth": 0,
             "ticks": ""
            },
            "type": "contourcarpet"
           }
          ],
          "heatmap": [
           {
            "colorbar": {
             "outlinewidth": 0,
             "ticks": ""
            },
            "colorscale": [
             [
              0,
              "#0d0887"
             ],
             [
              0.1111111111111111,
              "#46039f"
             ],
             [
              0.2222222222222222,
              "#7201a8"
             ],
             [
              0.3333333333333333,
              "#9c179e"
             ],
             [
              0.4444444444444444,
              "#bd3786"
             ],
             [
              0.5555555555555556,
              "#d8576b"
             ],
             [
              0.6666666666666666,
              "#ed7953"
             ],
             [
              0.7777777777777778,
              "#fb9f3a"
             ],
             [
              0.8888888888888888,
              "#fdca26"
             ],
             [
              1,
              "#f0f921"
             ]
            ],
            "type": "heatmap"
           }
          ],
          "heatmapgl": [
           {
            "colorbar": {
             "outlinewidth": 0,
             "ticks": ""
            },
            "colorscale": [
             [
              0,
              "#0d0887"
             ],
             [
              0.1111111111111111,
              "#46039f"
             ],
             [
              0.2222222222222222,
              "#7201a8"
             ],
             [
              0.3333333333333333,
              "#9c179e"
             ],
             [
              0.4444444444444444,
              "#bd3786"
             ],
             [
              0.5555555555555556,
              "#d8576b"
             ],
             [
              0.6666666666666666,
              "#ed7953"
             ],
             [
              0.7777777777777778,
              "#fb9f3a"
             ],
             [
              0.8888888888888888,
              "#fdca26"
             ],
             [
              1,
              "#f0f921"
             ]
            ],
            "type": "heatmapgl"
           }
          ],
          "histogram": [
           {
            "marker": {
             "pattern": {
              "fillmode": "overlay",
              "size": 10,
              "solidity": 0.2
             }
            },
            "type": "histogram"
           }
          ],
          "histogram2d": [
           {
            "colorbar": {
             "outlinewidth": 0,
             "ticks": ""
            },
            "colorscale": [
             [
              0,
              "#0d0887"
             ],
             [
              0.1111111111111111,
              "#46039f"
             ],
             [
              0.2222222222222222,
              "#7201a8"
             ],
             [
              0.3333333333333333,
              "#9c179e"
             ],
             [
              0.4444444444444444,
              "#bd3786"
             ],
             [
              0.5555555555555556,
              "#d8576b"
             ],
             [
              0.6666666666666666,
              "#ed7953"
             ],
             [
              0.7777777777777778,
              "#fb9f3a"
             ],
             [
              0.8888888888888888,
              "#fdca26"
             ],
             [
              1,
              "#f0f921"
             ]
            ],
            "type": "histogram2d"
           }
          ],
          "histogram2dcontour": [
           {
            "colorbar": {
             "outlinewidth": 0,
             "ticks": ""
            },
            "colorscale": [
             [
              0,
              "#0d0887"
             ],
             [
              0.1111111111111111,
              "#46039f"
             ],
             [
              0.2222222222222222,
              "#7201a8"
             ],
             [
              0.3333333333333333,
              "#9c179e"
             ],
             [
              0.4444444444444444,
              "#bd3786"
             ],
             [
              0.5555555555555556,
              "#d8576b"
             ],
             [
              0.6666666666666666,
              "#ed7953"
             ],
             [
              0.7777777777777778,
              "#fb9f3a"
             ],
             [
              0.8888888888888888,
              "#fdca26"
             ],
             [
              1,
              "#f0f921"
             ]
            ],
            "type": "histogram2dcontour"
           }
          ],
          "mesh3d": [
           {
            "colorbar": {
             "outlinewidth": 0,
             "ticks": ""
            },
            "type": "mesh3d"
           }
          ],
          "parcoords": [
           {
            "line": {
             "colorbar": {
              "outlinewidth": 0,
              "ticks": ""
             }
            },
            "type": "parcoords"
           }
          ],
          "pie": [
           {
            "automargin": true,
            "type": "pie"
           }
          ],
          "scatter": [
           {
            "fillpattern": {
             "fillmode": "overlay",
             "size": 10,
             "solidity": 0.2
            },
            "type": "scatter"
           }
          ],
          "scatter3d": [
           {
            "line": {
             "colorbar": {
              "outlinewidth": 0,
              "ticks": ""
             }
            },
            "marker": {
             "colorbar": {
              "outlinewidth": 0,
              "ticks": ""
             }
            },
            "type": "scatter3d"
           }
          ],
          "scattercarpet": [
           {
            "marker": {
             "colorbar": {
              "outlinewidth": 0,
              "ticks": ""
             }
            },
            "type": "scattercarpet"
           }
          ],
          "scattergeo": [
           {
            "marker": {
             "colorbar": {
              "outlinewidth": 0,
              "ticks": ""
             }
            },
            "type": "scattergeo"
           }
          ],
          "scattergl": [
           {
            "marker": {
             "colorbar": {
              "outlinewidth": 0,
              "ticks": ""
             }
            },
            "type": "scattergl"
           }
          ],
          "scattermapbox": [
           {
            "marker": {
             "colorbar": {
              "outlinewidth": 0,
              "ticks": ""
             }
            },
            "type": "scattermapbox"
           }
          ],
          "scatterpolar": [
           {
            "marker": {
             "colorbar": {
              "outlinewidth": 0,
              "ticks": ""
             }
            },
            "type": "scatterpolar"
           }
          ],
          "scatterpolargl": [
           {
            "marker": {
             "colorbar": {
              "outlinewidth": 0,
              "ticks": ""
             }
            },
            "type": "scatterpolargl"
           }
          ],
          "scatterternary": [
           {
            "marker": {
             "colorbar": {
              "outlinewidth": 0,
              "ticks": ""
             }
            },
            "type": "scatterternary"
           }
          ],
          "surface": [
           {
            "colorbar": {
             "outlinewidth": 0,
             "ticks": ""
            },
            "colorscale": [
             [
              0,
              "#0d0887"
             ],
             [
              0.1111111111111111,
              "#46039f"
             ],
             [
              0.2222222222222222,
              "#7201a8"
             ],
             [
              0.3333333333333333,
              "#9c179e"
             ],
             [
              0.4444444444444444,
              "#bd3786"
             ],
             [
              0.5555555555555556,
              "#d8576b"
             ],
             [
              0.6666666666666666,
              "#ed7953"
             ],
             [
              0.7777777777777778,
              "#fb9f3a"
             ],
             [
              0.8888888888888888,
              "#fdca26"
             ],
             [
              1,
              "#f0f921"
             ]
            ],
            "type": "surface"
           }
          ],
          "table": [
           {
            "cells": {
             "fill": {
              "color": "#EBF0F8"
             },
             "line": {
              "color": "white"
             }
            },
            "header": {
             "fill": {
              "color": "#C8D4E3"
             },
             "line": {
              "color": "white"
             }
            },
            "type": "table"
           }
          ]
         },
         "layout": {
          "annotationdefaults": {
           "arrowcolor": "#2a3f5f",
           "arrowhead": 0,
           "arrowwidth": 1
          },
          "autotypenumbers": "strict",
          "coloraxis": {
           "colorbar": {
            "outlinewidth": 0,
            "ticks": ""
           }
          },
          "colorscale": {
           "diverging": [
            [
             0,
             "#8e0152"
            ],
            [
             0.1,
             "#c51b7d"
            ],
            [
             0.2,
             "#de77ae"
            ],
            [
             0.3,
             "#f1b6da"
            ],
            [
             0.4,
             "#fde0ef"
            ],
            [
             0.5,
             "#f7f7f7"
            ],
            [
             0.6,
             "#e6f5d0"
            ],
            [
             0.7,
             "#b8e186"
            ],
            [
             0.8,
             "#7fbc41"
            ],
            [
             0.9,
             "#4d9221"
            ],
            [
             1,
             "#276419"
            ]
           ],
           "sequential": [
            [
             0,
             "#0d0887"
            ],
            [
             0.1111111111111111,
             "#46039f"
            ],
            [
             0.2222222222222222,
             "#7201a8"
            ],
            [
             0.3333333333333333,
             "#9c179e"
            ],
            [
             0.4444444444444444,
             "#bd3786"
            ],
            [
             0.5555555555555556,
             "#d8576b"
            ],
            [
             0.6666666666666666,
             "#ed7953"
            ],
            [
             0.7777777777777778,
             "#fb9f3a"
            ],
            [
             0.8888888888888888,
             "#fdca26"
            ],
            [
             1,
             "#f0f921"
            ]
           ],
           "sequentialminus": [
            [
             0,
             "#0d0887"
            ],
            [
             0.1111111111111111,
             "#46039f"
            ],
            [
             0.2222222222222222,
             "#7201a8"
            ],
            [
             0.3333333333333333,
             "#9c179e"
            ],
            [
             0.4444444444444444,
             "#bd3786"
            ],
            [
             0.5555555555555556,
             "#d8576b"
            ],
            [
             0.6666666666666666,
             "#ed7953"
            ],
            [
             0.7777777777777778,
             "#fb9f3a"
            ],
            [
             0.8888888888888888,
             "#fdca26"
            ],
            [
             1,
             "#f0f921"
            ]
           ]
          },
          "colorway": [
           "#636efa",
           "#EF553B",
           "#00cc96",
           "#ab63fa",
           "#FFA15A",
           "#19d3f3",
           "#FF6692",
           "#B6E880",
           "#FF97FF",
           "#FECB52"
          ],
          "font": {
           "color": "#2a3f5f"
          },
          "geo": {
           "bgcolor": "white",
           "lakecolor": "white",
           "landcolor": "#E5ECF6",
           "showlakes": true,
           "showland": true,
           "subunitcolor": "white"
          },
          "hoverlabel": {
           "align": "left"
          },
          "hovermode": "closest",
          "mapbox": {
           "style": "light"
          },
          "paper_bgcolor": "white",
          "plot_bgcolor": "#E5ECF6",
          "polar": {
           "angularaxis": {
            "gridcolor": "white",
            "linecolor": "white",
            "ticks": ""
           },
           "bgcolor": "#E5ECF6",
           "radialaxis": {
            "gridcolor": "white",
            "linecolor": "white",
            "ticks": ""
           }
          },
          "scene": {
           "xaxis": {
            "backgroundcolor": "#E5ECF6",
            "gridcolor": "white",
            "gridwidth": 2,
            "linecolor": "white",
            "showbackground": true,
            "ticks": "",
            "zerolinecolor": "white"
           },
           "yaxis": {
            "backgroundcolor": "#E5ECF6",
            "gridcolor": "white",
            "gridwidth": 2,
            "linecolor": "white",
            "showbackground": true,
            "ticks": "",
            "zerolinecolor": "white"
           },
           "zaxis": {
            "backgroundcolor": "#E5ECF6",
            "gridcolor": "white",
            "gridwidth": 2,
            "linecolor": "white",
            "showbackground": true,
            "ticks": "",
            "zerolinecolor": "white"
           }
          },
          "shapedefaults": {
           "line": {
            "color": "#2a3f5f"
           }
          },
          "ternary": {
           "aaxis": {
            "gridcolor": "white",
            "linecolor": "white",
            "ticks": ""
           },
           "baxis": {
            "gridcolor": "white",
            "linecolor": "white",
            "ticks": ""
           },
           "bgcolor": "#E5ECF6",
           "caxis": {
            "gridcolor": "white",
            "linecolor": "white",
            "ticks": ""
           }
          },
          "title": {
           "x": 0.05
          },
          "xaxis": {
           "automargin": true,
           "gridcolor": "white",
           "linecolor": "white",
           "ticks": "",
           "title": {
            "standoff": 15
           },
           "zerolinecolor": "white",
           "zerolinewidth": 2
          },
          "yaxis": {
           "automargin": true,
           "gridcolor": "white",
           "linecolor": "white",
           "ticks": "",
           "title": {
            "standoff": 15
           },
           "zerolinecolor": "white",
           "zerolinewidth": 2
          }
         }
        },
        "title": {
         "text": "Cluster"
        },
        "xaxis": {
         "anchor": "y",
         "autorange": true,
         "domain": [
          0,
          1
         ],
         "range": [
          154.6657809270741,
          743.3342190729259
         ],
         "title": {
          "text": "tax"
         },
         "type": "linear"
        },
        "yaxis": {
         "anchor": "x",
         "autorange": true,
         "domain": [
          0,
          1
         ],
         "range": [
          -0.8980582524271845,
          25.898058252427184
         ],
         "title": {
          "text": "rad"
         },
         "type": "linear"
        }
       }
      },
      "image/png": "[encoded data removed]",
      "text/html": [
       "<div>                            <div id=\"9b71e887-8476-426f-9254-2c6cd7b373f2\" class=\"plotly-graph-div\" style=\"height:525px; width:100%;\"></div>            <script type=\"text/javascript\">                require([\"plotly\"], function(Plotly) {                    window.PLOTLYENV=window.PLOTLYENV || {};                                    if (document.getElementById(\"9b71e887-8476-426f-9254-2c6cd7b373f2\")) {                    Plotly.newPlot(                        \"9b71e887-8476-426f-9254-2c6cd7b373f2\",                        [{\"hovertemplate\":\"tax=%{x}\\u003cbr\\u003erad=%{y}\\u003cbr\\u003ecluster_1_labels=%{marker.color}\\u003cextra\\u003e\\u003c\\u002fextra\\u003e\",\"legendgroup\":\"\",\"marker\":{\"color\":[0,0,0,0,0,0,0,0,0,0,0,0,0,0,0,0,0,0,0,0,0,0,0,0,0,0,0,0,0,0,0,0,0,0,0,0,0,0,0,0,0,0,0,0,0,0,0,0,0,0,0,0,0,0,0,0,0,0,0,0,0,0,0,0,0,0,0,0,0,0,0,0,0,0,0,0,0,0,0,0,0,0,0,0,0,0,0,0,0,0,0,0,0,0,0,0,0,0,0,0,0,0,0,0,0,0,0,0,0,0,0,0,0,0,0,0,0,0,0,0,0,0,0,0,0,0,0,0,0,0,0,0,0,0,0,0,0,0,0,0,0,0,0,0,0,0,0,0,0,0,0,0,0,0,0,0,0,0,0,0,0,0,0,0,0,0,0,0,0,0,0,0,0,0,0,0,0,0,0,0,0,0,0,0,0,0,0,0,0,0,0,0,0,0,0,0,0,0,0,0,0,0,0,0,0,0,0,0,0,0,0,0,0,0,0,0,0,0,0,0,0,0,0,0,0,0,0,0,0,0,0,0,0,0,0,0,0,0,0,0,0,0,0,0,0,0,0,0,0,0,0,0,0,0,0,0,0,0,0,0,0,0,0,0,0,0,0,0,0,0,0,0,0,0,0,0,0,0,0,0,0,0,0,0,0,0,0,0,0,0,0,0,0,0,0,0,0,0,0,0,0,0,0,0,0,0,0,0,0,0,0,0,0,0,0,0,0,0,0,0,0,0,0,0,0,0,0,0,0,0,0,0,0,0,0,0,0,0,0,0,0,0,0,0,0,0,0,0,0,0,0,0,0,0,0,0,1,1,1,1,1,1,1,1,1,1,1,1,1,1,1,1,1,1,1,1,1,1,1,1,1,1,1,1,1,1,1,1,1,1,1,1,1,1,1,1,1,1,1,1,1,1,1,1,1,1,1,1,1,1,1,1,1,1,1,1,1,1,1,1,1,1,1,1,1,1,1,1,1,1,1,1,1,1,1,1,1,1,1,1,1,1,1,1,1,1,1,1,1,1,1,1,1,1,1,1,1,1,1,1,1,1,1,1,1,1,1,1,1,1,1,1,1,1,1,1,1,1,1,1,1,1,1,1,1,1,1,1,1,1,1,1,1,0,0,0,0,0,0,0,0,0,0,0,0,0],\"coloraxis\":\"coloraxis\",\"symbol\":\"circle\"},\"mode\":\"markers\",\"name\":\"\",\"orientation\":\"v\",\"showlegend\":false,\"x\":[296,242,242,222,222,222,311,311,311,311,311,311,311,307,307,307,307,307,307,307,307,307,307,307,307,307,307,307,307,307,307,307,307,307,307,279,279,279,279,252,252,233,233,233,233,233,233,233,233,233,243,243,243,243,469,226,313,256,284,284,284,284,284,284,216,337,337,345,345,345,305,305,305,305,398,398,398,398,398,398,281,281,281,281,247,247,247,247,270,270,270,270,270,270,270,276,276,276,276,276,384,384,384,384,384,384,384,384,384,384,384,432,432,432,432,432,432,432,432,432,188,188,188,188,188,188,188,437,437,437,437,437,437,437,437,437,437,437,437,437,437,437,403,403,403,403,403,403,403,403,403,403,403,403,403,403,403,403,403,403,403,403,403,403,403,403,403,403,403,403,403,403,296,296,296,296,296,296,296,193,193,193,193,193,193,193,193,398,398,398,398,398,398,265,265,255,329,329,329,402,402,348,348,224,224,277,277,277,277,277,277,277,277,277,277,277,276,276,276,276,307,307,307,307,307,307,307,307,307,307,307,307,307,307,307,307,307,307,300,300,300,300,300,300,330,330,330,330,330,330,330,330,330,330,315,315,244,264,264,264,264,264,264,264,264,264,264,264,264,223,223,223,223,223,254,254,254,254,254,216,216,216,216,198,285,300,241,293,293,293,245,245,245,289,289,289,289,289,358,358,358,329,329,329,222,222,222,222,304,304,304,304,304,304,304,304,304,304,304,304,287,287,287,287,287,287,287,287,430,430,430,304,304,224,224,224,224,224,224,224,224,284,422,370,370,352,352,351,280,335,335,411,411,187,334,334,666,666,666,666,666,666,666,666,666,666,666,666,666,666,666,666,666,666,666,666,666,666,666,666,666,666,666,666,666,666,666,666,666,666,666,666,666,666,666,666,666,666,666,666,666,666,666,666,666,666,666,666,666,666,666,666,666,666,666,666,666,666,666,666,666,666,666,666,666,666,666,666,666,666,666,666,666,666,666,666,666,666,666,666,666,666,666,666,666,666,666,666,666,666,666,666,666,666,666,666,666,666,666,666,666,666,666,666,666,666,666,666,666,666,666,666,666,666,666,666,666,666,666,666,666,666,666,666,666,666,666,666,711,711,711,711,711,391,391,391,391,391,391,391,391,273,273,273,273,273],\"xaxis\":\"x\",\"y\":[1,2,2,3,3,3,5,5,5,5,5,5,5,4,4,4,4,4,4,4,4,4,4,4,4,4,4,4,4,4,4,4,4,4,4,5,5,5,5,3,3,3,3,3,3,3,3,3,3,3,4,4,4,4,3,5,2,5,8,8,8,8,8,8,3,4,4,4,4,4,4,4,4,4,5,5,5,5,5,5,4,4,4,4,3,3,3,3,2,2,2,2,4,4,4,2,2,2,2,2,5,5,5,5,5,5,5,5,5,5,5,6,6,6,6,6,6,6,6,6,2,2,2,2,2,2,2,4,4,4,4,4,4,4,4,4,4,4,4,4,4,4,5,5,5,5,5,5,5,5,5,5,5,5,5,5,5,5,5,5,5,5,5,5,5,5,5,5,5,5,5,5,5,5,5,5,5,5,5,3,3,3,3,3,3,3,3,5,5,5,5,5,5,1,1,4,2,2,2,3,3,2,2,4,4,4,4,4,4,4,4,4,4,4,4,4,5,5,5,5,8,8,8,8,8,8,8,8,8,8,8,8,8,8,8,8,8,8,6,6,6,6,6,6,7,7,7,7,7,7,7,7,7,7,1,1,3,5,5,5,5,5,5,5,5,5,5,5,5,3,3,3,3,3,4,4,4,4,4,5,5,5,5,1,1,1,1,6,6,6,4,4,4,4,4,4,4,4,5,5,5,7,7,7,7,7,7,7,4,4,4,4,4,4,4,4,4,4,4,4,5,5,5,5,5,5,5,5,4,4,4,1,1,5,5,5,5,5,5,5,5,1,1,5,5,3,3,4,4,1,1,4,4,5,4,4,24,24,24,24,24,24,24,24,24,24,24,24,24,24,24,24,24,24,24,24,24,24,24,24,24,24,24,24,24,24,24,24,24,24,24,24,24,24,24,24,24,24,24,24,24,24,24,24,24,24,24,24,24,24,24,24,24,24,24,24,24,24,24,24,24,24,24,24,24,24,24,24,24,24,24,24,24,24,24,24,24,24,24,24,24,24,24,24,24,24,24,24,24,24,24,24,24,24,24,24,24,24,24,24,24,24,24,24,24,24,24,24,24,24,24,24,24,24,24,24,24,24,24,24,24,24,24,24,24,24,24,24,4,4,4,4,4,6,6,6,6,6,6,6,6,1,1,1,1,1],\"yaxis\":\"y\",\"type\":\"scatter\"}],                        {\"template\":{\"data\":{\"histogram2dcontour\":[{\"type\":\"histogram2dcontour\",\"colorbar\":{\"outlinewidth\":0,\"ticks\":\"\"},\"colorscale\":[[0.0,\"#0d0887\"],[0.1111111111111111,\"#46039f\"],[0.2222222222222222,\"#7201a8\"],[0.3333333333333333,\"#9c179e\"],[0.4444444444444444,\"#bd3786\"],[0.5555555555555556,\"#d8576b\"],[0.6666666666666666,\"#ed7953\"],[0.7777777777777778,\"#fb9f3a\"],[0.8888888888888888,\"#fdca26\"],[1.0,\"#f0f921\"]]}],\"choropleth\":[{\"type\":\"choropleth\",\"colorbar\":{\"outlinewidth\":0,\"ticks\":\"\"}}],\"histogram2d\":[{\"type\":\"histogram2d\",\"colorbar\":{\"outlinewidth\":0,\"ticks\":\"\"},\"colorscale\":[[0.0,\"#0d0887\"],[0.1111111111111111,\"#46039f\"],[0.2222222222222222,\"#7201a8\"],[0.3333333333333333,\"#9c179e\"],[0.4444444444444444,\"#bd3786\"],[0.5555555555555556,\"#d8576b\"],[0.6666666666666666,\"#ed7953\"],[0.7777777777777778,\"#fb9f3a\"],[0.8888888888888888,\"#fdca26\"],[1.0,\"#f0f921\"]]}],\"heatmap\":[{\"type\":\"heatmap\",\"colorbar\":{\"outlinewidth\":0,\"ticks\":\"\"},\"colorscale\":[[0.0,\"#0d0887\"],[0.1111111111111111,\"#46039f\"],[0.2222222222222222,\"#7201a8\"],[0.3333333333333333,\"#9c179e\"],[0.4444444444444444,\"#bd3786\"],[0.5555555555555556,\"#d8576b\"],[0.6666666666666666,\"#ed7953\"],[0.7777777777777778,\"#fb9f3a\"],[0.8888888888888888,\"#fdca26\"],[1.0,\"#f0f921\"]]}],\"heatmapgl\":[{\"type\":\"heatmapgl\",\"colorbar\":{\"outlinewidth\":0,\"ticks\":\"\"},\"colorscale\":[[0.0,\"#0d0887\"],[0.1111111111111111,\"#46039f\"],[0.2222222222222222,\"#7201a8\"],[0.3333333333333333,\"#9c179e\"],[0.4444444444444444,\"#bd3786\"],[0.5555555555555556,\"#d8576b\"],[0.6666666666666666,\"#ed7953\"],[0.7777777777777778,\"#fb9f3a\"],[0.8888888888888888,\"#fdca26\"],[1.0,\"#f0f921\"]]}],\"contourcarpet\":[{\"type\":\"contourcarpet\",\"colorbar\":{\"outlinewidth\":0,\"ticks\":\"\"}}],\"contour\":[{\"type\":\"contour\",\"colorbar\":{\"outlinewidth\":0,\"ticks\":\"\"},\"colorscale\":[[0.0,\"#0d0887\"],[0.1111111111111111,\"#46039f\"],[0.2222222222222222,\"#7201a8\"],[0.3333333333333333,\"#9c179e\"],[0.4444444444444444,\"#bd3786\"],[0.5555555555555556,\"#d8576b\"],[0.6666666666666666,\"#ed7953\"],[0.7777777777777778,\"#fb9f3a\"],[0.8888888888888888,\"#fdca26\"],[1.0,\"#f0f921\"]]}],\"surface\":[{\"type\":\"surface\",\"colorbar\":{\"outlinewidth\":0,\"ticks\":\"\"},\"colorscale\":[[0.0,\"#0d0887\"],[0.1111111111111111,\"#46039f\"],[0.2222222222222222,\"#7201a8\"],[0.3333333333333333,\"#9c179e\"],[0.4444444444444444,\"#bd3786\"],[0.5555555555555556,\"#d8576b\"],[0.6666666666666666,\"#ed7953\"],[0.7777777777777778,\"#fb9f3a\"],[0.8888888888888888,\"#fdca26\"],[1.0,\"#f0f921\"]]}],\"mesh3d\":[{\"type\":\"mesh3d\",\"colorbar\":{\"outlinewidth\":0,\"ticks\":\"\"}}],\"scatter\":[{\"fillpattern\":{\"fillmode\":\"overlay\",\"size\":10,\"solidity\":0.2},\"type\":\"scatter\"}],\"parcoords\":[{\"type\":\"parcoords\",\"line\":{\"colorbar\":{\"outlinewidth\":0,\"ticks\":\"\"}}}],\"scatterpolargl\":[{\"type\":\"scatterpolargl\",\"marker\":{\"colorbar\":{\"outlinewidth\":0,\"ticks\":\"\"}}}],\"bar\":[{\"error_x\":{\"color\":\"#2a3f5f\"},\"error_y\":{\"color\":\"#2a3f5f\"},\"marker\":{\"line\":{\"color\":\"#E5ECF6\",\"width\":0.5},\"pattern\":{\"fillmode\":\"overlay\",\"size\":10,\"solidity\":0.2}},\"type\":\"bar\"}],\"scattergeo\":[{\"type\":\"scattergeo\",\"marker\":{\"colorbar\":{\"outlinewidth\":0,\"ticks\":\"\"}}}],\"scatterpolar\":[{\"type\":\"scatterpolar\",\"marker\":{\"colorbar\":{\"outlinewidth\":0,\"ticks\":\"\"}}}],\"histogram\":[{\"marker\":{\"pattern\":{\"fillmode\":\"overlay\",\"size\":10,\"solidity\":0.2}},\"type\":\"histogram\"}],\"scattergl\":[{\"type\":\"scattergl\",\"marker\":{\"colorbar\":{\"outlinewidth\":0,\"ticks\":\"\"}}}],\"scatter3d\":[{\"type\":\"scatter3d\",\"line\":{\"colorbar\":{\"outlinewidth\":0,\"ticks\":\"\"}},\"marker\":{\"colorbar\":{\"outlinewidth\":0,\"ticks\":\"\"}}}],\"scattermapbox\":[{\"type\":\"scattermapbox\",\"marker\":{\"colorbar\":{\"outlinewidth\":0,\"ticks\":\"\"}}}],\"scatterternary\":[{\"type\":\"scatterternary\",\"marker\":{\"colorbar\":{\"outlinewidth\":0,\"ticks\":\"\"}}}],\"scattercarpet\":[{\"type\":\"scattercarpet\",\"marker\":{\"colorbar\":{\"outlinewidth\":0,\"ticks\":\"\"}}}],\"carpet\":[{\"aaxis\":{\"endlinecolor\":\"#2a3f5f\",\"gridcolor\":\"white\",\"linecolor\":\"white\",\"minorgridcolor\":\"white\",\"startlinecolor\":\"#2a3f5f\"},\"baxis\":{\"endlinecolor\":\"#2a3f5f\",\"gridcolor\":\"white\",\"linecolor\":\"white\",\"minorgridcolor\":\"white\",\"startlinecolor\":\"#2a3f5f\"},\"type\":\"carpet\"}],\"table\":[{\"cells\":{\"fill\":{\"color\":\"#EBF0F8\"},\"line\":{\"color\":\"white\"}},\"header\":{\"fill\":{\"color\":\"#C8D4E3\"},\"line\":{\"color\":\"white\"}},\"type\":\"table\"}],\"barpolar\":[{\"marker\":{\"line\":{\"color\":\"#E5ECF6\",\"width\":0.5},\"pattern\":{\"fillmode\":\"overlay\",\"size\":10,\"solidity\":0.2}},\"type\":\"barpolar\"}],\"pie\":[{\"automargin\":true,\"type\":\"pie\"}]},\"layout\":{\"autotypenumbers\":\"strict\",\"colorway\":[\"#636efa\",\"#EF553B\",\"#00cc96\",\"#ab63fa\",\"#FFA15A\",\"#19d3f3\",\"#FF6692\",\"#B6E880\",\"#FF97FF\",\"#FECB52\"],\"font\":{\"color\":\"#2a3f5f\"},\"hovermode\":\"closest\",\"hoverlabel\":{\"align\":\"left\"},\"paper_bgcolor\":\"white\",\"plot_bgcolor\":\"#E5ECF6\",\"polar\":{\"bgcolor\":\"#E5ECF6\",\"angularaxis\":{\"gridcolor\":\"white\",\"linecolor\":\"white\",\"ticks\":\"\"},\"radialaxis\":{\"gridcolor\":\"white\",\"linecolor\":\"white\",\"ticks\":\"\"}},\"ternary\":{\"bgcolor\":\"#E5ECF6\",\"aaxis\":{\"gridcolor\":\"white\",\"linecolor\":\"white\",\"ticks\":\"\"},\"baxis\":{\"gridcolor\":\"white\",\"linecolor\":\"white\",\"ticks\":\"\"},\"caxis\":{\"gridcolor\":\"white\",\"linecolor\":\"white\",\"ticks\":\"\"}},\"coloraxis\":{\"colorbar\":{\"outlinewidth\":0,\"ticks\":\"\"}},\"colorscale\":{\"sequential\":[[0.0,\"#0d0887\"],[0.1111111111111111,\"#46039f\"],[0.2222222222222222,\"#7201a8\"],[0.3333333333333333,\"#9c179e\"],[0.4444444444444444,\"#bd3786\"],[0.5555555555555556,\"#d8576b\"],[0.6666666666666666,\"#ed7953\"],[0.7777777777777778,\"#fb9f3a\"],[0.8888888888888888,\"#fdca26\"],[1.0,\"#f0f921\"]],\"sequentialminus\":[[0.0,\"#0d0887\"],[0.1111111111111111,\"#46039f\"],[0.2222222222222222,\"#7201a8\"],[0.3333333333333333,\"#9c179e\"],[0.4444444444444444,\"#bd3786\"],[0.5555555555555556,\"#d8576b\"],[0.6666666666666666,\"#ed7953\"],[0.7777777777777778,\"#fb9f3a\"],[0.8888888888888888,\"#fdca26\"],[1.0,\"#f0f921\"]],\"diverging\":[[0,\"#8e0152\"],[0.1,\"#c51b7d\"],[0.2,\"#de77ae\"],[0.3,\"#f1b6da\"],[0.4,\"#fde0ef\"],[0.5,\"#f7f7f7\"],[0.6,\"#e6f5d0\"],[0.7,\"#b8e186\"],[0.8,\"#7fbc41\"],[0.9,\"#4d9221\"],[1,\"#276419\"]]},\"xaxis\":{\"gridcolor\":\"white\",\"linecolor\":\"white\",\"ticks\":\"\",\"title\":{\"standoff\":15},\"zerolinecolor\":\"white\",\"automargin\":true,\"zerolinewidth\":2},\"yaxis\":{\"gridcolor\":\"white\",\"linecolor\":\"white\",\"ticks\":\"\",\"title\":{\"standoff\":15},\"zerolinecolor\":\"white\",\"automargin\":true,\"zerolinewidth\":2},\"scene\":{\"xaxis\":{\"backgroundcolor\":\"#E5ECF6\",\"gridcolor\":\"white\",\"linecolor\":\"white\",\"showbackground\":true,\"ticks\":\"\",\"zerolinecolor\":\"white\",\"gridwidth\":2},\"yaxis\":{\"backgroundcolor\":\"#E5ECF6\",\"gridcolor\":\"white\",\"linecolor\":\"white\",\"showbackground\":true,\"ticks\":\"\",\"zerolinecolor\":\"white\",\"gridwidth\":2},\"zaxis\":{\"backgroundcolor\":\"#E5ECF6\",\"gridcolor\":\"white\",\"linecolor\":\"white\",\"showbackground\":true,\"ticks\":\"\",\"zerolinecolor\":\"white\",\"gridwidth\":2}},\"shapedefaults\":{\"line\":{\"color\":\"#2a3f5f\"}},\"annotationdefaults\":{\"arrowcolor\":\"#2a3f5f\",\"arrowhead\":0,\"arrowwidth\":1},\"geo\":{\"bgcolor\":\"white\",\"landcolor\":\"#E5ECF6\",\"subunitcolor\":\"white\",\"showland\":true,\"showlakes\":true,\"lakecolor\":\"white\"},\"title\":{\"x\":0.05},\"mapbox\":{\"style\":\"light\"}}},\"xaxis\":{\"anchor\":\"y\",\"domain\":[0.0,1.0],\"title\":{\"text\":\"tax\"}},\"yaxis\":{\"anchor\":\"x\",\"domain\":[0.0,1.0],\"title\":{\"text\":\"rad\"}},\"coloraxis\":{\"colorbar\":{\"title\":{\"text\":\"cluster_1_labels\"}},\"colorscale\":[[0.0,\"#0d0887\"],[0.1111111111111111,\"#46039f\"],[0.2222222222222222,\"#7201a8\"],[0.3333333333333333,\"#9c179e\"],[0.4444444444444444,\"#bd3786\"],[0.5555555555555556,\"#d8576b\"],[0.6666666666666666,\"#ed7953\"],[0.7777777777777778,\"#fb9f3a\"],[0.8888888888888888,\"#fdca26\"],[1.0,\"#f0f921\"]]},\"legend\":{\"tracegroupgap\":0},\"title\":{\"text\":\"Cluster\"}},                        {\"responsive\": true}                    ).then(function(){\n",
       "                            \n",
       "var gd = document.getElementById('9b71e887-8476-426f-9254-2c6cd7b373f2');\n",
       "var x = new MutationObserver(function (mutations, observer) {{\n",
       "        var display = window.getComputedStyle(gd).display;\n",
       "        if (!display || display === 'none') {{\n",
       "            console.log([gd, 'removed!']);\n",
       "            Plotly.purge(gd);\n",
       "            observer.disconnect();\n",
       "        }}\n",
       "}});\n",
       "\n",
       "// Listen for the removal of the full notebook cells\n",
       "var notebookContainer = gd.closest('#notebook-container');\n",
       "if (notebookContainer) {{\n",
       "    x.observe(notebookContainer, {childList: true});\n",
       "}}\n",
       "\n",
       "// Listen for the clearing of the current output cell\n",
       "var outputEl = gd.closest('.output');\n",
       "if (outputEl) {{\n",
       "    x.observe(outputEl, {childList: true});\n",
       "}}\n",
       "\n",
       "                        })                };                });            </script>        </div>"
      ]
     },
     "metadata": {},
     "output_type": "display_data"
    }
   ],
   "source": [
    "plot = px.scatter(data_frame=Y,\n",
    "                 x = 'tax',\n",
    "                 y = 'rad',\n",
    "                color = 'cluster_1_labels',\n",
    "                 title = 'Cluster')\n",
    "plot.show()"
   ]
  },
  {
   "cell_type": "code",
   "execution_count": 135,
   "id": "28f6ecff-ff68-4b3b-8538-41a4eff509f5",
   "metadata": {},
   "outputs": [
    {
     "data": {
      "application/vnd.plotly.v1+json": {
       "config": {
        "plotlyServerURL": "https://plot.ly"
       },
       "data": [
        {
         "hovertemplate": "nox=%{x}<br>crim=%{y}<br>cluster_1_labels=%{marker.color}<extra></extra>",
         "legendgroup": "",
         "marker": {
          "color": [
           0,
           0,
           0,
           0,
           0,
           0,
           0,
           0,
           0,
           0,
           0,
           0,
           0,
           0,
           0,
           0,
           0,
           0,
           0,
           0,
           0,
           0,
           0,
           0,
           0,
           0,
           0,
           0,
           0,
           0,
           0,
           0,
           0,
           0,
           0,
           0,
           0,
           0,
           0,
           0,
           0,
           0,
           0,
           0,
           0,
           0,
           0,
           0,
           0,
           0,
           0,
           0,
           0,
           0,
           0,
           0,
           0,
           0,
           0,
           0,
           0,
           0,
           0,
           0,
           0,
           0,
           0,
           0,
           0,
           0,
           0,
           0,
           0,
           0,
           0,
           0,
           0,
           0,
           0,
           0,
           0,
           0,
           0,
           0,
           0,
           0,
           0,
           0,
           0,
           0,
           0,
           0,
           0,
           0,
           0,
           0,
           0,
           0,
           0,
           0,
           0,
           0,
           0,
           0,
           0,
           0,
           0,
           0,
           0,
           0,
           0,
           0,
           0,
           0,
           0,
           0,
           0,
           0,
           0,
           0,
           0,
           0,
           0,
           0,
           0,
           0,
           0,
           0,
           0,
           0,
           0,
           0,
           0,
           0,
           0,
           0,
           0,
           0,
           0,
           0,
           0,
           0,
           0,
           0,
           0,
           0,
           0,
           0,
           0,
           0,
           0,
           0,
           0,
           0,
           0,
           0,
           0,
           0,
           0,
           0,
           0,
           0,
           0,
           0,
           0,
           0,
           0,
           0,
           0,
           0,
           0,
           0,
           0,
           0,
           0,
           0,
           0,
           0,
           0,
           0,
           0,
           0,
           0,
           0,
           0,
           0,
           0,
           0,
           0,
           0,
           0,
           0,
           0,
           0,
           0,
           0,
           0,
           0,
           0,
           0,
           0,
           0,
           0,
           0,
           0,
           0,
           0,
           0,
           0,
           0,
           0,
           0,
           0,
           0,
           0,
           0,
           0,
           0,
           0,
           0,
           0,
           0,
           0,
           0,
           0,
           0,
           0,
           0,
           0,
           0,
           0,
           0,
           0,
           0,
           0,
           0,
           0,
           0,
           0,
           0,
           0,
           0,
           0,
           0,
           0,
           0,
           0,
           0,
           0,
           0,
           0,
           0,
           0,
           0,
           0,
           0,
           0,
           0,
           0,
           0,
           0,
           0,
           0,
           0,
           0,
           0,
           0,
           0,
           0,
           0,
           0,
           0,
           0,
           0,
           0,
           0,
           0,
           0,
           0,
           0,
           0,
           0,
           0,
           0,
           0,
           0,
           0,
           0,
           0,
           0,
           0,
           0,
           0,
           0,
           0,
           0,
           0,
           0,
           0,
           0,
           0,
           0,
           0,
           0,
           0,
           0,
           0,
           0,
           0,
           0,
           0,
           0,
           0,
           0,
           0,
           0,
           0,
           0,
           0,
           0,
           0,
           0,
           0,
           0,
           0,
           0,
           0,
           0,
           0,
           0,
           0,
           0,
           0,
           0,
           0,
           0,
           0,
           0,
           0,
           0,
           0,
           0,
           0,
           0,
           0,
           0,
           0,
           0,
           0,
           0,
           0,
           0,
           0,
           0,
           0,
           0,
           1,
           1,
           1,
           1,
           1,
           1,
           1,
           1,
           1,
           1,
           1,
           1,
           1,
           1,
           1,
           1,
           1,
           1,
           1,
           1,
           1,
           1,
           1,
           1,
           1,
           1,
           1,
           1,
           1,
           1,
           1,
           1,
           1,
           1,
           1,
           1,
           1,
           1,
           1,
           1,
           1,
           1,
           1,
           1,
           1,
           1,
           1,
           1,
           1,
           1,
           1,
           1,
           1,
           1,
           1,
           1,
           1,
           1,
           1,
           1,
           1,
           1,
           1,
           1,
           1,
           1,
           1,
           1,
           1,
           1,
           1,
           1,
           1,
           1,
           1,
           1,
           1,
           1,
           1,
           1,
           1,
           1,
           1,
           1,
           1,
           1,
           1,
           1,
           1,
           1,
           1,
           1,
           1,
           1,
           1,
           1,
           1,
           1,
           1,
           1,
           1,
           1,
           1,
           1,
           1,
           1,
           1,
           1,
           1,
           1,
           1,
           1,
           1,
           1,
           1,
           1,
           1,
           1,
           1,
           1,
           1,
           1,
           1,
           1,
           1,
           1,
           1,
           1,
           1,
           1,
           1,
           1,
           1,
           1,
           1,
           1,
           1,
           0,
           0,
           0,
           0,
           0,
           0,
           0,
           0,
           0,
           0,
           0,
           0,
           0
          ],
          "coloraxis": "coloraxis",
          "symbol": "circle"
         },
         "mode": "markers",
         "name": "",
         "orientation": "v",
         "showlegend": false,
         "type": "scatter",
         "x": [
          0.538,
          0.469,
          0.469,
          0.458,
          0.458,
          0.458,
          0.524,
          0.524,
          0.524,
          0.524,
          0.524,
          0.524,
          0.524,
          0.538,
          0.538,
          0.538,
          0.538,
          0.538,
          0.538,
          0.538,
          0.538,
          0.538,
          0.538,
          0.538,
          0.538,
          0.538,
          0.538,
          0.538,
          0.538,
          0.538,
          0.538,
          0.538,
          0.538,
          0.538,
          0.538,
          0.499,
          0.499,
          0.499,
          0.499,
          0.428,
          0.428,
          0.448,
          0.448,
          0.448,
          0.448,
          0.448,
          0.448,
          0.448,
          0.448,
          0.448,
          0.439,
          0.439,
          0.439,
          0.439,
          0.41,
          0.403,
          0.41,
          0.411,
          0.453,
          0.453,
          0.453,
          0.453,
          0.453,
          0.453,
          0.4161,
          0.398,
          0.398,
          0.409,
          0.409,
          0.409,
          0.413,
          0.413,
          0.413,
          0.413,
          0.437,
          0.437,
          0.437,
          0.437,
          0.437,
          0.437,
          0.426,
          0.426,
          0.426,
          0.426,
          0.449,
          0.449,
          0.449,
          0.449,
          0.489,
          0.489,
          0.489,
          0.489,
          0.464,
          0.464,
          0.464,
          0.445,
          0.445,
          0.445,
          0.445,
          0.445,
          0.52,
          0.52,
          0.52,
          0.52,
          0.52,
          0.52,
          0.52,
          0.52,
          0.52,
          0.52,
          0.52,
          0.547,
          0.547,
          0.547,
          0.547,
          0.547,
          0.547,
          0.547,
          0.547,
          0.547,
          0.581,
          0.581,
          0.581,
          0.581,
          0.581,
          0.581,
          0.581,
          0.624,
          0.624,
          0.624,
          0.624,
          0.624,
          0.624,
          0.624,
          0.624,
          0.624,
          0.624,
          0.624,
          0.624,
          0.624,
          0.624,
          0.624,
          0.871,
          0.871,
          0.871,
          0.871,
          0.871,
          0.871,
          0.871,
          0.871,
          0.871,
          0.871,
          0.871,
          0.871,
          0.871,
          0.871,
          0.871,
          0.605,
          0.605,
          0.871,
          0.605,
          0.605,
          0.605,
          0.605,
          0.605,
          0.605,
          0.605,
          0.605,
          0.605,
          0.605,
          0.605,
          0.605,
          0.51,
          0.51,
          0.51,
          0.51,
          0.51,
          0.51,
          0.51,
          0.488,
          0.488,
          0.488,
          0.488,
          0.488,
          0.488,
          0.488,
          0.488,
          0.437,
          0.437,
          0.437,
          0.437,
          0.437,
          0.437,
          0.401,
          0.401,
          0.422,
          0.404,
          0.404,
          0.404,
          0.403,
          0.403,
          0.415,
          0.415,
          0.4161,
          0.4161,
          0.489,
          0.489,
          0.489,
          0.489,
          0.489,
          0.489,
          0.489,
          0.489,
          0.489,
          0.489,
          0.489,
          0.55,
          0.55,
          0.55,
          0.55,
          0.507,
          0.507,
          0.507,
          0.507,
          0.504,
          0.504,
          0.504,
          0.504,
          0.504,
          0.504,
          0.504,
          0.504,
          0.507,
          0.507,
          0.507,
          0.507,
          0.507,
          0.507,
          0.428,
          0.428,
          0.428,
          0.428,
          0.428,
          0.428,
          0.431,
          0.431,
          0.431,
          0.431,
          0.431,
          0.431,
          0.431,
          0.431,
          0.431,
          0.431,
          0.392,
          0.392,
          0.394,
          0.647,
          0.647,
          0.647,
          0.647,
          0.647,
          0.647,
          0.647,
          0.647,
          0.647,
          0.647,
          0.575,
          0.575,
          0.464,
          0.464,
          0.464,
          0.464,
          0.464,
          0.447,
          0.447,
          0.447,
          0.447,
          0.447,
          0.4429,
          0.4429,
          0.4429,
          0.4429,
          0.401,
          0.4,
          0.389,
          0.385,
          0.405,
          0.405,
          0.405,
          0.411,
          0.411,
          0.411,
          0.437,
          0.437,
          0.437,
          0.437,
          0.437,
          0.4,
          0.4,
          0.4,
          0.433,
          0.433,
          0.433,
          0.472,
          0.472,
          0.472,
          0.472,
          0.544,
          0.544,
          0.544,
          0.544,
          0.544,
          0.544,
          0.544,
          0.544,
          0.544,
          0.544,
          0.544,
          0.544,
          0.493,
          0.493,
          0.493,
          0.493,
          0.493,
          0.493,
          0.493,
          0.493,
          0.46,
          0.46,
          0.46,
          0.4379,
          0.4379,
          0.515,
          0.515,
          0.515,
          0.515,
          0.515,
          0.515,
          0.515,
          0.515,
          0.442,
          0.518,
          0.484,
          0.484,
          0.442,
          0.442,
          0.429,
          0.435,
          0.429,
          0.429,
          0.411,
          0.411,
          0.41,
          0.413,
          0.413,
          0.77,
          0.77,
          0.77,
          0.77,
          0.77,
          0.77,
          0.77,
          0.77,
          0.718,
          0.718,
          0.718,
          0.631,
          0.631,
          0.631,
          0.631,
          0.631,
          0.668,
          0.668,
          0.668,
          0.671,
          0.671,
          0.671,
          0.671,
          0.671,
          0.671,
          0.671,
          0.7,
          0.7,
          0.7,
          0.7,
          0.7,
          0.7,
          0.7,
          0.7,
          0.7,
          0.7,
          0.7,
          0.693,
          0.693,
          0.693,
          0.693,
          0.693,
          0.693,
          0.693,
          0.693,
          0.693,
          0.693,
          0.693,
          0.693,
          0.693,
          0.659,
          0.659,
          0.597,
          0.597,
          0.597,
          0.597,
          0.597,
          0.597,
          0.693,
          0.679,
          0.679,
          0.679,
          0.679,
          0.718,
          0.718,
          0.718,
          0.614,
          0.614,
          0.584,
          0.679,
          0.584,
          0.679,
          0.679,
          0.679,
          0.584,
          0.584,
          0.584,
          0.713,
          0.713,
          0.74,
          0.74,
          0.74,
          0.74,
          0.74,
          0.74,
          0.74,
          0.74,
          0.74,
          0.74,
          0.74,
          0.74,
          0.74,
          0.713,
          0.713,
          0.713,
          0.713,
          0.713,
          0.713,
          0.713,
          0.713,
          0.713,
          0.713,
          0.713,
          0.713,
          0.713,
          0.713,
          0.713,
          0.713,
          0.655,
          0.655,
          0.655,
          0.584,
          0.58,
          0.58,
          0.58,
          0.532,
          0.58,
          0.614,
          0.584,
          0.584,
          0.614,
          0.614,
          0.614,
          0.614,
          0.532,
          0.532,
          0.532,
          0.532,
          0.583,
          0.583,
          0.583,
          0.583,
          0.609,
          0.609,
          0.609,
          0.609,
          0.609,
          0.585,
          0.585,
          0.585,
          0.585,
          0.585,
          0.585,
          0.585,
          0.585,
          0.573,
          0.573,
          0.573,
          0.573,
          0.573
         ],
         "xaxis": "x",
         "y": [
          0.00632,
          0.02731,
          0.02729,
          0.03237,
          0.06905,
          0.02985,
          0.08829,
          0.14455,
          0.21124,
          0.17004,
          0.22489,
          0.11747,
          0.09378,
          0.62976,
          0.63796,
          0.62739,
          1.05393,
          0.7842,
          0.80271,
          0.7258,
          1.25179,
          0.85204,
          1.23247,
          0.98843,
          0.75026,
          0.84054,
          0.67191,
          0.95577,
          0.77299,
          1.00245,
          1.13081,
          1.35472,
          1.38799,
          1.15172,
          1.61282,
          0.06417,
          0.09744,
          0.08014,
          0.17505,
          0.02763,
          0.03359,
          0.12744,
          0.1415,
          0.15936,
          0.12269,
          0.17142,
          0.18836,
          0.22927,
          0.25387,
          0.21977,
          0.08873,
          0.04337,
          0.0536,
          0.04981,
          0.0136,
          0.01311,
          0.02055,
          0.01432,
          0.15445,
          0.10328,
          0.14932,
          0.17171,
          0.11027,
          0.1265,
          0.01951,
          0.03584,
          0.04379,
          0.05789,
          0.13554,
          0.12816,
          0.08826,
          0.15876,
          0.09164,
          0.19539,
          0.07896,
          0.09512,
          0.10153,
          0.08707,
          0.05646,
          0.08387,
          0.04113,
          0.04462,
          0.03659,
          0.03551,
          0.05059,
          0.05735,
          0.05188,
          0.07151,
          0.0566,
          0.05302,
          0.04684,
          0.03932,
          0.04203,
          0.02875,
          0.04294,
          0.12204,
          0.11504,
          0.12083,
          0.08187,
          0.0686,
          0.14866,
          0.11432,
          0.22876,
          0.21161,
          0.1396,
          0.13262,
          0.1712,
          0.13117,
          0.12802,
          0.26363,
          0.10793,
          0.10084,
          0.12329,
          0.22212,
          0.14231,
          0.17134,
          0.13158,
          0.15098,
          0.13058,
          0.14476,
          0.06899,
          0.07165,
          0.09299,
          0.15038,
          0.09849,
          0.16902,
          0.38735,
          0.25915,
          0.32543,
          0.88125,
          0.34006,
          1.19294,
          0.59005,
          0.32982,
          0.97617,
          0.55778,
          0.32264,
          0.35233,
          0.2498,
          0.54452,
          0.2909,
          1.62864,
          3.32105,
          4.0974,
          2.77974,
          2.37934,
          2.15505,
          2.36862,
          2.33099,
          2.73397,
          1.6566,
          1.49632,
          1.12658,
          2.14918,
          1.41385,
          3.53501,
          2.44668,
          1.22358,
          1.34284,
          1.42502,
          1.27346,
          1.46336,
          1.83377,
          1.51902,
          2.24236,
          2.924,
          2.01019,
          1.80028,
          2.3004,
          2.44953,
          1.20742,
          2.3139,
          0.13914,
          0.09178,
          0.08447,
          0.06664,
          0.07022,
          0.05425,
          0.06642,
          0.0578,
          0.06588,
          0.06888,
          0.09103,
          0.10008,
          0.08308,
          0.06047,
          0.05602,
          0.07875,
          0.12579,
          0.0837,
          0.09068,
          0.06911,
          0.08664,
          0.02187,
          0.01439,
          0.01381,
          0.04011,
          0.04666,
          0.03768,
          0.0315,
          0.01778,
          0.03445,
          0.02177,
          0.0351,
          0.02009,
          0.13642,
          0.22969,
          0.25199,
          0.13587,
          0.43571,
          0.17446,
          0.37578,
          0.21719,
          0.14052,
          0.28955,
          0.19802,
          0.0456,
          0.07013,
          0.11069,
          0.11425,
          0.35809,
          0.40771,
          0.62356,
          0.6147,
          0.31533,
          0.52693,
          0.38214,
          0.41238,
          0.29819,
          0.44178,
          0.537,
          0.46296,
          0.57529,
          0.33147,
          0.44791,
          0.33045,
          0.52058,
          0.51183,
          0.08244,
          0.09252,
          0.11329,
          0.10612,
          0.1029,
          0.12757,
          0.20608,
          0.19133,
          0.33983,
          0.19657,
          0.16439,
          0.19073,
          0.1403,
          0.21409,
          0.08221,
          0.36894,
          0.04819,
          0.03548,
          0.01538,
          0.61154,
          0.66351,
          0.65665,
          0.54011,
          0.53412,
          0.52014,
          0.82526,
          0.55007,
          0.76162,
          0.7857,
          0.57834,
          0.5405,
          0.09065,
          0.29916,
          0.16211,
          0.1146,
          0.22188,
          0.05644,
          0.09604,
          0.10469,
          0.06127,
          0.07978,
          0.21038,
          0.03578,
          0.03705,
          0.06129,
          0.01501,
          0.00906,
          0.01096,
          0.01965,
          0.03871,
          0.0459,
          0.04297,
          0.03502,
          0.07886,
          0.03615,
          0.08265,
          0.08199,
          0.12932,
          0.05372,
          0.14103,
          0.06466,
          0.05561,
          0.04417,
          0.03537,
          0.09266,
          0.1,
          0.05515,
          0.05479,
          0.07503,
          0.04932,
          0.49298,
          0.3494,
          2.63548,
          0.79041,
          0.26169,
          0.26938,
          0.3692,
          0.25356,
          0.31827,
          0.24522,
          0.40202,
          0.47547,
          0.1676,
          0.18159,
          0.35114,
          0.28392,
          0.34109,
          0.19186,
          0.30347,
          0.24103,
          0.06617,
          0.06724,
          0.04544,
          0.05023,
          0.03466,
          0.05083,
          0.03738,
          0.03961,
          0.03427,
          0.03041,
          0.03306,
          0.05497,
          0.06151,
          0.01301,
          0.02498,
          0.02543,
          0.03049,
          0.03113,
          0.06162,
          0.0187,
          0.01501,
          0.02899,
          0.06211,
          0.0795,
          0.07244,
          0.01709,
          0.04301,
          0.10659,
          8.98296,
          3.8497,
          5.20177,
          4.26131,
          4.54192,
          3.83684,
          3.67822,
          4.22239,
          3.47428,
          4.55587,
          3.69695,
          13.5222,
          4.89822,
          5.66998,
          6.53876,
          9.2323,
          8.26725,
          11.1081,
          18.4982,
          19.6091,
          15.288,
          9.82349,
          23.6482,
          17.8667,
          88.9762,
          15.8744,
          9.18702,
          7.99248,
          20.0849,
          16.8118,
          24.3938,
          22.5971,
          14.3337,
          8.15174,
          6.96215,
          5.29305,
          11.5779,
          8.64476,
          13.3598,
          8.71675,
          5.87205,
          7.67202,
          38.3518,
          9.91655,
          25.0461,
          14.2362,
          9.59571,
          24.8017,
          41.5292,
          67.9208,
          20.7162,
          11.9511,
          7.40389,
          14.4383,
          51.1358,
          14.0507,
          18.811,
          28.6558,
          45.7461,
          18.0846,
          10.8342,
          25.9406,
          73.5341,
          11.8123,
          11.0874,
          7.02259,
          12.0482,
          7.05042,
          8.79212,
          15.8603,
          12.2472,
          37.6619,
          7.36711,
          9.33889,
          8.49213,
          10.0623,
          6.44405,
          5.58107,
          13.9134,
          11.1604,
          14.4208,
          15.1772,
          13.6781,
          9.39063,
          22.0511,
          9.72418,
          5.66637,
          9.96654,
          12.8023,
          10.6718,
          6.28807,
          9.92485,
          9.32909,
          7.52601,
          6.71772,
          5.44114,
          5.09017,
          8.24809,
          9.51363,
          4.75237,
          4.66883,
          8.20058,
          7.75223,
          6.80117,
          4.81213,
          3.69311,
          6.65492,
          5.82115,
          7.83932,
          3.1636,
          3.77498,
          4.42228,
          15.5757,
          13.0751,
          4.34879,
          4.03841,
          3.56868,
          4.64689,
          8.05579,
          6.39312,
          4.87141,
          15.0234,
          10.233,
          14.3337,
          5.82401,
          5.70818,
          5.73116,
          2.81838,
          2.37857,
          3.67367,
          5.69175,
          4.83567,
          0.15086,
          0.18337,
          0.20746,
          0.10574,
          0.11132,
          0.17331,
          0.27957,
          0.17899,
          0.2896,
          0.26838,
          0.23912,
          0.17783,
          0.22438,
          0.06263,
          0.04527,
          0.06076,
          0.10959,
          0.04741
         ],
         "yaxis": "y"
        }
       ],
       "layout": {
        "autosize": true,
        "coloraxis": {
         "colorbar": {
          "title": {
           "text": "cluster_1_labels"
          }
         },
         "colorscale": [
          [
           0,
           "#0d0887"
          ],
          [
           0.1111111111111111,
           "#46039f"
          ],
          [
           0.2222222222222222,
           "#7201a8"
          ],
          [
           0.3333333333333333,
           "#9c179e"
          ],
          [
           0.4444444444444444,
           "#bd3786"
          ],
          [
           0.5555555555555556,
           "#d8576b"
          ],
          [
           0.6666666666666666,
           "#ed7953"
          ],
          [
           0.7777777777777778,
           "#fb9f3a"
          ],
          [
           0.8888888888888888,
           "#fdca26"
          ],
          [
           1,
           "#f0f921"
          ]
         ]
        },
        "legend": {
         "tracegroupgap": 0
        },
        "template": {
         "data": {
          "bar": [
           {
            "error_x": {
             "color": "#2a3f5f"
            },
            "error_y": {
             "color": "#2a3f5f"
            },
            "marker": {
             "line": {
              "color": "#E5ECF6",
              "width": 0.5
             },
             "pattern": {
              "fillmode": "overlay",
              "size": 10,
              "solidity": 0.2
             }
            },
            "type": "bar"
           }
          ],
          "barpolar": [
           {
            "marker": {
             "line": {
              "color": "#E5ECF6",
              "width": 0.5
             },
             "pattern": {
              "fillmode": "overlay",
              "size": 10,
              "solidity": 0.2
             }
            },
            "type": "barpolar"
           }
          ],
          "carpet": [
           {
            "aaxis": {
             "endlinecolor": "#2a3f5f",
             "gridcolor": "white",
             "linecolor": "white",
             "minorgridcolor": "white",
             "startlinecolor": "#2a3f5f"
            },
            "baxis": {
             "endlinecolor": "#2a3f5f",
             "gridcolor": "white",
             "linecolor": "white",
             "minorgridcolor": "white",
             "startlinecolor": "#2a3f5f"
            },
            "type": "carpet"
           }
          ],
          "choropleth": [
           {
            "colorbar": {
             "outlinewidth": 0,
             "ticks": ""
            },
            "type": "choropleth"
           }
          ],
          "contour": [
           {
            "colorbar": {
             "outlinewidth": 0,
             "ticks": ""
            },
            "colorscale": [
             [
              0,
              "#0d0887"
             ],
             [
              0.1111111111111111,
              "#46039f"
             ],
             [
              0.2222222222222222,
              "#7201a8"
             ],
             [
              0.3333333333333333,
              "#9c179e"
             ],
             [
              0.4444444444444444,
              "#bd3786"
             ],
             [
              0.5555555555555556,
              "#d8576b"
             ],
             [
              0.6666666666666666,
              "#ed7953"
             ],
             [
              0.7777777777777778,
              "#fb9f3a"
             ],
             [
              0.8888888888888888,
              "#fdca26"
             ],
             [
              1,
              "#f0f921"
             ]
            ],
            "type": "contour"
           }
          ],
          "contourcarpet": [
           {
            "colorbar": {
             "outlinewidth": 0,
             "ticks": ""
            },
            "type": "contourcarpet"
           }
          ],
          "heatmap": [
           {
            "colorbar": {
             "outlinewidth": 0,
             "ticks": ""
            },
            "colorscale": [
             [
              0,
              "#0d0887"
             ],
             [
              0.1111111111111111,
              "#46039f"
             ],
             [
              0.2222222222222222,
              "#7201a8"
             ],
             [
              0.3333333333333333,
              "#9c179e"
             ],
             [
              0.4444444444444444,
              "#bd3786"
             ],
             [
              0.5555555555555556,
              "#d8576b"
             ],
             [
              0.6666666666666666,
              "#ed7953"
             ],
             [
              0.7777777777777778,
              "#fb9f3a"
             ],
             [
              0.8888888888888888,
              "#fdca26"
             ],
             [
              1,
              "#f0f921"
             ]
            ],
            "type": "heatmap"
           }
          ],
          "heatmapgl": [
           {
            "colorbar": {
             "outlinewidth": 0,
             "ticks": ""
            },
            "colorscale": [
             [
              0,
              "#0d0887"
             ],
             [
              0.1111111111111111,
              "#46039f"
             ],
             [
              0.2222222222222222,
              "#7201a8"
             ],
             [
              0.3333333333333333,
              "#9c179e"
             ],
             [
              0.4444444444444444,
              "#bd3786"
             ],
             [
              0.5555555555555556,
              "#d8576b"
             ],
             [
              0.6666666666666666,
              "#ed7953"
             ],
             [
              0.7777777777777778,
              "#fb9f3a"
             ],
             [
              0.8888888888888888,
              "#fdca26"
             ],
             [
              1,
              "#f0f921"
             ]
            ],
            "type": "heatmapgl"
           }
          ],
          "histogram": [
           {
            "marker": {
             "pattern": {
              "fillmode": "overlay",
              "size": 10,
              "solidity": 0.2
             }
            },
            "type": "histogram"
           }
          ],
          "histogram2d": [
           {
            "colorbar": {
             "outlinewidth": 0,
             "ticks": ""
            },
            "colorscale": [
             [
              0,
              "#0d0887"
             ],
             [
              0.1111111111111111,
              "#46039f"
             ],
             [
              0.2222222222222222,
              "#7201a8"
             ],
             [
              0.3333333333333333,
              "#9c179e"
             ],
             [
              0.4444444444444444,
              "#bd3786"
             ],
             [
              0.5555555555555556,
              "#d8576b"
             ],
             [
              0.6666666666666666,
              "#ed7953"
             ],
             [
              0.7777777777777778,
              "#fb9f3a"
             ],
             [
              0.8888888888888888,
              "#fdca26"
             ],
             [
              1,
              "#f0f921"
             ]
            ],
            "type": "histogram2d"
           }
          ],
          "histogram2dcontour": [
           {
            "colorbar": {
             "outlinewidth": 0,
             "ticks": ""
            },
            "colorscale": [
             [
              0,
              "#0d0887"
             ],
             [
              0.1111111111111111,
              "#46039f"
             ],
             [
              0.2222222222222222,
              "#7201a8"
             ],
             [
              0.3333333333333333,
              "#9c179e"
             ],
             [
              0.4444444444444444,
              "#bd3786"
             ],
             [
              0.5555555555555556,
              "#d8576b"
             ],
             [
              0.6666666666666666,
              "#ed7953"
             ],
             [
              0.7777777777777778,
              "#fb9f3a"
             ],
             [
              0.8888888888888888,
              "#fdca26"
             ],
             [
              1,
              "#f0f921"
             ]
            ],
            "type": "histogram2dcontour"
           }
          ],
          "mesh3d": [
           {
            "colorbar": {
             "outlinewidth": 0,
             "ticks": ""
            },
            "type": "mesh3d"
           }
          ],
          "parcoords": [
           {
            "line": {
             "colorbar": {
              "outlinewidth": 0,
              "ticks": ""
             }
            },
            "type": "parcoords"
           }
          ],
          "pie": [
           {
            "automargin": true,
            "type": "pie"
           }
          ],
          "scatter": [
           {
            "fillpattern": {
             "fillmode": "overlay",
             "size": 10,
             "solidity": 0.2
            },
            "type": "scatter"
           }
          ],
          "scatter3d": [
           {
            "line": {
             "colorbar": {
              "outlinewidth": 0,
              "ticks": ""
             }
            },
            "marker": {
             "colorbar": {
              "outlinewidth": 0,
              "ticks": ""
             }
            },
            "type": "scatter3d"
           }
          ],
          "scattercarpet": [
           {
            "marker": {
             "colorbar": {
              "outlinewidth": 0,
              "ticks": ""
             }
            },
            "type": "scattercarpet"
           }
          ],
          "scattergeo": [
           {
            "marker": {
             "colorbar": {
              "outlinewidth": 0,
              "ticks": ""
             }
            },
            "type": "scattergeo"
           }
          ],
          "scattergl": [
           {
            "marker": {
             "colorbar": {
              "outlinewidth": 0,
              "ticks": ""
             }
            },
            "type": "scattergl"
           }
          ],
          "scattermapbox": [
           {
            "marker": {
             "colorbar": {
              "outlinewidth": 0,
              "ticks": ""
             }
            },
            "type": "scattermapbox"
           }
          ],
          "scatterpolar": [
           {
            "marker": {
             "colorbar": {
              "outlinewidth": 0,
              "ticks": ""
             }
            },
            "type": "scatterpolar"
           }
          ],
          "scatterpolargl": [
           {
            "marker": {
             "colorbar": {
              "outlinewidth": 0,
              "ticks": ""
             }
            },
            "type": "scatterpolargl"
           }
          ],
          "scatterternary": [
           {
            "marker": {
             "colorbar": {
              "outlinewidth": 0,
              "ticks": ""
             }
            },
            "type": "scatterternary"
           }
          ],
          "surface": [
           {
            "colorbar": {
             "outlinewidth": 0,
             "ticks": ""
            },
            "colorscale": [
             [
              0,
              "#0d0887"
             ],
             [
              0.1111111111111111,
              "#46039f"
             ],
             [
              0.2222222222222222,
              "#7201a8"
             ],
             [
              0.3333333333333333,
              "#9c179e"
             ],
             [
              0.4444444444444444,
              "#bd3786"
             ],
             [
              0.5555555555555556,
              "#d8576b"
             ],
             [
              0.6666666666666666,
              "#ed7953"
             ],
             [
              0.7777777777777778,
              "#fb9f3a"
             ],
             [
              0.8888888888888888,
              "#fdca26"
             ],
             [
              1,
              "#f0f921"
             ]
            ],
            "type": "surface"
           }
          ],
          "table": [
           {
            "cells": {
             "fill": {
              "color": "#EBF0F8"
             },
             "line": {
              "color": "white"
             }
            },
            "header": {
             "fill": {
              "color": "#C8D4E3"
             },
             "line": {
              "color": "white"
             }
            },
            "type": "table"
           }
          ]
         },
         "layout": {
          "annotationdefaults": {
           "arrowcolor": "#2a3f5f",
           "arrowhead": 0,
           "arrowwidth": 1
          },
          "autotypenumbers": "strict",
          "coloraxis": {
           "colorbar": {
            "outlinewidth": 0,
            "ticks": ""
           }
          },
          "colorscale": {
           "diverging": [
            [
             0,
             "#8e0152"
            ],
            [
             0.1,
             "#c51b7d"
            ],
            [
             0.2,
             "#de77ae"
            ],
            [
             0.3,
             "#f1b6da"
            ],
            [
             0.4,
             "#fde0ef"
            ],
            [
             0.5,
             "#f7f7f7"
            ],
            [
             0.6,
             "#e6f5d0"
            ],
            [
             0.7,
             "#b8e186"
            ],
            [
             0.8,
             "#7fbc41"
            ],
            [
             0.9,
             "#4d9221"
            ],
            [
             1,
             "#276419"
            ]
           ],
           "sequential": [
            [
             0,
             "#0d0887"
            ],
            [
             0.1111111111111111,
             "#46039f"
            ],
            [
             0.2222222222222222,
             "#7201a8"
            ],
            [
             0.3333333333333333,
             "#9c179e"
            ],
            [
             0.4444444444444444,
             "#bd3786"
            ],
            [
             0.5555555555555556,
             "#d8576b"
            ],
            [
             0.6666666666666666,
             "#ed7953"
            ],
            [
             0.7777777777777778,
             "#fb9f3a"
            ],
            [
             0.8888888888888888,
             "#fdca26"
            ],
            [
             1,
             "#f0f921"
            ]
           ],
           "sequentialminus": [
            [
             0,
             "#0d0887"
            ],
            [
             0.1111111111111111,
             "#46039f"
            ],
            [
             0.2222222222222222,
             "#7201a8"
            ],
            [
             0.3333333333333333,
             "#9c179e"
            ],
            [
             0.4444444444444444,
             "#bd3786"
            ],
            [
             0.5555555555555556,
             "#d8576b"
            ],
            [
             0.6666666666666666,
             "#ed7953"
            ],
            [
             0.7777777777777778,
             "#fb9f3a"
            ],
            [
             0.8888888888888888,
             "#fdca26"
            ],
            [
             1,
             "#f0f921"
            ]
           ]
          },
          "colorway": [
           "#636efa",
           "#EF553B",
           "#00cc96",
           "#ab63fa",
           "#FFA15A",
           "#19d3f3",
           "#FF6692",
           "#B6E880",
           "#FF97FF",
           "#FECB52"
          ],
          "font": {
           "color": "#2a3f5f"
          },
          "geo": {
           "bgcolor": "white",
           "lakecolor": "white",
           "landcolor": "#E5ECF6",
           "showlakes": true,
           "showland": true,
           "subunitcolor": "white"
          },
          "hoverlabel": {
           "align": "left"
          },
          "hovermode": "closest",
          "mapbox": {
           "style": "light"
          },
          "paper_bgcolor": "white",
          "plot_bgcolor": "#E5ECF6",
          "polar": {
           "angularaxis": {
            "gridcolor": "white",
            "linecolor": "white",
            "ticks": ""
           },
           "bgcolor": "#E5ECF6",
           "radialaxis": {
            "gridcolor": "white",
            "linecolor": "white",
            "ticks": ""
           }
          },
          "scene": {
           "xaxis": {
            "backgroundcolor": "#E5ECF6",
            "gridcolor": "white",
            "gridwidth": 2,
            "linecolor": "white",
            "showbackground": true,
            "ticks": "",
            "zerolinecolor": "white"
           },
           "yaxis": {
            "backgroundcolor": "#E5ECF6",
            "gridcolor": "white",
            "gridwidth": 2,
            "linecolor": "white",
            "showbackground": true,
            "ticks": "",
            "zerolinecolor": "white"
           },
           "zaxis": {
            "backgroundcolor": "#E5ECF6",
            "gridcolor": "white",
            "gridwidth": 2,
            "linecolor": "white",
            "showbackground": true,
            "ticks": "",
            "zerolinecolor": "white"
           }
          },
          "shapedefaults": {
           "line": {
            "color": "#2a3f5f"
           }
          },
          "ternary": {
           "aaxis": {
            "gridcolor": "white",
            "linecolor": "white",
            "ticks": ""
           },
           "baxis": {
            "gridcolor": "white",
            "linecolor": "white",
            "ticks": ""
           },
           "bgcolor": "#E5ECF6",
           "caxis": {
            "gridcolor": "white",
            "linecolor": "white",
            "ticks": ""
           }
          },
          "title": {
           "x": 0.05
          },
          "xaxis": {
           "automargin": true,
           "gridcolor": "white",
           "linecolor": "white",
           "ticks": "",
           "title": {
            "standoff": 15
           },
           "zerolinecolor": "white",
           "zerolinewidth": 2
          },
          "yaxis": {
           "automargin": true,
           "gridcolor": "white",
           "linecolor": "white",
           "ticks": "",
           "title": {
            "standoff": 15
           },
           "zerolinecolor": "white",
           "zerolinewidth": 2
          }
         }
        },
        "title": {
         "text": "Cluster"
        },
        "xaxis": {
         "anchor": "y",
         "autorange": true,
         "domain": [
          0,
          1
         ],
         "range": [
          0.3550106288751107,
          0.9009893711248893
         ],
         "title": {
          "text": "nox"
         },
         "type": "linear"
        },
        "yaxis": {
         "anchor": "x",
         "autorange": true,
         "domain": [
          0,
          1
         ],
         "range": [
          -7.335854563106797,
          96.3183745631068
         ],
         "title": {
          "text": "crim"
         },
         "type": "linear"
        }
       }
      },
      "image/png": "[encoded data removed]",
      "text/html": [
       "<div>                            <div id=\"e77bbdfc-d946-4f2b-9ffb-5f6036482ebe\" class=\"plotly-graph-div\" style=\"height:525px; width:100%;\"></div>            <script type=\"text/javascript\">                require([\"plotly\"], function(Plotly) {                    window.PLOTLYENV=window.PLOTLYENV || {};                                    if (document.getElementById(\"e77bbdfc-d946-4f2b-9ffb-5f6036482ebe\")) {                    Plotly.newPlot(                        \"e77bbdfc-d946-4f2b-9ffb-5f6036482ebe\",                        [{\"hovertemplate\":\"nox=%{x}\\u003cbr\\u003ecrim=%{y}\\u003cbr\\u003ecluster_1_labels=%{marker.color}\\u003cextra\\u003e\\u003c\\u002fextra\\u003e\",\"legendgroup\":\"\",\"marker\":{\"color\":[0,0,0,0,0,0,0,0,0,0,0,0,0,0,0,0,0,0,0,0,0,0,0,0,0,0,0,0,0,0,0,0,0,0,0,0,0,0,0,0,0,0,0,0,0,0,0,0,0,0,0,0,0,0,0,0,0,0,0,0,0,0,0,0,0,0,0,0,0,0,0,0,0,0,0,0,0,0,0,0,0,0,0,0,0,0,0,0,0,0,0,0,0,0,0,0,0,0,0,0,0,0,0,0,0,0,0,0,0,0,0,0,0,0,0,0,0,0,0,0,0,0,0,0,0,0,0,0,0,0,0,0,0,0,0,0,0,0,0,0,0,0,0,0,0,0,0,0,0,0,0,0,0,0,0,0,0,0,0,0,0,0,0,0,0,0,0,0,0,0,0,0,0,0,0,0,0,0,0,0,0,0,0,0,0,0,0,0,0,0,0,0,0,0,0,0,0,0,0,0,0,0,0,0,0,0,0,0,0,0,0,0,0,0,0,0,0,0,0,0,0,0,0,0,0,0,0,0,0,0,0,0,0,0,0,0,0,0,0,0,0,0,0,0,0,0,0,0,0,0,0,0,0,0,0,0,0,0,0,0,0,0,0,0,0,0,0,0,0,0,0,0,0,0,0,0,0,0,0,0,0,0,0,0,0,0,0,0,0,0,0,0,0,0,0,0,0,0,0,0,0,0,0,0,0,0,0,0,0,0,0,0,0,0,0,0,0,0,0,0,0,0,0,0,0,0,0,0,0,0,0,0,0,0,0,0,0,0,0,0,0,0,0,0,0,0,0,0,0,0,0,0,0,0,0,0,1,1,1,1,1,1,1,1,1,1,1,1,1,1,1,1,1,1,1,1,1,1,1,1,1,1,1,1,1,1,1,1,1,1,1,1,1,1,1,1,1,1,1,1,1,1,1,1,1,1,1,1,1,1,1,1,1,1,1,1,1,1,1,1,1,1,1,1,1,1,1,1,1,1,1,1,1,1,1,1,1,1,1,1,1,1,1,1,1,1,1,1,1,1,1,1,1,1,1,1,1,1,1,1,1,1,1,1,1,1,1,1,1,1,1,1,1,1,1,1,1,1,1,1,1,1,1,1,1,1,1,1,1,1,1,1,1,0,0,0,0,0,0,0,0,0,0,0,0,0],\"coloraxis\":\"coloraxis\",\"symbol\":\"circle\"},\"mode\":\"markers\",\"name\":\"\",\"orientation\":\"v\",\"showlegend\":false,\"x\":[0.538,0.469,0.469,0.458,0.458,0.458,0.524,0.524,0.524,0.524,0.524,0.524,0.524,0.538,0.538,0.538,0.538,0.538,0.538,0.538,0.538,0.538,0.538,0.538,0.538,0.538,0.538,0.538,0.538,0.538,0.538,0.538,0.538,0.538,0.538,0.499,0.499,0.499,0.499,0.428,0.428,0.448,0.448,0.448,0.448,0.448,0.448,0.448,0.448,0.448,0.439,0.439,0.439,0.439,0.41,0.403,0.41,0.411,0.453,0.453,0.453,0.453,0.453,0.453,0.4161,0.398,0.398,0.409,0.409,0.409,0.413,0.413,0.413,0.413,0.437,0.437,0.437,0.437,0.437,0.437,0.426,0.426,0.426,0.426,0.449,0.449,0.449,0.449,0.489,0.489,0.489,0.489,0.464,0.464,0.464,0.445,0.445,0.445,0.445,0.445,0.52,0.52,0.52,0.52,0.52,0.52,0.52,0.52,0.52,0.52,0.52,0.547,0.547,0.547,0.547,0.547,0.547,0.547,0.547,0.547,0.581,0.581,0.581,0.581,0.581,0.581,0.581,0.624,0.624,0.624,0.624,0.624,0.624,0.624,0.624,0.624,0.624,0.624,0.624,0.624,0.624,0.624,0.871,0.871,0.871,0.871,0.871,0.871,0.871,0.871,0.871,0.871,0.871,0.871,0.871,0.871,0.871,0.605,0.605,0.871,0.605,0.605,0.605,0.605,0.605,0.605,0.605,0.605,0.605,0.605,0.605,0.605,0.51,0.51,0.51,0.51,0.51,0.51,0.51,0.488,0.488,0.488,0.488,0.488,0.488,0.488,0.488,0.437,0.437,0.437,0.437,0.437,0.437,0.401,0.401,0.422,0.404,0.404,0.404,0.403,0.403,0.415,0.415,0.4161,0.4161,0.489,0.489,0.489,0.489,0.489,0.489,0.489,0.489,0.489,0.489,0.489,0.55,0.55,0.55,0.55,0.507,0.507,0.507,0.507,0.504,0.504,0.504,0.504,0.504,0.504,0.504,0.504,0.507,0.507,0.507,0.507,0.507,0.507,0.428,0.428,0.428,0.428,0.428,0.428,0.431,0.431,0.431,0.431,0.431,0.431,0.431,0.431,0.431,0.431,0.392,0.392,0.394,0.647,0.647,0.647,0.647,0.647,0.647,0.647,0.647,0.647,0.647,0.575,0.575,0.464,0.464,0.464,0.464,0.464,0.447,0.447,0.447,0.447,0.447,0.4429,0.4429,0.4429,0.4429,0.401,0.4,0.389,0.385,0.405,0.405,0.405,0.411,0.411,0.411,0.437,0.437,0.437,0.437,0.437,0.4,0.4,0.4,0.433,0.433,0.433,0.472,0.472,0.472,0.472,0.544,0.544,0.544,0.544,0.544,0.544,0.544,0.544,0.544,0.544,0.544,0.544,0.493,0.493,0.493,0.493,0.493,0.493,0.493,0.493,0.46,0.46,0.46,0.4379,0.4379,0.515,0.515,0.515,0.515,0.515,0.515,0.515,0.515,0.442,0.518,0.484,0.484,0.442,0.442,0.429,0.435,0.429,0.429,0.411,0.411,0.41,0.413,0.413,0.77,0.77,0.77,0.77,0.77,0.77,0.77,0.77,0.718,0.718,0.718,0.631,0.631,0.631,0.631,0.631,0.668,0.668,0.668,0.671,0.671,0.671,0.671,0.671,0.671,0.671,0.7,0.7,0.7,0.7,0.7,0.7,0.7,0.7,0.7,0.7,0.7,0.693,0.693,0.693,0.693,0.693,0.693,0.693,0.693,0.693,0.693,0.693,0.693,0.693,0.659,0.659,0.597,0.597,0.597,0.597,0.597,0.597,0.693,0.679,0.679,0.679,0.679,0.718,0.718,0.718,0.614,0.614,0.584,0.679,0.584,0.679,0.679,0.679,0.584,0.584,0.584,0.713,0.713,0.74,0.74,0.74,0.74,0.74,0.74,0.74,0.74,0.74,0.74,0.74,0.74,0.74,0.713,0.713,0.713,0.713,0.713,0.713,0.713,0.713,0.713,0.713,0.713,0.713,0.713,0.713,0.713,0.713,0.655,0.655,0.655,0.584,0.58,0.58,0.58,0.532,0.58,0.614,0.584,0.584,0.614,0.614,0.614,0.614,0.532,0.532,0.532,0.532,0.583,0.583,0.583,0.583,0.609,0.609,0.609,0.609,0.609,0.585,0.585,0.585,0.585,0.585,0.585,0.585,0.585,0.573,0.573,0.573,0.573,0.573],\"xaxis\":\"x\",\"y\":[0.00632,0.02731,0.02729,0.03237,0.06905,0.02985,0.08829,0.14455,0.21124,0.17004,0.22489,0.11747,0.09378,0.62976,0.63796,0.62739,1.05393,0.7842,0.80271,0.7258,1.25179,0.85204,1.23247,0.98843,0.75026,0.84054,0.67191,0.95577,0.77299,1.00245,1.13081,1.35472,1.38799,1.15172,1.61282,0.06417,0.09744,0.08014,0.17505,0.02763,0.03359,0.12744,0.1415,0.15936,0.12269,0.17142,0.18836,0.22927,0.25387,0.21977,0.08873,0.04337,0.0536,0.04981,0.0136,0.01311,0.02055,0.01432,0.15445,0.10328,0.14932,0.17171,0.11027,0.1265,0.01951,0.03584,0.04379,0.05789,0.13554,0.12816,0.08826,0.15876,0.09164,0.19539,0.07896,0.09512,0.10153,0.08707,0.05646,0.08387,0.04113,0.04462,0.03659,0.03551,0.05059,0.05735,0.05188,0.07151,0.0566,0.05302,0.04684,0.03932,0.04203,0.02875,0.04294,0.12204,0.11504,0.12083,0.08187,0.0686,0.14866,0.11432,0.22876,0.21161,0.1396,0.13262,0.1712,0.13117,0.12802,0.26363,0.10793,0.10084,0.12329,0.22212,0.14231,0.17134,0.13158,0.15098,0.13058,0.14476,0.06899,0.07165,0.09299,0.15038,0.09849,0.16902,0.38735,0.25915,0.32543,0.88125,0.34006,1.19294,0.59005,0.32982,0.97617,0.55778,0.32264,0.35233,0.2498,0.54452,0.2909,1.62864,3.32105,4.0974,2.77974,2.37934,2.15505,2.36862,2.33099,2.73397,1.6566,1.49632,1.12658,2.14918,1.41385,3.53501,2.44668,1.22358,1.34284,1.42502,1.27346,1.46336,1.83377,1.51902,2.24236,2.924,2.01019,1.80028,2.3004,2.44953,1.20742,2.3139,0.13914,0.09178,0.08447,0.06664,0.07022,0.05425,0.06642,0.0578,0.06588,0.06888,0.09103,0.10008,0.08308,0.06047,0.05602,0.07875,0.12579,0.0837,0.09068,0.06911,0.08664,0.02187,0.01439,0.01381,0.04011,0.04666,0.03768,0.0315,0.01778,0.03445,0.02177,0.0351,0.02009,0.13642,0.22969,0.25199,0.13587,0.43571,0.17446,0.37578,0.21719,0.14052,0.28955,0.19802,0.0456,0.07013,0.11069,0.11425,0.35809,0.40771,0.62356,0.6147,0.31533,0.52693,0.38214,0.41238,0.29819,0.44178,0.537,0.46296,0.57529,0.33147,0.44791,0.33045,0.52058,0.51183,0.08244,0.09252,0.11329,0.10612,0.1029,0.12757,0.20608,0.19133,0.33983,0.19657,0.16439,0.19073,0.1403,0.21409,0.08221,0.36894,0.04819,0.03548,0.01538,0.61154,0.66351,0.65665,0.54011,0.53412,0.52014,0.82526,0.55007,0.76162,0.7857,0.57834,0.5405,0.09065,0.29916,0.16211,0.1146,0.22188,0.05644,0.09604,0.10469,0.06127,0.07978,0.21038,0.03578,0.03705,0.06129,0.01501,0.00906,0.01096,0.01965,0.03871,0.0459,0.04297,0.03502,0.07886,0.03615,0.08265,0.08199,0.12932,0.05372,0.14103,0.06466,0.05561,0.04417,0.03537,0.09266,0.1,0.05515,0.05479,0.07503,0.04932,0.49298,0.3494,2.63548,0.79041,0.26169,0.26938,0.3692,0.25356,0.31827,0.24522,0.40202,0.47547,0.1676,0.18159,0.35114,0.28392,0.34109,0.19186,0.30347,0.24103,0.06617,0.06724,0.04544,0.05023,0.03466,0.05083,0.03738,0.03961,0.03427,0.03041,0.03306,0.05497,0.06151,0.01301,0.02498,0.02543,0.03049,0.03113,0.06162,0.0187,0.01501,0.02899,0.06211,0.0795,0.07244,0.01709,0.04301,0.10659,8.98296,3.8497,5.20177,4.26131,4.54192,3.83684,3.67822,4.22239,3.47428,4.55587,3.69695,13.5222,4.89822,5.66998,6.53876,9.2323,8.26725,11.1081,18.4982,19.6091,15.288,9.82349,23.6482,17.8667,88.9762,15.8744,9.18702,7.99248,20.0849,16.8118,24.3938,22.5971,14.3337,8.15174,6.96215,5.29305,11.5779,8.64476,13.3598,8.71675,5.87205,7.67202,38.3518,9.91655,25.0461,14.2362,9.59571,24.8017,41.5292,67.9208,20.7162,11.9511,7.40389,14.4383,51.1358,14.0507,18.811,28.6558,45.7461,18.0846,10.8342,25.9406,73.5341,11.8123,11.0874,7.02259,12.0482,7.05042,8.79212,15.8603,12.2472,37.6619,7.36711,9.33889,8.49213,10.0623,6.44405,5.58107,13.9134,11.1604,14.4208,15.1772,13.6781,9.39063,22.0511,9.72418,5.66637,9.96654,12.8023,10.6718,6.28807,9.92485,9.32909,7.52601,6.71772,5.44114,5.09017,8.24809,9.51363,4.75237,4.66883,8.20058,7.75223,6.80117,4.81213,3.69311,6.65492,5.82115,7.83932,3.1636,3.77498,4.42228,15.5757,13.0751,4.34879,4.03841,3.56868,4.64689,8.05579,6.39312,4.87141,15.0234,10.233,14.3337,5.82401,5.70818,5.73116,2.81838,2.37857,3.67367,5.69175,4.83567,0.15086,0.18337,0.20746,0.10574,0.11132,0.17331,0.27957,0.17899,0.2896,0.26838,0.23912,0.17783,0.22438,0.06263,0.04527,0.06076,0.10959,0.04741],\"yaxis\":\"y\",\"type\":\"scatter\"}],                        {\"template\":{\"data\":{\"histogram2dcontour\":[{\"type\":\"histogram2dcontour\",\"colorbar\":{\"outlinewidth\":0,\"ticks\":\"\"},\"colorscale\":[[0.0,\"#0d0887\"],[0.1111111111111111,\"#46039f\"],[0.2222222222222222,\"#7201a8\"],[0.3333333333333333,\"#9c179e\"],[0.4444444444444444,\"#bd3786\"],[0.5555555555555556,\"#d8576b\"],[0.6666666666666666,\"#ed7953\"],[0.7777777777777778,\"#fb9f3a\"],[0.8888888888888888,\"#fdca26\"],[1.0,\"#f0f921\"]]}],\"choropleth\":[{\"type\":\"choropleth\",\"colorbar\":{\"outlinewidth\":0,\"ticks\":\"\"}}],\"histogram2d\":[{\"type\":\"histogram2d\",\"colorbar\":{\"outlinewidth\":0,\"ticks\":\"\"},\"colorscale\":[[0.0,\"#0d0887\"],[0.1111111111111111,\"#46039f\"],[0.2222222222222222,\"#7201a8\"],[0.3333333333333333,\"#9c179e\"],[0.4444444444444444,\"#bd3786\"],[0.5555555555555556,\"#d8576b\"],[0.6666666666666666,\"#ed7953\"],[0.7777777777777778,\"#fb9f3a\"],[0.8888888888888888,\"#fdca26\"],[1.0,\"#f0f921\"]]}],\"heatmap\":[{\"type\":\"heatmap\",\"colorbar\":{\"outlinewidth\":0,\"ticks\":\"\"},\"colorscale\":[[0.0,\"#0d0887\"],[0.1111111111111111,\"#46039f\"],[0.2222222222222222,\"#7201a8\"],[0.3333333333333333,\"#9c179e\"],[0.4444444444444444,\"#bd3786\"],[0.5555555555555556,\"#d8576b\"],[0.6666666666666666,\"#ed7953\"],[0.7777777777777778,\"#fb9f3a\"],[0.8888888888888888,\"#fdca26\"],[1.0,\"#f0f921\"]]}],\"heatmapgl\":[{\"type\":\"heatmapgl\",\"colorbar\":{\"outlinewidth\":0,\"ticks\":\"\"},\"colorscale\":[[0.0,\"#0d0887\"],[0.1111111111111111,\"#46039f\"],[0.2222222222222222,\"#7201a8\"],[0.3333333333333333,\"#9c179e\"],[0.4444444444444444,\"#bd3786\"],[0.5555555555555556,\"#d8576b\"],[0.6666666666666666,\"#ed7953\"],[0.7777777777777778,\"#fb9f3a\"],[0.8888888888888888,\"#fdca26\"],[1.0,\"#f0f921\"]]}],\"contourcarpet\":[{\"type\":\"contourcarpet\",\"colorbar\":{\"outlinewidth\":0,\"ticks\":\"\"}}],\"contour\":[{\"type\":\"contour\",\"colorbar\":{\"outlinewidth\":0,\"ticks\":\"\"},\"colorscale\":[[0.0,\"#0d0887\"],[0.1111111111111111,\"#46039f\"],[0.2222222222222222,\"#7201a8\"],[0.3333333333333333,\"#9c179e\"],[0.4444444444444444,\"#bd3786\"],[0.5555555555555556,\"#d8576b\"],[0.6666666666666666,\"#ed7953\"],[0.7777777777777778,\"#fb9f3a\"],[0.8888888888888888,\"#fdca26\"],[1.0,\"#f0f921\"]]}],\"surface\":[{\"type\":\"surface\",\"colorbar\":{\"outlinewidth\":0,\"ticks\":\"\"},\"colorscale\":[[0.0,\"#0d0887\"],[0.1111111111111111,\"#46039f\"],[0.2222222222222222,\"#7201a8\"],[0.3333333333333333,\"#9c179e\"],[0.4444444444444444,\"#bd3786\"],[0.5555555555555556,\"#d8576b\"],[0.6666666666666666,\"#ed7953\"],[0.7777777777777778,\"#fb9f3a\"],[0.8888888888888888,\"#fdca26\"],[1.0,\"#f0f921\"]]}],\"mesh3d\":[{\"type\":\"mesh3d\",\"colorbar\":{\"outlinewidth\":0,\"ticks\":\"\"}}],\"scatter\":[{\"fillpattern\":{\"fillmode\":\"overlay\",\"size\":10,\"solidity\":0.2},\"type\":\"scatter\"}],\"parcoords\":[{\"type\":\"parcoords\",\"line\":{\"colorbar\":{\"outlinewidth\":0,\"ticks\":\"\"}}}],\"scatterpolargl\":[{\"type\":\"scatterpolargl\",\"marker\":{\"colorbar\":{\"outlinewidth\":0,\"ticks\":\"\"}}}],\"bar\":[{\"error_x\":{\"color\":\"#2a3f5f\"},\"error_y\":{\"color\":\"#2a3f5f\"},\"marker\":{\"line\":{\"color\":\"#E5ECF6\",\"width\":0.5},\"pattern\":{\"fillmode\":\"overlay\",\"size\":10,\"solidity\":0.2}},\"type\":\"bar\"}],\"scattergeo\":[{\"type\":\"scattergeo\",\"marker\":{\"colorbar\":{\"outlinewidth\":0,\"ticks\":\"\"}}}],\"scatterpolar\":[{\"type\":\"scatterpolar\",\"marker\":{\"colorbar\":{\"outlinewidth\":0,\"ticks\":\"\"}}}],\"histogram\":[{\"marker\":{\"pattern\":{\"fillmode\":\"overlay\",\"size\":10,\"solidity\":0.2}},\"type\":\"histogram\"}],\"scattergl\":[{\"type\":\"scattergl\",\"marker\":{\"colorbar\":{\"outlinewidth\":0,\"ticks\":\"\"}}}],\"scatter3d\":[{\"type\":\"scatter3d\",\"line\":{\"colorbar\":{\"outlinewidth\":0,\"ticks\":\"\"}},\"marker\":{\"colorbar\":{\"outlinewidth\":0,\"ticks\":\"\"}}}],\"scattermapbox\":[{\"type\":\"scattermapbox\",\"marker\":{\"colorbar\":{\"outlinewidth\":0,\"ticks\":\"\"}}}],\"scatterternary\":[{\"type\":\"scatterternary\",\"marker\":{\"colorbar\":{\"outlinewidth\":0,\"ticks\":\"\"}}}],\"scattercarpet\":[{\"type\":\"scattercarpet\",\"marker\":{\"colorbar\":{\"outlinewidth\":0,\"ticks\":\"\"}}}],\"carpet\":[{\"aaxis\":{\"endlinecolor\":\"#2a3f5f\",\"gridcolor\":\"white\",\"linecolor\":\"white\",\"minorgridcolor\":\"white\",\"startlinecolor\":\"#2a3f5f\"},\"baxis\":{\"endlinecolor\":\"#2a3f5f\",\"gridcolor\":\"white\",\"linecolor\":\"white\",\"minorgridcolor\":\"white\",\"startlinecolor\":\"#2a3f5f\"},\"type\":\"carpet\"}],\"table\":[{\"cells\":{\"fill\":{\"color\":\"#EBF0F8\"},\"line\":{\"color\":\"white\"}},\"header\":{\"fill\":{\"color\":\"#C8D4E3\"},\"line\":{\"color\":\"white\"}},\"type\":\"table\"}],\"barpolar\":[{\"marker\":{\"line\":{\"color\":\"#E5ECF6\",\"width\":0.5},\"pattern\":{\"fillmode\":\"overlay\",\"size\":10,\"solidity\":0.2}},\"type\":\"barpolar\"}],\"pie\":[{\"automargin\":true,\"type\":\"pie\"}]},\"layout\":{\"autotypenumbers\":\"strict\",\"colorway\":[\"#636efa\",\"#EF553B\",\"#00cc96\",\"#ab63fa\",\"#FFA15A\",\"#19d3f3\",\"#FF6692\",\"#B6E880\",\"#FF97FF\",\"#FECB52\"],\"font\":{\"color\":\"#2a3f5f\"},\"hovermode\":\"closest\",\"hoverlabel\":{\"align\":\"left\"},\"paper_bgcolor\":\"white\",\"plot_bgcolor\":\"#E5ECF6\",\"polar\":{\"bgcolor\":\"#E5ECF6\",\"angularaxis\":{\"gridcolor\":\"white\",\"linecolor\":\"white\",\"ticks\":\"\"},\"radialaxis\":{\"gridcolor\":\"white\",\"linecolor\":\"white\",\"ticks\":\"\"}},\"ternary\":{\"bgcolor\":\"#E5ECF6\",\"aaxis\":{\"gridcolor\":\"white\",\"linecolor\":\"white\",\"ticks\":\"\"},\"baxis\":{\"gridcolor\":\"white\",\"linecolor\":\"white\",\"ticks\":\"\"},\"caxis\":{\"gridcolor\":\"white\",\"linecolor\":\"white\",\"ticks\":\"\"}},\"coloraxis\":{\"colorbar\":{\"outlinewidth\":0,\"ticks\":\"\"}},\"colorscale\":{\"sequential\":[[0.0,\"#0d0887\"],[0.1111111111111111,\"#46039f\"],[0.2222222222222222,\"#7201a8\"],[0.3333333333333333,\"#9c179e\"],[0.4444444444444444,\"#bd3786\"],[0.5555555555555556,\"#d8576b\"],[0.6666666666666666,\"#ed7953\"],[0.7777777777777778,\"#fb9f3a\"],[0.8888888888888888,\"#fdca26\"],[1.0,\"#f0f921\"]],\"sequentialminus\":[[0.0,\"#0d0887\"],[0.1111111111111111,\"#46039f\"],[0.2222222222222222,\"#7201a8\"],[0.3333333333333333,\"#9c179e\"],[0.4444444444444444,\"#bd3786\"],[0.5555555555555556,\"#d8576b\"],[0.6666666666666666,\"#ed7953\"],[0.7777777777777778,\"#fb9f3a\"],[0.8888888888888888,\"#fdca26\"],[1.0,\"#f0f921\"]],\"diverging\":[[0,\"#8e0152\"],[0.1,\"#c51b7d\"],[0.2,\"#de77ae\"],[0.3,\"#f1b6da\"],[0.4,\"#fde0ef\"],[0.5,\"#f7f7f7\"],[0.6,\"#e6f5d0\"],[0.7,\"#b8e186\"],[0.8,\"#7fbc41\"],[0.9,\"#4d9221\"],[1,\"#276419\"]]},\"xaxis\":{\"gridcolor\":\"white\",\"linecolor\":\"white\",\"ticks\":\"\",\"title\":{\"standoff\":15},\"zerolinecolor\":\"white\",\"automargin\":true,\"zerolinewidth\":2},\"yaxis\":{\"gridcolor\":\"white\",\"linecolor\":\"white\",\"ticks\":\"\",\"title\":{\"standoff\":15},\"zerolinecolor\":\"white\",\"automargin\":true,\"zerolinewidth\":2},\"scene\":{\"xaxis\":{\"backgroundcolor\":\"#E5ECF6\",\"gridcolor\":\"white\",\"linecolor\":\"white\",\"showbackground\":true,\"ticks\":\"\",\"zerolinecolor\":\"white\",\"gridwidth\":2},\"yaxis\":{\"backgroundcolor\":\"#E5ECF6\",\"gridcolor\":\"white\",\"linecolor\":\"white\",\"showbackground\":true,\"ticks\":\"\",\"zerolinecolor\":\"white\",\"gridwidth\":2},\"zaxis\":{\"backgroundcolor\":\"#E5ECF6\",\"gridcolor\":\"white\",\"linecolor\":\"white\",\"showbackground\":true,\"ticks\":\"\",\"zerolinecolor\":\"white\",\"gridwidth\":2}},\"shapedefaults\":{\"line\":{\"color\":\"#2a3f5f\"}},\"annotationdefaults\":{\"arrowcolor\":\"#2a3f5f\",\"arrowhead\":0,\"arrowwidth\":1},\"geo\":{\"bgcolor\":\"white\",\"landcolor\":\"#E5ECF6\",\"subunitcolor\":\"white\",\"showland\":true,\"showlakes\":true,\"lakecolor\":\"white\"},\"title\":{\"x\":0.05},\"mapbox\":{\"style\":\"light\"}}},\"xaxis\":{\"anchor\":\"y\",\"domain\":[0.0,1.0],\"title\":{\"text\":\"nox\"}},\"yaxis\":{\"anchor\":\"x\",\"domain\":[0.0,1.0],\"title\":{\"text\":\"crim\"}},\"coloraxis\":{\"colorbar\":{\"title\":{\"text\":\"cluster_1_labels\"}},\"colorscale\":[[0.0,\"#0d0887\"],[0.1111111111111111,\"#46039f\"],[0.2222222222222222,\"#7201a8\"],[0.3333333333333333,\"#9c179e\"],[0.4444444444444444,\"#bd3786\"],[0.5555555555555556,\"#d8576b\"],[0.6666666666666666,\"#ed7953\"],[0.7777777777777778,\"#fb9f3a\"],[0.8888888888888888,\"#fdca26\"],[1.0,\"#f0f921\"]]},\"legend\":{\"tracegroupgap\":0},\"title\":{\"text\":\"Cluster\"}},                        {\"responsive\": true}                    ).then(function(){\n",
       "                            \n",
       "var gd = document.getElementById('e77bbdfc-d946-4f2b-9ffb-5f6036482ebe');\n",
       "var x = new MutationObserver(function (mutations, observer) {{\n",
       "        var display = window.getComputedStyle(gd).display;\n",
       "        if (!display || display === 'none') {{\n",
       "            console.log([gd, 'removed!']);\n",
       "            Plotly.purge(gd);\n",
       "            observer.disconnect();\n",
       "        }}\n",
       "}});\n",
       "\n",
       "// Listen for the removal of the full notebook cells\n",
       "var notebookContainer = gd.closest('#notebook-container');\n",
       "if (notebookContainer) {{\n",
       "    x.observe(notebookContainer, {childList: true});\n",
       "}}\n",
       "\n",
       "// Listen for the clearing of the current output cell\n",
       "var outputEl = gd.closest('.output');\n",
       "if (outputEl) {{\n",
       "    x.observe(outputEl, {childList: true});\n",
       "}}\n",
       "\n",
       "                        })                };                });            </script>        </div>"
      ]
     },
     "metadata": {},
     "output_type": "display_data"
    }
   ],
   "source": [
    "plot = px.scatter(data_frame=Y,\n",
    "                 x = 'nox',\n",
    "                 y = 'crim',\n",
    "                color = 'cluster_1_labels',\n",
    "                 title = 'Cluster')\n",
    "plot.show()"
   ]
  },
  {
   "cell_type": "code",
   "execution_count": 178,
   "id": "b124493e-1ea8-48c9-9040-dd7f63ed890e",
   "metadata": {},
   "outputs": [],
   "source": [
    "pcatwo = PCA(n_components=2)"
   ]
  },
  {
   "cell_type": "code",
   "execution_count": 180,
   "id": "2b589b34-b23e-443c-ab73-e9a2ae42b0a3",
   "metadata": {
    "scrolled": true
   },
   "outputs": [
    {
     "data": {
      "text/html": [
       "<style>#sk-container-id-8 {\n",
       "  /* Definition of color scheme common for light and dark mode */\n",
       "  --sklearn-color-text: black;\n",
       "  --sklearn-color-line: gray;\n",
       "  /* Definition of color scheme for unfitted estimators */\n",
       "  --sklearn-color-unfitted-level-0: #fff5e6;\n",
       "  --sklearn-color-unfitted-level-1: #f6e4d2;\n",
       "  --sklearn-color-unfitted-level-2: #ffe0b3;\n",
       "  --sklearn-color-unfitted-level-3: chocolate;\n",
       "  /* Definition of color scheme for fitted estimators */\n",
       "  --sklearn-color-fitted-level-0: #f0f8ff;\n",
       "  --sklearn-color-fitted-level-1: #d4ebff;\n",
       "  --sklearn-color-fitted-level-2: #b3dbfd;\n",
       "  --sklearn-color-fitted-level-3: cornflowerblue;\n",
       "\n",
       "  /* Specific color for light theme */\n",
       "  --sklearn-color-text-on-default-background: var(--sg-text-color, var(--theme-code-foreground, var(--jp-content-font-color1, black)));\n",
       "  --sklearn-color-background: var(--sg-background-color, var(--theme-background, var(--jp-layout-color0, white)));\n",
       "  --sklearn-color-border-box: var(--sg-text-color, var(--theme-code-foreground, var(--jp-content-font-color1, black)));\n",
       "  --sklearn-color-icon: #696969;\n",
       "\n",
       "  @media (prefers-color-scheme: dark) {\n",
       "    /* Redefinition of color scheme for dark theme */\n",
       "    --sklearn-color-text-on-default-background: var(--sg-text-color, var(--theme-code-foreground, var(--jp-content-font-color1, white)));\n",
       "    --sklearn-color-background: var(--sg-background-color, var(--theme-background, var(--jp-layout-color0, #111)));\n",
       "    --sklearn-color-border-box: var(--sg-text-color, var(--theme-code-foreground, var(--jp-content-font-color1, white)));\n",
       "    --sklearn-color-icon: #878787;\n",
       "  }\n",
       "}\n",
       "\n",
       "#sk-container-id-8 {\n",
       "  color: var(--sklearn-color-text);\n",
       "}\n",
       "\n",
       "#sk-container-id-8 pre {\n",
       "  padding: 0;\n",
       "}\n",
       "\n",
       "#sk-container-id-8 input.sk-hidden--visually {\n",
       "  border: 0;\n",
       "  clip: rect(1px 1px 1px 1px);\n",
       "  clip: rect(1px, 1px, 1px, 1px);\n",
       "  height: 1px;\n",
       "  margin: -1px;\n",
       "  overflow: hidden;\n",
       "  padding: 0;\n",
       "  position: absolute;\n",
       "  width: 1px;\n",
       "}\n",
       "\n",
       "#sk-container-id-8 div.sk-dashed-wrapped {\n",
       "  border: 1px dashed var(--sklearn-color-line);\n",
       "  margin: 0 0.4em 0.5em 0.4em;\n",
       "  box-sizing: border-box;\n",
       "  padding-bottom: 0.4em;\n",
       "  background-color: var(--sklearn-color-background);\n",
       "}\n",
       "\n",
       "#sk-container-id-8 div.sk-container {\n",
       "  /* jupyter's `normalize.less` sets `[hidden] { display: none; }`\n",
       "     but bootstrap.min.css set `[hidden] { display: none !important; }`\n",
       "     so we also need the `!important` here to be able to override the\n",
       "     default hidden behavior on the sphinx rendered scikit-learn.org.\n",
       "     See: https://github.com/scikit-learn/scikit-learn/issues/21755 */\n",
       "  display: inline-block !important;\n",
       "  position: relative;\n",
       "}\n",
       "\n",
       "#sk-container-id-8 div.sk-text-repr-fallback {\n",
       "  display: none;\n",
       "}\n",
       "\n",
       "div.sk-parallel-item,\n",
       "div.sk-serial,\n",
       "div.sk-item {\n",
       "  /* draw centered vertical line to link estimators */\n",
       "  background-image: linear-gradient(var(--sklearn-color-text-on-default-background), var(--sklearn-color-text-on-default-background));\n",
       "  background-size: 2px 100%;\n",
       "  background-repeat: no-repeat;\n",
       "  background-position: center center;\n",
       "}\n",
       "\n",
       "/* Parallel-specific style estimator block */\n",
       "\n",
       "#sk-container-id-8 div.sk-parallel-item::after {\n",
       "  content: \"\";\n",
       "  width: 100%;\n",
       "  border-bottom: 2px solid var(--sklearn-color-text-on-default-background);\n",
       "  flex-grow: 1;\n",
       "}\n",
       "\n",
       "#sk-container-id-8 div.sk-parallel {\n",
       "  display: flex;\n",
       "  align-items: stretch;\n",
       "  justify-content: center;\n",
       "  background-color: var(--sklearn-color-background);\n",
       "  position: relative;\n",
       "}\n",
       "\n",
       "#sk-container-id-8 div.sk-parallel-item {\n",
       "  display: flex;\n",
       "  flex-direction: column;\n",
       "}\n",
       "\n",
       "#sk-container-id-8 div.sk-parallel-item:first-child::after {\n",
       "  align-self: flex-end;\n",
       "  width: 50%;\n",
       "}\n",
       "\n",
       "#sk-container-id-8 div.sk-parallel-item:last-child::after {\n",
       "  align-self: flex-start;\n",
       "  width: 50%;\n",
       "}\n",
       "\n",
       "#sk-container-id-8 div.sk-parallel-item:only-child::after {\n",
       "  width: 0;\n",
       "}\n",
       "\n",
       "/* Serial-specific style estimator block */\n",
       "\n",
       "#sk-container-id-8 div.sk-serial {\n",
       "  display: flex;\n",
       "  flex-direction: column;\n",
       "  align-items: center;\n",
       "  background-color: var(--sklearn-color-background);\n",
       "  padding-right: 1em;\n",
       "  padding-left: 1em;\n",
       "}\n",
       "\n",
       "\n",
       "/* Toggleable style: style used for estimator/Pipeline/ColumnTransformer box that is\n",
       "clickable and can be expanded/collapsed.\n",
       "- Pipeline and ColumnTransformer use this feature and define the default style\n",
       "- Estimators will overwrite some part of the style using the `sk-estimator` class\n",
       "*/\n",
       "\n",
       "/* Pipeline and ColumnTransformer style (default) */\n",
       "\n",
       "#sk-container-id-8 div.sk-toggleable {\n",
       "  /* Default theme specific background. It is overwritten whether we have a\n",
       "  specific estimator or a Pipeline/ColumnTransformer */\n",
       "  background-color: var(--sklearn-color-background);\n",
       "}\n",
       "\n",
       "/* Toggleable label */\n",
       "#sk-container-id-8 label.sk-toggleable__label {\n",
       "  cursor: pointer;\n",
       "  display: block;\n",
       "  width: 100%;\n",
       "  margin-bottom: 0;\n",
       "  padding: 0.5em;\n",
       "  box-sizing: border-box;\n",
       "  text-align: center;\n",
       "}\n",
       "\n",
       "#sk-container-id-8 label.sk-toggleable__label-arrow:before {\n",
       "  /* Arrow on the left of the label */\n",
       "  content: \"▸\";\n",
       "  float: left;\n",
       "  margin-right: 0.25em;\n",
       "  color: var(--sklearn-color-icon);\n",
       "}\n",
       "\n",
       "#sk-container-id-8 label.sk-toggleable__label-arrow:hover:before {\n",
       "  color: var(--sklearn-color-text);\n",
       "}\n",
       "\n",
       "/* Toggleable content - dropdown */\n",
       "\n",
       "#sk-container-id-8 div.sk-toggleable__content {\n",
       "  max-height: 0;\n",
       "  max-width: 0;\n",
       "  overflow: hidden;\n",
       "  text-align: left;\n",
       "  /* unfitted */\n",
       "  background-color: var(--sklearn-color-unfitted-level-0);\n",
       "}\n",
       "\n",
       "#sk-container-id-8 div.sk-toggleable__content.fitted {\n",
       "  /* fitted */\n",
       "  background-color: var(--sklearn-color-fitted-level-0);\n",
       "}\n",
       "\n",
       "#sk-container-id-8 div.sk-toggleable__content pre {\n",
       "  margin: 0.2em;\n",
       "  border-radius: 0.25em;\n",
       "  color: var(--sklearn-color-text);\n",
       "  /* unfitted */\n",
       "  background-color: var(--sklearn-color-unfitted-level-0);\n",
       "}\n",
       "\n",
       "#sk-container-id-8 div.sk-toggleable__content.fitted pre {\n",
       "  /* unfitted */\n",
       "  background-color: var(--sklearn-color-fitted-level-0);\n",
       "}\n",
       "\n",
       "#sk-container-id-8 input.sk-toggleable__control:checked~div.sk-toggleable__content {\n",
       "  /* Expand drop-down */\n",
       "  max-height: 200px;\n",
       "  max-width: 100%;\n",
       "  overflow: auto;\n",
       "}\n",
       "\n",
       "#sk-container-id-8 input.sk-toggleable__control:checked~label.sk-toggleable__label-arrow:before {\n",
       "  content: \"▾\";\n",
       "}\n",
       "\n",
       "/* Pipeline/ColumnTransformer-specific style */\n",
       "\n",
       "#sk-container-id-8 div.sk-label input.sk-toggleable__control:checked~label.sk-toggleable__label {\n",
       "  color: var(--sklearn-color-text);\n",
       "  background-color: var(--sklearn-color-unfitted-level-2);\n",
       "}\n",
       "\n",
       "#sk-container-id-8 div.sk-label.fitted input.sk-toggleable__control:checked~label.sk-toggleable__label {\n",
       "  background-color: var(--sklearn-color-fitted-level-2);\n",
       "}\n",
       "\n",
       "/* Estimator-specific style */\n",
       "\n",
       "/* Colorize estimator box */\n",
       "#sk-container-id-8 div.sk-estimator input.sk-toggleable__control:checked~label.sk-toggleable__label {\n",
       "  /* unfitted */\n",
       "  background-color: var(--sklearn-color-unfitted-level-2);\n",
       "}\n",
       "\n",
       "#sk-container-id-8 div.sk-estimator.fitted input.sk-toggleable__control:checked~label.sk-toggleable__label {\n",
       "  /* fitted */\n",
       "  background-color: var(--sklearn-color-fitted-level-2);\n",
       "}\n",
       "\n",
       "#sk-container-id-8 div.sk-label label.sk-toggleable__label,\n",
       "#sk-container-id-8 div.sk-label label {\n",
       "  /* The background is the default theme color */\n",
       "  color: var(--sklearn-color-text-on-default-background);\n",
       "}\n",
       "\n",
       "/* On hover, darken the color of the background */\n",
       "#sk-container-id-8 div.sk-label:hover label.sk-toggleable__label {\n",
       "  color: var(--sklearn-color-text);\n",
       "  background-color: var(--sklearn-color-unfitted-level-2);\n",
       "}\n",
       "\n",
       "/* Label box, darken color on hover, fitted */\n",
       "#sk-container-id-8 div.sk-label.fitted:hover label.sk-toggleable__label.fitted {\n",
       "  color: var(--sklearn-color-text);\n",
       "  background-color: var(--sklearn-color-fitted-level-2);\n",
       "}\n",
       "\n",
       "/* Estimator label */\n",
       "\n",
       "#sk-container-id-8 div.sk-label label {\n",
       "  font-family: monospace;\n",
       "  font-weight: bold;\n",
       "  display: inline-block;\n",
       "  line-height: 1.2em;\n",
       "}\n",
       "\n",
       "#sk-container-id-8 div.sk-label-container {\n",
       "  text-align: center;\n",
       "}\n",
       "\n",
       "/* Estimator-specific */\n",
       "#sk-container-id-8 div.sk-estimator {\n",
       "  font-family: monospace;\n",
       "  border: 1px dotted var(--sklearn-color-border-box);\n",
       "  border-radius: 0.25em;\n",
       "  box-sizing: border-box;\n",
       "  margin-bottom: 0.5em;\n",
       "  /* unfitted */\n",
       "  background-color: var(--sklearn-color-unfitted-level-0);\n",
       "}\n",
       "\n",
       "#sk-container-id-8 div.sk-estimator.fitted {\n",
       "  /* fitted */\n",
       "  background-color: var(--sklearn-color-fitted-level-0);\n",
       "}\n",
       "\n",
       "/* on hover */\n",
       "#sk-container-id-8 div.sk-estimator:hover {\n",
       "  /* unfitted */\n",
       "  background-color: var(--sklearn-color-unfitted-level-2);\n",
       "}\n",
       "\n",
       "#sk-container-id-8 div.sk-estimator.fitted:hover {\n",
       "  /* fitted */\n",
       "  background-color: var(--sklearn-color-fitted-level-2);\n",
       "}\n",
       "\n",
       "/* Specification for estimator info (e.g. \"i\" and \"?\") */\n",
       "\n",
       "/* Common style for \"i\" and \"?\" */\n",
       "\n",
       ".sk-estimator-doc-link,\n",
       "a:link.sk-estimator-doc-link,\n",
       "a:visited.sk-estimator-doc-link {\n",
       "  float: right;\n",
       "  font-size: smaller;\n",
       "  line-height: 1em;\n",
       "  font-family: monospace;\n",
       "  background-color: var(--sklearn-color-background);\n",
       "  border-radius: 1em;\n",
       "  height: 1em;\n",
       "  width: 1em;\n",
       "  text-decoration: none !important;\n",
       "  margin-left: 1ex;\n",
       "  /* unfitted */\n",
       "  border: var(--sklearn-color-unfitted-level-1) 1pt solid;\n",
       "  color: var(--sklearn-color-unfitted-level-1);\n",
       "}\n",
       "\n",
       ".sk-estimator-doc-link.fitted,\n",
       "a:link.sk-estimator-doc-link.fitted,\n",
       "a:visited.sk-estimator-doc-link.fitted {\n",
       "  /* fitted */\n",
       "  border: var(--sklearn-color-fitted-level-1) 1pt solid;\n",
       "  color: var(--sklearn-color-fitted-level-1);\n",
       "}\n",
       "\n",
       "/* On hover */\n",
       "div.sk-estimator:hover .sk-estimator-doc-link:hover,\n",
       ".sk-estimator-doc-link:hover,\n",
       "div.sk-label-container:hover .sk-estimator-doc-link:hover,\n",
       ".sk-estimator-doc-link:hover {\n",
       "  /* unfitted */\n",
       "  background-color: var(--sklearn-color-unfitted-level-3);\n",
       "  color: var(--sklearn-color-background);\n",
       "  text-decoration: none;\n",
       "}\n",
       "\n",
       "div.sk-estimator.fitted:hover .sk-estimator-doc-link.fitted:hover,\n",
       ".sk-estimator-doc-link.fitted:hover,\n",
       "div.sk-label-container:hover .sk-estimator-doc-link.fitted:hover,\n",
       ".sk-estimator-doc-link.fitted:hover {\n",
       "  /* fitted */\n",
       "  background-color: var(--sklearn-color-fitted-level-3);\n",
       "  color: var(--sklearn-color-background);\n",
       "  text-decoration: none;\n",
       "}\n",
       "\n",
       "/* Span, style for the box shown on hovering the info icon */\n",
       ".sk-estimator-doc-link span {\n",
       "  display: none;\n",
       "  z-index: 9999;\n",
       "  position: relative;\n",
       "  font-weight: normal;\n",
       "  right: .2ex;\n",
       "  padding: .5ex;\n",
       "  margin: .5ex;\n",
       "  width: min-content;\n",
       "  min-width: 20ex;\n",
       "  max-width: 50ex;\n",
       "  color: var(--sklearn-color-text);\n",
       "  box-shadow: 2pt 2pt 4pt #999;\n",
       "  /* unfitted */\n",
       "  background: var(--sklearn-color-unfitted-level-0);\n",
       "  border: .5pt solid var(--sklearn-color-unfitted-level-3);\n",
       "}\n",
       "\n",
       ".sk-estimator-doc-link.fitted span {\n",
       "  /* fitted */\n",
       "  background: var(--sklearn-color-fitted-level-0);\n",
       "  border: var(--sklearn-color-fitted-level-3);\n",
       "}\n",
       "\n",
       ".sk-estimator-doc-link:hover span {\n",
       "  display: block;\n",
       "}\n",
       "\n",
       "/* \"?\"-specific style due to the `<a>` HTML tag */\n",
       "\n",
       "#sk-container-id-8 a.estimator_doc_link {\n",
       "  float: right;\n",
       "  font-size: 1rem;\n",
       "  line-height: 1em;\n",
       "  font-family: monospace;\n",
       "  background-color: var(--sklearn-color-background);\n",
       "  border-radius: 1rem;\n",
       "  height: 1rem;\n",
       "  width: 1rem;\n",
       "  text-decoration: none;\n",
       "  /* unfitted */\n",
       "  color: var(--sklearn-color-unfitted-level-1);\n",
       "  border: var(--sklearn-color-unfitted-level-1) 1pt solid;\n",
       "}\n",
       "\n",
       "#sk-container-id-8 a.estimator_doc_link.fitted {\n",
       "  /* fitted */\n",
       "  border: var(--sklearn-color-fitted-level-1) 1pt solid;\n",
       "  color: var(--sklearn-color-fitted-level-1);\n",
       "}\n",
       "\n",
       "/* On hover */\n",
       "#sk-container-id-8 a.estimator_doc_link:hover {\n",
       "  /* unfitted */\n",
       "  background-color: var(--sklearn-color-unfitted-level-3);\n",
       "  color: var(--sklearn-color-background);\n",
       "  text-decoration: none;\n",
       "}\n",
       "\n",
       "#sk-container-id-8 a.estimator_doc_link.fitted:hover {\n",
       "  /* fitted */\n",
       "  background-color: var(--sklearn-color-fitted-level-3);\n",
       "}\n",
       "</style><div id=\"sk-container-id-8\" class=\"sk-top-container\"><div class=\"sk-text-repr-fallback\"><pre>PCA(n_components=2)</pre><b>In a Jupyter environment, please rerun this cell to show the HTML representation or trust the notebook. <br />On GitHub, the HTML representation is unable to render, please try loading this page with nbviewer.org.</b></div><div class=\"sk-container\" hidden><div class=\"sk-item\"><div class=\"sk-estimator fitted sk-toggleable\"><input class=\"sk-toggleable__control sk-hidden--visually\" id=\"sk-estimator-id-8\" type=\"checkbox\" checked><label for=\"sk-estimator-id-8\" class=\"sk-toggleable__label fitted sk-toggleable__label-arrow fitted\">&nbsp;&nbsp;PCA<a class=\"sk-estimator-doc-link fitted\" rel=\"noreferrer\" target=\"_blank\" href=\"https://scikit-learn.org/1.4/modules/generated/sklearn.decomposition.PCA.html\">?<span>Documentation for PCA</span></a><span class=\"sk-estimator-doc-link fitted\">i<span>Fitted</span></span></label><div class=\"sk-toggleable__content fitted\"><pre>PCA(n_components=2)</pre></div> </div></div></div></div>"
      ],
      "text/plain": [
       "PCA(n_components=2)"
      ]
     },
     "execution_count": 180,
     "metadata": {},
     "output_type": "execute_result"
    }
   ],
   "source": [
    "pcatwo.fit(Y)"
   ]
  },
  {
   "cell_type": "code",
   "execution_count": 182,
   "id": "290f6299-8ace-40c9-9ecd-74c124d9822a",
   "metadata": {},
   "outputs": [],
   "source": [
    "explained_list_two=[]"
   ]
  },
  {
   "cell_type": "code",
   "execution_count": 172,
   "id": "10f17c7d-2ed3-4b5b-a083-856860588006",
   "metadata": {},
   "outputs": [],
   "source": [
    "for n in [2,3,4,5,6,7]:\n",
    "    pcatwo = PCA(n_components=n)\n",
    "    pcatwo.fit(Y)\n",
    "    explained_sum = pcatwo.explained_variance_ratio_.sum()\n",
    "    explained_list_two.append(explained_sum)"
   ]
  },
  {
   "cell_type": "code",
   "execution_count": 174,
   "id": "68d346d3-a6ac-4083-ac8b-da503402c5b7",
   "metadata": {},
   "outputs": [
    {
     "data": {
      "text/plain": [
       "[0.9688746946426722,\n",
       " 0.9902231968549529,\n",
       " 0.9971801531677483,\n",
       " 0.9984801509486813,\n",
       " 0.9992073850033386,\n",
       " 0.9996264848189824]"
      ]
     },
     "execution_count": 174,
     "metadata": {},
     "output_type": "execute_result"
    }
   ],
   "source": [
    "explained_list_two"
   ]
  },
  {
   "cell_type": "code",
   "execution_count": 176,
   "id": "80cc1f14-17c1-4026-8674-a3fef12da0a1",
   "metadata": {},
   "outputs": [
    {
     "data": {
      "application/vnd.plotly.v1+json": {
       "config": {
        "plotlyServerURL": "https://plot.ly"
       },
       "data": [
        {
         "alignmentgroup": "True",
         "hovertemplate": "x=%{x}<br>y=%{y}<extra></extra>",
         "legendgroup": "",
         "marker": {
          "color": "#636efa",
          "pattern": {
           "shape": ""
          }
         },
         "name": "",
         "offsetgroup": "",
         "orientation": "v",
         "showlegend": false,
         "textposition": "auto",
         "type": "bar",
         "x": [
          2,
          3,
          4,
          5,
          6,
          7
         ],
         "xaxis": "x",
         "y": [
          0.9688746946426722,
          0.9902231968549529,
          0.9971801531677483,
          0.9984801509486813,
          0.9992073850033386,
          0.9996264848189824
         ],
         "yaxis": "y"
        }
       ],
       "layout": {
        "autosize": true,
        "barmode": "relative",
        "legend": {
         "tracegroupgap": 0
        },
        "margin": {
         "t": 60
        },
        "template": {
         "data": {
          "bar": [
           {
            "error_x": {
             "color": "#2a3f5f"
            },
            "error_y": {
             "color": "#2a3f5f"
            },
            "marker": {
             "line": {
              "color": "#E5ECF6",
              "width": 0.5
             },
             "pattern": {
              "fillmode": "overlay",
              "size": 10,
              "solidity": 0.2
             }
            },
            "type": "bar"
           }
          ],
          "barpolar": [
           {
            "marker": {
             "line": {
              "color": "#E5ECF6",
              "width": 0.5
             },
             "pattern": {
              "fillmode": "overlay",
              "size": 10,
              "solidity": 0.2
             }
            },
            "type": "barpolar"
           }
          ],
          "carpet": [
           {
            "aaxis": {
             "endlinecolor": "#2a3f5f",
             "gridcolor": "white",
             "linecolor": "white",
             "minorgridcolor": "white",
             "startlinecolor": "#2a3f5f"
            },
            "baxis": {
             "endlinecolor": "#2a3f5f",
             "gridcolor": "white",
             "linecolor": "white",
             "minorgridcolor": "white",
             "startlinecolor": "#2a3f5f"
            },
            "type": "carpet"
           }
          ],
          "choropleth": [
           {
            "colorbar": {
             "outlinewidth": 0,
             "ticks": ""
            },
            "type": "choropleth"
           }
          ],
          "contour": [
           {
            "colorbar": {
             "outlinewidth": 0,
             "ticks": ""
            },
            "colorscale": [
             [
              0,
              "#0d0887"
             ],
             [
              0.1111111111111111,
              "#46039f"
             ],
             [
              0.2222222222222222,
              "#7201a8"
             ],
             [
              0.3333333333333333,
              "#9c179e"
             ],
             [
              0.4444444444444444,
              "#bd3786"
             ],
             [
              0.5555555555555556,
              "#d8576b"
             ],
             [
              0.6666666666666666,
              "#ed7953"
             ],
             [
              0.7777777777777778,
              "#fb9f3a"
             ],
             [
              0.8888888888888888,
              "#fdca26"
             ],
             [
              1,
              "#f0f921"
             ]
            ],
            "type": "contour"
           }
          ],
          "contourcarpet": [
           {
            "colorbar": {
             "outlinewidth": 0,
             "ticks": ""
            },
            "type": "contourcarpet"
           }
          ],
          "heatmap": [
           {
            "colorbar": {
             "outlinewidth": 0,
             "ticks": ""
            },
            "colorscale": [
             [
              0,
              "#0d0887"
             ],
             [
              0.1111111111111111,
              "#46039f"
             ],
             [
              0.2222222222222222,
              "#7201a8"
             ],
             [
              0.3333333333333333,
              "#9c179e"
             ],
             [
              0.4444444444444444,
              "#bd3786"
             ],
             [
              0.5555555555555556,
              "#d8576b"
             ],
             [
              0.6666666666666666,
              "#ed7953"
             ],
             [
              0.7777777777777778,
              "#fb9f3a"
             ],
             [
              0.8888888888888888,
              "#fdca26"
             ],
             [
              1,
              "#f0f921"
             ]
            ],
            "type": "heatmap"
           }
          ],
          "heatmapgl": [
           {
            "colorbar": {
             "outlinewidth": 0,
             "ticks": ""
            },
            "colorscale": [
             [
              0,
              "#0d0887"
             ],
             [
              0.1111111111111111,
              "#46039f"
             ],
             [
              0.2222222222222222,
              "#7201a8"
             ],
             [
              0.3333333333333333,
              "#9c179e"
             ],
             [
              0.4444444444444444,
              "#bd3786"
             ],
             [
              0.5555555555555556,
              "#d8576b"
             ],
             [
              0.6666666666666666,
              "#ed7953"
             ],
             [
              0.7777777777777778,
              "#fb9f3a"
             ],
             [
              0.8888888888888888,
              "#fdca26"
             ],
             [
              1,
              "#f0f921"
             ]
            ],
            "type": "heatmapgl"
           }
          ],
          "histogram": [
           {
            "marker": {
             "pattern": {
              "fillmode": "overlay",
              "size": 10,
              "solidity": 0.2
             }
            },
            "type": "histogram"
           }
          ],
          "histogram2d": [
           {
            "colorbar": {
             "outlinewidth": 0,
             "ticks": ""
            },
            "colorscale": [
             [
              0,
              "#0d0887"
             ],
             [
              0.1111111111111111,
              "#46039f"
             ],
             [
              0.2222222222222222,
              "#7201a8"
             ],
             [
              0.3333333333333333,
              "#9c179e"
             ],
             [
              0.4444444444444444,
              "#bd3786"
             ],
             [
              0.5555555555555556,
              "#d8576b"
             ],
             [
              0.6666666666666666,
              "#ed7953"
             ],
             [
              0.7777777777777778,
              "#fb9f3a"
             ],
             [
              0.8888888888888888,
              "#fdca26"
             ],
             [
              1,
              "#f0f921"
             ]
            ],
            "type": "histogram2d"
           }
          ],
          "histogram2dcontour": [
           {
            "colorbar": {
             "outlinewidth": 0,
             "ticks": ""
            },
            "colorscale": [
             [
              0,
              "#0d0887"
             ],
             [
              0.1111111111111111,
              "#46039f"
             ],
             [
              0.2222222222222222,
              "#7201a8"
             ],
             [
              0.3333333333333333,
              "#9c179e"
             ],
             [
              0.4444444444444444,
              "#bd3786"
             ],
             [
              0.5555555555555556,
              "#d8576b"
             ],
             [
              0.6666666666666666,
              "#ed7953"
             ],
             [
              0.7777777777777778,
              "#fb9f3a"
             ],
             [
              0.8888888888888888,
              "#fdca26"
             ],
             [
              1,
              "#f0f921"
             ]
            ],
            "type": "histogram2dcontour"
           }
          ],
          "mesh3d": [
           {
            "colorbar": {
             "outlinewidth": 0,
             "ticks": ""
            },
            "type": "mesh3d"
           }
          ],
          "parcoords": [
           {
            "line": {
             "colorbar": {
              "outlinewidth": 0,
              "ticks": ""
             }
            },
            "type": "parcoords"
           }
          ],
          "pie": [
           {
            "automargin": true,
            "type": "pie"
           }
          ],
          "scatter": [
           {
            "fillpattern": {
             "fillmode": "overlay",
             "size": 10,
             "solidity": 0.2
            },
            "type": "scatter"
           }
          ],
          "scatter3d": [
           {
            "line": {
             "colorbar": {
              "outlinewidth": 0,
              "ticks": ""
             }
            },
            "marker": {
             "colorbar": {
              "outlinewidth": 0,
              "ticks": ""
             }
            },
            "type": "scatter3d"
           }
          ],
          "scattercarpet": [
           {
            "marker": {
             "colorbar": {
              "outlinewidth": 0,
              "ticks": ""
             }
            },
            "type": "scattercarpet"
           }
          ],
          "scattergeo": [
           {
            "marker": {
             "colorbar": {
              "outlinewidth": 0,
              "ticks": ""
             }
            },
            "type": "scattergeo"
           }
          ],
          "scattergl": [
           {
            "marker": {
             "colorbar": {
              "outlinewidth": 0,
              "ticks": ""
             }
            },
            "type": "scattergl"
           }
          ],
          "scattermapbox": [
           {
            "marker": {
             "colorbar": {
              "outlinewidth": 0,
              "ticks": ""
             }
            },
            "type": "scattermapbox"
           }
          ],
          "scatterpolar": [
           {
            "marker": {
             "colorbar": {
              "outlinewidth": 0,
              "ticks": ""
             }
            },
            "type": "scatterpolar"
           }
          ],
          "scatterpolargl": [
           {
            "marker": {
             "colorbar": {
              "outlinewidth": 0,
              "ticks": ""
             }
            },
            "type": "scatterpolargl"
           }
          ],
          "scatterternary": [
           {
            "marker": {
             "colorbar": {
              "outlinewidth": 0,
              "ticks": ""
             }
            },
            "type": "scatterternary"
           }
          ],
          "surface": [
           {
            "colorbar": {
             "outlinewidth": 0,
             "ticks": ""
            },
            "colorscale": [
             [
              0,
              "#0d0887"
             ],
             [
              0.1111111111111111,
              "#46039f"
             ],
             [
              0.2222222222222222,
              "#7201a8"
             ],
             [
              0.3333333333333333,
              "#9c179e"
             ],
             [
              0.4444444444444444,
              "#bd3786"
             ],
             [
              0.5555555555555556,
              "#d8576b"
             ],
             [
              0.6666666666666666,
              "#ed7953"
             ],
             [
              0.7777777777777778,
              "#fb9f3a"
             ],
             [
              0.8888888888888888,
              "#fdca26"
             ],
             [
              1,
              "#f0f921"
             ]
            ],
            "type": "surface"
           }
          ],
          "table": [
           {
            "cells": {
             "fill": {
              "color": "#EBF0F8"
             },
             "line": {
              "color": "white"
             }
            },
            "header": {
             "fill": {
              "color": "#C8D4E3"
             },
             "line": {
              "color": "white"
             }
            },
            "type": "table"
           }
          ]
         },
         "layout": {
          "annotationdefaults": {
           "arrowcolor": "#2a3f5f",
           "arrowhead": 0,
           "arrowwidth": 1
          },
          "autotypenumbers": "strict",
          "coloraxis": {
           "colorbar": {
            "outlinewidth": 0,
            "ticks": ""
           }
          },
          "colorscale": {
           "diverging": [
            [
             0,
             "#8e0152"
            ],
            [
             0.1,
             "#c51b7d"
            ],
            [
             0.2,
             "#de77ae"
            ],
            [
             0.3,
             "#f1b6da"
            ],
            [
             0.4,
             "#fde0ef"
            ],
            [
             0.5,
             "#f7f7f7"
            ],
            [
             0.6,
             "#e6f5d0"
            ],
            [
             0.7,
             "#b8e186"
            ],
            [
             0.8,
             "#7fbc41"
            ],
            [
             0.9,
             "#4d9221"
            ],
            [
             1,
             "#276419"
            ]
           ],
           "sequential": [
            [
             0,
             "#0d0887"
            ],
            [
             0.1111111111111111,
             "#46039f"
            ],
            [
             0.2222222222222222,
             "#7201a8"
            ],
            [
             0.3333333333333333,
             "#9c179e"
            ],
            [
             0.4444444444444444,
             "#bd3786"
            ],
            [
             0.5555555555555556,
             "#d8576b"
            ],
            [
             0.6666666666666666,
             "#ed7953"
            ],
            [
             0.7777777777777778,
             "#fb9f3a"
            ],
            [
             0.8888888888888888,
             "#fdca26"
            ],
            [
             1,
             "#f0f921"
            ]
           ],
           "sequentialminus": [
            [
             0,
             "#0d0887"
            ],
            [
             0.1111111111111111,
             "#46039f"
            ],
            [
             0.2222222222222222,
             "#7201a8"
            ],
            [
             0.3333333333333333,
             "#9c179e"
            ],
            [
             0.4444444444444444,
             "#bd3786"
            ],
            [
             0.5555555555555556,
             "#d8576b"
            ],
            [
             0.6666666666666666,
             "#ed7953"
            ],
            [
             0.7777777777777778,
             "#fb9f3a"
            ],
            [
             0.8888888888888888,
             "#fdca26"
            ],
            [
             1,
             "#f0f921"
            ]
           ]
          },
          "colorway": [
           "#636efa",
           "#EF553B",
           "#00cc96",
           "#ab63fa",
           "#FFA15A",
           "#19d3f3",
           "#FF6692",
           "#B6E880",
           "#FF97FF",
           "#FECB52"
          ],
          "font": {
           "color": "#2a3f5f"
          },
          "geo": {
           "bgcolor": "white",
           "lakecolor": "white",
           "landcolor": "#E5ECF6",
           "showlakes": true,
           "showland": true,
           "subunitcolor": "white"
          },
          "hoverlabel": {
           "align": "left"
          },
          "hovermode": "closest",
          "mapbox": {
           "style": "light"
          },
          "paper_bgcolor": "white",
          "plot_bgcolor": "#E5ECF6",
          "polar": {
           "angularaxis": {
            "gridcolor": "white",
            "linecolor": "white",
            "ticks": ""
           },
           "bgcolor": "#E5ECF6",
           "radialaxis": {
            "gridcolor": "white",
            "linecolor": "white",
            "ticks": ""
           }
          },
          "scene": {
           "xaxis": {
            "backgroundcolor": "#E5ECF6",
            "gridcolor": "white",
            "gridwidth": 2,
            "linecolor": "white",
            "showbackground": true,
            "ticks": "",
            "zerolinecolor": "white"
           },
           "yaxis": {
            "backgroundcolor": "#E5ECF6",
            "gridcolor": "white",
            "gridwidth": 2,
            "linecolor": "white",
            "showbackground": true,
            "ticks": "",
            "zerolinecolor": "white"
           },
           "zaxis": {
            "backgroundcolor": "#E5ECF6",
            "gridcolor": "white",
            "gridwidth": 2,
            "linecolor": "white",
            "showbackground": true,
            "ticks": "",
            "zerolinecolor": "white"
           }
          },
          "shapedefaults": {
           "line": {
            "color": "#2a3f5f"
           }
          },
          "ternary": {
           "aaxis": {
            "gridcolor": "white",
            "linecolor": "white",
            "ticks": ""
           },
           "baxis": {
            "gridcolor": "white",
            "linecolor": "white",
            "ticks": ""
           },
           "bgcolor": "#E5ECF6",
           "caxis": {
            "gridcolor": "white",
            "linecolor": "white",
            "ticks": ""
           }
          },
          "title": {
           "x": 0.05
          },
          "xaxis": {
           "automargin": true,
           "gridcolor": "white",
           "linecolor": "white",
           "ticks": "",
           "title": {
            "standoff": 15
           },
           "zerolinecolor": "white",
           "zerolinewidth": 2
          },
          "yaxis": {
           "automargin": true,
           "gridcolor": "white",
           "linecolor": "white",
           "ticks": "",
           "title": {
            "standoff": 15
           },
           "zerolinecolor": "white",
           "zerolinewidth": 2
          }
         }
        },
        "xaxis": {
         "anchor": "y",
         "autorange": true,
         "domain": [
          0,
          1
         ],
         "range": [
          1.5,
          7.5
         ],
         "title": {
          "text": "x"
         },
         "type": "linear"
        },
        "yaxis": {
         "anchor": "x",
         "autorange": true,
         "domain": [
          0,
          1
         ],
         "range": [
          -0.014486283705706893,
          0.0005916508428686318
         ],
         "title": {
          "text": "y"
         },
         "type": "log"
        }
       }
      },
      "image/png": "[encoded data removed]",
      "text/html": [
       "<div>                            <div id=\"51b9ab6d-440e-4935-b1aa-5e90a0e7f326\" class=\"plotly-graph-div\" style=\"height:525px; width:100%;\"></div>            <script type=\"text/javascript\">                require([\"plotly\"], function(Plotly) {                    window.PLOTLYENV=window.PLOTLYENV || {};                                    if (document.getElementById(\"51b9ab6d-440e-4935-b1aa-5e90a0e7f326\")) {                    Plotly.newPlot(                        \"51b9ab6d-440e-4935-b1aa-5e90a0e7f326\",                        [{\"alignmentgroup\":\"True\",\"hovertemplate\":\"x=%{x}\\u003cbr\\u003ey=%{y}\\u003cextra\\u003e\\u003c\\u002fextra\\u003e\",\"legendgroup\":\"\",\"marker\":{\"color\":\"#636efa\",\"pattern\":{\"shape\":\"\"}},\"name\":\"\",\"offsetgroup\":\"\",\"orientation\":\"v\",\"showlegend\":false,\"textposition\":\"auto\",\"x\":[2,3,4,5,6,7],\"xaxis\":\"x\",\"y\":[0.9688746946426722,0.9902231968549529,0.9971801531677483,0.9984801509486813,0.9992073850033386,0.9996264848189824],\"yaxis\":\"y\",\"type\":\"bar\"}],                        {\"template\":{\"data\":{\"histogram2dcontour\":[{\"type\":\"histogram2dcontour\",\"colorbar\":{\"outlinewidth\":0,\"ticks\":\"\"},\"colorscale\":[[0.0,\"#0d0887\"],[0.1111111111111111,\"#46039f\"],[0.2222222222222222,\"#7201a8\"],[0.3333333333333333,\"#9c179e\"],[0.4444444444444444,\"#bd3786\"],[0.5555555555555556,\"#d8576b\"],[0.6666666666666666,\"#ed7953\"],[0.7777777777777778,\"#fb9f3a\"],[0.8888888888888888,\"#fdca26\"],[1.0,\"#f0f921\"]]}],\"choropleth\":[{\"type\":\"choropleth\",\"colorbar\":{\"outlinewidth\":0,\"ticks\":\"\"}}],\"histogram2d\":[{\"type\":\"histogram2d\",\"colorbar\":{\"outlinewidth\":0,\"ticks\":\"\"},\"colorscale\":[[0.0,\"#0d0887\"],[0.1111111111111111,\"#46039f\"],[0.2222222222222222,\"#7201a8\"],[0.3333333333333333,\"#9c179e\"],[0.4444444444444444,\"#bd3786\"],[0.5555555555555556,\"#d8576b\"],[0.6666666666666666,\"#ed7953\"],[0.7777777777777778,\"#fb9f3a\"],[0.8888888888888888,\"#fdca26\"],[1.0,\"#f0f921\"]]}],\"heatmap\":[{\"type\":\"heatmap\",\"colorbar\":{\"outlinewidth\":0,\"ticks\":\"\"},\"colorscale\":[[0.0,\"#0d0887\"],[0.1111111111111111,\"#46039f\"],[0.2222222222222222,\"#7201a8\"],[0.3333333333333333,\"#9c179e\"],[0.4444444444444444,\"#bd3786\"],[0.5555555555555556,\"#d8576b\"],[0.6666666666666666,\"#ed7953\"],[0.7777777777777778,\"#fb9f3a\"],[0.8888888888888888,\"#fdca26\"],[1.0,\"#f0f921\"]]}],\"heatmapgl\":[{\"type\":\"heatmapgl\",\"colorbar\":{\"outlinewidth\":0,\"ticks\":\"\"},\"colorscale\":[[0.0,\"#0d0887\"],[0.1111111111111111,\"#46039f\"],[0.2222222222222222,\"#7201a8\"],[0.3333333333333333,\"#9c179e\"],[0.4444444444444444,\"#bd3786\"],[0.5555555555555556,\"#d8576b\"],[0.6666666666666666,\"#ed7953\"],[0.7777777777777778,\"#fb9f3a\"],[0.8888888888888888,\"#fdca26\"],[1.0,\"#f0f921\"]]}],\"contourcarpet\":[{\"type\":\"contourcarpet\",\"colorbar\":{\"outlinewidth\":0,\"ticks\":\"\"}}],\"contour\":[{\"type\":\"contour\",\"colorbar\":{\"outlinewidth\":0,\"ticks\":\"\"},\"colorscale\":[[0.0,\"#0d0887\"],[0.1111111111111111,\"#46039f\"],[0.2222222222222222,\"#7201a8\"],[0.3333333333333333,\"#9c179e\"],[0.4444444444444444,\"#bd3786\"],[0.5555555555555556,\"#d8576b\"],[0.6666666666666666,\"#ed7953\"],[0.7777777777777778,\"#fb9f3a\"],[0.8888888888888888,\"#fdca26\"],[1.0,\"#f0f921\"]]}],\"surface\":[{\"type\":\"surface\",\"colorbar\":{\"outlinewidth\":0,\"ticks\":\"\"},\"colorscale\":[[0.0,\"#0d0887\"],[0.1111111111111111,\"#46039f\"],[0.2222222222222222,\"#7201a8\"],[0.3333333333333333,\"#9c179e\"],[0.4444444444444444,\"#bd3786\"],[0.5555555555555556,\"#d8576b\"],[0.6666666666666666,\"#ed7953\"],[0.7777777777777778,\"#fb9f3a\"],[0.8888888888888888,\"#fdca26\"],[1.0,\"#f0f921\"]]}],\"mesh3d\":[{\"type\":\"mesh3d\",\"colorbar\":{\"outlinewidth\":0,\"ticks\":\"\"}}],\"scatter\":[{\"fillpattern\":{\"fillmode\":\"overlay\",\"size\":10,\"solidity\":0.2},\"type\":\"scatter\"}],\"parcoords\":[{\"type\":\"parcoords\",\"line\":{\"colorbar\":{\"outlinewidth\":0,\"ticks\":\"\"}}}],\"scatterpolargl\":[{\"type\":\"scatterpolargl\",\"marker\":{\"colorbar\":{\"outlinewidth\":0,\"ticks\":\"\"}}}],\"bar\":[{\"error_x\":{\"color\":\"#2a3f5f\"},\"error_y\":{\"color\":\"#2a3f5f\"},\"marker\":{\"line\":{\"color\":\"#E5ECF6\",\"width\":0.5},\"pattern\":{\"fillmode\":\"overlay\",\"size\":10,\"solidity\":0.2}},\"type\":\"bar\"}],\"scattergeo\":[{\"type\":\"scattergeo\",\"marker\":{\"colorbar\":{\"outlinewidth\":0,\"ticks\":\"\"}}}],\"scatterpolar\":[{\"type\":\"scatterpolar\",\"marker\":{\"colorbar\":{\"outlinewidth\":0,\"ticks\":\"\"}}}],\"histogram\":[{\"marker\":{\"pattern\":{\"fillmode\":\"overlay\",\"size\":10,\"solidity\":0.2}},\"type\":\"histogram\"}],\"scattergl\":[{\"type\":\"scattergl\",\"marker\":{\"colorbar\":{\"outlinewidth\":0,\"ticks\":\"\"}}}],\"scatter3d\":[{\"type\":\"scatter3d\",\"line\":{\"colorbar\":{\"outlinewidth\":0,\"ticks\":\"\"}},\"marker\":{\"colorbar\":{\"outlinewidth\":0,\"ticks\":\"\"}}}],\"scattermapbox\":[{\"type\":\"scattermapbox\",\"marker\":{\"colorbar\":{\"outlinewidth\":0,\"ticks\":\"\"}}}],\"scatterternary\":[{\"type\":\"scatterternary\",\"marker\":{\"colorbar\":{\"outlinewidth\":0,\"ticks\":\"\"}}}],\"scattercarpet\":[{\"type\":\"scattercarpet\",\"marker\":{\"colorbar\":{\"outlinewidth\":0,\"ticks\":\"\"}}}],\"carpet\":[{\"aaxis\":{\"endlinecolor\":\"#2a3f5f\",\"gridcolor\":\"white\",\"linecolor\":\"white\",\"minorgridcolor\":\"white\",\"startlinecolor\":\"#2a3f5f\"},\"baxis\":{\"endlinecolor\":\"#2a3f5f\",\"gridcolor\":\"white\",\"linecolor\":\"white\",\"minorgridcolor\":\"white\",\"startlinecolor\":\"#2a3f5f\"},\"type\":\"carpet\"}],\"table\":[{\"cells\":{\"fill\":{\"color\":\"#EBF0F8\"},\"line\":{\"color\":\"white\"}},\"header\":{\"fill\":{\"color\":\"#C8D4E3\"},\"line\":{\"color\":\"white\"}},\"type\":\"table\"}],\"barpolar\":[{\"marker\":{\"line\":{\"color\":\"#E5ECF6\",\"width\":0.5},\"pattern\":{\"fillmode\":\"overlay\",\"size\":10,\"solidity\":0.2}},\"type\":\"barpolar\"}],\"pie\":[{\"automargin\":true,\"type\":\"pie\"}]},\"layout\":{\"autotypenumbers\":\"strict\",\"colorway\":[\"#636efa\",\"#EF553B\",\"#00cc96\",\"#ab63fa\",\"#FFA15A\",\"#19d3f3\",\"#FF6692\",\"#B6E880\",\"#FF97FF\",\"#FECB52\"],\"font\":{\"color\":\"#2a3f5f\"},\"hovermode\":\"closest\",\"hoverlabel\":{\"align\":\"left\"},\"paper_bgcolor\":\"white\",\"plot_bgcolor\":\"#E5ECF6\",\"polar\":{\"bgcolor\":\"#E5ECF6\",\"angularaxis\":{\"gridcolor\":\"white\",\"linecolor\":\"white\",\"ticks\":\"\"},\"radialaxis\":{\"gridcolor\":\"white\",\"linecolor\":\"white\",\"ticks\":\"\"}},\"ternary\":{\"bgcolor\":\"#E5ECF6\",\"aaxis\":{\"gridcolor\":\"white\",\"linecolor\":\"white\",\"ticks\":\"\"},\"baxis\":{\"gridcolor\":\"white\",\"linecolor\":\"white\",\"ticks\":\"\"},\"caxis\":{\"gridcolor\":\"white\",\"linecolor\":\"white\",\"ticks\":\"\"}},\"coloraxis\":{\"colorbar\":{\"outlinewidth\":0,\"ticks\":\"\"}},\"colorscale\":{\"sequential\":[[0.0,\"#0d0887\"],[0.1111111111111111,\"#46039f\"],[0.2222222222222222,\"#7201a8\"],[0.3333333333333333,\"#9c179e\"],[0.4444444444444444,\"#bd3786\"],[0.5555555555555556,\"#d8576b\"],[0.6666666666666666,\"#ed7953\"],[0.7777777777777778,\"#fb9f3a\"],[0.8888888888888888,\"#fdca26\"],[1.0,\"#f0f921\"]],\"sequentialminus\":[[0.0,\"#0d0887\"],[0.1111111111111111,\"#46039f\"],[0.2222222222222222,\"#7201a8\"],[0.3333333333333333,\"#9c179e\"],[0.4444444444444444,\"#bd3786\"],[0.5555555555555556,\"#d8576b\"],[0.6666666666666666,\"#ed7953\"],[0.7777777777777778,\"#fb9f3a\"],[0.8888888888888888,\"#fdca26\"],[1.0,\"#f0f921\"]],\"diverging\":[[0,\"#8e0152\"],[0.1,\"#c51b7d\"],[0.2,\"#de77ae\"],[0.3,\"#f1b6da\"],[0.4,\"#fde0ef\"],[0.5,\"#f7f7f7\"],[0.6,\"#e6f5d0\"],[0.7,\"#b8e186\"],[0.8,\"#7fbc41\"],[0.9,\"#4d9221\"],[1,\"#276419\"]]},\"xaxis\":{\"gridcolor\":\"white\",\"linecolor\":\"white\",\"ticks\":\"\",\"title\":{\"standoff\":15},\"zerolinecolor\":\"white\",\"automargin\":true,\"zerolinewidth\":2},\"yaxis\":{\"gridcolor\":\"white\",\"linecolor\":\"white\",\"ticks\":\"\",\"title\":{\"standoff\":15},\"zerolinecolor\":\"white\",\"automargin\":true,\"zerolinewidth\":2},\"scene\":{\"xaxis\":{\"backgroundcolor\":\"#E5ECF6\",\"gridcolor\":\"white\",\"linecolor\":\"white\",\"showbackground\":true,\"ticks\":\"\",\"zerolinecolor\":\"white\",\"gridwidth\":2},\"yaxis\":{\"backgroundcolor\":\"#E5ECF6\",\"gridcolor\":\"white\",\"linecolor\":\"white\",\"showbackground\":true,\"ticks\":\"\",\"zerolinecolor\":\"white\",\"gridwidth\":2},\"zaxis\":{\"backgroundcolor\":\"#E5ECF6\",\"gridcolor\":\"white\",\"linecolor\":\"white\",\"showbackground\":true,\"ticks\":\"\",\"zerolinecolor\":\"white\",\"gridwidth\":2}},\"shapedefaults\":{\"line\":{\"color\":\"#2a3f5f\"}},\"annotationdefaults\":{\"arrowcolor\":\"#2a3f5f\",\"arrowhead\":0,\"arrowwidth\":1},\"geo\":{\"bgcolor\":\"white\",\"landcolor\":\"#E5ECF6\",\"subunitcolor\":\"white\",\"showland\":true,\"showlakes\":true,\"lakecolor\":\"white\"},\"title\":{\"x\":0.05},\"mapbox\":{\"style\":\"light\"}}},\"xaxis\":{\"anchor\":\"y\",\"domain\":[0.0,1.0],\"title\":{\"text\":\"x\"}},\"yaxis\":{\"anchor\":\"x\",\"domain\":[0.0,1.0],\"title\":{\"text\":\"y\"},\"type\":\"log\"},\"legend\":{\"tracegroupgap\":0},\"margin\":{\"t\":60},\"barmode\":\"relative\"},                        {\"responsive\": true}                    ).then(function(){\n",
       "                            \n",
       "var gd = document.getElementById('51b9ab6d-440e-4935-b1aa-5e90a0e7f326');\n",
       "var x = new MutationObserver(function (mutations, observer) {{\n",
       "        var display = window.getComputedStyle(gd).display;\n",
       "        if (!display || display === 'none') {{\n",
       "            console.log([gd, 'removed!']);\n",
       "            Plotly.purge(gd);\n",
       "            observer.disconnect();\n",
       "        }}\n",
       "}});\n",
       "\n",
       "// Listen for the removal of the full notebook cells\n",
       "var notebookContainer = gd.closest('#notebook-container');\n",
       "if (notebookContainer) {{\n",
       "    x.observe(notebookContainer, {childList: true});\n",
       "}}\n",
       "\n",
       "// Listen for the clearing of the current output cell\n",
       "var outputEl = gd.closest('.output');\n",
       "if (outputEl) {{\n",
       "    x.observe(outputEl, {childList: true});\n",
       "}}\n",
       "\n",
       "                        })                };                });            </script>        </div>"
      ]
     },
     "metadata": {},
     "output_type": "display_data"
    }
   ],
   "source": [
    "plotthree = px.bar(x = [2,3,4,5,6,7],\n",
    "                 y = explained_list_two,\n",
    "                log_y=True)\n",
    "plotthree.show()"
   ]
  },
  {
   "cell_type": "code",
   "execution_count": 184,
   "id": "1f766713-5dc4-4564-8a5b-c3fffff4f0e9",
   "metadata": {},
   "outputs": [
    {
     "data": {
      "text/plain": [
       "array([[-119.81914628,   -5.56010321],\n",
       "       [-168.89032805,   10.11607554],\n",
       "       [-169.31187978,   14.08039722],\n",
       "       ...,\n",
       "       [-138.38741791,    0.9380132 ],\n",
       "       [-137.5054318 ,    4.251747  ],\n",
       "       [-139.19058534,    1.00898351]])"
      ]
     },
     "execution_count": 184,
     "metadata": {},
     "output_type": "execute_result"
    }
   ],
   "source": [
    "pcatwo.transform(Y)"
   ]
  },
  {
   "cell_type": "code",
   "execution_count": 186,
   "id": "fea9a380-cab2-4cc4-b0d3-833174af2260",
   "metadata": {},
   "outputs": [],
   "source": [
    "pca_resulttwo = pd.DataFrame(pcatwo.transform(Y), columns=['X1','X2'])"
   ]
  },
  {
   "cell_type": "code",
   "execution_count": 188,
   "id": "7f7df5e5-de16-4c9c-ab0d-7daab55d2062",
   "metadata": {},
   "outputs": [
    {
     "data": {
      "text/html": [
       "<div>\n",
       "<style scoped>\n",
       "    .dataframe tbody tr th:only-of-type {\n",
       "        vertical-align: middle;\n",
       "    }\n",
       "\n",
       "    .dataframe tbody tr th {\n",
       "        vertical-align: top;\n",
       "    }\n",
       "\n",
       "    .dataframe thead th {\n",
       "        text-align: right;\n",
       "    }\n",
       "</style>\n",
       "<table border=\"1\" class=\"dataframe\">\n",
       "  <thead>\n",
       "    <tr style=\"text-align: right;\">\n",
       "      <th></th>\n",
       "      <th>X1</th>\n",
       "      <th>X2</th>\n",
       "    </tr>\n",
       "  </thead>\n",
       "  <tbody>\n",
       "    <tr>\n",
       "      <th>0</th>\n",
       "      <td>-119.819146</td>\n",
       "      <td>-5.560103</td>\n",
       "    </tr>\n",
       "    <tr>\n",
       "      <th>1</th>\n",
       "      <td>-168.890328</td>\n",
       "      <td>10.116076</td>\n",
       "    </tr>\n",
       "    <tr>\n",
       "      <th>2</th>\n",
       "      <td>-169.311880</td>\n",
       "      <td>14.080397</td>\n",
       "    </tr>\n",
       "    <tr>\n",
       "      <th>3</th>\n",
       "      <td>-190.230757</td>\n",
       "      <td>18.302291</td>\n",
       "    </tr>\n",
       "    <tr>\n",
       "      <th>4</th>\n",
       "      <td>-190.133566</td>\n",
       "      <td>16.097776</td>\n",
       "    </tr>\n",
       "    <tr>\n",
       "      <th>...</th>\n",
       "      <td>...</td>\n",
       "      <td>...</td>\n",
       "    </tr>\n",
       "    <tr>\n",
       "      <th>501</th>\n",
       "      <td>-138.698188</td>\n",
       "      <td>5.781404</td>\n",
       "    </tr>\n",
       "    <tr>\n",
       "      <th>502</th>\n",
       "      <td>-139.504691</td>\n",
       "      <td>1.039307</td>\n",
       "    </tr>\n",
       "    <tr>\n",
       "      <th>503</th>\n",
       "      <td>-138.387418</td>\n",
       "      <td>0.938013</td>\n",
       "    </tr>\n",
       "    <tr>\n",
       "      <th>504</th>\n",
       "      <td>-137.505432</td>\n",
       "      <td>4.251747</td>\n",
       "    </tr>\n",
       "    <tr>\n",
       "      <th>505</th>\n",
       "      <td>-139.190585</td>\n",
       "      <td>1.008984</td>\n",
       "    </tr>\n",
       "  </tbody>\n",
       "</table>\n",
       "<p>506 rows × 2 columns</p>\n",
       "</div>"
      ],
      "text/plain": [
       "             X1         X2\n",
       "0   -119.819146  -5.560103\n",
       "1   -168.890328  10.116076\n",
       "2   -169.311880  14.080397\n",
       "3   -190.230757  18.302291\n",
       "4   -190.133566  16.097776\n",
       "..          ...        ...\n",
       "501 -138.698188   5.781404\n",
       "502 -139.504691   1.039307\n",
       "503 -138.387418   0.938013\n",
       "504 -137.505432   4.251747\n",
       "505 -139.190585   1.008984\n",
       "\n",
       "[506 rows x 2 columns]"
      ]
     },
     "execution_count": 188,
     "metadata": {},
     "output_type": "execute_result"
    }
   ],
   "source": [
    "pca_resulttwo"
   ]
  },
  {
   "cell_type": "code",
   "execution_count": 192,
   "id": "7948946d-62d7-4847-a13b-ce91cc8a24cd",
   "metadata": {},
   "outputs": [
    {
     "data": {
      "application/vnd.plotly.v1+json": {
       "config": {
        "plotlyServerURL": "https://plot.ly"
       },
       "data": [
        {
         "hovertemplate": "X1=%{x}<br>X2=%{y}<extra></extra>",
         "legendgroup": "",
         "marker": {
          "color": "#636efa",
          "symbol": "circle"
         },
         "mode": "markers",
         "name": "",
         "orientation": "v",
         "showlegend": false,
         "type": "scatter",
         "x": [
          -119.81914627889634,
          -168.89032805324618,
          -169.31187977577886,
          -190.2307572101053,
          -190.13356569556612,
          -188.95069555566963,
          -104.33634223055549,
          -102.09466057010039,
          -98.52863707404238,
          -100.0305160820465,
          -100.94032759992265,
          -103.3359422982671,
          -105.08313549086549,
          -108.44945673558964,
          -101.58766452741006,
          -108.51370136756746,
          -108.26553566151885,
          -103.67480391133964,
          -79.04143382508197,
          -105.99439736975535,
          -99.17572658191385,
          -104.74643454544481,
          -105.68660731195503,
          -104.28610515786008,
          -104.80962787746225,
          -79.03009475291692,
          -100.08389566859357,
          -79.61230807389163,
          -103.00432309471198,
          -101.36371844742258,
          -94.70461093256019,
          -99.24655088620065,
          -58.43988149023588,
          -94.31559389448388,
          -61.9299352908536,
          -134.5088708151691,
          -129.40477479771752,
          -136.76595969545184,
          -136.66607371337182,
          -167.25034812865886,
          -167.80324973084157,
          -180.50807382794468,
          -179.58117812536796,
          -182.7812703214814,
          -178.45558016747557,
          -181.14005539847153,
          -181.0911006167844,
          -175.41024203718783,
          -175.52627786367898,
          -178.64913372093199,
          -171.10938667889275,
          -169.29323323703417,
          -173.74611376841722,
          -173.64826412624535,
          40.90451722045555,
          -192.6492232378996,
          -109.0642941392353,
          -162.18458697511852,
          -132.2774977609364,
          -132.5247757644145,
          -130.3246554817444,
          -123.05773748464345,
          -130.86139724817676,
          -132.45892892200655,
          -195.06868267866292,
          -87.39963777619002,
          -86.15869992521108,
          -76.1846599985509,
          -74.98055309114778,
          -75.3975720708429,
          -111.12020166973922,
          -108.15613356614774,
          -113.1378041651161,
          -109.22111599401072,
          -25.995899136414753,
          -19.281500483784768,
          -13.954697813826247,
          -20.267681273909083,
          -19.40346825241679,
          -23.716516609048206,
          -136.79424551362044,
          -133.293821022177,
          -136.86979644062527,
          -133.81584131348038,
          -166.73711789406545,
          -164.78882430509736,
          -166.6375247073409,
          -165.51089116097833,
          -141.8556418020725,
          -143.54686527664467,
          -142.09198182212924,
          -141.8528101420272,
          -144.77917406067294,
          -147.27418262168237,
          -143.29112691370005,
          -127.19194540962232,
          -135.95484153846817,
          -137.0617030300602,
          -139.36589749580952,
          -138.14609246545456,
          -33.10200615356762,
          -34.1017846448227,
          61.73165485391092,
          -32.29512362091096,
          -31.58499473934999,
          -31.323496192321805,
          -32.14599766923161,
          -30.48820854151723,
          -31.7359550438806,
          -30.98283292788262,
          -34.783244480769,
          12.47089987754783,
          13.74486370527421,
          13.407672696289762,
          14.69435497057733,
          27.914650260782114,
          12.421042973057803,
          12.874081026149488,
          28.47046112951933,
          12.37144703556517,
          -218.01535139211646,
          -213.46983346148497,
          -212.7707985583316,
          -209.98787580957892,
          -212.91117671227335,
          -215.2340529322672,
          -206.84484714174673,
          19.875942113644506,
          18.674807176612333,
          18.41570643228219,
          19.159212213611294,
          18.533527791521845,
          21.750173762340598,
          20.769615334470192,
          57.765654738089005,
          19.31502560304593,
          23.696875327003934,
          19.444748669228026,
          20.17539640982147,
          18.677662525089197,
          21.01026878545976,
          19.253826925614852,
          -13.218302698847182,
          -13.205347300402552,
          -13.361004711409855,
          52.004937699493915,
          52.802526620388434,
          -12.032535615903795,
          -2.109990821963779,
          -0.6674057243428031,
          -6.769105896892669,
          2.5201887174772573,
          0.9901773986336654,
          25.666353404235455,
          8.216770559800405,
          75.01249223971467,
          75.78031198924387,
          -4.2656930639569195,
          -1.222511176176979,
          -4.233018421210993,
          2.494216184287818,
          -8.080908986980878,
          -11.868370114833342,
          -11.868747189260544,
          -13.770510165339676,
          31.432586263857257,
          -6.07513113057338,
          33.953087109408656,
          15.125120467994417,
          5.46249152045799,
          16.440274001577457,
          0.38209711244628136,
          -116.61164669425243,
          -116.70426149821363,
          -117.31731350700201,
          -119.73663086817696,
          -119.11084910768207,
          -117.69673953409398,
          -116.33532173139302,
          -217.3073927725428,
          -214.77697759626074,
          -216.88558859568386,
          -213.6744382253287,
          -214.17994192261406,
          -212.7567055482488,
          -213.40243100843364,
          -216.4823464360707,
          -25.00161139205258,
          -22.845186868198947,
          -26.103021530156223,
          -21.979772138856376,
          -24.71511830114906,
          -25.360373841310647,
          -154.68218500578004,
          -149.098158237885,
          -163.44019439017367,
          -93.81549680301349,
          -81.09913033330137,
          -92.03729522811963,
          -26.63363501628648,
          -23.084495415858555,
          -74.4972636982743,
          -76.96577805370484,
          -192.92533753865342,
          -192.40663457937737,
          -140.13868622700892,
          -137.01995700008115,
          -133.58238578686567,
          -132.4390599368714,
          -133.35019647761266,
          -133.08987361009568,
          -133.80022385904985,
          -135.6458635866917,
          -136.10738320014403,
          -126.77843019426888,
          -137.53603158357447,
          -136.88646123957832,
          -134.53668485316766,
          -134.81463775530074,
          -134.18521572211048,
          -104.561037894634,
          -105.08703958971442,
          -105.07256668351965,
          -106.76248549010643,
          -103.60824565194544,
          -102.31005073840326,
          -103.62404855279631,
          -99.64438537294265,
          -106.54721539670145,
          -107.00151340545767,
          -102.33378034395359,
          -101.10489472401943,
          -104.31383414506936,
          -102.50135615264188,
          -97.26800027587468,
          -102.44352284490238,
          -104.62538750337426,
          -105.61837022908406,
          -115.02884511623245,
          -114.29603334977439,
          -115.36815203320187,
          -115.42218576468062,
          -110.10565220356844,
          -114.5859671658892,
          -79.1027075988746,
          -84.33915859095359,
          -87.80746276092209,
          -79.99543597450332,
          -82.11049427702548,
          -90.3626471222572,
          -91.49221919381952,
          -86.2916100611949,
          -89.10977534549231,
          -92.1169129173774,
          -106.03715306632657,
          -107.72152394007674,
          -171.7856893420751,
          -146.13865838751292,
          -143.112589989735,
          -145.64951683670512,
          -147.36778619426255,
          -145.49626548361934,
          -144.9142816788556,
          -146.43968416985865,
          -145.15100540470425,
          -148.8113679929475,
          -144.46470064191118,
          -146.25165305771537,
          -149.23468014810985,
          -187.48409293729657,
          -188.3352348798267,
          -193.047048160691,
          -188.90826215937705,
          -188.29272169659083,
          -163.13647299933947,
          -162.32126309491602,
          -159.50818367476535,
          -162.5656654805247,
          -163.11875676697056,
          -198.43603024121978,
          -192.977098085654,
          -196.67661060174305,
          -191.25251024848728,
          -219.10454974126674,
          -136.42033891328936,
          -119.73117856993959,
          -161.32047262904825,
          -126.6600942600319,
          -125.45349706661976,
          -119.97567615093837,
          -173.8903921774198,
          -173.9008927488728,
          -174.23500682738438,
          -129.05284422172232,
          -127.01213259254384,
          -128.04597972448616,
          -125.17861401801514,
          -125.57765517498936,
          -58.475189184708036,
          -60.29890685280986,
          -62.75531364055094,
          -90.43751775855915,
          -88.75932540576864,
          -90.89173905035872,
          -191.50196885568104,
          -189.93613439168476,
          -189.8679139667875,
          -189.97804148033725,
          -109.61319528303221,
          -109.78350416750686,
          -99.56876926242376,
          -112.05030979546916,
          -108.61591740751459,
          -108.49460369834718,
          -108.75604678551221,
          -109.7252108272092,
          -107.44146144452279,
          -110.26582996559227,
          -110.27087772352938,
          -111.2166775789437,
          -128.26045290518613,
          -128.10028928425433,
          -128.44505994049857,
          -124.63297215095153,
          -129.30164821171417,
          -130.52102532762626,
          -130.24319392803037,
          -128.854639068635,
          9.426269238675268,
          10.751671550526387,
          13.975263450337387,
          -114.92961343895546,
          -106.2105425143688,
          -187.29715236415865,
          -187.14925935162321,
          -189.6355257983801,
          -188.60259555105648,
          -186.86685366450567,
          -189.16107581801458,
          -188.67602252812878,
          -187.59053908686727,
          -132.68730277380186,
          2.2555568976677325,
          -51.61263696263374,
          -51.44272436417133,
          -63.695269939636795,
          -57.2030345635359,
          -72.13395695107283,
          -138.8194164486351,
          -84.26794849302334,
          -85.48950138404395,
          -7.169235143391813,
          -14.846814583157135,
          -225.17243823075512,
          -85.75569406880378,
          -84.04314019564309,
          242.72257607459494,
          237.9713925933471,
          236.14212966332497,
          237.33353347100942,
          242.50163772010825,
          249.8517215950087,
          241.4068372606012,
          249.0047341843358,
          247.81489423245947,
          248.27111698439566,
          259.9553448144914,
          314.71154282121813,
          243.14156000905743,
          242.96044307252495,
          238.15824193943547,
          246.1407146145848,
          250.54890158419946,
          237.82133880472702,
          238.1124082788362,
          237.40164124971565,
          246.98220854700688,
          237.3695101665397,
          237.61359995088114,
          238.63863304630215,
          239.01834885991366,
          237.56743743209051,
          237.50539280756573,
          237.49275069348903,
          269.5977913634287,
          237.7366108966314,
          238.06005984355934,
          237.21364882304647,
          244.8013375842259,
          237.31917259736588,
          237.7572373658178,
          241.20557130919576,
          237.37160115309993,
          236.67505362340856,
          237.0163115962085,
          238.67332325899724,
          236.97503900272307,
          238.39060805609617,
          238.5209041684478,
          252.92251625282987,
          238.04216552203934,
          237.5771613674881,
          243.49489034325885,
          237.53986610314377,
          256.9581342238642,
          242.6869719812662,
          245.6111347226179,
          256.1988452736436,
          261.2979880647196,
          300.92219463946043,
          353.2526750011397,
          342.9692771441179,
          345.2356630734292,
          292.1413996551327,
          328.76254654294,
          345.5368825877019,
          346.13405193527103,
          315.64892264677997,
          350.1139041584108,
          337.0689869128309,
          260.1200112274484,
          259.265621020456,
          267.0113504247209,
          351.03625682496704,
          349.4052239932697,
          350.67934857201953,
          342.44566841206046,
          346.4507362343069,
          322.98439329237493,
          335.0507841424108,
          327.4637743340992,
          328.8591843306648,
          322.1062917814937,
          322.6196988058585,
          323.3062641619579,
          320.6931322299682,
          344.54582571000407,
          350.6134138076091,
          332.3667878155139,
          236.98303349614457,
          238.79742424098487,
          240.3750874514135,
          237.59022324208163,
          240.37722844104908,
          282.8694672879173,
          340.163338417222,
          259.9560712831408,
          239.51391370849043,
          237.2701098028203,
          264.2040739941826,
          352.15752897707324,
          249.22160115427278,
          239.98756678566718,
          243.37836451523197,
          350.54077962128866,
          336.8695437447512,
          348.78089468063826,
          350.2327002386336,
          272.23415665815656,
          235.91852673542923,
          277.62489045836185,
          237.75445649180318,
          235.78047904192923,
          237.14451112746235,
          234.324163433704,
          250.97049785065508,
          345.0847630496372,
          255.95338051868413,
          243.33315527561598,
          233.7867425823351,
          235.84747217416077,
          236.77694085952822,
          236.0562168467039,
          240.85159140292222,
          249.86352274954223,
          264.62787914355243,
          236.92586034911298,
          251.28697455646383,
          242.1365229382179,
          240.3633519354272,
          234.14656019691,
          236.04277267371734,
          235.55785588080872,
          233.165691329856,
          239.81807895023303,
          235.41688101297655,
          236.7311392868424,
          235.70207862296624,
          279.1392908516168,
          294.6083959570092,
          302.1759410992028,
          281.0976964777549,
          277.7310252294334,
          -29.111679807323227,
          -30.025991906554605,
          -30.04221753040195,
          -27.32049594789633,
          -27.67608453765128,
          -28.144361102577495,
          -27.080685446155723,
          -26.908717084362895,
          -138.69818788803767,
          -139.50469065167775,
          -138.38741791421072,
          -137.50543179921587,
          -139.19058533815527
         ],
         "xaxis": "x",
         "y": [
          -5.560103208755543,
          10.116075542501239,
          14.080397218666167,
          18.302291186229564,
          16.097776134874145,
          18.72899299096249,
          -8.73552961587442,
          -10.108044839713656,
          -0.24791979876166748,
          -0.3176816136187957,
          -5.901424161477259,
          -10.066564501572742,
          -3.682202487858203,
          -8.824322935360046,
          7.197670572984753,
          -7.569003890467796,
          0.964330021158698,
          0.8048934046565833,
          94.52179097767257,
          -3.161454158068838,
          10.484393102760551,
          -4.769237402421871,
          -8.93126269897436,
          -6.717186675974613,
          -6.50471387861255,
          80.47147175056065,
          10.193330958324008,
          77.62880983624962,
          -0.41624011486292267,
          6.993332996679944,
          26.19716051533131,
          10.275512605790144,
          148.27758262293443,
          27.50613031568526,
          133.1296854473107,
          -0.6629564062497066,
          17.878665324497526,
          -0.5151403558874966,
          2.875957245466993,
          8.804219491840426,
          8.83481634703798,
          24.13731291921423,
          26.072217630199717,
          15.47827885550005,
          20.146291675907502,
          13.004621725752447,
          13.030356794809284,
          16.736753815903366,
          12.772224554270226,
          12.878441271533351,
          11.337742168393726,
          12.735642985528662,
          10.15007591603072,
          10.166313130756297,
          -55.96108286707656,
          16.133418123163672,
          -10.282933990764445,
          10.165172704076074,
          4.038003077411249,
          -1.9995657617398166,
          -0.37371746131940414,
          15.76192424530404,
          -2.13146145231179,
          -0.7132162522453831,
          21.362741448820746,
          -17.238501413257655,
          -17.282615295920248,
          -19.01863181842353,
          -19.73732742822404,
          -19.74032463816456,
          4.648478960628746,
          11.09710207032018,
          -2.2307934634424096,
          10.928695135261664,
          -33.25887054176598,
          -22.291626667766376,
          -13.2924274667065,
          -25.85534161799209,
          -25.352992042585026,
          -34.51066319909938,
          -1.0297040338558474,
          -0.015392238024211486,
          -1.0142036231367497,
          4.893015090200193,
          8.836097804290302,
          13.170370956997392,
          9.741250157158895,
          10.45192943729321,
          1.8833870177576764,
          2.8204894402537275,
          6.530843247835688,
          5.172668949466947,
          3.8499130497031744,
          2.71767566145081,
          1.9210447789000873,
          37.51562761709037,
          5.108214190956994,
          0.1833697385414634,
          3.6253989416456585,
          0.27145265007374497,
          -29.404187113604443,
          -30.149317976258217,
          280.336073667078,
          -29.14644584996962,
          -27.46629655449457,
          -28.781438743660033,
          -30.290065940013886,
          -22.647951229286605,
          -29.9454928397084,
          -26.057675031922958,
          -28.02373847420592,
          -44.24701451651665,
          -43.66508706688461,
          -45.53807701307723,
          -37.71042183964307,
          4.206868850220568,
          -41.99441858150613,
          -43.21914877991475,
          10.295554985353581,
          -40.222530277284626,
          33.30300090055864,
          44.19702524267773,
          43.76626871577509,
          51.225327501738406,
          42.51416037492903,
          37.14817457212699,
          61.78254665145716,
          -42.47318163105603,
          -47.078971064051665,
          -47.03502103515236,
          -45.31692177661621,
          -47.08481925898679,
          -36.444666860763974,
          -39.21130734437734,
          81.20077709484711,
          -44.93257996208102,
          -29.20730365890387,
          -44.384664844514205,
          -42.39506401026544,
          -47.054807845220665,
          -38.56551623376014,
          -46.96810285768697,
          -37.03958259196066,
          -37.036554044419205,
          -37.01642980017935,
          177.13515000303838,
          180.54969892445925,
          -32.04314254293952,
          1.1592204212371235,
          6.030910956269213,
          -14.06416116031516,
          15.747162503422937,
          14.20005099972078,
          91.9345058795201,
          35.458534432344926,
          258.3484974284996,
          257.6894105615215,
          -5.162660991743659,
          3.9554705458544372,
          -6.001683837771177,
          18.305996364106758,
          -15.657546195705887,
          -30.21111469880813,
          -29.071111324462876,
          -35.3751796328765,
          112.77221523214146,
          -10.76804314458571,
          124.85716560070477,
          58.3223942291053,
          26.823735076189262,
          62.9325151731021,
          9.517449982801809,
          -5.7049769289358565,
          -4.373719886985123,
          -2.111838471682519,
          0.23783343788531439,
          -1.9858331056674794,
          -4.424019211338819,
          -0.28570664810759117,
          24.5514151267635,
          25.705055825688074,
          24.554790340528726,
          27.015156014513842,
          24.342372789002926,
          30.064483116936955,
          33.899561267352674,
          28.658802153169088,
          -32.3480592754165,
          -21.744436918857005,
          -35.239682474418025,
          -16.76335287011946,
          -28.322012207564228,
          -29.052301912734,
          7.242975054312197,
          23.127711834168203,
          9.219416109985982,
          -14.960054872103617,
          25.7754869247019,
          -10.475410478629115,
          -36.19716102523547,
          -24.141937981365075,
          -17.5338953444792,
          -18.967920035903852,
          19.674232618394303,
          21.8085575517121,
          0.17926122726863314,
          1.9489979177527361,
          7.075871543773992,
          14.88789790950603,
          -0.1932168202848482,
          3.306968077834857,
          1.4639584282703397,
          5.727907824950443,
          10.717695573855298,
          46.22723851488327,
          3.183397796598911,
          4.1939989942717215,
          4.025224453230208,
          0.08316663029904234,
          3.0702622576068626,
          -4.014573370262405,
          -7.347602131760752,
          -2.6970177871766468,
          -8.95298400581915,
          2.370583425090084,
          5.26444525744054,
          0.09041076693921174,
          14.776254563490689,
          9.929538456722112,
          7.197988480709426,
          8.879592015762203,
          10.905514952680372,
          1.5693414013728086,
          8.247765754529267,
          26.2222375410936,
          10.441461873006501,
          -0.8378769828402012,
          -2.386280998544237,
          10.22504517069617,
          5.9168542740285766,
          -1.2716333985741357,
          -4.550222279591746,
          16.424782438993418,
          14.774144007097554,
          7.745371039594683,
          -8.095149764167823,
          -8.949568385186934,
          4.226511279612543,
          5.762237627165912,
          -12.269851497137577,
          -14.677179820667488,
          3.701668276992534,
          -4.91156814560546,
          -15.254593290009666,
          -7.016913596472489,
          -9.117463709457482,
          19.968748635473982,
          10.527463353121338,
          16.596897618985093,
          8.330177624827842,
          7.617350541086209,
          11.796390609212217,
          13.220701663185013,
          6.963354029492633,
          12.24753023323361,
          8.114338016195317,
          15.980352886523569,
          15.588459401169533,
          10.138179146610781,
          21.126886616743448,
          23.807927541399113,
          16.029328795008094,
          17.647880572445402,
          21.688323193992407,
          6.871549019119688,
          6.812195327837974,
          14.109496294019479,
          10.20466936574803,
          6.897414496836643,
          17.985644196000997,
          26.963717123416384,
          22.420203828170244,
          36.83556023323975,
          24.73123224939604,
          0.09416092483216718,
          -4.391034970746231,
          63.70764935629044,
          -4.495945670253568,
          -4.5750347625426855,
          19.64258332792407,
          9.581216357131076,
          9.58408459641086,
          9.614790824796705,
          -3.330113180563623,
          -3.456427080595655,
          -3.415433956485677,
          0.34913307536286986,
          -3.5142905761966388,
          4.002863477964138,
          0.8658821747644037,
          -17.775767033244726,
          -13.994808525840778,
          -2.2653216776539375,
          -8.804215856928543,
          19.26516424769323,
          19.484937932812674,
          16.00723583882619,
          16.022154018361274,
          -8.090303470654653,
          -7.395994689655459,
          36.64019693908055,
          -7.91049037574604,
          -7.522329441005081,
          -4.718092694807426,
          -6.934204441320399,
          -7.565444457203846,
          -2.0876452008948907,
          -7.964467795362659,
          -6.353864469153259,
          -7.266875959502289,
          -2.932264624065486,
          -2.9455373867771213,
          -2.9145004775554,
          2.4857689900093507,
          -2.8674645086384145,
          0.35004262048976326,
          -2.8032446594624654,
          -2.850140211253256,
          -30.716839643234803,
          -23.76943075511259,
          -17.49611275006174,
          -4.893739438684969,
          25.486796834721655,
          22.445840344531376,
          22.74604656462843,
          15.604593471583936,
          15.547030019726906,
          17.47384427590496,
          16.317701631006315,
          15.551866356817442,
          15.474346502726661,
          0.1327484828962495,
          -35.73427088909924,
          -27.138321338168293,
          -18.4521488167356,
          -11.096792061573801,
          9.002450132112447,
          -17.106828096553507,
          5.071974113281614,
          -10.019957684021021,
          -16.81710792775585,
          -14.018757031814483,
          -34.51192398859152,
          38.420914811645375,
          -2.8895754203794657,
          3.5741619659279613,
          -95.78288990399582,
          -108.81889005514583,
          -112.68750867059018,
          -108.19039028519474,
          -92.78388788980736,
          -69.90726594212154,
          -98.78026135952136,
          -72.17575991181438,
          -73.64251081275069,
          -73.7986920136111,
          -36.808692159206856,
          139.7238178163155,
          -93.79518051319221,
          -93.5868053303265,
          -109.57673549824415,
          -84.77030524960196,
          -67.25179403152026,
          -114.01527097100639,
          -113.94782898000952,
          -114.0686498474673,
          -81.61944783015332,
          -114.09424584951421,
          -113.97318957454354,
          -111.02302944068518,
          -113.5500899127553,
          -114.05656886497181,
          -114.09212761208501,
          -114.09457943221437,
          -7.726020901504892,
          -113.98897692871034,
          -113.96409388851664,
          -113.89444929734617,
          -91.08833994372029,
          -114.10859792691583,
          -111.76527272957458,
          -96.33700174132625,
          -114.04713712224559,
          -114.10170171999229,
          -114.075586081952,
          -109.42096524416495,
          -114.11538783562116,
          -110.48357602567758,
          -113.85739178119879,
          -57.75733788730254,
          -113.96792129148358,
          -114.07708078675377,
          -94.22903760698165,
          -113.98722561723876,
          -49.286261327791635,
          -102.29680019068839,
          -88.50649230705545,
          -52.16984027846275,
          -35.42042838658147,
          93.92889088499986,
          263.1319538942977,
          231.92102576585648,
          238.01356862202041,
          63.7999756754474,
          181.33459570004513,
          239.45132148145865,
          244.86804541365478,
          143.82843477227118,
          250.09903639431278,
          219.23667063603077,
          -39.40298277001806,
          -40.575517538544645,
          -13.32305156458623,
          263.07608126306,
          262.05464932444596,
          258.1482256604411,
          242.05186213249388,
          247.6804894880954,
          173.0262420742239,
          207.38616871018698,
          185.66376921130438,
          187.66643338452695,
          171.81787675228367,
          169.61952459182106,
          169.20756878671918,
          160.42234570600618,
          239.17237509652838,
          256.56118710071956,
          199.64690914530695,
          -114.05989918041249,
          -108.7600571510483,
          -103.63494485775446,
          -112.99865455725033,
          -104.38947619508336,
          35.480327792781715,
          224.28524880761253,
          -38.69078794042303,
          -106.09576917772661,
          -114.11480972497165,
          -25.489274897444915,
          265.10114828221725,
          -74.35329045164563,
          -102.81597801880572,
          -94.02447469379813,
          259.03727663637255,
          216.74413245496484,
          255.40844492086015,
          262.1377458251634,
          5.175973546844629,
          -114.06949684804069,
          21.35744500507337,
          -108.88303629475914,
          -114.06646335737078,
          -111.18771334071181,
          -113.96225228337892,
          -54.12858328417388,
          244.38539688823641,
          -51.37003974933977,
          -86.98845916314652,
          -113.86890297799542,
          -114.07424877887482,
          -112.63313195198914,
          -110.66371223533706,
          -92.75865790587967,
          -71.72664045974435,
          -24.077678221097443,
          -113.45229065594121,
          -68.68800566725378,
          -97.65163524804989,
          -101.06431691999202,
          -113.98581370902082,
          -110.39992929893795,
          -112.52902106271353,
          -110.06241561375667,
          -88.84010229408685,
          -106.0104265345412,
          -110.0135694873159,
          -105.6230725928507,
          -125.44511920293894,
          -76.63942804385141,
          -52.10735902696822,
          -120.71827737529,
          -127.15029322795648,
          -33.34436339864732,
          -33.26922836862365,
          -29.715938037922168,
          -33.39905278997783,
          -33.42645335127925,
          -33.403214423255484,
          -32.35765676187545,
          -33.477547438414994,
          5.7814038946894915,
          1.0393073066845797,
          0.9380131997106288,
          4.251747001257743,
          1.0089835104832785
         ],
         "yaxis": "y"
        }
       ],
       "layout": {
        "autosize": true,
        "legend": {
         "tracegroupgap": 0
        },
        "template": {
         "data": {
          "bar": [
           {
            "error_x": {
             "color": "#2a3f5f"
            },
            "error_y": {
             "color": "#2a3f5f"
            },
            "marker": {
             "line": {
              "color": "#E5ECF6",
              "width": 0.5
             },
             "pattern": {
              "fillmode": "overlay",
              "size": 10,
              "solidity": 0.2
             }
            },
            "type": "bar"
           }
          ],
          "barpolar": [
           {
            "marker": {
             "line": {
              "color": "#E5ECF6",
              "width": 0.5
             },
             "pattern": {
              "fillmode": "overlay",
              "size": 10,
              "solidity": 0.2
             }
            },
            "type": "barpolar"
           }
          ],
          "carpet": [
           {
            "aaxis": {
             "endlinecolor": "#2a3f5f",
             "gridcolor": "white",
             "linecolor": "white",
             "minorgridcolor": "white",
             "startlinecolor": "#2a3f5f"
            },
            "baxis": {
             "endlinecolor": "#2a3f5f",
             "gridcolor": "white",
             "linecolor": "white",
             "minorgridcolor": "white",
             "startlinecolor": "#2a3f5f"
            },
            "type": "carpet"
           }
          ],
          "choropleth": [
           {
            "colorbar": {
             "outlinewidth": 0,
             "ticks": ""
            },
            "type": "choropleth"
           }
          ],
          "contour": [
           {
            "colorbar": {
             "outlinewidth": 0,
             "ticks": ""
            },
            "colorscale": [
             [
              0,
              "#0d0887"
             ],
             [
              0.1111111111111111,
              "#46039f"
             ],
             [
              0.2222222222222222,
              "#7201a8"
             ],
             [
              0.3333333333333333,
              "#9c179e"
             ],
             [
              0.4444444444444444,
              "#bd3786"
             ],
             [
              0.5555555555555556,
              "#d8576b"
             ],
             [
              0.6666666666666666,
              "#ed7953"
             ],
             [
              0.7777777777777778,
              "#fb9f3a"
             ],
             [
              0.8888888888888888,
              "#fdca26"
             ],
             [
              1,
              "#f0f921"
             ]
            ],
            "type": "contour"
           }
          ],
          "contourcarpet": [
           {
            "colorbar": {
             "outlinewidth": 0,
             "ticks": ""
            },
            "type": "contourcarpet"
           }
          ],
          "heatmap": [
           {
            "colorbar": {
             "outlinewidth": 0,
             "ticks": ""
            },
            "colorscale": [
             [
              0,
              "#0d0887"
             ],
             [
              0.1111111111111111,
              "#46039f"
             ],
             [
              0.2222222222222222,
              "#7201a8"
             ],
             [
              0.3333333333333333,
              "#9c179e"
             ],
             [
              0.4444444444444444,
              "#bd3786"
             ],
             [
              0.5555555555555556,
              "#d8576b"
             ],
             [
              0.6666666666666666,
              "#ed7953"
             ],
             [
              0.7777777777777778,
              "#fb9f3a"
             ],
             [
              0.8888888888888888,
              "#fdca26"
             ],
             [
              1,
              "#f0f921"
             ]
            ],
            "type": "heatmap"
           }
          ],
          "heatmapgl": [
           {
            "colorbar": {
             "outlinewidth": 0,
             "ticks": ""
            },
            "colorscale": [
             [
              0,
              "#0d0887"
             ],
             [
              0.1111111111111111,
              "#46039f"
             ],
             [
              0.2222222222222222,
              "#7201a8"
             ],
             [
              0.3333333333333333,
              "#9c179e"
             ],
             [
              0.4444444444444444,
              "#bd3786"
             ],
             [
              0.5555555555555556,
              "#d8576b"
             ],
             [
              0.6666666666666666,
              "#ed7953"
             ],
             [
              0.7777777777777778,
              "#fb9f3a"
             ],
             [
              0.8888888888888888,
              "#fdca26"
             ],
             [
              1,
              "#f0f921"
             ]
            ],
            "type": "heatmapgl"
           }
          ],
          "histogram": [
           {
            "marker": {
             "pattern": {
              "fillmode": "overlay",
              "size": 10,
              "solidity": 0.2
             }
            },
            "type": "histogram"
           }
          ],
          "histogram2d": [
           {
            "colorbar": {
             "outlinewidth": 0,
             "ticks": ""
            },
            "colorscale": [
             [
              0,
              "#0d0887"
             ],
             [
              0.1111111111111111,
              "#46039f"
             ],
             [
              0.2222222222222222,
              "#7201a8"
             ],
             [
              0.3333333333333333,
              "#9c179e"
             ],
             [
              0.4444444444444444,
              "#bd3786"
             ],
             [
              0.5555555555555556,
              "#d8576b"
             ],
             [
              0.6666666666666666,
              "#ed7953"
             ],
             [
              0.7777777777777778,
              "#fb9f3a"
             ],
             [
              0.8888888888888888,
              "#fdca26"
             ],
             [
              1,
              "#f0f921"
             ]
            ],
            "type": "histogram2d"
           }
          ],
          "histogram2dcontour": [
           {
            "colorbar": {
             "outlinewidth": 0,
             "ticks": ""
            },
            "colorscale": [
             [
              0,
              "#0d0887"
             ],
             [
              0.1111111111111111,
              "#46039f"
             ],
             [
              0.2222222222222222,
              "#7201a8"
             ],
             [
              0.3333333333333333,
              "#9c179e"
             ],
             [
              0.4444444444444444,
              "#bd3786"
             ],
             [
              0.5555555555555556,
              "#d8576b"
             ],
             [
              0.6666666666666666,
              "#ed7953"
             ],
             [
              0.7777777777777778,
              "#fb9f3a"
             ],
             [
              0.8888888888888888,
              "#fdca26"
             ],
             [
              1,
              "#f0f921"
             ]
            ],
            "type": "histogram2dcontour"
           }
          ],
          "mesh3d": [
           {
            "colorbar": {
             "outlinewidth": 0,
             "ticks": ""
            },
            "type": "mesh3d"
           }
          ],
          "parcoords": [
           {
            "line": {
             "colorbar": {
              "outlinewidth": 0,
              "ticks": ""
             }
            },
            "type": "parcoords"
           }
          ],
          "pie": [
           {
            "automargin": true,
            "type": "pie"
           }
          ],
          "scatter": [
           {
            "fillpattern": {
             "fillmode": "overlay",
             "size": 10,
             "solidity": 0.2
            },
            "type": "scatter"
           }
          ],
          "scatter3d": [
           {
            "line": {
             "colorbar": {
              "outlinewidth": 0,
              "ticks": ""
             }
            },
            "marker": {
             "colorbar": {
              "outlinewidth": 0,
              "ticks": ""
             }
            },
            "type": "scatter3d"
           }
          ],
          "scattercarpet": [
           {
            "marker": {
             "colorbar": {
              "outlinewidth": 0,
              "ticks": ""
             }
            },
            "type": "scattercarpet"
           }
          ],
          "scattergeo": [
           {
            "marker": {
             "colorbar": {
              "outlinewidth": 0,
              "ticks": ""
             }
            },
            "type": "scattergeo"
           }
          ],
          "scattergl": [
           {
            "marker": {
             "colorbar": {
              "outlinewidth": 0,
              "ticks": ""
             }
            },
            "type": "scattergl"
           }
          ],
          "scattermapbox": [
           {
            "marker": {
             "colorbar": {
              "outlinewidth": 0,
              "ticks": ""
             }
            },
            "type": "scattermapbox"
           }
          ],
          "scatterpolar": [
           {
            "marker": {
             "colorbar": {
              "outlinewidth": 0,
              "ticks": ""
             }
            },
            "type": "scatterpolar"
           }
          ],
          "scatterpolargl": [
           {
            "marker": {
             "colorbar": {
              "outlinewidth": 0,
              "ticks": ""
             }
            },
            "type": "scatterpolargl"
           }
          ],
          "scatterternary": [
           {
            "marker": {
             "colorbar": {
              "outlinewidth": 0,
              "ticks": ""
             }
            },
            "type": "scatterternary"
           }
          ],
          "surface": [
           {
            "colorbar": {
             "outlinewidth": 0,
             "ticks": ""
            },
            "colorscale": [
             [
              0,
              "#0d0887"
             ],
             [
              0.1111111111111111,
              "#46039f"
             ],
             [
              0.2222222222222222,
              "#7201a8"
             ],
             [
              0.3333333333333333,
              "#9c179e"
             ],
             [
              0.4444444444444444,
              "#bd3786"
             ],
             [
              0.5555555555555556,
              "#d8576b"
             ],
             [
              0.6666666666666666,
              "#ed7953"
             ],
             [
              0.7777777777777778,
              "#fb9f3a"
             ],
             [
              0.8888888888888888,
              "#fdca26"
             ],
             [
              1,
              "#f0f921"
             ]
            ],
            "type": "surface"
           }
          ],
          "table": [
           {
            "cells": {
             "fill": {
              "color": "#EBF0F8"
             },
             "line": {
              "color": "white"
             }
            },
            "header": {
             "fill": {
              "color": "#C8D4E3"
             },
             "line": {
              "color": "white"
             }
            },
            "type": "table"
           }
          ]
         },
         "layout": {
          "annotationdefaults": {
           "arrowcolor": "#2a3f5f",
           "arrowhead": 0,
           "arrowwidth": 1
          },
          "autotypenumbers": "strict",
          "coloraxis": {
           "colorbar": {
            "outlinewidth": 0,
            "ticks": ""
           }
          },
          "colorscale": {
           "diverging": [
            [
             0,
             "#8e0152"
            ],
            [
             0.1,
             "#c51b7d"
            ],
            [
             0.2,
             "#de77ae"
            ],
            [
             0.3,
             "#f1b6da"
            ],
            [
             0.4,
             "#fde0ef"
            ],
            [
             0.5,
             "#f7f7f7"
            ],
            [
             0.6,
             "#e6f5d0"
            ],
            [
             0.7,
             "#b8e186"
            ],
            [
             0.8,
             "#7fbc41"
            ],
            [
             0.9,
             "#4d9221"
            ],
            [
             1,
             "#276419"
            ]
           ],
           "sequential": [
            [
             0,
             "#0d0887"
            ],
            [
             0.1111111111111111,
             "#46039f"
            ],
            [
             0.2222222222222222,
             "#7201a8"
            ],
            [
             0.3333333333333333,
             "#9c179e"
            ],
            [
             0.4444444444444444,
             "#bd3786"
            ],
            [
             0.5555555555555556,
             "#d8576b"
            ],
            [
             0.6666666666666666,
             "#ed7953"
            ],
            [
             0.7777777777777778,
             "#fb9f3a"
            ],
            [
             0.8888888888888888,
             "#fdca26"
            ],
            [
             1,
             "#f0f921"
            ]
           ],
           "sequentialminus": [
            [
             0,
             "#0d0887"
            ],
            [
             0.1111111111111111,
             "#46039f"
            ],
            [
             0.2222222222222222,
             "#7201a8"
            ],
            [
             0.3333333333333333,
             "#9c179e"
            ],
            [
             0.4444444444444444,
             "#bd3786"
            ],
            [
             0.5555555555555556,
             "#d8576b"
            ],
            [
             0.6666666666666666,
             "#ed7953"
            ],
            [
             0.7777777777777778,
             "#fb9f3a"
            ],
            [
             0.8888888888888888,
             "#fdca26"
            ],
            [
             1,
             "#f0f921"
            ]
           ]
          },
          "colorway": [
           "#636efa",
           "#EF553B",
           "#00cc96",
           "#ab63fa",
           "#FFA15A",
           "#19d3f3",
           "#FF6692",
           "#B6E880",
           "#FF97FF",
           "#FECB52"
          ],
          "font": {
           "color": "#2a3f5f"
          },
          "geo": {
           "bgcolor": "white",
           "lakecolor": "white",
           "landcolor": "#E5ECF6",
           "showlakes": true,
           "showland": true,
           "subunitcolor": "white"
          },
          "hoverlabel": {
           "align": "left"
          },
          "hovermode": "closest",
          "mapbox": {
           "style": "light"
          },
          "paper_bgcolor": "white",
          "plot_bgcolor": "#E5ECF6",
          "polar": {
           "angularaxis": {
            "gridcolor": "white",
            "linecolor": "white",
            "ticks": ""
           },
           "bgcolor": "#E5ECF6",
           "radialaxis": {
            "gridcolor": "white",
            "linecolor": "white",
            "ticks": ""
           }
          },
          "scene": {
           "xaxis": {
            "backgroundcolor": "#E5ECF6",
            "gridcolor": "white",
            "gridwidth": 2,
            "linecolor": "white",
            "showbackground": true,
            "ticks": "",
            "zerolinecolor": "white"
           },
           "yaxis": {
            "backgroundcolor": "#E5ECF6",
            "gridcolor": "white",
            "gridwidth": 2,
            "linecolor": "white",
            "showbackground": true,
            "ticks": "",
            "zerolinecolor": "white"
           },
           "zaxis": {
            "backgroundcolor": "#E5ECF6",
            "gridcolor": "white",
            "gridwidth": 2,
            "linecolor": "white",
            "showbackground": true,
            "ticks": "",
            "zerolinecolor": "white"
           }
          },
          "shapedefaults": {
           "line": {
            "color": "#2a3f5f"
           }
          },
          "ternary": {
           "aaxis": {
            "gridcolor": "white",
            "linecolor": "white",
            "ticks": ""
           },
           "baxis": {
            "gridcolor": "white",
            "linecolor": "white",
            "ticks": ""
           },
           "bgcolor": "#E5ECF6",
           "caxis": {
            "gridcolor": "white",
            "linecolor": "white",
            "ticks": ""
           }
          },
          "title": {
           "x": 0.05
          },
          "xaxis": {
           "automargin": true,
           "gridcolor": "white",
           "linecolor": "white",
           "ticks": "",
           "title": {
            "standoff": 15
           },
           "zerolinecolor": "white",
           "zerolinewidth": 2
          },
          "yaxis": {
           "automargin": true,
           "gridcolor": "white",
           "linecolor": "white",
           "ticks": "",
           "title": {
            "standoff": 15
           },
           "zerolinecolor": "white",
           "zerolinewidth": 2
          }
         }
        },
        "title": {
         "text": "PCA Two"
        },
        "xaxis": {
         "anchor": "y",
         "autorange": true,
         "domain": [
          0,
          1
         ],
         "range": [
          -260.51550625171353,
          388.59574302209813
         ],
         "title": {
          "text": "X1"
         },
         "type": "linear"
        },
        "yaxis": {
         "anchor": "x",
         "autorange": true,
         "domain": [
          0,
          1
         ],
         "range": [
          -160.77780894259524,
          313.96358938171676
         ],
         "title": {
          "text": "X2"
         },
         "type": "linear"
        }
       }
      },
      "image/png": "[encoded data removed]",
      "text/html": [
       "<div>                            <div id=\"2b34f44e-713f-4482-ae94-3dc8acce69dc\" class=\"plotly-graph-div\" style=\"height:525px; width:100%;\"></div>            <script type=\"text/javascript\">                require([\"plotly\"], function(Plotly) {                    window.PLOTLYENV=window.PLOTLYENV || {};                                    if (document.getElementById(\"2b34f44e-713f-4482-ae94-3dc8acce69dc\")) {                    Plotly.newPlot(                        \"2b34f44e-713f-4482-ae94-3dc8acce69dc\",                        [{\"hovertemplate\":\"X1=%{x}\\u003cbr\\u003eX2=%{y}\\u003cextra\\u003e\\u003c\\u002fextra\\u003e\",\"legendgroup\":\"\",\"marker\":{\"color\":\"#636efa\",\"symbol\":\"circle\"},\"mode\":\"markers\",\"name\":\"\",\"orientation\":\"v\",\"showlegend\":false,\"x\":[-119.81914627889634,-168.89032805324618,-169.31187977577886,-190.2307572101053,-190.13356569556612,-188.95069555566963,-104.33634223055549,-102.09466057010039,-98.52863707404238,-100.0305160820465,-100.94032759992265,-103.3359422982671,-105.08313549086549,-108.44945673558964,-101.58766452741006,-108.51370136756746,-108.26553566151885,-103.67480391133964,-79.04143382508197,-105.99439736975535,-99.17572658191385,-104.74643454544481,-105.68660731195503,-104.28610515786008,-104.80962787746225,-79.03009475291692,-100.08389566859357,-79.61230807389163,-103.00432309471198,-101.36371844742258,-94.70461093256019,-99.24655088620065,-58.43988149023588,-94.31559389448388,-61.9299352908536,-134.5088708151691,-129.40477479771752,-136.76595969545184,-136.66607371337182,-167.25034812865886,-167.80324973084157,-180.50807382794468,-179.58117812536796,-182.7812703214814,-178.45558016747557,-181.14005539847153,-181.0911006167844,-175.41024203718783,-175.52627786367898,-178.64913372093199,-171.10938667889275,-169.29323323703417,-173.74611376841722,-173.64826412624535,40.90451722045555,-192.6492232378996,-109.0642941392353,-162.18458697511852,-132.2774977609364,-132.5247757644145,-130.3246554817444,-123.05773748464345,-130.86139724817676,-132.45892892200655,-195.06868267866292,-87.39963777619002,-86.15869992521108,-76.1846599985509,-74.98055309114778,-75.3975720708429,-111.12020166973922,-108.15613356614774,-113.1378041651161,-109.22111599401072,-25.995899136414753,-19.281500483784768,-13.954697813826247,-20.267681273909083,-19.40346825241679,-23.716516609048206,-136.79424551362044,-133.293821022177,-136.86979644062527,-133.81584131348038,-166.73711789406545,-164.78882430509736,-166.6375247073409,-165.51089116097833,-141.8556418020725,-143.54686527664467,-142.09198182212924,-141.8528101420272,-144.77917406067294,-147.27418262168237,-143.29112691370005,-127.19194540962232,-135.95484153846817,-137.0617030300602,-139.36589749580952,-138.14609246545456,-33.10200615356762,-34.1017846448227,61.73165485391092,-32.29512362091096,-31.58499473934999,-31.323496192321805,-32.14599766923161,-30.48820854151723,-31.7359550438806,-30.98283292788262,-34.783244480769,12.47089987754783,13.74486370527421,13.407672696289762,14.69435497057733,27.914650260782114,12.421042973057803,12.874081026149488,28.47046112951933,12.37144703556517,-218.01535139211646,-213.46983346148497,-212.7707985583316,-209.98787580957892,-212.91117671227335,-215.2340529322672,-206.84484714174673,19.875942113644506,18.674807176612333,18.41570643228219,19.159212213611294,18.533527791521845,21.750173762340598,20.769615334470192,57.765654738089005,19.31502560304593,23.696875327003934,19.444748669228026,20.17539640982147,18.677662525089197,21.01026878545976,19.253826925614852,-13.218302698847182,-13.205347300402552,-13.361004711409855,52.004937699493915,52.802526620388434,-12.032535615903795,-2.109990821963779,-0.6674057243428031,-6.769105896892669,2.5201887174772573,0.9901773986336654,25.666353404235455,8.216770559800405,75.01249223971467,75.78031198924387,-4.2656930639569195,-1.222511176176979,-4.233018421210993,2.494216184287818,-8.080908986980878,-11.868370114833342,-11.868747189260544,-13.770510165339676,31.432586263857257,-6.07513113057338,33.953087109408656,15.125120467994417,5.46249152045799,16.440274001577457,0.38209711244628136,-116.61164669425243,-116.70426149821363,-117.31731350700201,-119.73663086817696,-119.11084910768207,-117.69673953409398,-116.33532173139302,-217.3073927725428,-214.77697759626074,-216.88558859568386,-213.6744382253287,-214.17994192261406,-212.7567055482488,-213.40243100843364,-216.4823464360707,-25.00161139205258,-22.845186868198947,-26.103021530156223,-21.979772138856376,-24.71511830114906,-25.360373841310647,-154.68218500578004,-149.098158237885,-163.44019439017367,-93.81549680301349,-81.09913033330137,-92.03729522811963,-26.63363501628648,-23.084495415858555,-74.4972636982743,-76.96577805370484,-192.92533753865342,-192.40663457937737,-140.13868622700892,-137.01995700008115,-133.58238578686567,-132.4390599368714,-133.35019647761266,-133.08987361009568,-133.80022385904985,-135.6458635866917,-136.10738320014403,-126.77843019426888,-137.53603158357447,-136.88646123957832,-134.53668485316766,-134.81463775530074,-134.18521572211048,-104.561037894634,-105.08703958971442,-105.07256668351965,-106.76248549010643,-103.60824565194544,-102.31005073840326,-103.62404855279631,-99.64438537294265,-106.54721539670145,-107.00151340545767,-102.33378034395359,-101.10489472401943,-104.31383414506936,-102.50135615264188,-97.26800027587468,-102.44352284490238,-104.62538750337426,-105.61837022908406,-115.02884511623245,-114.29603334977439,-115.36815203320187,-115.42218576468062,-110.10565220356844,-114.5859671658892,-79.1027075988746,-84.33915859095359,-87.80746276092209,-79.99543597450332,-82.11049427702548,-90.3626471222572,-91.49221919381952,-86.2916100611949,-89.10977534549231,-92.1169129173774,-106.03715306632657,-107.72152394007674,-171.7856893420751,-146.13865838751292,-143.112589989735,-145.64951683670512,-147.36778619426255,-145.49626548361934,-144.9142816788556,-146.43968416985865,-145.15100540470425,-148.8113679929475,-144.46470064191118,-146.25165305771537,-149.23468014810985,-187.48409293729657,-188.3352348798267,-193.047048160691,-188.90826215937705,-188.29272169659083,-163.13647299933947,-162.32126309491602,-159.50818367476535,-162.5656654805247,-163.11875676697056,-198.43603024121978,-192.977098085654,-196.67661060174305,-191.25251024848728,-219.10454974126674,-136.42033891328936,-119.73117856993959,-161.32047262904825,-126.6600942600319,-125.45349706661976,-119.97567615093837,-173.8903921774198,-173.9008927488728,-174.23500682738438,-129.05284422172232,-127.01213259254384,-128.04597972448616,-125.17861401801514,-125.57765517498936,-58.475189184708036,-60.29890685280986,-62.75531364055094,-90.43751775855915,-88.75932540576864,-90.89173905035872,-191.50196885568104,-189.93613439168476,-189.8679139667875,-189.97804148033725,-109.61319528303221,-109.78350416750686,-99.56876926242376,-112.05030979546916,-108.61591740751459,-108.49460369834718,-108.75604678551221,-109.7252108272092,-107.44146144452279,-110.26582996559227,-110.27087772352938,-111.2166775789437,-128.26045290518613,-128.10028928425433,-128.44505994049857,-124.63297215095153,-129.30164821171417,-130.52102532762626,-130.24319392803037,-128.854639068635,9.426269238675268,10.751671550526387,13.975263450337387,-114.92961343895546,-106.2105425143688,-187.29715236415865,-187.14925935162321,-189.6355257983801,-188.60259555105648,-186.86685366450567,-189.16107581801458,-188.67602252812878,-187.59053908686727,-132.68730277380186,2.2555568976677325,-51.61263696263374,-51.44272436417133,-63.695269939636795,-57.2030345635359,-72.13395695107283,-138.8194164486351,-84.26794849302334,-85.48950138404395,-7.169235143391813,-14.846814583157135,-225.17243823075512,-85.75569406880378,-84.04314019564309,242.72257607459494,237.9713925933471,236.14212966332497,237.33353347100942,242.50163772010825,249.8517215950087,241.4068372606012,249.0047341843358,247.81489423245947,248.27111698439566,259.9553448144914,314.71154282121813,243.14156000905743,242.96044307252495,238.15824193943547,246.1407146145848,250.54890158419946,237.82133880472702,238.1124082788362,237.40164124971565,246.98220854700688,237.3695101665397,237.61359995088114,238.63863304630215,239.01834885991366,237.56743743209051,237.50539280756573,237.49275069348903,269.5977913634287,237.7366108966314,238.06005984355934,237.21364882304647,244.8013375842259,237.31917259736588,237.7572373658178,241.20557130919576,237.37160115309993,236.67505362340856,237.0163115962085,238.67332325899724,236.97503900272307,238.39060805609617,238.5209041684478,252.92251625282987,238.04216552203934,237.5771613674881,243.49489034325885,237.53986610314377,256.9581342238642,242.6869719812662,245.6111347226179,256.1988452736436,261.2979880647196,300.92219463946043,353.2526750011397,342.9692771441179,345.2356630734292,292.1413996551327,328.76254654294,345.5368825877019,346.13405193527103,315.64892264677997,350.1139041584108,337.0689869128309,260.1200112274484,259.265621020456,267.0113504247209,351.03625682496704,349.4052239932697,350.67934857201953,342.44566841206046,346.4507362343069,322.98439329237493,335.0507841424108,327.4637743340992,328.8591843306648,322.1062917814937,322.6196988058585,323.3062641619579,320.6931322299682,344.54582571000407,350.6134138076091,332.3667878155139,236.98303349614457,238.79742424098487,240.3750874514135,237.59022324208163,240.37722844104908,282.8694672879173,340.163338417222,259.9560712831408,239.51391370849043,237.2701098028203,264.2040739941826,352.15752897707324,249.22160115427278,239.98756678566718,243.37836451523197,350.54077962128866,336.8695437447512,348.78089468063826,350.2327002386336,272.23415665815656,235.91852673542923,277.62489045836185,237.75445649180318,235.78047904192923,237.14451112746235,234.324163433704,250.97049785065508,345.0847630496372,255.95338051868413,243.33315527561598,233.7867425823351,235.84747217416077,236.77694085952822,236.0562168467039,240.85159140292222,249.86352274954223,264.62787914355243,236.92586034911298,251.28697455646383,242.1365229382179,240.3633519354272,234.14656019691,236.04277267371734,235.55785588080872,233.165691329856,239.81807895023303,235.41688101297655,236.7311392868424,235.70207862296624,279.1392908516168,294.6083959570092,302.1759410992028,281.0976964777549,277.7310252294334,-29.111679807323227,-30.025991906554605,-30.04221753040195,-27.32049594789633,-27.67608453765128,-28.144361102577495,-27.080685446155723,-26.908717084362895,-138.69818788803767,-139.50469065167775,-138.38741791421072,-137.50543179921587,-139.19058533815527],\"xaxis\":\"x\",\"y\":[-5.560103208755543,10.116075542501239,14.080397218666167,18.302291186229564,16.097776134874145,18.72899299096249,-8.73552961587442,-10.108044839713656,-0.24791979876166748,-0.3176816136187957,-5.901424161477259,-10.066564501572742,-3.682202487858203,-8.824322935360046,7.197670572984753,-7.569003890467796,0.964330021158698,0.8048934046565833,94.52179097767257,-3.161454158068838,10.484393102760551,-4.769237402421871,-8.93126269897436,-6.717186675974613,-6.50471387861255,80.47147175056065,10.193330958324008,77.62880983624962,-0.41624011486292267,6.993332996679944,26.19716051533131,10.275512605790144,148.27758262293443,27.50613031568526,133.1296854473107,-0.6629564062497066,17.878665324497526,-0.5151403558874966,2.875957245466993,8.804219491840426,8.83481634703798,24.13731291921423,26.072217630199717,15.47827885550005,20.146291675907502,13.004621725752447,13.030356794809284,16.736753815903366,12.772224554270226,12.878441271533351,11.337742168393726,12.735642985528662,10.15007591603072,10.166313130756297,-55.96108286707656,16.133418123163672,-10.282933990764445,10.165172704076074,4.038003077411249,-1.9995657617398166,-0.37371746131940414,15.76192424530404,-2.13146145231179,-0.7132162522453831,21.362741448820746,-17.238501413257655,-17.282615295920248,-19.01863181842353,-19.73732742822404,-19.74032463816456,4.648478960628746,11.09710207032018,-2.2307934634424096,10.928695135261664,-33.25887054176598,-22.291626667766376,-13.2924274667065,-25.85534161799209,-25.352992042585026,-34.51066319909938,-1.0297040338558474,-0.015392238024211486,-1.0142036231367497,4.893015090200193,8.836097804290302,13.170370956997392,9.741250157158895,10.45192943729321,1.8833870177576764,2.8204894402537275,6.530843247835688,5.172668949466947,3.8499130497031744,2.71767566145081,1.9210447789000873,37.51562761709037,5.108214190956994,0.1833697385414634,3.6253989416456585,0.27145265007374497,-29.404187113604443,-30.149317976258217,280.336073667078,-29.14644584996962,-27.46629655449457,-28.781438743660033,-30.290065940013886,-22.647951229286605,-29.9454928397084,-26.057675031922958,-28.02373847420592,-44.24701451651665,-43.66508706688461,-45.53807701307723,-37.71042183964307,4.206868850220568,-41.99441858150613,-43.21914877991475,10.295554985353581,-40.222530277284626,33.30300090055864,44.19702524267773,43.76626871577509,51.225327501738406,42.51416037492903,37.14817457212699,61.78254665145716,-42.47318163105603,-47.078971064051665,-47.03502103515236,-45.31692177661621,-47.08481925898679,-36.444666860763974,-39.21130734437734,81.20077709484711,-44.93257996208102,-29.20730365890387,-44.384664844514205,-42.39506401026544,-47.054807845220665,-38.56551623376014,-46.96810285768697,-37.03958259196066,-37.036554044419205,-37.01642980017935,177.13515000303838,180.54969892445925,-32.04314254293952,1.1592204212371235,6.030910956269213,-14.06416116031516,15.747162503422937,14.20005099972078,91.9345058795201,35.458534432344926,258.3484974284996,257.6894105615215,-5.162660991743659,3.9554705458544372,-6.001683837771177,18.305996364106758,-15.657546195705887,-30.21111469880813,-29.071111324462876,-35.3751796328765,112.77221523214146,-10.76804314458571,124.85716560070477,58.3223942291053,26.823735076189262,62.9325151731021,9.517449982801809,-5.7049769289358565,-4.373719886985123,-2.111838471682519,0.23783343788531439,-1.9858331056674794,-4.424019211338819,-0.28570664810759117,24.5514151267635,25.705055825688074,24.554790340528726,27.015156014513842,24.342372789002926,30.064483116936955,33.899561267352674,28.658802153169088,-32.3480592754165,-21.744436918857005,-35.239682474418025,-16.76335287011946,-28.322012207564228,-29.052301912734,7.242975054312197,23.127711834168203,9.219416109985982,-14.960054872103617,25.7754869247019,-10.475410478629115,-36.19716102523547,-24.141937981365075,-17.5338953444792,-18.967920035903852,19.674232618394303,21.8085575517121,0.17926122726863314,1.9489979177527361,7.075871543773992,14.88789790950603,-0.1932168202848482,3.306968077834857,1.4639584282703397,5.727907824950443,10.717695573855298,46.22723851488327,3.183397796598911,4.1939989942717215,4.025224453230208,0.08316663029904234,3.0702622576068626,-4.014573370262405,-7.347602131760752,-2.6970177871766468,-8.95298400581915,2.370583425090084,5.26444525744054,0.09041076693921174,14.776254563490689,9.929538456722112,7.197988480709426,8.879592015762203,10.905514952680372,1.5693414013728086,8.247765754529267,26.2222375410936,10.441461873006501,-0.8378769828402012,-2.386280998544237,10.22504517069617,5.9168542740285766,-1.2716333985741357,-4.550222279591746,16.424782438993418,14.774144007097554,7.745371039594683,-8.095149764167823,-8.949568385186934,4.226511279612543,5.762237627165912,-12.269851497137577,-14.677179820667488,3.701668276992534,-4.91156814560546,-15.254593290009666,-7.016913596472489,-9.117463709457482,19.968748635473982,10.527463353121338,16.596897618985093,8.330177624827842,7.617350541086209,11.796390609212217,13.220701663185013,6.963354029492633,12.24753023323361,8.114338016195317,15.980352886523569,15.588459401169533,10.138179146610781,21.126886616743448,23.807927541399113,16.029328795008094,17.647880572445402,21.688323193992407,6.871549019119688,6.812195327837974,14.109496294019479,10.20466936574803,6.897414496836643,17.985644196000997,26.963717123416384,22.420203828170244,36.83556023323975,24.73123224939604,0.09416092483216718,-4.391034970746231,63.70764935629044,-4.495945670253568,-4.5750347625426855,19.64258332792407,9.581216357131076,9.58408459641086,9.614790824796705,-3.330113180563623,-3.456427080595655,-3.415433956485677,0.34913307536286986,-3.5142905761966388,4.002863477964138,0.8658821747644037,-17.775767033244726,-13.994808525840778,-2.2653216776539375,-8.804215856928543,19.26516424769323,19.484937932812674,16.00723583882619,16.022154018361274,-8.090303470654653,-7.395994689655459,36.64019693908055,-7.91049037574604,-7.522329441005081,-4.718092694807426,-6.934204441320399,-7.565444457203846,-2.0876452008948907,-7.964467795362659,-6.353864469153259,-7.266875959502289,-2.932264624065486,-2.9455373867771213,-2.9145004775554,2.4857689900093507,-2.8674645086384145,0.35004262048976326,-2.8032446594624654,-2.850140211253256,-30.716839643234803,-23.76943075511259,-17.49611275006174,-4.893739438684969,25.486796834721655,22.445840344531376,22.74604656462843,15.604593471583936,15.547030019726906,17.47384427590496,16.317701631006315,15.551866356817442,15.474346502726661,0.1327484828962495,-35.73427088909924,-27.138321338168293,-18.4521488167356,-11.096792061573801,9.002450132112447,-17.106828096553507,5.071974113281614,-10.019957684021021,-16.81710792775585,-14.018757031814483,-34.51192398859152,38.420914811645375,-2.8895754203794657,3.5741619659279613,-95.78288990399582,-108.81889005514583,-112.68750867059018,-108.19039028519474,-92.78388788980736,-69.90726594212154,-98.78026135952136,-72.17575991181438,-73.64251081275069,-73.7986920136111,-36.808692159206856,139.7238178163155,-93.79518051319221,-93.5868053303265,-109.57673549824415,-84.77030524960196,-67.25179403152026,-114.01527097100639,-113.94782898000952,-114.0686498474673,-81.61944783015332,-114.09424584951421,-113.97318957454354,-111.02302944068518,-113.5500899127553,-114.05656886497181,-114.09212761208501,-114.09457943221437,-7.726020901504892,-113.98897692871034,-113.96409388851664,-113.89444929734617,-91.08833994372029,-114.10859792691583,-111.76527272957458,-96.33700174132625,-114.04713712224559,-114.10170171999229,-114.075586081952,-109.42096524416495,-114.11538783562116,-110.48357602567758,-113.85739178119879,-57.75733788730254,-113.96792129148358,-114.07708078675377,-94.22903760698165,-113.98722561723876,-49.286261327791635,-102.29680019068839,-88.50649230705545,-52.16984027846275,-35.42042838658147,93.92889088499986,263.1319538942977,231.92102576585648,238.01356862202041,63.7999756754474,181.33459570004513,239.45132148145865,244.86804541365478,143.82843477227118,250.09903639431278,219.23667063603077,-39.40298277001806,-40.575517538544645,-13.32305156458623,263.07608126306,262.05464932444596,258.1482256604411,242.05186213249388,247.6804894880954,173.0262420742239,207.38616871018698,185.66376921130438,187.66643338452695,171.81787675228367,169.61952459182106,169.20756878671918,160.42234570600618,239.17237509652838,256.56118710071956,199.64690914530695,-114.05989918041249,-108.7600571510483,-103.63494485775446,-112.99865455725033,-104.38947619508336,35.480327792781715,224.28524880761253,-38.69078794042303,-106.09576917772661,-114.11480972497165,-25.489274897444915,265.10114828221725,-74.35329045164563,-102.81597801880572,-94.02447469379813,259.03727663637255,216.74413245496484,255.40844492086015,262.1377458251634,5.175973546844629,-114.06949684804069,21.35744500507337,-108.88303629475914,-114.06646335737078,-111.18771334071181,-113.96225228337892,-54.12858328417388,244.38539688823641,-51.37003974933977,-86.98845916314652,-113.86890297799542,-114.07424877887482,-112.63313195198914,-110.66371223533706,-92.75865790587967,-71.72664045974435,-24.077678221097443,-113.45229065594121,-68.68800566725378,-97.65163524804989,-101.06431691999202,-113.98581370902082,-110.39992929893795,-112.52902106271353,-110.06241561375667,-88.84010229408685,-106.0104265345412,-110.0135694873159,-105.6230725928507,-125.44511920293894,-76.63942804385141,-52.10735902696822,-120.71827737529,-127.15029322795648,-33.34436339864732,-33.26922836862365,-29.715938037922168,-33.39905278997783,-33.42645335127925,-33.403214423255484,-32.35765676187545,-33.477547438414994,5.7814038946894915,1.0393073066845797,0.9380131997106288,4.251747001257743,1.0089835104832785],\"yaxis\":\"y\",\"type\":\"scatter\"}],                        {\"template\":{\"data\":{\"histogram2dcontour\":[{\"type\":\"histogram2dcontour\",\"colorbar\":{\"outlinewidth\":0,\"ticks\":\"\"},\"colorscale\":[[0.0,\"#0d0887\"],[0.1111111111111111,\"#46039f\"],[0.2222222222222222,\"#7201a8\"],[0.3333333333333333,\"#9c179e\"],[0.4444444444444444,\"#bd3786\"],[0.5555555555555556,\"#d8576b\"],[0.6666666666666666,\"#ed7953\"],[0.7777777777777778,\"#fb9f3a\"],[0.8888888888888888,\"#fdca26\"],[1.0,\"#f0f921\"]]}],\"choropleth\":[{\"type\":\"choropleth\",\"colorbar\":{\"outlinewidth\":0,\"ticks\":\"\"}}],\"histogram2d\":[{\"type\":\"histogram2d\",\"colorbar\":{\"outlinewidth\":0,\"ticks\":\"\"},\"colorscale\":[[0.0,\"#0d0887\"],[0.1111111111111111,\"#46039f\"],[0.2222222222222222,\"#7201a8\"],[0.3333333333333333,\"#9c179e\"],[0.4444444444444444,\"#bd3786\"],[0.5555555555555556,\"#d8576b\"],[0.6666666666666666,\"#ed7953\"],[0.7777777777777778,\"#fb9f3a\"],[0.8888888888888888,\"#fdca26\"],[1.0,\"#f0f921\"]]}],\"heatmap\":[{\"type\":\"heatmap\",\"colorbar\":{\"outlinewidth\":0,\"ticks\":\"\"},\"colorscale\":[[0.0,\"#0d0887\"],[0.1111111111111111,\"#46039f\"],[0.2222222222222222,\"#7201a8\"],[0.3333333333333333,\"#9c179e\"],[0.4444444444444444,\"#bd3786\"],[0.5555555555555556,\"#d8576b\"],[0.6666666666666666,\"#ed7953\"],[0.7777777777777778,\"#fb9f3a\"],[0.8888888888888888,\"#fdca26\"],[1.0,\"#f0f921\"]]}],\"heatmapgl\":[{\"type\":\"heatmapgl\",\"colorbar\":{\"outlinewidth\":0,\"ticks\":\"\"},\"colorscale\":[[0.0,\"#0d0887\"],[0.1111111111111111,\"#46039f\"],[0.2222222222222222,\"#7201a8\"],[0.3333333333333333,\"#9c179e\"],[0.4444444444444444,\"#bd3786\"],[0.5555555555555556,\"#d8576b\"],[0.6666666666666666,\"#ed7953\"],[0.7777777777777778,\"#fb9f3a\"],[0.8888888888888888,\"#fdca26\"],[1.0,\"#f0f921\"]]}],\"contourcarpet\":[{\"type\":\"contourcarpet\",\"colorbar\":{\"outlinewidth\":0,\"ticks\":\"\"}}],\"contour\":[{\"type\":\"contour\",\"colorbar\":{\"outlinewidth\":0,\"ticks\":\"\"},\"colorscale\":[[0.0,\"#0d0887\"],[0.1111111111111111,\"#46039f\"],[0.2222222222222222,\"#7201a8\"],[0.3333333333333333,\"#9c179e\"],[0.4444444444444444,\"#bd3786\"],[0.5555555555555556,\"#d8576b\"],[0.6666666666666666,\"#ed7953\"],[0.7777777777777778,\"#fb9f3a\"],[0.8888888888888888,\"#fdca26\"],[1.0,\"#f0f921\"]]}],\"surface\":[{\"type\":\"surface\",\"colorbar\":{\"outlinewidth\":0,\"ticks\":\"\"},\"colorscale\":[[0.0,\"#0d0887\"],[0.1111111111111111,\"#46039f\"],[0.2222222222222222,\"#7201a8\"],[0.3333333333333333,\"#9c179e\"],[0.4444444444444444,\"#bd3786\"],[0.5555555555555556,\"#d8576b\"],[0.6666666666666666,\"#ed7953\"],[0.7777777777777778,\"#fb9f3a\"],[0.8888888888888888,\"#fdca26\"],[1.0,\"#f0f921\"]]}],\"mesh3d\":[{\"type\":\"mesh3d\",\"colorbar\":{\"outlinewidth\":0,\"ticks\":\"\"}}],\"scatter\":[{\"fillpattern\":{\"fillmode\":\"overlay\",\"size\":10,\"solidity\":0.2},\"type\":\"scatter\"}],\"parcoords\":[{\"type\":\"parcoords\",\"line\":{\"colorbar\":{\"outlinewidth\":0,\"ticks\":\"\"}}}],\"scatterpolargl\":[{\"type\":\"scatterpolargl\",\"marker\":{\"colorbar\":{\"outlinewidth\":0,\"ticks\":\"\"}}}],\"bar\":[{\"error_x\":{\"color\":\"#2a3f5f\"},\"error_y\":{\"color\":\"#2a3f5f\"},\"marker\":{\"line\":{\"color\":\"#E5ECF6\",\"width\":0.5},\"pattern\":{\"fillmode\":\"overlay\",\"size\":10,\"solidity\":0.2}},\"type\":\"bar\"}],\"scattergeo\":[{\"type\":\"scattergeo\",\"marker\":{\"colorbar\":{\"outlinewidth\":0,\"ticks\":\"\"}}}],\"scatterpolar\":[{\"type\":\"scatterpolar\",\"marker\":{\"colorbar\":{\"outlinewidth\":0,\"ticks\":\"\"}}}],\"histogram\":[{\"marker\":{\"pattern\":{\"fillmode\":\"overlay\",\"size\":10,\"solidity\":0.2}},\"type\":\"histogram\"}],\"scattergl\":[{\"type\":\"scattergl\",\"marker\":{\"colorbar\":{\"outlinewidth\":0,\"ticks\":\"\"}}}],\"scatter3d\":[{\"type\":\"scatter3d\",\"line\":{\"colorbar\":{\"outlinewidth\":0,\"ticks\":\"\"}},\"marker\":{\"colorbar\":{\"outlinewidth\":0,\"ticks\":\"\"}}}],\"scattermapbox\":[{\"type\":\"scattermapbox\",\"marker\":{\"colorbar\":{\"outlinewidth\":0,\"ticks\":\"\"}}}],\"scatterternary\":[{\"type\":\"scatterternary\",\"marker\":{\"colorbar\":{\"outlinewidth\":0,\"ticks\":\"\"}}}],\"scattercarpet\":[{\"type\":\"scattercarpet\",\"marker\":{\"colorbar\":{\"outlinewidth\":0,\"ticks\":\"\"}}}],\"carpet\":[{\"aaxis\":{\"endlinecolor\":\"#2a3f5f\",\"gridcolor\":\"white\",\"linecolor\":\"white\",\"minorgridcolor\":\"white\",\"startlinecolor\":\"#2a3f5f\"},\"baxis\":{\"endlinecolor\":\"#2a3f5f\",\"gridcolor\":\"white\",\"linecolor\":\"white\",\"minorgridcolor\":\"white\",\"startlinecolor\":\"#2a3f5f\"},\"type\":\"carpet\"}],\"table\":[{\"cells\":{\"fill\":{\"color\":\"#EBF0F8\"},\"line\":{\"color\":\"white\"}},\"header\":{\"fill\":{\"color\":\"#C8D4E3\"},\"line\":{\"color\":\"white\"}},\"type\":\"table\"}],\"barpolar\":[{\"marker\":{\"line\":{\"color\":\"#E5ECF6\",\"width\":0.5},\"pattern\":{\"fillmode\":\"overlay\",\"size\":10,\"solidity\":0.2}},\"type\":\"barpolar\"}],\"pie\":[{\"automargin\":true,\"type\":\"pie\"}]},\"layout\":{\"autotypenumbers\":\"strict\",\"colorway\":[\"#636efa\",\"#EF553B\",\"#00cc96\",\"#ab63fa\",\"#FFA15A\",\"#19d3f3\",\"#FF6692\",\"#B6E880\",\"#FF97FF\",\"#FECB52\"],\"font\":{\"color\":\"#2a3f5f\"},\"hovermode\":\"closest\",\"hoverlabel\":{\"align\":\"left\"},\"paper_bgcolor\":\"white\",\"plot_bgcolor\":\"#E5ECF6\",\"polar\":{\"bgcolor\":\"#E5ECF6\",\"angularaxis\":{\"gridcolor\":\"white\",\"linecolor\":\"white\",\"ticks\":\"\"},\"radialaxis\":{\"gridcolor\":\"white\",\"linecolor\":\"white\",\"ticks\":\"\"}},\"ternary\":{\"bgcolor\":\"#E5ECF6\",\"aaxis\":{\"gridcolor\":\"white\",\"linecolor\":\"white\",\"ticks\":\"\"},\"baxis\":{\"gridcolor\":\"white\",\"linecolor\":\"white\",\"ticks\":\"\"},\"caxis\":{\"gridcolor\":\"white\",\"linecolor\":\"white\",\"ticks\":\"\"}},\"coloraxis\":{\"colorbar\":{\"outlinewidth\":0,\"ticks\":\"\"}},\"colorscale\":{\"sequential\":[[0.0,\"#0d0887\"],[0.1111111111111111,\"#46039f\"],[0.2222222222222222,\"#7201a8\"],[0.3333333333333333,\"#9c179e\"],[0.4444444444444444,\"#bd3786\"],[0.5555555555555556,\"#d8576b\"],[0.6666666666666666,\"#ed7953\"],[0.7777777777777778,\"#fb9f3a\"],[0.8888888888888888,\"#fdca26\"],[1.0,\"#f0f921\"]],\"sequentialminus\":[[0.0,\"#0d0887\"],[0.1111111111111111,\"#46039f\"],[0.2222222222222222,\"#7201a8\"],[0.3333333333333333,\"#9c179e\"],[0.4444444444444444,\"#bd3786\"],[0.5555555555555556,\"#d8576b\"],[0.6666666666666666,\"#ed7953\"],[0.7777777777777778,\"#fb9f3a\"],[0.8888888888888888,\"#fdca26\"],[1.0,\"#f0f921\"]],\"diverging\":[[0,\"#8e0152\"],[0.1,\"#c51b7d\"],[0.2,\"#de77ae\"],[0.3,\"#f1b6da\"],[0.4,\"#fde0ef\"],[0.5,\"#f7f7f7\"],[0.6,\"#e6f5d0\"],[0.7,\"#b8e186\"],[0.8,\"#7fbc41\"],[0.9,\"#4d9221\"],[1,\"#276419\"]]},\"xaxis\":{\"gridcolor\":\"white\",\"linecolor\":\"white\",\"ticks\":\"\",\"title\":{\"standoff\":15},\"zerolinecolor\":\"white\",\"automargin\":true,\"zerolinewidth\":2},\"yaxis\":{\"gridcolor\":\"white\",\"linecolor\":\"white\",\"ticks\":\"\",\"title\":{\"standoff\":15},\"zerolinecolor\":\"white\",\"automargin\":true,\"zerolinewidth\":2},\"scene\":{\"xaxis\":{\"backgroundcolor\":\"#E5ECF6\",\"gridcolor\":\"white\",\"linecolor\":\"white\",\"showbackground\":true,\"ticks\":\"\",\"zerolinecolor\":\"white\",\"gridwidth\":2},\"yaxis\":{\"backgroundcolor\":\"#E5ECF6\",\"gridcolor\":\"white\",\"linecolor\":\"white\",\"showbackground\":true,\"ticks\":\"\",\"zerolinecolor\":\"white\",\"gridwidth\":2},\"zaxis\":{\"backgroundcolor\":\"#E5ECF6\",\"gridcolor\":\"white\",\"linecolor\":\"white\",\"showbackground\":true,\"ticks\":\"\",\"zerolinecolor\":\"white\",\"gridwidth\":2}},\"shapedefaults\":{\"line\":{\"color\":\"#2a3f5f\"}},\"annotationdefaults\":{\"arrowcolor\":\"#2a3f5f\",\"arrowhead\":0,\"arrowwidth\":1},\"geo\":{\"bgcolor\":\"white\",\"landcolor\":\"#E5ECF6\",\"subunitcolor\":\"white\",\"showland\":true,\"showlakes\":true,\"lakecolor\":\"white\"},\"title\":{\"x\":0.05},\"mapbox\":{\"style\":\"light\"}}},\"xaxis\":{\"anchor\":\"y\",\"domain\":[0.0,1.0],\"title\":{\"text\":\"X1\"}},\"yaxis\":{\"anchor\":\"x\",\"domain\":[0.0,1.0],\"title\":{\"text\":\"X2\"}},\"legend\":{\"tracegroupgap\":0},\"title\":{\"text\":\"PCA Two\"}},                        {\"responsive\": true}                    ).then(function(){\n",
       "                            \n",
       "var gd = document.getElementById('2b34f44e-713f-4482-ae94-3dc8acce69dc');\n",
       "var x = new MutationObserver(function (mutations, observer) {{\n",
       "        var display = window.getComputedStyle(gd).display;\n",
       "        if (!display || display === 'none') {{\n",
       "            console.log([gd, 'removed!']);\n",
       "            Plotly.purge(gd);\n",
       "            observer.disconnect();\n",
       "        }}\n",
       "}});\n",
       "\n",
       "// Listen for the removal of the full notebook cells\n",
       "var notebookContainer = gd.closest('#notebook-container');\n",
       "if (notebookContainer) {{\n",
       "    x.observe(notebookContainer, {childList: true});\n",
       "}}\n",
       "\n",
       "// Listen for the clearing of the current output cell\n",
       "var outputEl = gd.closest('.output');\n",
       "if (outputEl) {{\n",
       "    x.observe(outputEl, {childList: true});\n",
       "}}\n",
       "\n",
       "                        })                };                });            </script>        </div>"
      ]
     },
     "metadata": {},
     "output_type": "display_data"
    }
   ],
   "source": [
    "plotpcatwo = px.scatter(data_frame = pca_resulttwo,\n",
    "                 x = 'X1',\n",
    "                 y = 'X2',\n",
    "                 title = 'PCA Two')\n",
    "plotpcatwo.show()"
   ]
  },
  {
   "cell_type": "code",
   "execution_count": 224,
   "id": "9210e860-b79e-4f2e-b2bb-f2ae666c7ed4",
   "metadata": {},
   "outputs": [],
   "source": [
    "kmeans = KMeans(n_clusters = 2).fit(pca_resulttwo)"
   ]
  },
  {
   "cell_type": "code",
   "execution_count": 226,
   "id": "754c5052-7e92-4a09-bc0c-37fd39c322b1",
   "metadata": {},
   "outputs": [],
   "source": [
    "pca_resulttwo['cluster_1_labels'] = kmeans.labels_"
   ]
  },
  {
   "cell_type": "code",
   "execution_count": 228,
   "id": "9237bcba-0c8d-4644-bb91-915056dd127e",
   "metadata": {},
   "outputs": [
    {
     "data": {
      "application/vnd.plotly.v1+json": {
       "config": {
        "plotlyServerURL": "https://plot.ly"
       },
       "data": [
        {
         "hovertemplate": "X1=%{x}<br>X2=%{y}<br>cluster_1_labels=%{marker.color}<extra></extra>",
         "legendgroup": "",
         "marker": {
          "color": [
           0,
           0,
           0,
           0,
           0,
           0,
           0,
           0,
           0,
           0,
           0,
           0,
           0,
           0,
           0,
           0,
           0,
           0,
           0,
           0,
           0,
           0,
           0,
           0,
           0,
           0,
           0,
           0,
           0,
           0,
           0,
           0,
           0,
           0,
           0,
           0,
           0,
           0,
           0,
           0,
           0,
           0,
           0,
           0,
           0,
           0,
           0,
           0,
           0,
           0,
           0,
           0,
           0,
           0,
           0,
           0,
           0,
           0,
           0,
           0,
           0,
           0,
           0,
           0,
           0,
           0,
           0,
           0,
           0,
           0,
           0,
           0,
           0,
           0,
           0,
           0,
           0,
           0,
           0,
           0,
           0,
           0,
           0,
           0,
           0,
           0,
           0,
           0,
           0,
           0,
           0,
           0,
           0,
           0,
           0,
           0,
           0,
           0,
           0,
           0,
           0,
           0,
           0,
           0,
           0,
           0,
           0,
           0,
           0,
           0,
           0,
           0,
           0,
           0,
           0,
           0,
           0,
           0,
           0,
           0,
           0,
           0,
           0,
           0,
           0,
           0,
           0,
           0,
           0,
           0,
           0,
           0,
           0,
           0,
           0,
           0,
           0,
           0,
           0,
           0,
           0,
           0,
           0,
           0,
           0,
           0,
           0,
           0,
           0,
           0,
           0,
           0,
           0,
           0,
           0,
           0,
           0,
           0,
           0,
           0,
           0,
           0,
           0,
           0,
           0,
           0,
           0,
           0,
           0,
           0,
           0,
           0,
           0,
           0,
           0,
           0,
           0,
           0,
           0,
           0,
           0,
           0,
           0,
           0,
           0,
           0,
           0,
           0,
           0,
           0,
           0,
           0,
           0,
           0,
           0,
           0,
           0,
           0,
           0,
           0,
           0,
           0,
           0,
           0,
           0,
           0,
           0,
           0,
           0,
           0,
           0,
           0,
           0,
           0,
           0,
           0,
           0,
           0,
           0,
           0,
           0,
           0,
           0,
           0,
           0,
           0,
           0,
           0,
           0,
           0,
           0,
           0,
           0,
           0,
           0,
           0,
           0,
           0,
           0,
           0,
           0,
           0,
           0,
           0,
           0,
           0,
           0,
           0,
           0,
           0,
           0,
           0,
           0,
           0,
           0,
           0,
           0,
           0,
           0,
           0,
           0,
           0,
           0,
           0,
           0,
           0,
           0,
           0,
           0,
           0,
           0,
           0,
           0,
           0,
           0,
           0,
           0,
           0,
           0,
           0,
           0,
           0,
           0,
           0,
           0,
           0,
           0,
           0,
           0,
           0,
           0,
           0,
           0,
           0,
           0,
           0,
           0,
           0,
           0,
           0,
           0,
           0,
           0,
           0,
           0,
           0,
           0,
           0,
           0,
           0,
           0,
           0,
           0,
           0,
           0,
           0,
           0,
           0,
           0,
           0,
           0,
           0,
           0,
           0,
           0,
           0,
           0,
           0,
           0,
           0,
           0,
           0,
           0,
           0,
           0,
           0,
           0,
           0,
           0,
           0,
           0,
           0,
           0,
           0,
           0,
           0,
           0,
           0,
           0,
           0,
           0,
           0,
           0,
           0,
           0,
           0,
           1,
           1,
           1,
           1,
           1,
           1,
           1,
           1,
           1,
           1,
           1,
           1,
           1,
           1,
           1,
           1,
           1,
           1,
           1,
           1,
           1,
           1,
           1,
           1,
           1,
           1,
           1,
           1,
           1,
           1,
           1,
           1,
           1,
           1,
           1,
           1,
           1,
           1,
           1,
           1,
           1,
           1,
           1,
           1,
           1,
           1,
           1,
           1,
           1,
           1,
           1,
           1,
           1,
           1,
           1,
           1,
           1,
           1,
           1,
           1,
           1,
           1,
           1,
           1,
           1,
           1,
           1,
           1,
           1,
           1,
           1,
           1,
           1,
           1,
           1,
           1,
           1,
           1,
           1,
           1,
           1,
           1,
           1,
           1,
           1,
           1,
           1,
           1,
           1,
           1,
           1,
           1,
           1,
           1,
           1,
           1,
           1,
           1,
           1,
           1,
           1,
           1,
           1,
           1,
           1,
           1,
           1,
           1,
           1,
           1,
           1,
           1,
           1,
           1,
           1,
           1,
           1,
           1,
           1,
           1,
           1,
           1,
           1,
           1,
           1,
           1,
           1,
           1,
           1,
           1,
           1,
           1,
           1,
           1,
           1,
           1,
           1,
           0,
           0,
           0,
           0,
           0,
           0,
           0,
           0,
           0,
           0,
           0,
           0,
           0
          ],
          "coloraxis": "coloraxis",
          "symbol": "circle"
         },
         "mode": "markers",
         "name": "",
         "orientation": "v",
         "showlegend": false,
         "type": "scatter",
         "x": [
          -119.81914627889634,
          -168.89032805324618,
          -169.31187977577886,
          -190.2307572101053,
          -190.13356569556612,
          -188.95069555566963,
          -104.33634223055549,
          -102.09466057010039,
          -98.52863707404238,
          -100.0305160820465,
          -100.94032759992265,
          -103.3359422982671,
          -105.08313549086549,
          -108.44945673558964,
          -101.58766452741006,
          -108.51370136756746,
          -108.26553566151885,
          -103.67480391133964,
          -79.04143382508197,
          -105.99439736975535,
          -99.17572658191385,
          -104.74643454544481,
          -105.68660731195503,
          -104.28610515786008,
          -104.80962787746225,
          -79.03009475291692,
          -100.08389566859357,
          -79.61230807389163,
          -103.00432309471198,
          -101.36371844742258,
          -94.70461093256019,
          -99.24655088620065,
          -58.43988149023588,
          -94.31559389448388,
          -61.9299352908536,
          -134.5088708151691,
          -129.40477479771752,
          -136.76595969545184,
          -136.66607371337182,
          -167.25034812865886,
          -167.80324973084157,
          -180.50807382794468,
          -179.58117812536796,
          -182.7812703214814,
          -178.45558016747557,
          -181.14005539847153,
          -181.0911006167844,
          -175.41024203718783,
          -175.52627786367898,
          -178.64913372093199,
          -171.10938667889275,
          -169.29323323703417,
          -173.74611376841722,
          -173.64826412624535,
          40.90451722045555,
          -192.6492232378996,
          -109.0642941392353,
          -162.18458697511852,
          -132.2774977609364,
          -132.5247757644145,
          -130.3246554817444,
          -123.05773748464345,
          -130.86139724817676,
          -132.45892892200655,
          -195.06868267866292,
          -87.39963777619002,
          -86.15869992521108,
          -76.1846599985509,
          -74.98055309114778,
          -75.3975720708429,
          -111.12020166973922,
          -108.15613356614774,
          -113.1378041651161,
          -109.22111599401072,
          -25.995899136414753,
          -19.281500483784768,
          -13.954697813826247,
          -20.267681273909083,
          -19.40346825241679,
          -23.716516609048206,
          -136.79424551362044,
          -133.293821022177,
          -136.86979644062527,
          -133.81584131348038,
          -166.73711789406545,
          -164.78882430509736,
          -166.6375247073409,
          -165.51089116097833,
          -141.8556418020725,
          -143.54686527664467,
          -142.09198182212924,
          -141.8528101420272,
          -144.77917406067294,
          -147.27418262168237,
          -143.29112691370005,
          -127.19194540962232,
          -135.95484153846817,
          -137.0617030300602,
          -139.36589749580952,
          -138.14609246545456,
          -33.10200615356762,
          -34.1017846448227,
          61.73165485391092,
          -32.29512362091096,
          -31.58499473934999,
          -31.323496192321805,
          -32.14599766923161,
          -30.48820854151723,
          -31.7359550438806,
          -30.98283292788262,
          -34.783244480769,
          12.47089987754783,
          13.74486370527421,
          13.407672696289762,
          14.69435497057733,
          27.914650260782114,
          12.421042973057803,
          12.874081026149488,
          28.47046112951933,
          12.37144703556517,
          -218.01535139211646,
          -213.46983346148497,
          -212.7707985583316,
          -209.98787580957892,
          -212.91117671227335,
          -215.2340529322672,
          -206.84484714174673,
          19.875942113644506,
          18.674807176612333,
          18.41570643228219,
          19.159212213611294,
          18.533527791521845,
          21.750173762340598,
          20.769615334470192,
          57.765654738089005,
          19.31502560304593,
          23.696875327003934,
          19.444748669228026,
          20.17539640982147,
          18.677662525089197,
          21.01026878545976,
          19.253826925614852,
          -13.218302698847182,
          -13.205347300402552,
          -13.361004711409855,
          52.004937699493915,
          52.802526620388434,
          -12.032535615903795,
          -2.109990821963779,
          -0.6674057243428031,
          -6.769105896892669,
          2.5201887174772573,
          0.9901773986336654,
          25.666353404235455,
          8.216770559800405,
          75.01249223971467,
          75.78031198924387,
          -4.2656930639569195,
          -1.222511176176979,
          -4.233018421210993,
          2.494216184287818,
          -8.080908986980878,
          -11.868370114833342,
          -11.868747189260544,
          -13.770510165339676,
          31.432586263857257,
          -6.07513113057338,
          33.953087109408656,
          15.125120467994417,
          5.46249152045799,
          16.440274001577457,
          0.38209711244628136,
          -116.61164669425243,
          -116.70426149821363,
          -117.31731350700201,
          -119.73663086817696,
          -119.11084910768207,
          -117.69673953409398,
          -116.33532173139302,
          -217.3073927725428,
          -214.77697759626074,
          -216.88558859568386,
          -213.6744382253287,
          -214.17994192261406,
          -212.7567055482488,
          -213.40243100843364,
          -216.4823464360707,
          -25.00161139205258,
          -22.845186868198947,
          -26.103021530156223,
          -21.979772138856376,
          -24.71511830114906,
          -25.360373841310647,
          -154.68218500578004,
          -149.098158237885,
          -163.44019439017367,
          -93.81549680301349,
          -81.09913033330137,
          -92.03729522811963,
          -26.63363501628648,
          -23.084495415858555,
          -74.4972636982743,
          -76.96577805370484,
          -192.92533753865342,
          -192.40663457937737,
          -140.13868622700892,
          -137.01995700008115,
          -133.58238578686567,
          -132.4390599368714,
          -133.35019647761266,
          -133.08987361009568,
          -133.80022385904985,
          -135.6458635866917,
          -136.10738320014403,
          -126.77843019426888,
          -137.53603158357447,
          -136.88646123957832,
          -134.53668485316766,
          -134.81463775530074,
          -134.18521572211048,
          -104.561037894634,
          -105.08703958971442,
          -105.07256668351965,
          -106.76248549010643,
          -103.60824565194544,
          -102.31005073840326,
          -103.62404855279631,
          -99.64438537294265,
          -106.54721539670145,
          -107.00151340545767,
          -102.33378034395359,
          -101.10489472401943,
          -104.31383414506936,
          -102.50135615264188,
          -97.26800027587468,
          -102.44352284490238,
          -104.62538750337426,
          -105.61837022908406,
          -115.02884511623245,
          -114.29603334977439,
          -115.36815203320187,
          -115.42218576468062,
          -110.10565220356844,
          -114.5859671658892,
          -79.1027075988746,
          -84.33915859095359,
          -87.80746276092209,
          -79.99543597450332,
          -82.11049427702548,
          -90.3626471222572,
          -91.49221919381952,
          -86.2916100611949,
          -89.10977534549231,
          -92.1169129173774,
          -106.03715306632657,
          -107.72152394007674,
          -171.7856893420751,
          -146.13865838751292,
          -143.112589989735,
          -145.64951683670512,
          -147.36778619426255,
          -145.49626548361934,
          -144.9142816788556,
          -146.43968416985865,
          -145.15100540470425,
          -148.8113679929475,
          -144.46470064191118,
          -146.25165305771537,
          -149.23468014810985,
          -187.48409293729657,
          -188.3352348798267,
          -193.047048160691,
          -188.90826215937705,
          -188.29272169659083,
          -163.13647299933947,
          -162.32126309491602,
          -159.50818367476535,
          -162.5656654805247,
          -163.11875676697056,
          -198.43603024121978,
          -192.977098085654,
          -196.67661060174305,
          -191.25251024848728,
          -219.10454974126674,
          -136.42033891328936,
          -119.73117856993959,
          -161.32047262904825,
          -126.6600942600319,
          -125.45349706661976,
          -119.97567615093837,
          -173.8903921774198,
          -173.9008927488728,
          -174.23500682738438,
          -129.05284422172232,
          -127.01213259254384,
          -128.04597972448616,
          -125.17861401801514,
          -125.57765517498936,
          -58.475189184708036,
          -60.29890685280986,
          -62.75531364055094,
          -90.43751775855915,
          -88.75932540576864,
          -90.89173905035872,
          -191.50196885568104,
          -189.93613439168476,
          -189.8679139667875,
          -189.97804148033725,
          -109.61319528303221,
          -109.78350416750686,
          -99.56876926242376,
          -112.05030979546916,
          -108.61591740751459,
          -108.49460369834718,
          -108.75604678551221,
          -109.7252108272092,
          -107.44146144452279,
          -110.26582996559227,
          -110.27087772352938,
          -111.2166775789437,
          -128.26045290518613,
          -128.10028928425433,
          -128.44505994049857,
          -124.63297215095153,
          -129.30164821171417,
          -130.52102532762626,
          -130.24319392803037,
          -128.854639068635,
          9.426269238675268,
          10.751671550526387,
          13.975263450337387,
          -114.92961343895546,
          -106.2105425143688,
          -187.29715236415865,
          -187.14925935162321,
          -189.6355257983801,
          -188.60259555105648,
          -186.86685366450567,
          -189.16107581801458,
          -188.67602252812878,
          -187.59053908686727,
          -132.68730277380186,
          2.2555568976677325,
          -51.61263696263374,
          -51.44272436417133,
          -63.695269939636795,
          -57.2030345635359,
          -72.13395695107283,
          -138.8194164486351,
          -84.26794849302334,
          -85.48950138404395,
          -7.169235143391813,
          -14.846814583157135,
          -225.17243823075512,
          -85.75569406880378,
          -84.04314019564309,
          242.72257607459494,
          237.9713925933471,
          236.14212966332497,
          237.33353347100942,
          242.50163772010825,
          249.8517215950087,
          241.4068372606012,
          249.0047341843358,
          247.81489423245947,
          248.27111698439566,
          259.9553448144914,
          314.71154282121813,
          243.14156000905743,
          242.96044307252495,
          238.15824193943547,
          246.1407146145848,
          250.54890158419946,
          237.82133880472702,
          238.1124082788362,
          237.40164124971565,
          246.98220854700688,
          237.3695101665397,
          237.61359995088114,
          238.63863304630215,
          239.01834885991366,
          237.56743743209051,
          237.50539280756573,
          237.49275069348903,
          269.5977913634287,
          237.7366108966314,
          238.06005984355934,
          237.21364882304647,
          244.8013375842259,
          237.31917259736588,
          237.7572373658178,
          241.20557130919576,
          237.37160115309993,
          236.67505362340856,
          237.0163115962085,
          238.67332325899724,
          236.97503900272307,
          238.39060805609617,
          238.5209041684478,
          252.92251625282987,
          238.04216552203934,
          237.5771613674881,
          243.49489034325885,
          237.53986610314377,
          256.9581342238642,
          242.6869719812662,
          245.6111347226179,
          256.1988452736436,
          261.2979880647196,
          300.92219463946043,
          353.2526750011397,
          342.9692771441179,
          345.2356630734292,
          292.1413996551327,
          328.76254654294,
          345.5368825877019,
          346.13405193527103,
          315.64892264677997,
          350.1139041584108,
          337.0689869128309,
          260.1200112274484,
          259.265621020456,
          267.0113504247209,
          351.03625682496704,
          349.4052239932697,
          350.67934857201953,
          342.44566841206046,
          346.4507362343069,
          322.98439329237493,
          335.0507841424108,
          327.4637743340992,
          328.8591843306648,
          322.1062917814937,
          322.6196988058585,
          323.3062641619579,
          320.6931322299682,
          344.54582571000407,
          350.6134138076091,
          332.3667878155139,
          236.98303349614457,
          238.79742424098487,
          240.3750874514135,
          237.59022324208163,
          240.37722844104908,
          282.8694672879173,
          340.163338417222,
          259.9560712831408,
          239.51391370849043,
          237.2701098028203,
          264.2040739941826,
          352.15752897707324,
          249.22160115427278,
          239.98756678566718,
          243.37836451523197,
          350.54077962128866,
          336.8695437447512,
          348.78089468063826,
          350.2327002386336,
          272.23415665815656,
          235.91852673542923,
          277.62489045836185,
          237.75445649180318,
          235.78047904192923,
          237.14451112746235,
          234.324163433704,
          250.97049785065508,
          345.0847630496372,
          255.95338051868413,
          243.33315527561598,
          233.7867425823351,
          235.84747217416077,
          236.77694085952822,
          236.0562168467039,
          240.85159140292222,
          249.86352274954223,
          264.62787914355243,
          236.92586034911298,
          251.28697455646383,
          242.1365229382179,
          240.3633519354272,
          234.14656019691,
          236.04277267371734,
          235.55785588080872,
          233.165691329856,
          239.81807895023303,
          235.41688101297655,
          236.7311392868424,
          235.70207862296624,
          279.1392908516168,
          294.6083959570092,
          302.1759410992028,
          281.0976964777549,
          277.7310252294334,
          -29.111679807323227,
          -30.025991906554605,
          -30.04221753040195,
          -27.32049594789633,
          -27.67608453765128,
          -28.144361102577495,
          -27.080685446155723,
          -26.908717084362895,
          -138.69818788803767,
          -139.50469065167775,
          -138.38741791421072,
          -137.50543179921587,
          -139.19058533815527
         ],
         "xaxis": "x",
         "y": [
          -5.560103208755543,
          10.116075542501239,
          14.080397218666167,
          18.302291186229564,
          16.097776134874145,
          18.72899299096249,
          -8.73552961587442,
          -10.108044839713656,
          -0.24791979876166748,
          -0.3176816136187957,
          -5.901424161477259,
          -10.066564501572742,
          -3.682202487858203,
          -8.824322935360046,
          7.197670572984753,
          -7.569003890467796,
          0.964330021158698,
          0.8048934046565833,
          94.52179097767257,
          -3.161454158068838,
          10.484393102760551,
          -4.769237402421871,
          -8.93126269897436,
          -6.717186675974613,
          -6.50471387861255,
          80.47147175056065,
          10.193330958324008,
          77.62880983624962,
          -0.41624011486292267,
          6.993332996679944,
          26.19716051533131,
          10.275512605790144,
          148.27758262293443,
          27.50613031568526,
          133.1296854473107,
          -0.6629564062497066,
          17.878665324497526,
          -0.5151403558874966,
          2.875957245466993,
          8.804219491840426,
          8.83481634703798,
          24.13731291921423,
          26.072217630199717,
          15.47827885550005,
          20.146291675907502,
          13.004621725752447,
          13.030356794809284,
          16.736753815903366,
          12.772224554270226,
          12.878441271533351,
          11.337742168393726,
          12.735642985528662,
          10.15007591603072,
          10.166313130756297,
          -55.96108286707656,
          16.133418123163672,
          -10.282933990764445,
          10.165172704076074,
          4.038003077411249,
          -1.9995657617398166,
          -0.37371746131940414,
          15.76192424530404,
          -2.13146145231179,
          -0.7132162522453831,
          21.362741448820746,
          -17.238501413257655,
          -17.282615295920248,
          -19.01863181842353,
          -19.73732742822404,
          -19.74032463816456,
          4.648478960628746,
          11.09710207032018,
          -2.2307934634424096,
          10.928695135261664,
          -33.25887054176598,
          -22.291626667766376,
          -13.2924274667065,
          -25.85534161799209,
          -25.352992042585026,
          -34.51066319909938,
          -1.0297040338558474,
          -0.015392238024211486,
          -1.0142036231367497,
          4.893015090200193,
          8.836097804290302,
          13.170370956997392,
          9.741250157158895,
          10.45192943729321,
          1.8833870177576764,
          2.8204894402537275,
          6.530843247835688,
          5.172668949466947,
          3.8499130497031744,
          2.71767566145081,
          1.9210447789000873,
          37.51562761709037,
          5.108214190956994,
          0.1833697385414634,
          3.6253989416456585,
          0.27145265007374497,
          -29.404187113604443,
          -30.149317976258217,
          280.336073667078,
          -29.14644584996962,
          -27.46629655449457,
          -28.781438743660033,
          -30.290065940013886,
          -22.647951229286605,
          -29.9454928397084,
          -26.057675031922958,
          -28.02373847420592,
          -44.24701451651665,
          -43.66508706688461,
          -45.53807701307723,
          -37.71042183964307,
          4.206868850220568,
          -41.99441858150613,
          -43.21914877991475,
          10.295554985353581,
          -40.222530277284626,
          33.30300090055864,
          44.19702524267773,
          43.76626871577509,
          51.225327501738406,
          42.51416037492903,
          37.14817457212699,
          61.78254665145716,
          -42.47318163105603,
          -47.078971064051665,
          -47.03502103515236,
          -45.31692177661621,
          -47.08481925898679,
          -36.444666860763974,
          -39.21130734437734,
          81.20077709484711,
          -44.93257996208102,
          -29.20730365890387,
          -44.384664844514205,
          -42.39506401026544,
          -47.054807845220665,
          -38.56551623376014,
          -46.96810285768697,
          -37.03958259196066,
          -37.036554044419205,
          -37.01642980017935,
          177.13515000303838,
          180.54969892445925,
          -32.04314254293952,
          1.1592204212371235,
          6.030910956269213,
          -14.06416116031516,
          15.747162503422937,
          14.20005099972078,
          91.9345058795201,
          35.458534432344926,
          258.3484974284996,
          257.6894105615215,
          -5.162660991743659,
          3.9554705458544372,
          -6.001683837771177,
          18.305996364106758,
          -15.657546195705887,
          -30.21111469880813,
          -29.071111324462876,
          -35.3751796328765,
          112.77221523214146,
          -10.76804314458571,
          124.85716560070477,
          58.3223942291053,
          26.823735076189262,
          62.9325151731021,
          9.517449982801809,
          -5.7049769289358565,
          -4.373719886985123,
          -2.111838471682519,
          0.23783343788531439,
          -1.9858331056674794,
          -4.424019211338819,
          -0.28570664810759117,
          24.5514151267635,
          25.705055825688074,
          24.554790340528726,
          27.015156014513842,
          24.342372789002926,
          30.064483116936955,
          33.899561267352674,
          28.658802153169088,
          -32.3480592754165,
          -21.744436918857005,
          -35.239682474418025,
          -16.76335287011946,
          -28.322012207564228,
          -29.052301912734,
          7.242975054312197,
          23.127711834168203,
          9.219416109985982,
          -14.960054872103617,
          25.7754869247019,
          -10.475410478629115,
          -36.19716102523547,
          -24.141937981365075,
          -17.5338953444792,
          -18.967920035903852,
          19.674232618394303,
          21.8085575517121,
          0.17926122726863314,
          1.9489979177527361,
          7.075871543773992,
          14.88789790950603,
          -0.1932168202848482,
          3.306968077834857,
          1.4639584282703397,
          5.727907824950443,
          10.717695573855298,
          46.22723851488327,
          3.183397796598911,
          4.1939989942717215,
          4.025224453230208,
          0.08316663029904234,
          3.0702622576068626,
          -4.014573370262405,
          -7.347602131760752,
          -2.6970177871766468,
          -8.95298400581915,
          2.370583425090084,
          5.26444525744054,
          0.09041076693921174,
          14.776254563490689,
          9.929538456722112,
          7.197988480709426,
          8.879592015762203,
          10.905514952680372,
          1.5693414013728086,
          8.247765754529267,
          26.2222375410936,
          10.441461873006501,
          -0.8378769828402012,
          -2.386280998544237,
          10.22504517069617,
          5.9168542740285766,
          -1.2716333985741357,
          -4.550222279591746,
          16.424782438993418,
          14.774144007097554,
          7.745371039594683,
          -8.095149764167823,
          -8.949568385186934,
          4.226511279612543,
          5.762237627165912,
          -12.269851497137577,
          -14.677179820667488,
          3.701668276992534,
          -4.91156814560546,
          -15.254593290009666,
          -7.016913596472489,
          -9.117463709457482,
          19.968748635473982,
          10.527463353121338,
          16.596897618985093,
          8.330177624827842,
          7.617350541086209,
          11.796390609212217,
          13.220701663185013,
          6.963354029492633,
          12.24753023323361,
          8.114338016195317,
          15.980352886523569,
          15.588459401169533,
          10.138179146610781,
          21.126886616743448,
          23.807927541399113,
          16.029328795008094,
          17.647880572445402,
          21.688323193992407,
          6.871549019119688,
          6.812195327837974,
          14.109496294019479,
          10.20466936574803,
          6.897414496836643,
          17.985644196000997,
          26.963717123416384,
          22.420203828170244,
          36.83556023323975,
          24.73123224939604,
          0.09416092483216718,
          -4.391034970746231,
          63.70764935629044,
          -4.495945670253568,
          -4.5750347625426855,
          19.64258332792407,
          9.581216357131076,
          9.58408459641086,
          9.614790824796705,
          -3.330113180563623,
          -3.456427080595655,
          -3.415433956485677,
          0.34913307536286986,
          -3.5142905761966388,
          4.002863477964138,
          0.8658821747644037,
          -17.775767033244726,
          -13.994808525840778,
          -2.2653216776539375,
          -8.804215856928543,
          19.26516424769323,
          19.484937932812674,
          16.00723583882619,
          16.022154018361274,
          -8.090303470654653,
          -7.395994689655459,
          36.64019693908055,
          -7.91049037574604,
          -7.522329441005081,
          -4.718092694807426,
          -6.934204441320399,
          -7.565444457203846,
          -2.0876452008948907,
          -7.964467795362659,
          -6.353864469153259,
          -7.266875959502289,
          -2.932264624065486,
          -2.9455373867771213,
          -2.9145004775554,
          2.4857689900093507,
          -2.8674645086384145,
          0.35004262048976326,
          -2.8032446594624654,
          -2.850140211253256,
          -30.716839643234803,
          -23.76943075511259,
          -17.49611275006174,
          -4.893739438684969,
          25.486796834721655,
          22.445840344531376,
          22.74604656462843,
          15.604593471583936,
          15.547030019726906,
          17.47384427590496,
          16.317701631006315,
          15.551866356817442,
          15.474346502726661,
          0.1327484828962495,
          -35.73427088909924,
          -27.138321338168293,
          -18.4521488167356,
          -11.096792061573801,
          9.002450132112447,
          -17.106828096553507,
          5.071974113281614,
          -10.019957684021021,
          -16.81710792775585,
          -14.018757031814483,
          -34.51192398859152,
          38.420914811645375,
          -2.8895754203794657,
          3.5741619659279613,
          -95.78288990399582,
          -108.81889005514583,
          -112.68750867059018,
          -108.19039028519474,
          -92.78388788980736,
          -69.90726594212154,
          -98.78026135952136,
          -72.17575991181438,
          -73.64251081275069,
          -73.7986920136111,
          -36.808692159206856,
          139.7238178163155,
          -93.79518051319221,
          -93.5868053303265,
          -109.57673549824415,
          -84.77030524960196,
          -67.25179403152026,
          -114.01527097100639,
          -113.94782898000952,
          -114.0686498474673,
          -81.61944783015332,
          -114.09424584951421,
          -113.97318957454354,
          -111.02302944068518,
          -113.5500899127553,
          -114.05656886497181,
          -114.09212761208501,
          -114.09457943221437,
          -7.726020901504892,
          -113.98897692871034,
          -113.96409388851664,
          -113.89444929734617,
          -91.08833994372029,
          -114.10859792691583,
          -111.76527272957458,
          -96.33700174132625,
          -114.04713712224559,
          -114.10170171999229,
          -114.075586081952,
          -109.42096524416495,
          -114.11538783562116,
          -110.48357602567758,
          -113.85739178119879,
          -57.75733788730254,
          -113.96792129148358,
          -114.07708078675377,
          -94.22903760698165,
          -113.98722561723876,
          -49.286261327791635,
          -102.29680019068839,
          -88.50649230705545,
          -52.16984027846275,
          -35.42042838658147,
          93.92889088499986,
          263.1319538942977,
          231.92102576585648,
          238.01356862202041,
          63.7999756754474,
          181.33459570004513,
          239.45132148145865,
          244.86804541365478,
          143.82843477227118,
          250.09903639431278,
          219.23667063603077,
          -39.40298277001806,
          -40.575517538544645,
          -13.32305156458623,
          263.07608126306,
          262.05464932444596,
          258.1482256604411,
          242.05186213249388,
          247.6804894880954,
          173.0262420742239,
          207.38616871018698,
          185.66376921130438,
          187.66643338452695,
          171.81787675228367,
          169.61952459182106,
          169.20756878671918,
          160.42234570600618,
          239.17237509652838,
          256.56118710071956,
          199.64690914530695,
          -114.05989918041249,
          -108.7600571510483,
          -103.63494485775446,
          -112.99865455725033,
          -104.38947619508336,
          35.480327792781715,
          224.28524880761253,
          -38.69078794042303,
          -106.09576917772661,
          -114.11480972497165,
          -25.489274897444915,
          265.10114828221725,
          -74.35329045164563,
          -102.81597801880572,
          -94.02447469379813,
          259.03727663637255,
          216.74413245496484,
          255.40844492086015,
          262.1377458251634,
          5.175973546844629,
          -114.06949684804069,
          21.35744500507337,
          -108.88303629475914,
          -114.06646335737078,
          -111.18771334071181,
          -113.96225228337892,
          -54.12858328417388,
          244.38539688823641,
          -51.37003974933977,
          -86.98845916314652,
          -113.86890297799542,
          -114.07424877887482,
          -112.63313195198914,
          -110.66371223533706,
          -92.75865790587967,
          -71.72664045974435,
          -24.077678221097443,
          -113.45229065594121,
          -68.68800566725378,
          -97.65163524804989,
          -101.06431691999202,
          -113.98581370902082,
          -110.39992929893795,
          -112.52902106271353,
          -110.06241561375667,
          -88.84010229408685,
          -106.0104265345412,
          -110.0135694873159,
          -105.6230725928507,
          -125.44511920293894,
          -76.63942804385141,
          -52.10735902696822,
          -120.71827737529,
          -127.15029322795648,
          -33.34436339864732,
          -33.26922836862365,
          -29.715938037922168,
          -33.39905278997783,
          -33.42645335127925,
          -33.403214423255484,
          -32.35765676187545,
          -33.477547438414994,
          5.7814038946894915,
          1.0393073066845797,
          0.9380131997106288,
          4.251747001257743,
          1.0089835104832785
         ],
         "yaxis": "y"
        }
       ],
       "layout": {
        "autosize": true,
        "coloraxis": {
         "colorbar": {
          "title": {
           "text": "cluster_1_labels"
          }
         },
         "colorscale": [
          [
           0,
           "#0d0887"
          ],
          [
           0.1111111111111111,
           "#46039f"
          ],
          [
           0.2222222222222222,
           "#7201a8"
          ],
          [
           0.3333333333333333,
           "#9c179e"
          ],
          [
           0.4444444444444444,
           "#bd3786"
          ],
          [
           0.5555555555555556,
           "#d8576b"
          ],
          [
           0.6666666666666666,
           "#ed7953"
          ],
          [
           0.7777777777777778,
           "#fb9f3a"
          ],
          [
           0.8888888888888888,
           "#fdca26"
          ],
          [
           1,
           "#f0f921"
          ]
         ]
        },
        "legend": {
         "tracegroupgap": 0
        },
        "template": {
         "data": {
          "bar": [
           {
            "error_x": {
             "color": "#2a3f5f"
            },
            "error_y": {
             "color": "#2a3f5f"
            },
            "marker": {
             "line": {
              "color": "#E5ECF6",
              "width": 0.5
             },
             "pattern": {
              "fillmode": "overlay",
              "size": 10,
              "solidity": 0.2
             }
            },
            "type": "bar"
           }
          ],
          "barpolar": [
           {
            "marker": {
             "line": {
              "color": "#E5ECF6",
              "width": 0.5
             },
             "pattern": {
              "fillmode": "overlay",
              "size": 10,
              "solidity": 0.2
             }
            },
            "type": "barpolar"
           }
          ],
          "carpet": [
           {
            "aaxis": {
             "endlinecolor": "#2a3f5f",
             "gridcolor": "white",
             "linecolor": "white",
             "minorgridcolor": "white",
             "startlinecolor": "#2a3f5f"
            },
            "baxis": {
             "endlinecolor": "#2a3f5f",
             "gridcolor": "white",
             "linecolor": "white",
             "minorgridcolor": "white",
             "startlinecolor": "#2a3f5f"
            },
            "type": "carpet"
           }
          ],
          "choropleth": [
           {
            "colorbar": {
             "outlinewidth": 0,
             "ticks": ""
            },
            "type": "choropleth"
           }
          ],
          "contour": [
           {
            "colorbar": {
             "outlinewidth": 0,
             "ticks": ""
            },
            "colorscale": [
             [
              0,
              "#0d0887"
             ],
             [
              0.1111111111111111,
              "#46039f"
             ],
             [
              0.2222222222222222,
              "#7201a8"
             ],
             [
              0.3333333333333333,
              "#9c179e"
             ],
             [
              0.4444444444444444,
              "#bd3786"
             ],
             [
              0.5555555555555556,
              "#d8576b"
             ],
             [
              0.6666666666666666,
              "#ed7953"
             ],
             [
              0.7777777777777778,
              "#fb9f3a"
             ],
             [
              0.8888888888888888,
              "#fdca26"
             ],
             [
              1,
              "#f0f921"
             ]
            ],
            "type": "contour"
           }
          ],
          "contourcarpet": [
           {
            "colorbar": {
             "outlinewidth": 0,
             "ticks": ""
            },
            "type": "contourcarpet"
           }
          ],
          "heatmap": [
           {
            "colorbar": {
             "outlinewidth": 0,
             "ticks": ""
            },
            "colorscale": [
             [
              0,
              "#0d0887"
             ],
             [
              0.1111111111111111,
              "#46039f"
             ],
             [
              0.2222222222222222,
              "#7201a8"
             ],
             [
              0.3333333333333333,
              "#9c179e"
             ],
             [
              0.4444444444444444,
              "#bd3786"
             ],
             [
              0.5555555555555556,
              "#d8576b"
             ],
             [
              0.6666666666666666,
              "#ed7953"
             ],
             [
              0.7777777777777778,
              "#fb9f3a"
             ],
             [
              0.8888888888888888,
              "#fdca26"
             ],
             [
              1,
              "#f0f921"
             ]
            ],
            "type": "heatmap"
           }
          ],
          "heatmapgl": [
           {
            "colorbar": {
             "outlinewidth": 0,
             "ticks": ""
            },
            "colorscale": [
             [
              0,
              "#0d0887"
             ],
             [
              0.1111111111111111,
              "#46039f"
             ],
             [
              0.2222222222222222,
              "#7201a8"
             ],
             [
              0.3333333333333333,
              "#9c179e"
             ],
             [
              0.4444444444444444,
              "#bd3786"
             ],
             [
              0.5555555555555556,
              "#d8576b"
             ],
             [
              0.6666666666666666,
              "#ed7953"
             ],
             [
              0.7777777777777778,
              "#fb9f3a"
             ],
             [
              0.8888888888888888,
              "#fdca26"
             ],
             [
              1,
              "#f0f921"
             ]
            ],
            "type": "heatmapgl"
           }
          ],
          "histogram": [
           {
            "marker": {
             "pattern": {
              "fillmode": "overlay",
              "size": 10,
              "solidity": 0.2
             }
            },
            "type": "histogram"
           }
          ],
          "histogram2d": [
           {
            "colorbar": {
             "outlinewidth": 0,
             "ticks": ""
            },
            "colorscale": [
             [
              0,
              "#0d0887"
             ],
             [
              0.1111111111111111,
              "#46039f"
             ],
             [
              0.2222222222222222,
              "#7201a8"
             ],
             [
              0.3333333333333333,
              "#9c179e"
             ],
             [
              0.4444444444444444,
              "#bd3786"
             ],
             [
              0.5555555555555556,
              "#d8576b"
             ],
             [
              0.6666666666666666,
              "#ed7953"
             ],
             [
              0.7777777777777778,
              "#fb9f3a"
             ],
             [
              0.8888888888888888,
              "#fdca26"
             ],
             [
              1,
              "#f0f921"
             ]
            ],
            "type": "histogram2d"
           }
          ],
          "histogram2dcontour": [
           {
            "colorbar": {
             "outlinewidth": 0,
             "ticks": ""
            },
            "colorscale": [
             [
              0,
              "#0d0887"
             ],
             [
              0.1111111111111111,
              "#46039f"
             ],
             [
              0.2222222222222222,
              "#7201a8"
             ],
             [
              0.3333333333333333,
              "#9c179e"
             ],
             [
              0.4444444444444444,
              "#bd3786"
             ],
             [
              0.5555555555555556,
              "#d8576b"
             ],
             [
              0.6666666666666666,
              "#ed7953"
             ],
             [
              0.7777777777777778,
              "#fb9f3a"
             ],
             [
              0.8888888888888888,
              "#fdca26"
             ],
             [
              1,
              "#f0f921"
             ]
            ],
            "type": "histogram2dcontour"
           }
          ],
          "mesh3d": [
           {
            "colorbar": {
             "outlinewidth": 0,
             "ticks": ""
            },
            "type": "mesh3d"
           }
          ],
          "parcoords": [
           {
            "line": {
             "colorbar": {
              "outlinewidth": 0,
              "ticks": ""
             }
            },
            "type": "parcoords"
           }
          ],
          "pie": [
           {
            "automargin": true,
            "type": "pie"
           }
          ],
          "scatter": [
           {
            "fillpattern": {
             "fillmode": "overlay",
             "size": 10,
             "solidity": 0.2
            },
            "type": "scatter"
           }
          ],
          "scatter3d": [
           {
            "line": {
             "colorbar": {
              "outlinewidth": 0,
              "ticks": ""
             }
            },
            "marker": {
             "colorbar": {
              "outlinewidth": 0,
              "ticks": ""
             }
            },
            "type": "scatter3d"
           }
          ],
          "scattercarpet": [
           {
            "marker": {
             "colorbar": {
              "outlinewidth": 0,
              "ticks": ""
             }
            },
            "type": "scattercarpet"
           }
          ],
          "scattergeo": [
           {
            "marker": {
             "colorbar": {
              "outlinewidth": 0,
              "ticks": ""
             }
            },
            "type": "scattergeo"
           }
          ],
          "scattergl": [
           {
            "marker": {
             "colorbar": {
              "outlinewidth": 0,
              "ticks": ""
             }
            },
            "type": "scattergl"
           }
          ],
          "scattermapbox": [
           {
            "marker": {
             "colorbar": {
              "outlinewidth": 0,
              "ticks": ""
             }
            },
            "type": "scattermapbox"
           }
          ],
          "scatterpolar": [
           {
            "marker": {
             "colorbar": {
              "outlinewidth": 0,
              "ticks": ""
             }
            },
            "type": "scatterpolar"
           }
          ],
          "scatterpolargl": [
           {
            "marker": {
             "colorbar": {
              "outlinewidth": 0,
              "ticks": ""
             }
            },
            "type": "scatterpolargl"
           }
          ],
          "scatterternary": [
           {
            "marker": {
             "colorbar": {
              "outlinewidth": 0,
              "ticks": ""
             }
            },
            "type": "scatterternary"
           }
          ],
          "surface": [
           {
            "colorbar": {
             "outlinewidth": 0,
             "ticks": ""
            },
            "colorscale": [
             [
              0,
              "#0d0887"
             ],
             [
              0.1111111111111111,
              "#46039f"
             ],
             [
              0.2222222222222222,
              "#7201a8"
             ],
             [
              0.3333333333333333,
              "#9c179e"
             ],
             [
              0.4444444444444444,
              "#bd3786"
             ],
             [
              0.5555555555555556,
              "#d8576b"
             ],
             [
              0.6666666666666666,
              "#ed7953"
             ],
             [
              0.7777777777777778,
              "#fb9f3a"
             ],
             [
              0.8888888888888888,
              "#fdca26"
             ],
             [
              1,
              "#f0f921"
             ]
            ],
            "type": "surface"
           }
          ],
          "table": [
           {
            "cells": {
             "fill": {
              "color": "#EBF0F8"
             },
             "line": {
              "color": "white"
             }
            },
            "header": {
             "fill": {
              "color": "#C8D4E3"
             },
             "line": {
              "color": "white"
             }
            },
            "type": "table"
           }
          ]
         },
         "layout": {
          "annotationdefaults": {
           "arrowcolor": "#2a3f5f",
           "arrowhead": 0,
           "arrowwidth": 1
          },
          "autotypenumbers": "strict",
          "coloraxis": {
           "colorbar": {
            "outlinewidth": 0,
            "ticks": ""
           }
          },
          "colorscale": {
           "diverging": [
            [
             0,
             "#8e0152"
            ],
            [
             0.1,
             "#c51b7d"
            ],
            [
             0.2,
             "#de77ae"
            ],
            [
             0.3,
             "#f1b6da"
            ],
            [
             0.4,
             "#fde0ef"
            ],
            [
             0.5,
             "#f7f7f7"
            ],
            [
             0.6,
             "#e6f5d0"
            ],
            [
             0.7,
             "#b8e186"
            ],
            [
             0.8,
             "#7fbc41"
            ],
            [
             0.9,
             "#4d9221"
            ],
            [
             1,
             "#276419"
            ]
           ],
           "sequential": [
            [
             0,
             "#0d0887"
            ],
            [
             0.1111111111111111,
             "#46039f"
            ],
            [
             0.2222222222222222,
             "#7201a8"
            ],
            [
             0.3333333333333333,
             "#9c179e"
            ],
            [
             0.4444444444444444,
             "#bd3786"
            ],
            [
             0.5555555555555556,
             "#d8576b"
            ],
            [
             0.6666666666666666,
             "#ed7953"
            ],
            [
             0.7777777777777778,
             "#fb9f3a"
            ],
            [
             0.8888888888888888,
             "#fdca26"
            ],
            [
             1,
             "#f0f921"
            ]
           ],
           "sequentialminus": [
            [
             0,
             "#0d0887"
            ],
            [
             0.1111111111111111,
             "#46039f"
            ],
            [
             0.2222222222222222,
             "#7201a8"
            ],
            [
             0.3333333333333333,
             "#9c179e"
            ],
            [
             0.4444444444444444,
             "#bd3786"
            ],
            [
             0.5555555555555556,
             "#d8576b"
            ],
            [
             0.6666666666666666,
             "#ed7953"
            ],
            [
             0.7777777777777778,
             "#fb9f3a"
            ],
            [
             0.8888888888888888,
             "#fdca26"
            ],
            [
             1,
             "#f0f921"
            ]
           ]
          },
          "colorway": [
           "#636efa",
           "#EF553B",
           "#00cc96",
           "#ab63fa",
           "#FFA15A",
           "#19d3f3",
           "#FF6692",
           "#B6E880",
           "#FF97FF",
           "#FECB52"
          ],
          "font": {
           "color": "#2a3f5f"
          },
          "geo": {
           "bgcolor": "white",
           "lakecolor": "white",
           "landcolor": "#E5ECF6",
           "showlakes": true,
           "showland": true,
           "subunitcolor": "white"
          },
          "hoverlabel": {
           "align": "left"
          },
          "hovermode": "closest",
          "mapbox": {
           "style": "light"
          },
          "paper_bgcolor": "white",
          "plot_bgcolor": "#E5ECF6",
          "polar": {
           "angularaxis": {
            "gridcolor": "white",
            "linecolor": "white",
            "ticks": ""
           },
           "bgcolor": "#E5ECF6",
           "radialaxis": {
            "gridcolor": "white",
            "linecolor": "white",
            "ticks": ""
           }
          },
          "scene": {
           "xaxis": {
            "backgroundcolor": "#E5ECF6",
            "gridcolor": "white",
            "gridwidth": 2,
            "linecolor": "white",
            "showbackground": true,
            "ticks": "",
            "zerolinecolor": "white"
           },
           "yaxis": {
            "backgroundcolor": "#E5ECF6",
            "gridcolor": "white",
            "gridwidth": 2,
            "linecolor": "white",
            "showbackground": true,
            "ticks": "",
            "zerolinecolor": "white"
           },
           "zaxis": {
            "backgroundcolor": "#E5ECF6",
            "gridcolor": "white",
            "gridwidth": 2,
            "linecolor": "white",
            "showbackground": true,
            "ticks": "",
            "zerolinecolor": "white"
           }
          },
          "shapedefaults": {
           "line": {
            "color": "#2a3f5f"
           }
          },
          "ternary": {
           "aaxis": {
            "gridcolor": "white",
            "linecolor": "white",
            "ticks": ""
           },
           "baxis": {
            "gridcolor": "white",
            "linecolor": "white",
            "ticks": ""
           },
           "bgcolor": "#E5ECF6",
           "caxis": {
            "gridcolor": "white",
            "linecolor": "white",
            "ticks": ""
           }
          },
          "title": {
           "x": 0.05
          },
          "xaxis": {
           "automargin": true,
           "gridcolor": "white",
           "linecolor": "white",
           "ticks": "",
           "title": {
            "standoff": 15
           },
           "zerolinecolor": "white",
           "zerolinewidth": 2
          },
          "yaxis": {
           "automargin": true,
           "gridcolor": "white",
           "linecolor": "white",
           "ticks": "",
           "title": {
            "standoff": 15
           },
           "zerolinecolor": "white",
           "zerolinewidth": 2
          }
         }
        },
        "title": {
         "text": "Cluster PCA"
        },
        "xaxis": {
         "anchor": "y",
         "autorange": true,
         "domain": [
          0,
          1
         ],
         "range": [
          -260.86504191114074,
          388.94527868152534
         ],
         "title": {
          "text": "X1"
         },
         "type": "linear"
        },
        "yaxis": {
         "anchor": "x",
         "autorange": true,
         "domain": [
          0,
          1
         ],
         "range": [
          -160.77780894259524,
          313.96358938171676
         ],
         "title": {
          "text": "X2"
         },
         "type": "linear"
        }
       }
      },
      "image/png": "[encoded data removed]",
      "text/html": [
       "<div>                            <div id=\"74ef2d50-8385-4468-b9a6-de23e89550f8\" class=\"plotly-graph-div\" style=\"height:525px; width:100%;\"></div>            <script type=\"text/javascript\">                require([\"plotly\"], function(Plotly) {                    window.PLOTLYENV=window.PLOTLYENV || {};                                    if (document.getElementById(\"74ef2d50-8385-4468-b9a6-de23e89550f8\")) {                    Plotly.newPlot(                        \"74ef2d50-8385-4468-b9a6-de23e89550f8\",                        [{\"hovertemplate\":\"X1=%{x}\\u003cbr\\u003eX2=%{y}\\u003cbr\\u003ecluster_1_labels=%{marker.color}\\u003cextra\\u003e\\u003c\\u002fextra\\u003e\",\"legendgroup\":\"\",\"marker\":{\"color\":[0,0,0,0,0,0,0,0,0,0,0,0,0,0,0,0,0,0,0,0,0,0,0,0,0,0,0,0,0,0,0,0,0,0,0,0,0,0,0,0,0,0,0,0,0,0,0,0,0,0,0,0,0,0,0,0,0,0,0,0,0,0,0,0,0,0,0,0,0,0,0,0,0,0,0,0,0,0,0,0,0,0,0,0,0,0,0,0,0,0,0,0,0,0,0,0,0,0,0,0,0,0,0,0,0,0,0,0,0,0,0,0,0,0,0,0,0,0,0,0,0,0,0,0,0,0,0,0,0,0,0,0,0,0,0,0,0,0,0,0,0,0,0,0,0,0,0,0,0,0,0,0,0,0,0,0,0,0,0,0,0,0,0,0,0,0,0,0,0,0,0,0,0,0,0,0,0,0,0,0,0,0,0,0,0,0,0,0,0,0,0,0,0,0,0,0,0,0,0,0,0,0,0,0,0,0,0,0,0,0,0,0,0,0,0,0,0,0,0,0,0,0,0,0,0,0,0,0,0,0,0,0,0,0,0,0,0,0,0,0,0,0,0,0,0,0,0,0,0,0,0,0,0,0,0,0,0,0,0,0,0,0,0,0,0,0,0,0,0,0,0,0,0,0,0,0,0,0,0,0,0,0,0,0,0,0,0,0,0,0,0,0,0,0,0,0,0,0,0,0,0,0,0,0,0,0,0,0,0,0,0,0,0,0,0,0,0,0,0,0,0,0,0,0,0,0,0,0,0,0,0,0,0,0,0,0,0,0,0,0,0,0,0,0,0,0,0,0,0,0,0,0,0,0,0,0,1,1,1,1,1,1,1,1,1,1,1,1,1,1,1,1,1,1,1,1,1,1,1,1,1,1,1,1,1,1,1,1,1,1,1,1,1,1,1,1,1,1,1,1,1,1,1,1,1,1,1,1,1,1,1,1,1,1,1,1,1,1,1,1,1,1,1,1,1,1,1,1,1,1,1,1,1,1,1,1,1,1,1,1,1,1,1,1,1,1,1,1,1,1,1,1,1,1,1,1,1,1,1,1,1,1,1,1,1,1,1,1,1,1,1,1,1,1,1,1,1,1,1,1,1,1,1,1,1,1,1,1,1,1,1,1,1,0,0,0,0,0,0,0,0,0,0,0,0,0],\"coloraxis\":\"coloraxis\",\"symbol\":\"circle\"},\"mode\":\"markers\",\"name\":\"\",\"orientation\":\"v\",\"showlegend\":false,\"x\":[-119.81914627889634,-168.89032805324618,-169.31187977577886,-190.2307572101053,-190.13356569556612,-188.95069555566963,-104.33634223055549,-102.09466057010039,-98.52863707404238,-100.0305160820465,-100.94032759992265,-103.3359422982671,-105.08313549086549,-108.44945673558964,-101.58766452741006,-108.51370136756746,-108.26553566151885,-103.67480391133964,-79.04143382508197,-105.99439736975535,-99.17572658191385,-104.74643454544481,-105.68660731195503,-104.28610515786008,-104.80962787746225,-79.03009475291692,-100.08389566859357,-79.61230807389163,-103.00432309471198,-101.36371844742258,-94.70461093256019,-99.24655088620065,-58.43988149023588,-94.31559389448388,-61.9299352908536,-134.5088708151691,-129.40477479771752,-136.76595969545184,-136.66607371337182,-167.25034812865886,-167.80324973084157,-180.50807382794468,-179.58117812536796,-182.7812703214814,-178.45558016747557,-181.14005539847153,-181.0911006167844,-175.41024203718783,-175.52627786367898,-178.64913372093199,-171.10938667889275,-169.29323323703417,-173.74611376841722,-173.64826412624535,40.90451722045555,-192.6492232378996,-109.0642941392353,-162.18458697511852,-132.2774977609364,-132.5247757644145,-130.3246554817444,-123.05773748464345,-130.86139724817676,-132.45892892200655,-195.06868267866292,-87.39963777619002,-86.15869992521108,-76.1846599985509,-74.98055309114778,-75.3975720708429,-111.12020166973922,-108.15613356614774,-113.1378041651161,-109.22111599401072,-25.995899136414753,-19.281500483784768,-13.954697813826247,-20.267681273909083,-19.40346825241679,-23.716516609048206,-136.79424551362044,-133.293821022177,-136.86979644062527,-133.81584131348038,-166.73711789406545,-164.78882430509736,-166.6375247073409,-165.51089116097833,-141.8556418020725,-143.54686527664467,-142.09198182212924,-141.8528101420272,-144.77917406067294,-147.27418262168237,-143.29112691370005,-127.19194540962232,-135.95484153846817,-137.0617030300602,-139.36589749580952,-138.14609246545456,-33.10200615356762,-34.1017846448227,61.73165485391092,-32.29512362091096,-31.58499473934999,-31.323496192321805,-32.14599766923161,-30.48820854151723,-31.7359550438806,-30.98283292788262,-34.783244480769,12.47089987754783,13.74486370527421,13.407672696289762,14.69435497057733,27.914650260782114,12.421042973057803,12.874081026149488,28.47046112951933,12.37144703556517,-218.01535139211646,-213.46983346148497,-212.7707985583316,-209.98787580957892,-212.91117671227335,-215.2340529322672,-206.84484714174673,19.875942113644506,18.674807176612333,18.41570643228219,19.159212213611294,18.533527791521845,21.750173762340598,20.769615334470192,57.765654738089005,19.31502560304593,23.696875327003934,19.444748669228026,20.17539640982147,18.677662525089197,21.01026878545976,19.253826925614852,-13.218302698847182,-13.205347300402552,-13.361004711409855,52.004937699493915,52.802526620388434,-12.032535615903795,-2.109990821963779,-0.6674057243428031,-6.769105896892669,2.5201887174772573,0.9901773986336654,25.666353404235455,8.216770559800405,75.01249223971467,75.78031198924387,-4.2656930639569195,-1.222511176176979,-4.233018421210993,2.494216184287818,-8.080908986980878,-11.868370114833342,-11.868747189260544,-13.770510165339676,31.432586263857257,-6.07513113057338,33.953087109408656,15.125120467994417,5.46249152045799,16.440274001577457,0.38209711244628136,-116.61164669425243,-116.70426149821363,-117.31731350700201,-119.73663086817696,-119.11084910768207,-117.69673953409398,-116.33532173139302,-217.3073927725428,-214.77697759626074,-216.88558859568386,-213.6744382253287,-214.17994192261406,-212.7567055482488,-213.40243100843364,-216.4823464360707,-25.00161139205258,-22.845186868198947,-26.103021530156223,-21.979772138856376,-24.71511830114906,-25.360373841310647,-154.68218500578004,-149.098158237885,-163.44019439017367,-93.81549680301349,-81.09913033330137,-92.03729522811963,-26.63363501628648,-23.084495415858555,-74.4972636982743,-76.96577805370484,-192.92533753865342,-192.40663457937737,-140.13868622700892,-137.01995700008115,-133.58238578686567,-132.4390599368714,-133.35019647761266,-133.08987361009568,-133.80022385904985,-135.6458635866917,-136.10738320014403,-126.77843019426888,-137.53603158357447,-136.88646123957832,-134.53668485316766,-134.81463775530074,-134.18521572211048,-104.561037894634,-105.08703958971442,-105.07256668351965,-106.76248549010643,-103.60824565194544,-102.31005073840326,-103.62404855279631,-99.64438537294265,-106.54721539670145,-107.00151340545767,-102.33378034395359,-101.10489472401943,-104.31383414506936,-102.50135615264188,-97.26800027587468,-102.44352284490238,-104.62538750337426,-105.61837022908406,-115.02884511623245,-114.29603334977439,-115.36815203320187,-115.42218576468062,-110.10565220356844,-114.5859671658892,-79.1027075988746,-84.33915859095359,-87.80746276092209,-79.99543597450332,-82.11049427702548,-90.3626471222572,-91.49221919381952,-86.2916100611949,-89.10977534549231,-92.1169129173774,-106.03715306632657,-107.72152394007674,-171.7856893420751,-146.13865838751292,-143.112589989735,-145.64951683670512,-147.36778619426255,-145.49626548361934,-144.9142816788556,-146.43968416985865,-145.15100540470425,-148.8113679929475,-144.46470064191118,-146.25165305771537,-149.23468014810985,-187.48409293729657,-188.3352348798267,-193.047048160691,-188.90826215937705,-188.29272169659083,-163.13647299933947,-162.32126309491602,-159.50818367476535,-162.5656654805247,-163.11875676697056,-198.43603024121978,-192.977098085654,-196.67661060174305,-191.25251024848728,-219.10454974126674,-136.42033891328936,-119.73117856993959,-161.32047262904825,-126.6600942600319,-125.45349706661976,-119.97567615093837,-173.8903921774198,-173.9008927488728,-174.23500682738438,-129.05284422172232,-127.01213259254384,-128.04597972448616,-125.17861401801514,-125.57765517498936,-58.475189184708036,-60.29890685280986,-62.75531364055094,-90.43751775855915,-88.75932540576864,-90.89173905035872,-191.50196885568104,-189.93613439168476,-189.8679139667875,-189.97804148033725,-109.61319528303221,-109.78350416750686,-99.56876926242376,-112.05030979546916,-108.61591740751459,-108.49460369834718,-108.75604678551221,-109.7252108272092,-107.44146144452279,-110.26582996559227,-110.27087772352938,-111.2166775789437,-128.26045290518613,-128.10028928425433,-128.44505994049857,-124.63297215095153,-129.30164821171417,-130.52102532762626,-130.24319392803037,-128.854639068635,9.426269238675268,10.751671550526387,13.975263450337387,-114.92961343895546,-106.2105425143688,-187.29715236415865,-187.14925935162321,-189.6355257983801,-188.60259555105648,-186.86685366450567,-189.16107581801458,-188.67602252812878,-187.59053908686727,-132.68730277380186,2.2555568976677325,-51.61263696263374,-51.44272436417133,-63.695269939636795,-57.2030345635359,-72.13395695107283,-138.8194164486351,-84.26794849302334,-85.48950138404395,-7.169235143391813,-14.846814583157135,-225.17243823075512,-85.75569406880378,-84.04314019564309,242.72257607459494,237.9713925933471,236.14212966332497,237.33353347100942,242.50163772010825,249.8517215950087,241.4068372606012,249.0047341843358,247.81489423245947,248.27111698439566,259.9553448144914,314.71154282121813,243.14156000905743,242.96044307252495,238.15824193943547,246.1407146145848,250.54890158419946,237.82133880472702,238.1124082788362,237.40164124971565,246.98220854700688,237.3695101665397,237.61359995088114,238.63863304630215,239.01834885991366,237.56743743209051,237.50539280756573,237.49275069348903,269.5977913634287,237.7366108966314,238.06005984355934,237.21364882304647,244.8013375842259,237.31917259736588,237.7572373658178,241.20557130919576,237.37160115309993,236.67505362340856,237.0163115962085,238.67332325899724,236.97503900272307,238.39060805609617,238.5209041684478,252.92251625282987,238.04216552203934,237.5771613674881,243.49489034325885,237.53986610314377,256.9581342238642,242.6869719812662,245.6111347226179,256.1988452736436,261.2979880647196,300.92219463946043,353.2526750011397,342.9692771441179,345.2356630734292,292.1413996551327,328.76254654294,345.5368825877019,346.13405193527103,315.64892264677997,350.1139041584108,337.0689869128309,260.1200112274484,259.265621020456,267.0113504247209,351.03625682496704,349.4052239932697,350.67934857201953,342.44566841206046,346.4507362343069,322.98439329237493,335.0507841424108,327.4637743340992,328.8591843306648,322.1062917814937,322.6196988058585,323.3062641619579,320.6931322299682,344.54582571000407,350.6134138076091,332.3667878155139,236.98303349614457,238.79742424098487,240.3750874514135,237.59022324208163,240.37722844104908,282.8694672879173,340.163338417222,259.9560712831408,239.51391370849043,237.2701098028203,264.2040739941826,352.15752897707324,249.22160115427278,239.98756678566718,243.37836451523197,350.54077962128866,336.8695437447512,348.78089468063826,350.2327002386336,272.23415665815656,235.91852673542923,277.62489045836185,237.75445649180318,235.78047904192923,237.14451112746235,234.324163433704,250.97049785065508,345.0847630496372,255.95338051868413,243.33315527561598,233.7867425823351,235.84747217416077,236.77694085952822,236.0562168467039,240.85159140292222,249.86352274954223,264.62787914355243,236.92586034911298,251.28697455646383,242.1365229382179,240.3633519354272,234.14656019691,236.04277267371734,235.55785588080872,233.165691329856,239.81807895023303,235.41688101297655,236.7311392868424,235.70207862296624,279.1392908516168,294.6083959570092,302.1759410992028,281.0976964777549,277.7310252294334,-29.111679807323227,-30.025991906554605,-30.04221753040195,-27.32049594789633,-27.67608453765128,-28.144361102577495,-27.080685446155723,-26.908717084362895,-138.69818788803767,-139.50469065167775,-138.38741791421072,-137.50543179921587,-139.19058533815527],\"xaxis\":\"x\",\"y\":[-5.560103208755543,10.116075542501239,14.080397218666167,18.302291186229564,16.097776134874145,18.72899299096249,-8.73552961587442,-10.108044839713656,-0.24791979876166748,-0.3176816136187957,-5.901424161477259,-10.066564501572742,-3.682202487858203,-8.824322935360046,7.197670572984753,-7.569003890467796,0.964330021158698,0.8048934046565833,94.52179097767257,-3.161454158068838,10.484393102760551,-4.769237402421871,-8.93126269897436,-6.717186675974613,-6.50471387861255,80.47147175056065,10.193330958324008,77.62880983624962,-0.41624011486292267,6.993332996679944,26.19716051533131,10.275512605790144,148.27758262293443,27.50613031568526,133.1296854473107,-0.6629564062497066,17.878665324497526,-0.5151403558874966,2.875957245466993,8.804219491840426,8.83481634703798,24.13731291921423,26.072217630199717,15.47827885550005,20.146291675907502,13.004621725752447,13.030356794809284,16.736753815903366,12.772224554270226,12.878441271533351,11.337742168393726,12.735642985528662,10.15007591603072,10.166313130756297,-55.96108286707656,16.133418123163672,-10.282933990764445,10.165172704076074,4.038003077411249,-1.9995657617398166,-0.37371746131940414,15.76192424530404,-2.13146145231179,-0.7132162522453831,21.362741448820746,-17.238501413257655,-17.282615295920248,-19.01863181842353,-19.73732742822404,-19.74032463816456,4.648478960628746,11.09710207032018,-2.2307934634424096,10.928695135261664,-33.25887054176598,-22.291626667766376,-13.2924274667065,-25.85534161799209,-25.352992042585026,-34.51066319909938,-1.0297040338558474,-0.015392238024211486,-1.0142036231367497,4.893015090200193,8.836097804290302,13.170370956997392,9.741250157158895,10.45192943729321,1.8833870177576764,2.8204894402537275,6.530843247835688,5.172668949466947,3.8499130497031744,2.71767566145081,1.9210447789000873,37.51562761709037,5.108214190956994,0.1833697385414634,3.6253989416456585,0.27145265007374497,-29.404187113604443,-30.149317976258217,280.336073667078,-29.14644584996962,-27.46629655449457,-28.781438743660033,-30.290065940013886,-22.647951229286605,-29.9454928397084,-26.057675031922958,-28.02373847420592,-44.24701451651665,-43.66508706688461,-45.53807701307723,-37.71042183964307,4.206868850220568,-41.99441858150613,-43.21914877991475,10.295554985353581,-40.222530277284626,33.30300090055864,44.19702524267773,43.76626871577509,51.225327501738406,42.51416037492903,37.14817457212699,61.78254665145716,-42.47318163105603,-47.078971064051665,-47.03502103515236,-45.31692177661621,-47.08481925898679,-36.444666860763974,-39.21130734437734,81.20077709484711,-44.93257996208102,-29.20730365890387,-44.384664844514205,-42.39506401026544,-47.054807845220665,-38.56551623376014,-46.96810285768697,-37.03958259196066,-37.036554044419205,-37.01642980017935,177.13515000303838,180.54969892445925,-32.04314254293952,1.1592204212371235,6.030910956269213,-14.06416116031516,15.747162503422937,14.20005099972078,91.9345058795201,35.458534432344926,258.3484974284996,257.6894105615215,-5.162660991743659,3.9554705458544372,-6.001683837771177,18.305996364106758,-15.657546195705887,-30.21111469880813,-29.071111324462876,-35.3751796328765,112.77221523214146,-10.76804314458571,124.85716560070477,58.3223942291053,26.823735076189262,62.9325151731021,9.517449982801809,-5.7049769289358565,-4.373719886985123,-2.111838471682519,0.23783343788531439,-1.9858331056674794,-4.424019211338819,-0.28570664810759117,24.5514151267635,25.705055825688074,24.554790340528726,27.015156014513842,24.342372789002926,30.064483116936955,33.899561267352674,28.658802153169088,-32.3480592754165,-21.744436918857005,-35.239682474418025,-16.76335287011946,-28.322012207564228,-29.052301912734,7.242975054312197,23.127711834168203,9.219416109985982,-14.960054872103617,25.7754869247019,-10.475410478629115,-36.19716102523547,-24.141937981365075,-17.5338953444792,-18.967920035903852,19.674232618394303,21.8085575517121,0.17926122726863314,1.9489979177527361,7.075871543773992,14.88789790950603,-0.1932168202848482,3.306968077834857,1.4639584282703397,5.727907824950443,10.717695573855298,46.22723851488327,3.183397796598911,4.1939989942717215,4.025224453230208,0.08316663029904234,3.0702622576068626,-4.014573370262405,-7.347602131760752,-2.6970177871766468,-8.95298400581915,2.370583425090084,5.26444525744054,0.09041076693921174,14.776254563490689,9.929538456722112,7.197988480709426,8.879592015762203,10.905514952680372,1.5693414013728086,8.247765754529267,26.2222375410936,10.441461873006501,-0.8378769828402012,-2.386280998544237,10.22504517069617,5.9168542740285766,-1.2716333985741357,-4.550222279591746,16.424782438993418,14.774144007097554,7.745371039594683,-8.095149764167823,-8.949568385186934,4.226511279612543,5.762237627165912,-12.269851497137577,-14.677179820667488,3.701668276992534,-4.91156814560546,-15.254593290009666,-7.016913596472489,-9.117463709457482,19.968748635473982,10.527463353121338,16.596897618985093,8.330177624827842,7.617350541086209,11.796390609212217,13.220701663185013,6.963354029492633,12.24753023323361,8.114338016195317,15.980352886523569,15.588459401169533,10.138179146610781,21.126886616743448,23.807927541399113,16.029328795008094,17.647880572445402,21.688323193992407,6.871549019119688,6.812195327837974,14.109496294019479,10.20466936574803,6.897414496836643,17.985644196000997,26.963717123416384,22.420203828170244,36.83556023323975,24.73123224939604,0.09416092483216718,-4.391034970746231,63.70764935629044,-4.495945670253568,-4.5750347625426855,19.64258332792407,9.581216357131076,9.58408459641086,9.614790824796705,-3.330113180563623,-3.456427080595655,-3.415433956485677,0.34913307536286986,-3.5142905761966388,4.002863477964138,0.8658821747644037,-17.775767033244726,-13.994808525840778,-2.2653216776539375,-8.804215856928543,19.26516424769323,19.484937932812674,16.00723583882619,16.022154018361274,-8.090303470654653,-7.395994689655459,36.64019693908055,-7.91049037574604,-7.522329441005081,-4.718092694807426,-6.934204441320399,-7.565444457203846,-2.0876452008948907,-7.964467795362659,-6.353864469153259,-7.266875959502289,-2.932264624065486,-2.9455373867771213,-2.9145004775554,2.4857689900093507,-2.8674645086384145,0.35004262048976326,-2.8032446594624654,-2.850140211253256,-30.716839643234803,-23.76943075511259,-17.49611275006174,-4.893739438684969,25.486796834721655,22.445840344531376,22.74604656462843,15.604593471583936,15.547030019726906,17.47384427590496,16.317701631006315,15.551866356817442,15.474346502726661,0.1327484828962495,-35.73427088909924,-27.138321338168293,-18.4521488167356,-11.096792061573801,9.002450132112447,-17.106828096553507,5.071974113281614,-10.019957684021021,-16.81710792775585,-14.018757031814483,-34.51192398859152,38.420914811645375,-2.8895754203794657,3.5741619659279613,-95.78288990399582,-108.81889005514583,-112.68750867059018,-108.19039028519474,-92.78388788980736,-69.90726594212154,-98.78026135952136,-72.17575991181438,-73.64251081275069,-73.7986920136111,-36.808692159206856,139.7238178163155,-93.79518051319221,-93.5868053303265,-109.57673549824415,-84.77030524960196,-67.25179403152026,-114.01527097100639,-113.94782898000952,-114.0686498474673,-81.61944783015332,-114.09424584951421,-113.97318957454354,-111.02302944068518,-113.5500899127553,-114.05656886497181,-114.09212761208501,-114.09457943221437,-7.726020901504892,-113.98897692871034,-113.96409388851664,-113.89444929734617,-91.08833994372029,-114.10859792691583,-111.76527272957458,-96.33700174132625,-114.04713712224559,-114.10170171999229,-114.075586081952,-109.42096524416495,-114.11538783562116,-110.48357602567758,-113.85739178119879,-57.75733788730254,-113.96792129148358,-114.07708078675377,-94.22903760698165,-113.98722561723876,-49.286261327791635,-102.29680019068839,-88.50649230705545,-52.16984027846275,-35.42042838658147,93.92889088499986,263.1319538942977,231.92102576585648,238.01356862202041,63.7999756754474,181.33459570004513,239.45132148145865,244.86804541365478,143.82843477227118,250.09903639431278,219.23667063603077,-39.40298277001806,-40.575517538544645,-13.32305156458623,263.07608126306,262.05464932444596,258.1482256604411,242.05186213249388,247.6804894880954,173.0262420742239,207.38616871018698,185.66376921130438,187.66643338452695,171.81787675228367,169.61952459182106,169.20756878671918,160.42234570600618,239.17237509652838,256.56118710071956,199.64690914530695,-114.05989918041249,-108.7600571510483,-103.63494485775446,-112.99865455725033,-104.38947619508336,35.480327792781715,224.28524880761253,-38.69078794042303,-106.09576917772661,-114.11480972497165,-25.489274897444915,265.10114828221725,-74.35329045164563,-102.81597801880572,-94.02447469379813,259.03727663637255,216.74413245496484,255.40844492086015,262.1377458251634,5.175973546844629,-114.06949684804069,21.35744500507337,-108.88303629475914,-114.06646335737078,-111.18771334071181,-113.96225228337892,-54.12858328417388,244.38539688823641,-51.37003974933977,-86.98845916314652,-113.86890297799542,-114.07424877887482,-112.63313195198914,-110.66371223533706,-92.75865790587967,-71.72664045974435,-24.077678221097443,-113.45229065594121,-68.68800566725378,-97.65163524804989,-101.06431691999202,-113.98581370902082,-110.39992929893795,-112.52902106271353,-110.06241561375667,-88.84010229408685,-106.0104265345412,-110.0135694873159,-105.6230725928507,-125.44511920293894,-76.63942804385141,-52.10735902696822,-120.71827737529,-127.15029322795648,-33.34436339864732,-33.26922836862365,-29.715938037922168,-33.39905278997783,-33.42645335127925,-33.403214423255484,-32.35765676187545,-33.477547438414994,5.7814038946894915,1.0393073066845797,0.9380131997106288,4.251747001257743,1.0089835104832785],\"yaxis\":\"y\",\"type\":\"scatter\"}],                        {\"template\":{\"data\":{\"histogram2dcontour\":[{\"type\":\"histogram2dcontour\",\"colorbar\":{\"outlinewidth\":0,\"ticks\":\"\"},\"colorscale\":[[0.0,\"#0d0887\"],[0.1111111111111111,\"#46039f\"],[0.2222222222222222,\"#7201a8\"],[0.3333333333333333,\"#9c179e\"],[0.4444444444444444,\"#bd3786\"],[0.5555555555555556,\"#d8576b\"],[0.6666666666666666,\"#ed7953\"],[0.7777777777777778,\"#fb9f3a\"],[0.8888888888888888,\"#fdca26\"],[1.0,\"#f0f921\"]]}],\"choropleth\":[{\"type\":\"choropleth\",\"colorbar\":{\"outlinewidth\":0,\"ticks\":\"\"}}],\"histogram2d\":[{\"type\":\"histogram2d\",\"colorbar\":{\"outlinewidth\":0,\"ticks\":\"\"},\"colorscale\":[[0.0,\"#0d0887\"],[0.1111111111111111,\"#46039f\"],[0.2222222222222222,\"#7201a8\"],[0.3333333333333333,\"#9c179e\"],[0.4444444444444444,\"#bd3786\"],[0.5555555555555556,\"#d8576b\"],[0.6666666666666666,\"#ed7953\"],[0.7777777777777778,\"#fb9f3a\"],[0.8888888888888888,\"#fdca26\"],[1.0,\"#f0f921\"]]}],\"heatmap\":[{\"type\":\"heatmap\",\"colorbar\":{\"outlinewidth\":0,\"ticks\":\"\"},\"colorscale\":[[0.0,\"#0d0887\"],[0.1111111111111111,\"#46039f\"],[0.2222222222222222,\"#7201a8\"],[0.3333333333333333,\"#9c179e\"],[0.4444444444444444,\"#bd3786\"],[0.5555555555555556,\"#d8576b\"],[0.6666666666666666,\"#ed7953\"],[0.7777777777777778,\"#fb9f3a\"],[0.8888888888888888,\"#fdca26\"],[1.0,\"#f0f921\"]]}],\"heatmapgl\":[{\"type\":\"heatmapgl\",\"colorbar\":{\"outlinewidth\":0,\"ticks\":\"\"},\"colorscale\":[[0.0,\"#0d0887\"],[0.1111111111111111,\"#46039f\"],[0.2222222222222222,\"#7201a8\"],[0.3333333333333333,\"#9c179e\"],[0.4444444444444444,\"#bd3786\"],[0.5555555555555556,\"#d8576b\"],[0.6666666666666666,\"#ed7953\"],[0.7777777777777778,\"#fb9f3a\"],[0.8888888888888888,\"#fdca26\"],[1.0,\"#f0f921\"]]}],\"contourcarpet\":[{\"type\":\"contourcarpet\",\"colorbar\":{\"outlinewidth\":0,\"ticks\":\"\"}}],\"contour\":[{\"type\":\"contour\",\"colorbar\":{\"outlinewidth\":0,\"ticks\":\"\"},\"colorscale\":[[0.0,\"#0d0887\"],[0.1111111111111111,\"#46039f\"],[0.2222222222222222,\"#7201a8\"],[0.3333333333333333,\"#9c179e\"],[0.4444444444444444,\"#bd3786\"],[0.5555555555555556,\"#d8576b\"],[0.6666666666666666,\"#ed7953\"],[0.7777777777777778,\"#fb9f3a\"],[0.8888888888888888,\"#fdca26\"],[1.0,\"#f0f921\"]]}],\"surface\":[{\"type\":\"surface\",\"colorbar\":{\"outlinewidth\":0,\"ticks\":\"\"},\"colorscale\":[[0.0,\"#0d0887\"],[0.1111111111111111,\"#46039f\"],[0.2222222222222222,\"#7201a8\"],[0.3333333333333333,\"#9c179e\"],[0.4444444444444444,\"#bd3786\"],[0.5555555555555556,\"#d8576b\"],[0.6666666666666666,\"#ed7953\"],[0.7777777777777778,\"#fb9f3a\"],[0.8888888888888888,\"#fdca26\"],[1.0,\"#f0f921\"]]}],\"mesh3d\":[{\"type\":\"mesh3d\",\"colorbar\":{\"outlinewidth\":0,\"ticks\":\"\"}}],\"scatter\":[{\"fillpattern\":{\"fillmode\":\"overlay\",\"size\":10,\"solidity\":0.2},\"type\":\"scatter\"}],\"parcoords\":[{\"type\":\"parcoords\",\"line\":{\"colorbar\":{\"outlinewidth\":0,\"ticks\":\"\"}}}],\"scatterpolargl\":[{\"type\":\"scatterpolargl\",\"marker\":{\"colorbar\":{\"outlinewidth\":0,\"ticks\":\"\"}}}],\"bar\":[{\"error_x\":{\"color\":\"#2a3f5f\"},\"error_y\":{\"color\":\"#2a3f5f\"},\"marker\":{\"line\":{\"color\":\"#E5ECF6\",\"width\":0.5},\"pattern\":{\"fillmode\":\"overlay\",\"size\":10,\"solidity\":0.2}},\"type\":\"bar\"}],\"scattergeo\":[{\"type\":\"scattergeo\",\"marker\":{\"colorbar\":{\"outlinewidth\":0,\"ticks\":\"\"}}}],\"scatterpolar\":[{\"type\":\"scatterpolar\",\"marker\":{\"colorbar\":{\"outlinewidth\":0,\"ticks\":\"\"}}}],\"histogram\":[{\"marker\":{\"pattern\":{\"fillmode\":\"overlay\",\"size\":10,\"solidity\":0.2}},\"type\":\"histogram\"}],\"scattergl\":[{\"type\":\"scattergl\",\"marker\":{\"colorbar\":{\"outlinewidth\":0,\"ticks\":\"\"}}}],\"scatter3d\":[{\"type\":\"scatter3d\",\"line\":{\"colorbar\":{\"outlinewidth\":0,\"ticks\":\"\"}},\"marker\":{\"colorbar\":{\"outlinewidth\":0,\"ticks\":\"\"}}}],\"scattermapbox\":[{\"type\":\"scattermapbox\",\"marker\":{\"colorbar\":{\"outlinewidth\":0,\"ticks\":\"\"}}}],\"scatterternary\":[{\"type\":\"scatterternary\",\"marker\":{\"colorbar\":{\"outlinewidth\":0,\"ticks\":\"\"}}}],\"scattercarpet\":[{\"type\":\"scattercarpet\",\"marker\":{\"colorbar\":{\"outlinewidth\":0,\"ticks\":\"\"}}}],\"carpet\":[{\"aaxis\":{\"endlinecolor\":\"#2a3f5f\",\"gridcolor\":\"white\",\"linecolor\":\"white\",\"minorgridcolor\":\"white\",\"startlinecolor\":\"#2a3f5f\"},\"baxis\":{\"endlinecolor\":\"#2a3f5f\",\"gridcolor\":\"white\",\"linecolor\":\"white\",\"minorgridcolor\":\"white\",\"startlinecolor\":\"#2a3f5f\"},\"type\":\"carpet\"}],\"table\":[{\"cells\":{\"fill\":{\"color\":\"#EBF0F8\"},\"line\":{\"color\":\"white\"}},\"header\":{\"fill\":{\"color\":\"#C8D4E3\"},\"line\":{\"color\":\"white\"}},\"type\":\"table\"}],\"barpolar\":[{\"marker\":{\"line\":{\"color\":\"#E5ECF6\",\"width\":0.5},\"pattern\":{\"fillmode\":\"overlay\",\"size\":10,\"solidity\":0.2}},\"type\":\"barpolar\"}],\"pie\":[{\"automargin\":true,\"type\":\"pie\"}]},\"layout\":{\"autotypenumbers\":\"strict\",\"colorway\":[\"#636efa\",\"#EF553B\",\"#00cc96\",\"#ab63fa\",\"#FFA15A\",\"#19d3f3\",\"#FF6692\",\"#B6E880\",\"#FF97FF\",\"#FECB52\"],\"font\":{\"color\":\"#2a3f5f\"},\"hovermode\":\"closest\",\"hoverlabel\":{\"align\":\"left\"},\"paper_bgcolor\":\"white\",\"plot_bgcolor\":\"#E5ECF6\",\"polar\":{\"bgcolor\":\"#E5ECF6\",\"angularaxis\":{\"gridcolor\":\"white\",\"linecolor\":\"white\",\"ticks\":\"\"},\"radialaxis\":{\"gridcolor\":\"white\",\"linecolor\":\"white\",\"ticks\":\"\"}},\"ternary\":{\"bgcolor\":\"#E5ECF6\",\"aaxis\":{\"gridcolor\":\"white\",\"linecolor\":\"white\",\"ticks\":\"\"},\"baxis\":{\"gridcolor\":\"white\",\"linecolor\":\"white\",\"ticks\":\"\"},\"caxis\":{\"gridcolor\":\"white\",\"linecolor\":\"white\",\"ticks\":\"\"}},\"coloraxis\":{\"colorbar\":{\"outlinewidth\":0,\"ticks\":\"\"}},\"colorscale\":{\"sequential\":[[0.0,\"#0d0887\"],[0.1111111111111111,\"#46039f\"],[0.2222222222222222,\"#7201a8\"],[0.3333333333333333,\"#9c179e\"],[0.4444444444444444,\"#bd3786\"],[0.5555555555555556,\"#d8576b\"],[0.6666666666666666,\"#ed7953\"],[0.7777777777777778,\"#fb9f3a\"],[0.8888888888888888,\"#fdca26\"],[1.0,\"#f0f921\"]],\"sequentialminus\":[[0.0,\"#0d0887\"],[0.1111111111111111,\"#46039f\"],[0.2222222222222222,\"#7201a8\"],[0.3333333333333333,\"#9c179e\"],[0.4444444444444444,\"#bd3786\"],[0.5555555555555556,\"#d8576b\"],[0.6666666666666666,\"#ed7953\"],[0.7777777777777778,\"#fb9f3a\"],[0.8888888888888888,\"#fdca26\"],[1.0,\"#f0f921\"]],\"diverging\":[[0,\"#8e0152\"],[0.1,\"#c51b7d\"],[0.2,\"#de77ae\"],[0.3,\"#f1b6da\"],[0.4,\"#fde0ef\"],[0.5,\"#f7f7f7\"],[0.6,\"#e6f5d0\"],[0.7,\"#b8e186\"],[0.8,\"#7fbc41\"],[0.9,\"#4d9221\"],[1,\"#276419\"]]},\"xaxis\":{\"gridcolor\":\"white\",\"linecolor\":\"white\",\"ticks\":\"\",\"title\":{\"standoff\":15},\"zerolinecolor\":\"white\",\"automargin\":true,\"zerolinewidth\":2},\"yaxis\":{\"gridcolor\":\"white\",\"linecolor\":\"white\",\"ticks\":\"\",\"title\":{\"standoff\":15},\"zerolinecolor\":\"white\",\"automargin\":true,\"zerolinewidth\":2},\"scene\":{\"xaxis\":{\"backgroundcolor\":\"#E5ECF6\",\"gridcolor\":\"white\",\"linecolor\":\"white\",\"showbackground\":true,\"ticks\":\"\",\"zerolinecolor\":\"white\",\"gridwidth\":2},\"yaxis\":{\"backgroundcolor\":\"#E5ECF6\",\"gridcolor\":\"white\",\"linecolor\":\"white\",\"showbackground\":true,\"ticks\":\"\",\"zerolinecolor\":\"white\",\"gridwidth\":2},\"zaxis\":{\"backgroundcolor\":\"#E5ECF6\",\"gridcolor\":\"white\",\"linecolor\":\"white\",\"showbackground\":true,\"ticks\":\"\",\"zerolinecolor\":\"white\",\"gridwidth\":2}},\"shapedefaults\":{\"line\":{\"color\":\"#2a3f5f\"}},\"annotationdefaults\":{\"arrowcolor\":\"#2a3f5f\",\"arrowhead\":0,\"arrowwidth\":1},\"geo\":{\"bgcolor\":\"white\",\"landcolor\":\"#E5ECF6\",\"subunitcolor\":\"white\",\"showland\":true,\"showlakes\":true,\"lakecolor\":\"white\"},\"title\":{\"x\":0.05},\"mapbox\":{\"style\":\"light\"}}},\"xaxis\":{\"anchor\":\"y\",\"domain\":[0.0,1.0],\"title\":{\"text\":\"X1\"}},\"yaxis\":{\"anchor\":\"x\",\"domain\":[0.0,1.0],\"title\":{\"text\":\"X2\"}},\"coloraxis\":{\"colorbar\":{\"title\":{\"text\":\"cluster_1_labels\"}},\"colorscale\":[[0.0,\"#0d0887\"],[0.1111111111111111,\"#46039f\"],[0.2222222222222222,\"#7201a8\"],[0.3333333333333333,\"#9c179e\"],[0.4444444444444444,\"#bd3786\"],[0.5555555555555556,\"#d8576b\"],[0.6666666666666666,\"#ed7953\"],[0.7777777777777778,\"#fb9f3a\"],[0.8888888888888888,\"#fdca26\"],[1.0,\"#f0f921\"]]},\"legend\":{\"tracegroupgap\":0},\"title\":{\"text\":\"Cluster PCA\"}},                        {\"responsive\": true}                    ).then(function(){\n",
       "                            \n",
       "var gd = document.getElementById('74ef2d50-8385-4468-b9a6-de23e89550f8');\n",
       "var x = new MutationObserver(function (mutations, observer) {{\n",
       "        var display = window.getComputedStyle(gd).display;\n",
       "        if (!display || display === 'none') {{\n",
       "            console.log([gd, 'removed!']);\n",
       "            Plotly.purge(gd);\n",
       "            observer.disconnect();\n",
       "        }}\n",
       "}});\n",
       "\n",
       "// Listen for the removal of the full notebook cells\n",
       "var notebookContainer = gd.closest('#notebook-container');\n",
       "if (notebookContainer) {{\n",
       "    x.observe(notebookContainer, {childList: true});\n",
       "}}\n",
       "\n",
       "// Listen for the clearing of the current output cell\n",
       "var outputEl = gd.closest('.output');\n",
       "if (outputEl) {{\n",
       "    x.observe(outputEl, {childList: true});\n",
       "}}\n",
       "\n",
       "                        })                };                });            </script>        </div>"
      ]
     },
     "metadata": {},
     "output_type": "display_data"
    }
   ],
   "source": [
    "plot = px.scatter(data_frame=pca_resulttwo,\n",
    "                 x = 'X1',\n",
    "                 y = 'X2',\n",
    "                color = 'cluster_1_labels',\n",
    "                 title = 'Cluster PCA')\n",
    "plot.show()"
   ]
  },
  {
   "cell_type": "code",
   "execution_count": null,
   "id": "b4a40d8b-3c34-4c2a-a3c3-04f1d3cb309e",
   "metadata": {},
   "outputs": [],
   "source": []
  }
 ],
 "metadata": {
  "kernelspec": {
   "display_name": "Python 3 (ipykernel)",
   "language": "python",
   "name": "python3"
  },
  "language_info": {
   "codemirror_mode": {
    "name": "ipython",
    "version": 3
   },
   "file_extension": ".py",
   "mimetype": "text/x-python",
   "name": "python",
   "nbconvert_exporter": "python",
   "pygments_lexer": "ipython3",
   "version": "3.12.4"
  }
 },
 "nbformat": 4,
 "nbformat_minor": 5
}
